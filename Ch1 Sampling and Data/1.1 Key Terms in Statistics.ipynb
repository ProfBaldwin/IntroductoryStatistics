{
 "cells": [
  {
   "cell_type": "markdown",
   "metadata": {},
   "source": [
    "# 1.1 Key Terms in Statistics"
   ]
  },
  {
   "cell_type": "markdown",
   "metadata": {},
   "source": [
    "## Objectives\n",
    "- Define, describe, and apply fundamental statistical terms."
   ]
  },
  {
   "cell_type": "markdown",
   "metadata": {},
   "source": [
    "## The Definition of Statistics\n",
    "The science of **statistics** deals with the collection, analysis, interpretation, and presentation of **data**. We see and use data in our everyday lives.\n",
    "\n",
    "In this course, you will learn how to organize and summarize data. Organizing and summarizing data is called **descriptive statistics**. Two ways to summarize data are by graphing and by using numbers (for example, finding an average). After you have studied probability and probability distributions, you will use formal methods for drawing conclusions from \"good\" data. The formal methods are called **inferential statistics**. Statistical inference uses probability to determine how confident we can be that our conclusions are correct.\n",
    "\n",
    "Effective interpretation of data (inference) is based on good procedures for producing data and thoughtful examination of the data. You will encounter what will seem to be too many mathematical formulas for interpreting data. The goal of statistics is not to perform numerous calculations using the formulas, but to gain an understanding of your data. The calculations can be done using a calculator or a computer. The understanding must come from you. If you can thoroughly grasp the basics of statistics, you can be more confident in the decisions you make in life."
   ]
  },
  {
   "cell_type": "markdown",
   "metadata": {},
   "source": [
    "***"
   ]
  },
  {
   "cell_type": "markdown",
   "metadata": {},
   "source": [
    "\n",
    "### Example 1.1\n",
    "We asked 14 people chosen randomly from a statistics class how many hours they sleep per night. We obtained the following data:\n",
    "\n",
    "<br/>\n",
    "<div style=\"text-align:center\">5, 5.5, 6, 6, 6, 6.5, 6.5, 6.5, 6.5, 7, 7, 8, 8, 9</div>\n",
    "\n",
    "We can present this data as a **histogram**."
   ]
  },
  {
   "cell_type": "code",
   "execution_count": 1,
   "metadata": {},
   "outputs": [
    {
     "data": {
      "image/png": "[encoded data removed]",
      "text/plain": [
       "Plot with title \"\""
      ]
     },
     "metadata": {},
     "output_type": "display_data"
    }
   ],
   "source": [
    "#**ALT=Histogram conists of 4 bars. The x-axis is titled Hours Slept per Night and ranges from 5 to 9 in intervals of 1. Vertical axis is titled Frequency and ranges from 0 to 6 in intervals of 1.**#\n",
    "#**HIDE_INPUT**#\n",
    "hours_sleep = c(5, 5.5, 6, 6, 6, 6.5, 6.5, 6.5, 6.5, 7, 7, 8, 8, 9)\n",
    "hist(hours_sleep, \n",
    "     main=\"\",\n",
    "     xlab=\"Hours Slept per Night\",\n",
    "     col=\"lightsteelblue\")"
   ]
  },
  {
   "cell_type": "markdown",
   "metadata": {},
   "source": [
    "By looking at the histogram, we can see that most people we surveyed got no more than 7 hours of sleep per night.\n",
    "\n",
    "We can summarize our data by calculating the average number of hours slept: the 14 statistics students surveyed slept an average of 6.679 hours per night. Since this was the average for our sample of 14 students, we might \n",
    "infer that the average amount of sleep of *all* statistics students is close to 6.679 hours per night.\n",
    "\n",
    "Note that this example deals in a very simple manner with the fundamental components of statistics mentioned above. We are provided *data* and told how the data was *collected*. We *present* this data graphically using a histogram, then provide a simple *analysis* of the data, concluding that most people surveyed get no more than 7 hours of sleep per night. We calculated the average number of hours those surveyed slept each night; this *descriptive statistic* summarized our data. Using the average we calculated, we *inferred* that it was likely that if we averaged the amount of sleep of all statistics students, it would be close to the average amount of sleep of the 14 students we surveyed.\n",
    "\n",
    "In this course, we will be studying each of these concepts in much greater detail.\n"
   ]
  },
  {
   "cell_type": "markdown",
   "metadata": {},
   "source": [
    "***"
   ]
  },
  {
   "cell_type": "markdown",
   "metadata": {},
   "source": [
    "## Probability\n",
    "**Probability** is a mathematical tool used to study randomness. It deals with the chance (the likelihood) of an event occurring. For example, if you toss a fair coin four times, the outcomes may not be two heads and two tails. However, if you toss the same coin 4,000 times, the outcomes will be close to half heads and half tails. The expected theoretical probability of heads in any one toss is  12  or 0.5. Even though the outcomes of a few repetitions are uncertain, there is a regular pattern of outcomes when there are many repetitions. After reading about the English statistician Karl Pearson who tossed a coin 24,000 times with a result of 12,012 heads, one of the authors tossed a coin 2,000 times. The results were 996 heads. The fraction $\\frac{996}{2000}$ is equal to 0.498 which is very close to 0.5, the expected probability.\n",
    "\n",
    "The theory of probability began with the study of games of chance such as poker. Predictions take the form of probabilities. To predict the likelihood of an earthquake, of rain, or whether you will get an A in this course, we use probabilities. Doctors use probability to determine the chance of a vaccination causing the disease the vaccination is supposed to prevent. A stockbroker uses probability to determine the rate of return on a client's investments. You might use probability to decide to buy a lottery ticket or not. In your study of statistics, you will use the power of mathematics through probability calculations to analyze and interpret your data. We will study probability in greater depth in chapter 3."
   ]
  },
  {
   "cell_type": "markdown",
   "metadata": {},
   "source": [
    "## Key Terms\n",
    "In statistics, we generally want to study a **population**. You can think of a population as a collection of persons, things, or objects under study. To study the population, we select a **sample**. The idea of **sampling** is to select a portion (or subset) of the larger population and study that portion (the sample) to gain information about the population. Data are the result of sampling from a population.\n",
    "\n",
    "Because it takes a lot of time and money to examine an entire population, sampling is a very practical technique. If you wished to compute the overall grade point average at your school, it would make sense to select a sample of students who attend the school. The data collected from the sample would be the students' grade point averages. In presidential elections, opinion poll samples of 1,000–2,000 people are taken. The opinion poll is supposed to represent the views of the people in the entire country. Manufacturers of canned carbonated drinks take samples to determine if a 16 ounce can contains 16 ounces of carbonated drink."
   ]
  },
  {
   "cell_type": "markdown",
   "metadata": {},
   "source": [
    "***"
   ]
  },
  {
   "cell_type": "markdown",
   "metadata": {},
   "source": [
    "### Example 1.2\n",
    "An advertising company has created two ads for an American restaurant chain, one featuring a burger and one featuring a salad. They want to know which of the two ads Americans would find more appealing. To find out, the advertising company surveys 50 people and asks them which of the two ads they prefer. What is the population and what is the sample in this example?\n",
    "\n",
    "#### Solution\n",
    "- Population: All Americans\n",
    "- Sample: The 50 people that were surveyed\n"
   ]
  },
  {
   "cell_type": "markdown",
   "metadata": {},
   "source": [
    "***"
   ]
  },
  {
   "cell_type": "markdown",
   "metadata": {},
   "source": [
    "From the sample data, we can calculate a statistic. A **statistic** is a number that represents a property of the sample. For example, if we consider one math class to be a sample of the population of all math classes, then the average number of points earned by students in that one math class at the end of the term is an example of a statistic. The statistic is an estimate of a population parameter. A **parameter** is a numerical characteristic of the whole population that can be estimated by a statistic. Since we considered all math classes to be the population, then the average number of points earned per student over all the math classes is an example of a parameter.\n",
    "\n",
    "One of the main concerns in the field of statistics is how accurately a statistic estimates a parameter. The accuracy really depends on how well the sample represents the population. The sample must contain the characteristics of the population in order to be a representative sample. We are interested in both the sample statistic and the population parameter in inferential statistics. In a later chapter, we will use the sample statistic to test the validity of the established population parameter."
   ]
  },
  {
   "cell_type": "markdown",
   "metadata": {},
   "source": [
    "***"
   ]
  },
  {
   "cell_type": "markdown",
   "metadata": {},
   "source": [
    "\n",
    "### Example 1.3\n",
    "The Bureau of Labor Statistics (BLS) wants to know the average annual income of statisticians. To find out, they ask 150 statisticians across the country what their annual income is, then average their results. What is the parameter and the statistic of interest in this example?\n",
    "\n",
    "#### Solution\n",
    "- Population Parameter: The average annual income of all statisticians\n",
    "- Sample Statistic: The average annual income of the 150 statisticians that were surveyed"
   ]
  },
  {
   "cell_type": "markdown",
   "metadata": {},
   "source": [
    "***"
   ]
  },
  {
   "cell_type": "markdown",
   "metadata": {},
   "source": [
    "A **variable**, usually notated by capital letters such as X and Y, is a characteristic or measurement that can be determined for each member of a population. Variables may be **numerical** or **categorical**. **Numerical variables** take on values with equal units such as weight in pounds and time in hours. **Categorical variables** place the person or thing into a category. If we let X equal the number of points earned by one math student at the end of a term, then X is a numerical variable. If we let Y be a person's party affiliation, then some examples of Y include Republican, Democrat, and Independent. Y is a categorical variable. We could do some math with values of X (calculate the average number of points earned, for example), but it makes no sense to do math with values of Y (calculating an average party affiliation makes no sense).\n",
    "\n",
    "The **data** are the actual values of the variable. They may be numbers or they may be words. A **datum** is a single data value.\n",
    "\n",
    "Two words that come up often in statistics are **mean** (also referred to as **average**) and **proportion**. If you were to take three exams in your math classes and obtain scores of 86, 75, and 92, you would calculate your mean score by adding the three exam scores and dividing by three (your mean score would be 84.3 to one decimal place). If, in your math class, there are 40 students and 22 are men and 18 are women, then the proportion of men students is $\\frac{22}{40}$ and the proportion of women students is $\\frac{18}{40}$. Mean and proportion are discussed in more detail in later chapters."
   ]
  },
  {
   "cell_type": "markdown",
   "metadata": {},
   "source": [
    "***"
   ]
  },
  {
   "cell_type": "markdown",
   "metadata": {},
   "source": [
    "### Example 1.4\n",
    "We want to know the average (mean) amount of money first year college students spend at ABC College on school supplies that do not include books. We randomly surveyed 100 first year students at the college. Three of those students spent \\$150, \\$200, and \\$225, respectively. \n",
    "\n",
    "Identify the population, sample, parameter, statistic, variable, and data in this example. Is the data numerical or categorical?\n",
    "\n",
    "#### Solution\n",
    "- Population: First year college students at ABC College\n",
    "- Sample: The 100 first year students surveyed\n",
    "- Population Parameter: The average (mean) amount of money spent (excluding books) by first year college students at ABC College\n",
    "- Sample Statistic: The average (mean) amount of money spent (excluding books) by first year college students in the sample\n",
    "- Variable: X = The amount of money spent (excluding books) by one first year student attending ABC College\n",
    "- Data: \\$150, \\$200, and \\$225\n",
    "\n",
    "The data is numerical data."
   ]
  },
  {
   "cell_type": "markdown",
   "metadata": {},
   "source": [
    "***"
   ]
  },
  {
   "cell_type": "markdown",
   "metadata": {},
   "source": [
    "### Example 1.5\n",
    "An insurance company would like to determine the proportion of all medical doctors who have been involved in one or more malpractice lawsuits. The company selects 500 doctors at random from a professional directory and determines the number in the sample who have been involved in a malpractice lawsuit.\n",
    "\n",
    "Identify the population, sample, parameter, statistic, variable, and data in this example. Is the data numerical data or categorical data?\n",
    "\n",
    "#### Solution\n",
    "- Population: All medical doctors\n",
    "- Sample: The 500 doctors selected at random from the professional directory\n",
    "- Population Parameter: The proportion of medical doctors who have been involved in one or more malpractice suits\n",
    "- Sample Statistic: The proportion of medical doctors who have been involved in one or more malpractice suits in the sample\n",
    "- Variable: $X$ = Whether or not one doctor has been involved in one or more malpractice suits\n",
    "- Data: Either \"Yes, was involved in one or more malpractice suits,\" or \"No, was not involved in one or more malpractice suits\"\n",
    "\n",
    "The data is categorical data."
   ]
  },
  {
   "cell_type": "markdown",
   "metadata": {},
   "source": [
    "***"
   ]
  },
  {
   "cell_type": "markdown",
   "metadata": {},
   "source": [
    "### Example 1.6"
   ]
  },
  {
   "cell_type": "code",
   "execution_count": null,
   "metadata": {},
   "outputs": [],
   "source": [
    "#**VID=HsZwqWt2kCY**#"
   ]
  },
  {
   "cell_type": "markdown",
   "metadata": {},
   "source": [
    "***"
   ]
  },
  {
   "cell_type": "markdown",
   "metadata": {},
   "source": [
    "<small style=\"color:gray\">**License:** This work is licensed under a [Creative Commons Attribution 4.0 International](https://creativecommons.org/licenses/by/4.0/) license.</small>\n",
    "\n",
    "<small style=\"color:gray\">**Author:** Taylor Baldwin, Mt. San Jacinto College</small>\n",
    "\n",
    "<small style=\"color:gray\">**Adapted From:** *Introductory Statistics*, by Barbara Illowsky and Susan Dean. Access for free at [https://openstax.org/books/introductory-statistics/pages/1-introduction](https://openstax.org/books/introductory-statistics/pages/1-introduction).</small>"
   ]
  }
 ],
 "metadata": {
  "kernelspec": {
   "display_name": "R",
   "language": "R",
   "name": "ir"
  },
  "language_info": {
   "codemirror_mode": "r",
   "file_extension": ".r",
   "mimetype": "text/x-r-source",
   "name": "R",
   "pygments_lexer": "r",
   "version": "3.6.1"
  }
 },
 "nbformat": 4,
 "nbformat_minor": 2
}
