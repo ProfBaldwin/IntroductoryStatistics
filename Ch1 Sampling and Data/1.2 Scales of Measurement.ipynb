{
 "cells": [
  {
   "cell_type": "markdown",
   "metadata": {},
   "source": [
    "# 1.2 Scales of Measurement"
   ]
  },
  {
   "cell_type": "markdown",
   "metadata": {},
   "source": [
    "## Objectives\n",
    "- Distinguish among different scales of measurement, standard methods of obtaining data, and identify their advantages and disadvantages.\n",
    "- Analyze an application in the disciplines business, social sciences, psychology, life sciences, health science, and education, and utilize the correct statistical processes to arrive at a solution."
   ]
  },
  {
   "cell_type": "markdown",
   "metadata": {},
   "source": [
    "## Qualitative and Quantitative Data\n",
    "Data may come from a population or from a sample. Lowercase letters like  x  or  y  generally are used to represent data values. Most data can be put into the following categories:\n",
    "\n",
    "- Qualitative\n",
    "- Quantitative\n",
    "\n",
    "**Qualitative data** are the result of categorizing or describing attributes of a population. Qualitative data are also often called **categorical data**. Hair color, blood type, ethnic group, the car a person drives, and the street a person lives on are examples of qualitative data. Qualitative data are generally described by words or letters. For instance, hair color might be black, dark brown, light brown, blonde, gray, or red. Blood type might be AB+, O-, or B+. Researchers often prefer to use quantitative data over qualitative data because it lends itself more easily to mathematical analysis. For example, it does not make sense to find an average hair color or blood type.\n",
    "\n",
    "**Quantitative data** are always numbers. Quantitative data are the result of **counting** or **measuring** attributes of a population. Amount of money, pulse rate, weight, number of people living in your town, and number of students who take statistics are examples of quantitative data. Quantitative data may be either **discrete** or **continuous**.\n",
    "\n",
    "All data that are the result of counting are called **quantitative discrete data**. These data take on only certain numerical values. If you count the number of phone calls you receive for each day of the week, you might get values such as zero, one, two, or three.\n",
    "\n",
    "Data that are not only made up of counting numbers, but that may include fractions, decimals, or irrational numbers, are called **quantitative continuous data**. Continuous data are often the results of measurements like lengths, weights, or times. A list of the duration in minutes for all the phone calls that you make in a week, with numbers like 2.4, 7.5, or 11.0, would be quantitative continuous data.\n",
    "\n"
   ]
  },
  {
   "cell_type": "markdown",
   "metadata": {},
   "source": [
    "***\n",
    "### Note\n",
    "One way to remember the difference between qualitative data and quantitative data is that <u>qual</u>itative data measures the <u>qual</u>ities of the members of a population, whereas <u>quant</u>itative data deals with attributes that are measured using <u>quant</u>ities or numbers."
   ]
  },
  {
   "cell_type": "markdown",
   "metadata": {},
   "source": [
    "***\n",
    "### Example 2.1\n",
    "The data are the number of books students carry in their backpacks. You sample five students. Two students carry three books, one student carries four books, one student carries two books, and one student carries one book. The numbers of books (three, four, two, and one) are the quantitative discrete data.\n",
    "***"
   ]
  },
  {
   "cell_type": "markdown",
   "metadata": {},
   "source": [
    "### Example 2.2\n",
    "The data are the weights of backpacks with books in them. You sample the same five students. The weights (in pounds) of their backpacks are 6.2, 7, 6.8, 9.1, 4.3. Notice that backpacks carrying three books can have different weights. Weights are quantitative continuous data.\n",
    "***"
   ]
  },
  {
   "cell_type": "markdown",
   "metadata": {},
   "source": [
    "### Example 2.3\n",
    "The data are the colors of backpacks. Again, you sample the same five students. One student has a red backpack, two students have black backpacks, one student has a green backpack, and one student has a gray backpack. The colors red, black, black, green, and gray are qualitative data.\n",
    "***"
   ]
  },
  {
   "cell_type": "markdown",
   "metadata": {},
   "source": [
    "### Example 2.4\n",
    "Deterime the correct data type (quantitative or qualitative). Indicate whether quantitative data are continuous or discrete. Hint: Data that are discrete often start with the words \"the number of.\"\n",
    "\n",
    "1. the number of pairs of shoes you own\n",
    "1. the type of car you drive\n",
    "1. the distance it is from your home to the nearest grocery store\n",
    "1. the number of classes you take per school year.\n",
    "1. the type of calculator you use\n",
    "1. weights of sumo wrestlers\n",
    "1. number of correct answers on a quiz\n",
    "\n",
    "#### Solution\n",
    "\n",
    "1. Quantitative discrete\n",
    "1. Qualitative\n",
    "1. Quantitative continuous\n",
    "1. Quantitative discrete\n",
    "1. Qualitative\n",
    "1. Quantitative continuous\n",
    "1. Quantitative discrete\n",
    "***"
   ]
  },
  {
   "cell_type": "markdown",
   "metadata": {},
   "source": [
    "## Qualitative Data Discussion\n",
    "Below are tables comparing the number of part-time and full-time students at De Anza College and Foothill College enrolled for the spring 2010 quarter. The tables display counts (frequencies) and percentages or proportions (relative frequencies). The percent columns make comparing the same categories in the colleges easier. Displaying percentages along with the numbers is often helpful, but it is particularly important when comparing sets of data that do not have the same totals, such as the total enrollments for both colleges in this example. Notice how much larger the percentage for part-time students at Foothill College is compared to De Anza College.\n",
    "\n",
    "<table data-id=\"eip-953\" summary=\"Table 1.2 Fall Term 2007 (Census day) \">\n",
    "<caption>**Table 2.1:** Student enrollments, Fall Term 2007 (Census Day).</caption>\n",
    "<thead>\n",
    "  <tr>\n",
    "    <th colspan=\"3\" data-align=\"left\">De Anza College</th>\n",
    "    <th/>\n",
    "    <th colspan=\"3\" data-align=\"left\">Foothill College</th>\n",
    "  </tr>\n",
    "</thead><tbody>\n",
    "  <tr>\n",
    "    <td/>\n",
    "    <td>Number</td>\n",
    "    <td>Percent</td>\n",
    "    <td/>\n",
    "    <td/>\n",
    "    <td>Number</td>\n",
    "    <td>Percent</td>\n",
    "  </tr>\n",
    "  <tr>\n",
    "    <td>Full-time</td>\n",
    "    <td>9,200</td>\n",
    "    <td>40.9%</td>\n",
    "    <td/>\n",
    "    <td>Full-time</td>\n",
    "    <td>4,059</td>\n",
    "    <td>28.6%</td>\n",
    "  </tr>\n",
    "  <tr>\n",
    "    <td>Part-time</td>\n",
    "    <td>13,296</td>\n",
    "    <td>59.1%</td>\n",
    "    <td/>\n",
    "    <td>Part-time</td>\n",
    "    <td>10,124</td>\n",
    "    <td>71.4%</td>\n",
    "  </tr>\n",
    "  <tr>\n",
    "    <td>Total</td>\n",
    "    <td>22,496</td>\n",
    "    <td>100%</td>\n",
    "    <td/>\n",
    "    <td>Total</td>\n",
    "    <td>14,183</td>\n",
    "    <td>100%</td>\n",
    "  </tr>\n",
    "</tbody></table>\n",
    "\n",
    "Tables are a good way of organizing and displaying data. But graphs can be even more helpful in understanding the data. There are no strict rules concerning which graphs to use. Two graphs that are used to display qualitative data are pie charts and bar graphs.\n",
    "\n",
    "In a **pie chart**, categories of data are represented by wedges in a circle and are proportional in size to the percent of individuals in each category.\n",
    "\n",
    "In a **bar graph**, the length of the bar for each category is proportional to the number or percent of individuals in each category. Bars may be vertical or horizontal.\n",
    "\n",
    "Look at the graphs below and determine which graph (pie or bar) you think displays the comparisons better.\n",
    "\n",
    "It is a good idea to look at a variety of graphs to see which is the most helpful in displaying the data. We might make different choices of what we think is the “best” graph depending on the data and the context. Our choice also depends on what we are using the data for.\n",
    "\n",
    "<table>\n",
    "    <tfoot>\n",
    "        <td> <img src=\"3piechart1.jpeg\" alt=\"Pie chart of De Anza College enrollment data in table 2.1\"> </td>\n",
    "        <td> <img src=\"3piechart2.jpeg\" alt=\"Pie chart of Foothill College enrollment data in table 2.1\"> </td>\n",
    "    </tfoot>\n",
    "</table>\n",
    "\n",
    "\n",
    "<img src=\"3bar1.jpeg\" alt=\"Bar graph of De Anza College enrollment data and Foothill College enrollment data in table 3.1\">\n",
    "\n"
   ]
  },
  {
   "cell_type": "markdown",
   "metadata": {},
   "source": [
    "### Percentages that add up to More (or Less) Than 100%\n",
    "Sometimes percentages add up to be more than 100% (or less than 100%). In the graph, the percentages add to more than 100% because students can be in more than one category. A bar graph is appropriate to compare the relative size of the categories. A pie chart cannot be used. It also could not be used if the percentages added to less than 100%.\n",
    "\n",
    "**Table 2.2:** De Anza College, Spring 2010\n",
    "\n",
    "| Characteristic/Category | Percent |\n",
    "|-------------------------|---------|\n",
    "|Full-Time Students | 40.9% |\n",
    "|Students who intend to transfer to a 4-year educational institution| 48.6%|\n",
    "|Students under age 25 | 61.0% |\n",
    "|TOTAL | 150.5% |\n",
    "\n",
    "<table>\n",
    "<caption>**Table 2.2:** De Anza College Spring 2010</caption>\n",
    "<thead>\n",
    "<tr>\n",
    "<th>Characteristic/Category</th>\n",
    "<th>Percent</th>\n",
    "</tr>\n",
    "</thead>\n",
    "<tbody>\n",
    "<tr>\n",
    "<td>Full-Time Students</td>\n",
    "<td>40.9%</td>\n",
    "</tr>\n",
    "<tr>\n",
    "<td>Students who intend to transfer to a 4-year educational institution</td>\n",
    "<td>48.6%</td>\n",
    "</tr>\n",
    "<tr>\n",
    "<td>Students under age 25</td>\n",
    "<td>61.0%</td>\n",
    "</tr>\n",
    "<tr>\n",
    "<td>TOTAL</td>\n",
    "<td>150.5%</td>\n",
    "</tr>\n",
    "</tbody>\n",
    "</table>\n",
    "\n",
    "\n",
    "<img src=\"3bar2.jpeg\" alt=\"Bar graph of student data in table 2.2\">"
   ]
  },
  {
   "cell_type": "markdown",
   "metadata": {},
   "source": [
    "### Omitting Categories/Missing Data\n",
    "The table displays Ethnicity of Students but is missing the \"Other/Unknown\" category. This category contains people who did not feel they fit into any of the ethnicity categories or declined to respond. Notice that the frequencies do not add up to the total number of students. In this situation, create a bar graph and not a pie chart.\n",
    "\n",
    "**Table 2.3:** Ethnicity of Students at De Anza College Fall Term 2007 (Census Day)\n",
    "\n",
    "| | Frequency | Percent |\n",
    "|--|--|--|\n",
    "|Asian|8,794|36.1%|\n",
    "|Black|\t1,412|\t5.8%|\n",
    "|Filipino|\t1,298|\t5.3%|\n",
    "|Hispanic|\t4,180|\t17.1%|\n",
    "|Native American|\t146|\t0.6%|\n",
    "|Pacific Islander|\t236|\t1.0%|\n",
    "|White|\t5,978|\t24.5%|\n",
    "|TOTAL|\t22,044 out of 24,382|\t90.4% out of 100%|\n",
    "\n",
    "<img src=\"3bar3.jpeg\" alt=\"Bar graph of student data in above table 2.3\">\n",
    "\n",
    "The following graph is the same as the previous graph but the “Other/Unknown” percent (9.6%) has been included. The “Other/Unknown” category is large compared to some of the other categories (Native American, 0.6%, Pacific Islander 1.0%). This is important to know when we think about what the data are telling us.\n",
    "\n",
    "<img src=\"3bar4.jpeg\" alt=\"Bar graph of student data in table 2.3 with Other/Unknown category\">\n",
    "\n",
    "This particular bar graph can be difficult to understand visually. The graph below is a **Pareto chart**. The Pareto chart has the bars sorted from largest to smallest and is easier to read and interpret.\n",
    "\n",
    "<img src=\"3bar5.jpeg\" alt=\"Pareto chart of student data in table 2.3 with Other/Unknown category\">"
   ]
  },
  {
   "cell_type": "markdown",
   "metadata": {},
   "source": [
    "### Pie Charts: No Missing Data\n",
    "The following pie charts have the “Other/Unknown” category included (since the percentages must add to 100%). The second chart is organized by the size of each wedge, which makes it a more visually informative graph than the first unsorted, alphabetical graph.\n",
    "<img src=\"3piechart3.jpeg\" alt=\"Pie chart of data in table 2.3 with categories sorted alphabetically\">\n",
    "<img src=\"3piechart4.jpeg\" alt=\"Pie chart of data in table 2.3 with categories sorted by size\">"
   ]
  },
  {
   "cell_type": "markdown",
   "metadata": {},
   "source": [
    "***\n",
    "## Attribution\n",
    "Significant portions of this textbook were written by Barbara Illowsky and Susan Dean in their textbook *Introductory Statistics*, published by OpenStax.\n",
    "\n",
    "Access for free at [https://openstax.org/books/introductory-statistics/pages/1-introduction](https://openstax.org/books/introductory-statistics/pages/1-introduction)"
   ]
  }
 ],
 "metadata": {
  "kernelspec": {
   "display_name": "R",
   "language": "R",
   "name": "ir"
  },
  "language_info": {
   "codemirror_mode": "r",
   "file_extension": ".r",
   "mimetype": "text/x-r-source",
   "name": "R",
   "pygments_lexer": "r",
   "version": "3.6.3"
  }
 },
 "nbformat": 4,
 "nbformat_minor": 2
}
