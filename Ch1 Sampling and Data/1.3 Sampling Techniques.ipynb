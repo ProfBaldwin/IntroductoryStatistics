{
 "cells": [
  {
   "cell_type": "markdown",
   "metadata": {},
   "source": [
    "# 1.3 Sampling Techniques"
   ]
  },
  {
   "cell_type": "markdown",
   "metadata": {},
   "source": [
    "## Objectives\n",
    "- Describe and define basic statistical ideas such as sample, population, data, statistic, parameter, measurement, experiment, probability, distribution, random sampling, bias, and the abuses of statistics.\n",
    "- Distinguish among different scales of measurement, standard methods of obtaining data, and identify their advantages and disadvantages.\n",
    "- Analyze an application in the disciplines business, social sciences, psychology, life sciences, health science, and education, and utilize correct statistical processes to arrive at a solution."
   ]
  },
  {
   "cell_type": "markdown",
   "metadata": {},
   "source": [
    "## Sampling\n",
    "Gathering information about an entire population often costs too much or is virtually impossible. Instead, we use a sample of the population. **A sample should have the same characteristics as the population it is representing.** Most statisticians use various methods of random sampling in an attempt to achieve this goal. This section will describe a few of the most common methods. There are several different methods of **random sampling**. In each form of random sampling, each member of a population initially has an equal chance of being selected for the sample. Each method has pros and cons. The easiest method to describe is called a **simple random sample**. Any group of n individuals is equally likely to be chosen as any other group of n individuals if the simple random sampling technique is used. In other words, each sample of the same size has an equal chance of being selected. \n",
    "\n",
    "For example, suppose Lisa wants to form a four-person study group (herself and three other people) from her pre-calculus class, which has 10 members not including Lisa. To choose a simple random sample of size three from the other members of her class, Lisa could put all 10 names in a hat, shake the hat, close her eyes, and pick out three names. A more technological way is construct a list of student names in R, then have R pick or \"sample\" 3 students from the list. We can do this with the <code>sample</code> function:\n",
    "\n",
    "```R\n",
    "sample(x, size)\n",
    "```\n",
    "\n",
    "Here, <code>x</code> is a list of the members of the population, and <code>size</code> is the size of the sample we desire."
   ]
  },
  {
   "cell_type": "code",
   "execution_count": 1,
   "metadata": {},
   "outputs": [
    {
     "data": {
      "text/html": [
       "<ol class=list-inline>\n",
       "\t<li>'Bayani'</li>\n",
       "\t<li>'Jiao'</li>\n",
       "\t<li>'Cuarismo'</li>\n",
       "</ol>\n"
      ],
      "text/latex": [
       "\\begin{enumerate*}\n",
       "\\item 'Bayani'\n",
       "\\item 'Jiao'\n",
       "\\item 'Cuarismo'\n",
       "\\end{enumerate*}\n"
      ],
      "text/markdown": [
       "1. 'Bayani'\n",
       "2. 'Jiao'\n",
       "3. 'Cuarismo'\n",
       "\n",
       "\n"
      ],
      "text/plain": [
       "[1] \"Bayani\"   \"Jiao\"     \"Cuarismo\""
      ]
     },
     "metadata": {},
     "output_type": "display_data"
    }
   ],
   "source": [
    "names <- c(\"Anselmo\", \"Bautista\", \"Bayani\", \"Cheng\", \"Cuarismo\", \"Fontecha\", \"Hong\", \"Hoobler\", \"Jiao\", \"Price\")\n",
    "sample(x = names, \n",
    "       size = 3)"
   ]
  },
  {
   "cell_type": "markdown",
   "metadata": {},
   "source": [
    "In this case, the <code>sample</code> function randomly chose Bayani, Jiao, and Cuarismo to join Lisa in her four-person study group.\n",
    "\n",
    "Besides simple random sampling, there are other forms of sampling that involve a chance process for getting the sample. **Other well-known random sampling methods are the stratified sample, the cluster sample, and the systematic sample.**\n",
    "\n",
    "To choose a **stratified sample**, divide the population into groups called strata and then take a **proportionate** number from each stratum. For example, you could stratify (group) your college population by department and then choose a proportionate simple random sample from each stratum (each department) to get a stratified random sample. To choose a simple random sample from each department, number each member of the first department, number each member of the second department, and do the same for the remaining departments. Then use simple random sampling to choose proportionate numbers from the first department and do the same for each of the remaining departments. Those numbers picked from the first department, picked from the second department, and so on represent the members who make up the stratified sample.\n",
    "\n",
    "To choose a **cluster sample**, divide the population into clusters (groups) and then randomly select some of the clusters. All the members from these clusters are in the cluster sample. For example, if you randomly sample four departments from your college population, the four departments make up the cluster sample. Divide your college faculty by department. The departments are the clusters. Number each department, and then choose four different numbers using simple random sampling. All members of the four departments with those numbers are the cluster sample.\n",
    "\n",
    "To choose a **systematic sample**, randomly select a starting point and take every nth piece of data from a listing of the population. For example, suppose you have to do a phone survey. Your phone book contains 20,000 residence listings. You must choose 400 names for the sample. Number the population 1–20,000 and then use a simple random sample to pick a number that represents the first name in the sample. Then choose every fiftieth name thereafter until you have a total of 400 names (you might have to go back to the beginning of your phone list). Systematic sampling is frequently chosen because it is a simple method.\n",
    "\n",
    "A type of sampling that is non-random is **convenience sampling**. Convenience sampling involves using results that are readily available. For example, a computer software store conducts a marketing study by interviewing potential customers who happen to be in the store browsing through the available software. The results of convenience sampling may be very good in some cases and highly biased (favor certain outcomes) in others.\n",
    "\n",
    "Sampling data should be done very carefully. Collecting data carelessly can have devastating results. Surveys mailed to households and then returned may be very biased (they may favor a certain group). It is better for the person conducting the survey to select the sample respondents.\n",
    "\n",
    "True random sampling is done **with replacement**. That is, once a member is picked, that member goes back into the population and thus may be chosen more than once. However for practical reasons, in most populations, simple random sampling is done **without replacement**. Surveys are typically done without replacement. That is, a member of the population may be chosen only once. Most samples are taken from large populations and the sample tends to be small in comparison to the population. Since this is the case, sampling without replacement is approximately the same as sampling with replacement because the chance of picking the same individual more than once with replacement is very low.\n",
    "\n",
    "In a college population of 10,000 people, suppose you want to pick a sample of 1,000 randomly for a survey. **For any particular sample of 1,000**, if you are sampling **with replacement**,\n",
    "\n",
    "- the chance of picking the first person is 1,000 out of 10,000 (0.1000);\n",
    "- the chance of picking a different second person for this sample is 999 out of 10,000 (0.0999);\n",
    "- the chance of picking the same person again is 1 out of 10,000 (very low).\n",
    "\n",
    "If you are sampling **without replacement**,\n",
    "\n",
    "- the chance of picking the first person for any particular sample is 1000 out of 10,000 (0.1000);\n",
    "- the chance of picking a different second person is 999 out of 9,999 (0.0999);\n",
    "- you do not replace the first person before picking the next person.\n",
    "\n",
    "Compare the fractions 999/10,000 and 999/9,999. For accuracy, carry the decimal answers to four decimal places. To four decimal places, these numbers are equivalent (0.0999).\n",
    "\n",
    "Sampling without replacement instead of sampling with replacement becomes a mathematical issue only when the population is small. For example, if the population is 25 people, the sample is ten, and you are sampling **with replacement for any particular sample**, then the chance of picking the first person is ten out of 25, and the chance of picking a different second person is nine out of 25 (you replace the first person).\n",
    "\n",
    "If you sample **without replacement**, then the chance of picking the first person is ten out of 25, and then the chance of picking the second person (who is different) is nine out of 24 (you do not replace the first person).\n",
    "\n",
    "Compare the fractions 9/25 and 9/24. To four decimal places, 9/25 = 0.3600 and 9/24 = 0.3750. To four decimal places, these numbers are not equivalent.\n",
    "\n",
    "When you analyze data, it is important to be aware of **sampling errors** and nonsampling errors. The actual process of sampling causes sampling errors. For example, the sample may not be large enough. Factors not related to the sampling process cause **nonsampling errors**. A defective counting device can cause a nonsampling error.\n",
    "\n",
    "In reality, a sample will never be exactly representative of the population so there will always be some sampling error. As a rule, the larger the sample, the smaller the sampling error.\n",
    "\n",
    "In statistics, a **sampling bias** is created when a sample is collected from a population and some members of the population are not as likely to be chosen as others (remember, each member of the population should have an equally likely chance of being chosen). When a sampling bias happens, there can be incorrect conclusions drawn about the population that is being studied."
   ]
  },
  {
   "cell_type": "markdown",
   "metadata": {},
   "source": [
    "### Critical Evaluation\n",
    "We need to evaluate the statistical studies we read about critically and analyze them before accepting the results of the studies. Common problems to be aware of include\n",
    "\n",
    "- Problems with samples: A sample must be representative of the population. A sample that is not representative of the population is biased. Biased samples that are not representative of the population give results that are inaccurate and not valid.\n",
    "- Self-selected samples: Responses only by people who choose to respond, such as call-in surveys, are often unreliable.\n",
    "- Sample size issues: Samples that are too small may be unreliable. Larger samples are better, if possible. In some situations, having small samples is unavoidable and can still be used to draw conclusions. Examples: crash testing cars or medical testing for rare conditions\n",
    "- Undue influence: collecting data or asking questions in a way that influences the response\n",
    "- Non-response or refusal of subject to participate:  The collected responses may no longer be representative of the population.  Often, people with strong positive or negative opinions may answer surveys, which can affect the results.\n",
    "- Causality: A relationship between two variables does not mean that one causes the other to occur. They may be related (correlated) because of their relationship through a different variable.\n",
    "- Self-funded or self-interest studies: A study performed by a person or organization in order to support their claim. Is the study impartial? Read the study carefully to evaluate the work. Do not automatically assume that the study is good, but do not automatically assume the study is bad either. Evaluate it on its merits and the work done.\n",
    "- Misleading use of data: improperly displayed graphs, incomplete data, or lack of context\n",
    "- Confounding:  When the effects of multiple factors on a response cannot be separated.  Confounding makes it difficult or impossible to draw valid conclusions about the effect of each factor."
   ]
  },
  {
   "cell_type": "markdown",
   "metadata": {},
   "source": [
    "***\n",
    "### Example 3.1\n",
    "A study is done to determine the average tuition that San Jose State undergraduate students pay per semester. Each student in the following samples is asked how much tuition he or she paid for the Fall semester. What is the type of sampling in each case?\n",
    "\n",
    "1. A sample of 100 undergraduate San Jose State students is taken by organizing the students’ names by classification (freshman, sophomore, junior, or senior), and then selecting 25 students from each.\n",
    "1. A random number generator is used to select a student from the alphabetical listing of all undergraduate students in the Fall semester. Starting with that student, every 50th student is chosen until 75 students are included in the sample.\n",
    "1. A completely random method is used to select 75 students. Each undergraduate student in the fall semester has the same probability of being chosen at any stage of the sampling process.\n",
    "1. The freshman, sophomore, junior, and senior years are numbered one, two, three, and four, respectively. A random number generator is used to pick two of those years. All students in those two years are in the sample.\n",
    "1. An administrative assistant is asked to stand in front of the library one Wednesday and to ask the first 100 undergraduate students he encounters what they paid for tuition the Fall semester. Those 100 students are the sample.\n",
    "\n",
    "#### Solution\n",
    "1. Stratified\n",
    "1. Systematic\n",
    "1. Simple random\n",
    "1. Cluster\n",
    "1. Convenience\n",
    "***"
   ]
  },
  {
   "cell_type": "markdown",
   "metadata": {},
   "source": [
    "### Example 3.2\n",
    "Determine the type of sampling used (simple random, stratified, systematic, cluster, or convenience).\n",
    "\n",
    "1. A soccer coach selects six players from a group of boys aged eight to ten, seven players from a group of boys aged 11 to 12, and three players from a group of boys aged 13 to 14 to form a recreational soccer team.\n",
    "1. A pollster interviews all human resource personnel in five different high tech companies.\n",
    "1. A high school educational researcher interviews 50 high school female teachers and 50 high school male teachers.\n",
    "1. A medical researcher interviews every third cancer patient from a list of cancer patients at a local hospital.\n",
    "1. A high school counselor uses a computer to generate 50 random numbers and then picks students whose names correspond to the numbers.\n",
    "1. A student interviews classmates in his algebra class to determine how many pairs of jeans a student owns, on the average.\n",
    "\n",
    "#### Solution\n",
    "1. Stratified\n",
    "1. Cluster\n",
    "1. Stratified\n",
    "1. Systematic\n",
    "1. Simple random\n",
    "1. Convenience\n",
    "***"
   ]
  },
  {
   "cell_type": "markdown",
   "metadata": {},
   "source": [
    "### Example 3.3\n",
    "Suppose ABC College has 10,000 part-time students (the population). We are interested in the average amount of money a part-time student spends on books in the fall term. Asking all 10,000 students is an almost impossible task.\n",
    "\n",
    "Suppose we take two different samples.\n",
    "\n",
    "First, we use convenience sampling and survey ten students from a first term organic chemistry class. Many of these students are taking first term calculus in addition to the organic chemistry class. The amount of money they spend on books is as follows:\n",
    "\n",
    "\\\\$128; \\\\$87; \\\\$173; \\\\$116; \\\\$130; \\\\$204; \\\\$147; \\\\$189; \\\\$93; \\\\$153\n",
    "\n",
    "The second sample is taken using a list of senior citizens who take P.E. classes and taking every fifth senior citizen on the list, for a total of ten senior citizens. They spend:\n",
    "\n",
    "\\\\$50; \\\\$40; \\\\$36; \\\\$15; \\\\$50; \\\\$100; \\\\$40; \\\\$53; \\\\$22; \\\\$22\n",
    "\n",
    "It is unlikely that any student is in both samples.\n",
    "\n",
    "a. Do you think that either of these samples is representative of (or is characteristic of) the entire 10,000 part-time student population?\n",
    "\n",
    "#### Solution\n",
    "a. No. The first sample probably consists of science-oriented students. Besides the chemistry course, some of them are also taking first-term calculus. Books for these classes tend to be expensive. Most of these students are, more than likely, paying more than the average part-time student for their books. The second sample is a group of senior citizens who are, more than likely, taking courses for health and interest. The amount of money they spend on books is probably much less than the average parttime student. Both samples are biased. Also, in both cases, not all students have a chance to be in either sample.\n",
    "\n",
    "b. Since these samples are not representative of the entire population, is it wise to use the results to describe the entire population?\n",
    "\n",
    "#### Solution\n",
    "b. No. For these samples, each member of the population did not have an equally likely chance of being chosen.\n",
    "\n",
    "Now, suppose we take a third sample. We choose ten different part-time students from the disciplines of chemistry, math, English, psychology, sociology, history, nursing, physical education, art, and early childhood development. (We assume that these are the only disciplines in which part-time students at ABC College are enrolled and that an equal number of part-time students are enrolled in each of the disciplines.) Each student is chosen using simple random sampling. Using a calculator, random numbers are generated and a student from a particular discipline is selected if he or she has a corresponding number. The students spend the following amounts:\n",
    "\n",
    "\\\\$180; \\\\$50; \\\\$150; \\\\$85; \\\\$260; \\\\$75; \\\\$180; \\\\$200; \\\\$200; \\\\$150\n",
    "\n",
    "c. Is the sample biased?\n",
    "\n",
    "#### Solution\n",
    "c. The sample is unbiased, but a larger sample would be recommended to increase the likelihood that the sample will be close to representative of the population. However, for a biased sampling technique, even a large sample runs the risk of not being representative of the population.\n",
    "\n",
    "Students often ask if it is \"good enough\" to take a sample, instead of surveying the entire population. If the survey is done well, the answer is yes.\n",
    "***"
   ]
  },
  {
   "cell_type": "markdown",
   "metadata": {},
   "source": [
    "### Variation in Data\n",
    "**Variation** is present in any set of data. For example, 16-ounce cans of beverage may contain more or less than 16 ounces of liquid. In one study, eight 16 ounce cans were measured and produced the following amount (in ounces) of beverage:\n",
    "\n",
    "15.8; 16.1; 15.2; 14.8; 15.8; 15.9; 16.0; 15.5\n",
    "\n",
    "Measurements of the amount of beverage in a 16-ounce can may vary because different people make the measurements or because the exact amount, 16 ounces of liquid, was not put into the cans. Manufacturers regularly run tests to determine if the amount of beverage in a 16-ounce can falls within the desired range.\n",
    "\n",
    "Be aware that as you take data, your data may vary somewhat from the data someone else is taking for the same purpose. This is completely natural. However, if two or more of you are taking the same data and get very different results, it is time for you and the others to reevaluate your data-taking methods and your accuracy."
   ]
  },
  {
   "cell_type": "markdown",
   "metadata": {},
   "source": [
    "## Variation in Samples\n",
    "It was mentioned previously that two or more **samples** from the same **population**, taken randomly, and having close to the same characteristics of the population will likely be different from each other. Suppose Doreen and Jung both decide to study the average amount of time students at their college sleep each night. Doreen and Jung each take samples of 500 students. Doreen uses systematic sampling and Jung uses cluster sampling. Doreen's sample will be different from Jung's sample. Even if Doreen and Jung used the same sampling method, in all likelihood their samples would be different. Neither would be wrong, however.\n",
    "\n",
    "Think about what contributes to making Doreen’s and Jung’s samples different.\n",
    "\n",
    "If Doreen and Jung took larger samples (i.e. the number of data values is increased), their sample results (the average amount of time a student sleeps) might be closer to the actual population average. But still, their samples would be, in all likelihood, different from each other. This **variability in samples** cannot be stressed enough.\n",
    "\n",
    "### Size of a Sample\n",
    "The size of a sample (often called the number of observations) is important. The examples you have seen in this book so far have been small. Samples of only a few hundred observations, or even smaller, are sufficient for many purposes. In polling, samples that are from 1,200 to 1,500 observations are considered large enough and good enough if the survey is random and is well done. You will learn why when you study confidence intervals.\n",
    "\n",
    "Be aware that many large samples are biased. For example, call-in surveys are invariably biased, because people choose to respond or not."
   ]
  },
  {
   "cell_type": "markdown",
   "metadata": {},
   "source": [
    "***\n",
    "## Attribution\n",
    "Significant portions of this textbook were written by Barbara Illowsky and Susan Dean in their textbook *Introductory Statistics*, published by OpenStax.\n",
    "\n",
    "Access for free at [https://openstax.org/books/introductory-statistics/pages/1-introduction](https://openstax.org/books/introductory-statistics/pages/1-introduction)\n",
    "\n",
    "1. Yudhijit Bhattacharjee, “The Mind of a Con Man,” Magazine, New York Times, April 26, 2013. Available online at: http://www.nytimes.com/2013/04/28/magazine/diederik-stapels-audacious-academic-fraud.html?src=dayp&_r=2& (accessed May 1, 2013).\n",
    "1. “Flawed Science: The Fraudulent Research Practices of Social Psychologist Diederik Stapel,” Tillburg University, November 28, 2012, http://www.tilburguniversity.edu/upload/064a10cd-bce5-4385-b9ff-05b840caeae6_120695_Rapp_nov_2012_UK_web.pdf (accessed May 1, 2013).\n",
    "\n"
   ]
  }
 ],
 "metadata": {
  "kernelspec": {
   "display_name": "R",
   "language": "R",
   "name": "ir"
  },
  "language_info": {
   "codemirror_mode": "r",
   "file_extension": ".r",
   "mimetype": "text/x-r-source",
   "name": "R",
   "pygments_lexer": "r",
   "version": "3.6.3"
  }
 },
 "nbformat": 4,
 "nbformat_minor": 2
}
