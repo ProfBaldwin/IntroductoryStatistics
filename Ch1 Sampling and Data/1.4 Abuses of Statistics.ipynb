{
 "cells": [
  {
   "cell_type": "markdown",
   "metadata": {},
   "source": [
    "# 1.4 Abuses of Statistics"
   ]
  },
  {
   "cell_type": "markdown",
   "metadata": {},
   "source": [
    "## Objectives\n",
    "- Understand the ethics and possible abuses of statistics."
   ]
  },
  {
   "cell_type": "markdown",
   "metadata": {},
   "source": [
    "## Ethics\n",
    "The widespread misuse and misrepresentation of statistical information often gives the field a bad name. Some say that “numbers don’t lie,” but the people who use numbers to support their claims often do.\n",
    "\n",
    "A recent investigation of famous social psychologist, Diederik Stapel, has led to the retraction of his articles from some of the world’s top journals including *Journal of Experimental Social Psychology*, *Social Psychology*, *Basic and Applied Social Psychology*, *British Journal of Social Psychology*, and the magazine *Science*. Diederik Stapel is a former professor at Tilburg University in the Netherlands. Over the past two years, an extensive investigation involving three universities where Stapel has worked concluded that the psychologist is guilty of fraud on a colossal scale. Falsified data taints over 55 papers he authored and 10 Ph.D. dissertations that he supervised.\n",
    "\n",
    "*Stapel did not deny that his deceit was driven by ambition. But it was more complicated than that, he told me. He insisted that he loved social psychology but had been frustrated by the messiness of experimental data, which rarely led to clear conclusions. His lifelong obsession with elegance and order, he said, led him to concoct sexy results that journals found attractive. “It was a quest for aesthetics, for beauty—instead of the truth,” he said. He described his behavior as an addiction that drove him to carry out acts of increasingly daring fraud, like a junkie seeking a bigger and better high.*<sup>1</sup>\n",
    "\n",
    "The committee investigating Stapel concluded that he is guilty of several practices including:\n",
    "\n",
    "- creating datasets, which largely confirmed the prior expectations,\n",
    "- altering data in existing datasets,\n",
    "- changing measuring instruments without reporting the change, and\n",
    "- misrepresenting the number of experimental subjects.\n",
    "\n",
    "Clearly, it is never acceptable to falsify data the way this researcher did. Sometimes, however, violations of ethics are not as easy to spot.\n",
    "\n",
    "Researchers have a responsibility to verify that proper methods are being followed. The report describing the investigation of Stapel’s fraud states that, “statistical flaws frequently revealed a lack of familiarity with elementary statistics.”<sup>2</sup> Many of Stapel’s co-authors should have spotted irregularities in his data. Unfortunately, they did not know very much about statistical analysis, and they simply trusted that he was collecting and reporting data properly.\n",
    "\n",
    "Many types of statistical fraud are difficult to spot. Some researchers simply stop collecting data once they have just enough to prove what they had hoped to prove. They don’t want to take the chance that a more extensive study would complicate their lives by producing data contradicting their hypothesis.\n",
    "\n",
    "Professional organizations, like the American Statistical Association, clearly define expectations for researchers. There are even laws in the federal code about the use of research data.\n",
    "\n",
    "When a statistical study uses human participants, as in medical studies, both ethics and the law dictate that researchers should be mindful of the safety of their research subjects. The U.S. Department of Health and Human Services oversees federal regulations of research studies with the aim of protecting participants. When a university or other research institution engages in research, it must ensure the safety of all human subjects. For this reason, research institutions establish oversight committees known as **Institutional Review Boards (IRB)**. All planned studies must be approved in advance by the IRB. Key protections that are mandated by law include the following:\n",
    "\n",
    "- Risks to participants must be minimized and reasonable with respect to projected benefits.\n",
    "- Participants must give **informed consent**. This means that the risks of participation must be clearly explained to the subjects of the study. Subjects must consent in writing, and researchers are required to keep documentation of their consent.\n",
    "- Data collected from individuals must be guarded carefully to protect their privacy.\n",
    "\n",
    "These ideas may seem fundamental, but they can be very difficult to verify in practice. Is removing a participant’s name from the data record sufficient to protect privacy? Perhaps the person’s identity could be discovered from the data that remains. What happens if the study does not proceed as planned and risks arise that were not anticipated? When is informed consent really necessary? Suppose your doctor wants a blood sample to check your cholesterol level. Once the sample has been tested, you expect the lab to dispose of the remaining blood. At that point the blood becomes biological waste. Does a researcher have the right to take it for use in a study?\n",
    "\n",
    "It is important that students of statistics take time to consider the ethical questions that arise in statistical studies. How prevalent is fraud in statistical studies? You might be surprised—and disappointed. There is a [website](https://retractionwatch.com/) dedicated to cataloging retractions of study articles that have been proven fraudulent. A quick glance will show that the misuse of statistics is a bigger problem than most people realize.\n",
    "\n",
    "Vigilance against fraud requires knowledge. Learning the basic theory of statistics will empower you to analyze statistical studies critically."
   ]
  },
  {
   "cell_type": "markdown",
   "metadata": {},
   "source": [
    "## Sampling Issues and Abuses of Statistics\n",
    "We need to evaluate the statistical studies we read about critically and analyze their sampling methodologies before accepting the results of the studies. Common problems to be aware of include\n",
    "\n",
    "- **Problems with samples:** A sample must be representative of the population. A sample that is not representative of the population is biased. Biased samples that are not representative of the population give results that are inaccurate and not valid.\n",
    "- **Self-selected samples:** Responses only by people who choose to respond, such as call-in surveys, are often unreliable.\n",
    "- **Sample size issues:** Samples that are too small may be unreliable. Larger samples are better, if possible. In some situations, having small samples is unavoidable and can still be used to draw conclusions. Examples: crash testing cars or medical testing for rare conditions\n",
    "- **Undue influence:** collecting data or asking questions in a way that influences the response\n",
    "- **Non-response or refusal of subject to participate:**  The collected responses may no longer be representative of the population.  Often, people with strong positive or negative opinions may answer surveys, which can affect the results.\n",
    "- **Causality:** A relationship between two variables does not mean that one causes the other to occur. They may be related (correlated) because of their relationship through a different variable.\n",
    "- **Self-funded or self-interest studies:** A study performed by a person or organization in order to support their claim. Is the study impartial? Read the study carefully to evaluate the work. Do not automatically assume that the study is good, but do not automatically assume the study is bad either. Evaluate it on its merits and the work done.\n",
    "- **Misleading use of data:** improperly displayed graphs, incomplete data, or lack of context\n",
    "- **Confounding:**  When the effects of multiple factors on a response cannot be separated.  Confounding makes it difficult or impossible to draw valid conclusions about the effect of each factor.\n",
    "\n",
    "Some of these problems are very common, even in serious scientific studies. For example, clinical trials participants are self-selected to some degree: it is unethical to force people to participate in a clinical trial against their will. While such a problem may not invalidate the trial, it does mean we should be cautious when analyzing the results."
   ]
  },
  {
   "cell_type": "markdown",
   "metadata": {},
   "source": [
    "***"
   ]
  },
  {
   "cell_type": "markdown",
   "metadata": {},
   "source": [
    "\n",
    "### Example 1.4.1\n",
    "Describe the abuse of statistics or sampling issue, if any, in each example and describe how it could impact the reliability of the resulting data. Explain how the problem should be corrected.\n",
    "\n",
    "A researcher is collecting data in a community.\n",
    "\n",
    "1. She selects a block where she is comfortable walking because she knows many of the people living on the street.\n",
    "1. No one seems to be home at four houses on her route. She does not record the addresses and does not return at a later time to try to find residents at home.\n",
    "1. She skips four houses on her route because she is running late for an appointment. When she gets home, she fills in the forms by selecting random answers from other residents in the neighborhood.\n",
    "\n",
    "#### Solution\n",
    "\n",
    "1. By selecting a convenient sample, the researcher is intentionally selecting a sample that could be biased. Claiming that this sample represents the community is misleading. The researcher needs to select areas in the community at random.\n",
    "1. Intentionally omitting relevant data will create bias in the sample. Suppose the researcher is gathering information about jobs and child care. By ignoring people who are not home, she may be missing data from working families that are relevant to her study. She needs to make every effort to interview all members of the target sample.\n",
    "1. It is never acceptable to fake data. Even though the responses she uses are “real” responses provided by other participants, the duplication is fraudulent and can create bias in the data. She needs to work diligently to interview everyone on her route.\n"
   ]
  },
  {
   "cell_type": "markdown",
   "metadata": {},
   "source": [
    "***"
   ]
  },
  {
   "cell_type": "markdown",
   "metadata": {},
   "source": [
    "### Example 1.4.2\n",
    "Describe the abuse of statistics or sampling issue, if any, in each example and describe how it could impact the reliability of the resulting data. Explain how the problem should be corrected.\n",
    "\n",
    "A study is commissioned to determine the favorite brand of fruit juice among teens in California.\n",
    "\n",
    "1. The survey is commissioned by the seller of a popular brand of apple juice.\n",
    "1. There are only two types of juice included in the study: apple juice and cranberry juice.\n",
    "1. Researchers allow participants to see the brand of juice as samples are poured for a taste test.\n",
    "1. Twenty-five percent of participants prefer Brand X, 33% prefer Brand Y and 42% have no preference between the two brands. Brand X references the study in a commercial saying “Most teens like Brand X as much as or more than Brand Y.”\n",
    "\n",
    "#### Solution\n",
    "1. The seller of the apple juice brand may have a financial interest in the outcome of the study. They may design the survey to be biased in favor of their desired outcome. The survey should be financed and conducted by an independent party.\n",
    "1. By omitting other juices, the study may preclude participants from choosing their true favorite brand of juice. Since people are forced to choose between only apple juice or cranberry juice, it might appear that one or both of these juice flavors are more popular than they actually are. The survey should include more juice flavors to better reflect the true preferences of the population.\n",
    "1. Allowing the participants to see the brand of juice may bias them. For example, if the participants have a positive impression of the brand, they may have a more favorable impression of that brand's juice. The juice should be given to the participants in a blind taste test, without knowledge of the juice brands.\n",
    "1. This statement is very misleading. People who hear this statement may conclude that Brand X is more popular than Brand Y, a fact the data does not support. Rather than using misleading generalities, the commercial should cite the particular percentages found in the study."
   ]
  },
  {
   "cell_type": "markdown",
   "metadata": {},
   "source": [
    "***"
   ]
  },
  {
   "cell_type": "markdown",
   "metadata": {},
   "source": [
    "### Example 1.4.3"
   ]
  },
  {
   "cell_type": "code",
   "execution_count": null,
   "metadata": {},
   "outputs": [],
   "source": [
    "#**VID=_FpdvIPZDs8**#"
   ]
  },
  {
   "cell_type": "markdown",
   "metadata": {},
   "source": [
    "***"
   ]
  },
  {
   "cell_type": "markdown",
   "metadata": {},
   "source": [
    "<small style=\"color:gray\">\n",
    "    <ol>\n",
    "<li> Yudhijit Bhattacharjee, “The Mind of a Con Man,” Magazine, New York Times, April 26, 2013. Available online at: <a href=\"http://www.nytimes.com/2013/04/28/magazine/diederik-stapels-audacious-academic-fraud.html?src=dayp&_r=2&\" target=\"_blank\">http://www.nytimes.com/2013/04/28/magazine/diederik-stapels-audacious-academic-fraud.html?src=dayp&_r=2&</a> (accessed May 1, 2013).</li>\n",
    "<li> “Flawed Science: The Fraudulent Research Practices of Social Psychologist Diederik Stapel,” Tillburg University, November 28, 2012, <a href=\"http://www.tilburguniversity.edu/upload/064a10cd-bce5-4385-b9ff-05b840caeae6_120695_Rapp_nov_2012_UK_web.pdf\" target=\"_blank\">http://www.tilburguniversity.edu/upload/064a10cd-bce5-4385-b9ff-05b840caeae6_120695_Rapp_nov_2012_UK_web.pdf</a> (accessed May 1, 2013).</li>\n",
    "    </ol>\n",
    "</small>\n",
    "\n",
    "\n",
    "<small style=\"color:gray\"><b>License:</b> This work is licensed under a [Creative Commons Attribution 4.0 International](https://creativecommons.org/licenses/by/4.0/) license.</small>\n",
    "\n",
    "<small style=\"color:gray\"><b>Author:</b> Taylor Baldwin, Mt. San Jacinto College</small>\n",
    "\n",
    "<small style=\"color:gray\"><b>Adapted From:</b> <i>Introductory Statistics</i>, by Barbara Illowsky and Susan Dean. Access for free at [https://openstax.org/books/introductory-statistics/pages/1-introduction](https://openstax.org/books/introductory-statistics/pages/1-introduction).</small>"
   ]
  }
 ],
 "metadata": {
  "kernelspec": {
   "display_name": "R",
   "language": "R",
   "name": "ir"
  },
  "language_info": {
   "codemirror_mode": "r",
   "file_extension": ".r",
   "mimetype": "text/x-r-source",
   "name": "R",
   "pygments_lexer": "r",
   "version": "3.6.1"
  }
 },
 "nbformat": 4,
 "nbformat_minor": 2
}
