{
 "cells": [
  {
   "cell_type": "markdown",
   "metadata": {},
   "source": [
    "# 1.5 Tables and Charts"
   ]
  },
  {
   "cell_type": "markdown",
   "metadata": {},
   "source": [
    "## Objectives\n",
    "- Create and interpret frequency tables.\n",
    "- Create and interpret bar charts, histograms, and pie charts."
   ]
  },
  {
   "cell_type": "markdown",
   "metadata": {},
   "source": [
    "## Frequency\n",
    "Once you have a set of data, you will need to organize it so that you can analyze how frequently each datum occurs in the set. A **frequency** is the number of times a value of the data occurs.\n",
    "\n",
    "For example, imagine twenty students were asked how many hours they worked per day. Their responses, in hours, are as follows:\n",
    "\n",
    "<center>5, 6, 3, 3, 2, 4, 7, 5, 2, 3, 5, 6, 5, 4, 4, 3, 5, 2, 5, 3</center>\n",
    "\n",
    "By counting the number of times each value occurs, we can construct a **frequency table**.\n",
    "\n",
    "<table>\n",
    "    <caption>Table 5.1: Frequency table of student work hours</caption>\n",
    "    <thead>\n",
    "            <tr>\n",
    "              <th>HOURS WORKED PER DAY</th>\n",
    "              <th>FREQUENCY</th>\n",
    "            </tr>\n",
    "</thead><tbody>\n",
    "            <tr>\n",
    "              <td><span data-type=\"emphasis\" class=\"normal\" data-effect=\"normal\">2</span></td>\n",
    "              <td>3</td>\n",
    "            </tr>\n",
    "            <tr>\n",
    "              <td><span data-type=\"emphasis\" class=\"normal\" data-effect=\"normal\">3</span></td>\n",
    "              <td>5</td>\n",
    "            </tr>\n",
    "            <tr>\n",
    "              <td><span data-type=\"emphasis\" class=\"normal\" data-effect=\"normal\">4</span></td>\n",
    "              <td>3</td>\n",
    "            </tr>\n",
    "            <tr>\n",
    "              <td><span data-type=\"emphasis\" class=\"normal\" data-effect=\"normal\">5</span></td>\n",
    "              <td>6</td>\n",
    "            </tr>\n",
    "            <tr>\n",
    "              <td><span data-type=\"emphasis\" class=\"normal\" data-effect=\"normal\">6</span></td>\n",
    "              <td>2</td>\n",
    "            </tr>\n",
    "            <tr>\n",
    "              <td><span data-type=\"emphasis\" class=\"normal\" data-effect=\"normal\">7</span></td>\n",
    "              <td>1</td>\n",
    "            </tr>\n",
    "    <tr>\n",
    "        <td></td>\n",
    "        <td><b>Total = 20</b></td>\n",
    "    </tr>\n",
    "          </tbody></table>\n",
    "          \n",
    "By inspecting the table, we see, for example, that 6 of the students that were surveyed worked 5 hours per day.\n",
    "\n",
    "A **relative frequency** is the ratio (fraction or proportion) of the number of times a value of the data occurs to the total number of outcomes. To find the relative frequencies, divide each frequency by the total number of students in the sample–in this case, 20. Relative frequencies can be written as fractions, percents, or decimals.\n",
    "\n",
    "<table>\n",
    "<caption>Table 5.2: Frequency table of student work hours with relative frequency</caption>\n",
    "<thead>\n",
    "            <tr>\n",
    "              <th>HOURS WORKED PER DAY</th>\n",
    "              <th>FREQUENCY</th>\n",
    "              <th>RELATIVE FREQUENCY</th>\n",
    "            </tr>\n",
    "</thead><tbody>\n",
    "            <tr>\n",
    "              <td><span data-type=\"emphasis\" class=\"normal\" data-effect=\"normal\">2</span></td>\n",
    "              <td>3</td>\n",
    "                <td>$\\dfrac{3}{20}$ or 0.15</td>\n",
    "            </tr>\n",
    "            <tr>\n",
    "              <td><span data-type=\"emphasis\" class=\"normal\" data-effect=\"normal\">3</span></td>\n",
    "              <td>5</td>\n",
    "                <td>$\\dfrac{5}{20}$ or 0.25</td>\n",
    "            </tr>\n",
    "            <tr>\n",
    "              <td><span data-type=\"emphasis\" class=\"normal\" data-effect=\"normal\">4</span></td>\n",
    "              <td>3</td>\n",
    "                <td>$\\dfrac{3}{20}$ or 0.15</td>\n",
    "            </tr>\n",
    "            <tr>\n",
    "              <td><span data-type=\"emphasis\" class=\"normal\" data-effect=\"normal\">5</span></td>\n",
    "              <td>6</td>\n",
    "                <td>$\\dfrac{6}{20}$ or 0.30</td>\n",
    "            </tr>\n",
    "            <tr>\n",
    "              <td><span data-type=\"emphasis\" class=\"normal\" data-effect=\"normal\">6</span></td>\n",
    "              <td>2</td>\n",
    "                <td>$\\dfrac{2}{20}$ or 0.10</td>\n",
    "            </tr>\n",
    "            <tr>\n",
    "              <td><span data-type=\"emphasis\" class=\"normal\" data-effect=\"normal\">7</span></td>\n",
    "              <td>1</td>\n",
    "                <td>$\\dfrac{1}{20}$ or 0.05</td>\n",
    "            </tr>\n",
    "        <tr>\n",
    "        <td></td>\n",
    "        <td><b>Total = 20</b></td>\n",
    "            <td><b>Total = 1.00</b></td>\n",
    "    </tr>\n",
    "          </tbody></table>\n",
    "          \n",
    "Note that the sum of the relative frequencies should always add up to 1.00 or 100%.\n",
    "          \n",
    "We could also **group** data and calculate the frequency and relative frequency for each group. For example, the table below represents the heights, in inches, of a sample of 100 male semiprofessional soccer players.\n",
    "\n",
    "<table>\n",
    "<caption>Table 5.3: Frequency table of soccer player height</caption>\n",
    "<thead>\n",
    "<tr>\n",
    "<th>HEIGHT <span data-type=\"newline\"><br/></span>(INCHES)</th>\n",
    "<th>FREQUENCY</th>\n",
    "<th>RELATIVE <span data-type=\"newline\"><br/></span>FREQUENCY</th>\n",
    "</tr>\n",
    "</thead><tbody>\n",
    "<tr>\n",
    "<td><span data-type=\"emphasis\" class=\"normal\" data-effect=\"normal\">59.95–61.95</span></td>\n",
    "<td>5</td>\n",
    "<td>\n",
    "$\\dfrac{5}{100}$\n",
    " = 0.05\n",
    "</td>\n",
    "</tr>\n",
    "\n",
    "<tr>\n",
    "<td><span data-type=\"emphasis\" class=\"normal\" data-effect=\"normal\">61.95–63.95</span></td>\n",
    "<td>3</td>\n",
    "<td>\n",
    "$\\dfrac{3}{100}$\n",
    " = 0.03\n",
    "</td>\n",
    "</tr>\n",
    "\n",
    "<tr>\n",
    "<td><span data-type=\"emphasis\" class=\"normal\" data-effect=\"normal\">63.95–65.95</span></td>\n",
    "<td>15</td>\n",
    "<td>\n",
    "$\\dfrac{15}{100}$\n",
    " = 0.15\n",
    "</td>\n",
    "</tr>\n",
    "\n",
    "<tr>\n",
    "<td><span data-type=\"emphasis\" class=\"normal\" data-effect=\"normal\">65.95–67.95</span></td>\n",
    "<td>40</td>\n",
    "<td>\n",
    "$\\dfrac{40}{100}$\n",
    " = 0.40\n",
    "</td>\n",
    "</tr>\n",
    "\n",
    "<tr>\n",
    "<td><span data-type=\"emphasis\" class=\"normal\" data-effect=\"normal\">67.95–69.95</span></td>\n",
    "<td>17</td>\n",
    "<td>\n",
    "$\\dfrac{17}{100}$\n",
    " = 0.17\n",
    "</td>\n",
    "</tr>\n",
    "\n",
    "<tr>\n",
    "<td><span data-type=\"emphasis\" class=\"normal\" data-effect=\"normal\">69.95–71.95</span></td>\n",
    "<td>12</td>\n",
    "<td>\n",
    "$\\dfrac{12}{100}$\n",
    " = 0.12\n",
    "</td>\n",
    "</tr>\n",
    "\n",
    "<tr>\n",
    "<td><span data-type=\"emphasis\" class=\"normal\" data-effect=\"normal\">71.95–73.95</span></td>\n",
    "<td>7</td>\n",
    "<td>\n",
    "$\\dfrac{7}{100}$\n",
    " = 0.07\n",
    "</td>\n",
    "</tr>\n",
    "\n",
    "<tr>\n",
    "<td><span data-type=\"emphasis\" class=\"normal\" data-effect=\"normal\">73.95–75.95</span></td>\n",
    "<td>1</td>\n",
    "<td>\n",
    "$\\dfrac{1}{100}$\n",
    " = 0.01\n",
    "</td>\n",
    "</tr>\n",
    "\n",
    "<tr>\n",
    "<td/>\n",
    "<td><strong>Total = 100</strong></td>\n",
    "<td><strong>Total = 1.00</strong></td>\n",
    "<td/>\n",
    "</tr>\n",
    "\n",
    "</tbody></table>\n",
    "\n",
    "So, for example, a soccer player in the sample that is 64.5 inches tall will be counted in the group of athletes with heights between 63.95-65.95 inches."
   ]
  },
  {
   "cell_type": "markdown",
   "metadata": {},
   "source": [
    "## Bar Charts\n",
    "Once you have organized your data, it can be useful to present the data graphically. For qualitative or categorical data, **Bar charts** or **bar graphs** can be used to visualize the frequency or relative frequency of each category. In a bar chart, each category has a rectangular bar associated with it, where the height of the bar (or the width of the bar, for a horizontal bar chart) represents the frequency or relative frequency of the category. The bars in a bar chart are separated by a small space or gap.\n",
    "\n",
    "We can use R to construct a bar chart for us by specifying both the categories and their frequencies or relative frequencies. We can use the <code>barplot</code> function:\n",
    "\n",
    "```R\n",
    "barplot(height, names)\n",
    "```\n",
    "\n",
    "Here, <code>height</code> is a list of the heights (the frequencies or relative frequencies) of each bar, and <code>names</code> is the corresponding list of categories. The <code>height</code> list and the <code>names</code> list must be in the same order."
   ]
  },
  {
   "cell_type": "markdown",
   "metadata": {},
   "source": [
    "***"
   ]
  },
  {
   "cell_type": "markdown",
   "metadata": {},
   "source": [
    "\n",
    "### Example 1.5.1\n",
    "The population in Park City is made up of children, working-age adults, and retirees. The table below shows the three age groups, the number of people in the town from each age group, and the proportion (%) of people in each age group. Construct a bar graph showing the proportions.\n",
    "\n",
    "<table data-id=\"M01_Ch02_tbl011\" summary=\"Table 2.10  \">\n",
    "<caption>Table 5.4: Population in Park City by age group.</caption>\n",
    "<thead>\n",
    "<tr><th>Age groups</th><th>Number of people</th><th>Proportion of population</th></tr>\n",
    "</thead><tbody>\n",
    "<tr><td>Children</td>\t<td>67,059</td>\t<td>19%</td></tr>\n",
    "<tr><td>Working-age adults</td>\t<td>152,198</td>\t<td>43%</td></tr>\n",
    "<tr><td>Retirees</td>\t<td>131,662</td>\t<td>38%</td></tr>\n",
    "</tbody></table>\n",
    "\n",
    "#### Solution\n",
    "In this example, we have three categories of age groups (\"Children\", \"Working-age adults\", \"Retirees\"). We are given the frequency of each age group in the \"Number of people\" column and the relative frequency in the \"Proportion of the population\" column. We will use R to construct a bar graph of the relative frequencies of each category."
   ]
  },
  {
   "cell_type": "code",
   "execution_count": 1,
   "metadata": {},
   "outputs": [
    {
     "data": {
      "image/png": "[encoded data removed]",
      "text/plain": [
       "plot without title"
      ]
     },
     "metadata": {},
     "output_type": "display_data"
    }
   ],
   "source": [
    "#**ALT=Bar chart of data in table 5.4 generated by above R code**#\n",
    "age_groups = c(\"Children\", \"Working-age Adults\", \"Retirees\")\n",
    "proportions = c(19, 43, 38)\n",
    "\n",
    "barplot(height = proportions, names = age_groups)"
   ]
  },
  {
   "cell_type": "markdown",
   "metadata": {},
   "source": [
    "***"
   ]
  },
  {
   "cell_type": "markdown",
   "metadata": {},
   "source": [
    "\n",
    "### Example 1.5.2\n",
    "The columns in the table below contain: the race or ethnicity of students in U.S. Public Schools for the class of 2011, percentages for the Advanced Placement examine population for that class, and percentages for the overall student population. Create a bar graph with the student race or ethnicity (qualitative data) on the x-axis, and the Advanced Placement examinee population percentages on the y-axis.\n",
    "\n",
    "<table data-id=\"M01_Ch02_tbl012\" summary=\"Table 2.11  \">\n",
    "<caption>Table 5.5: Race/Ethnicity of AP Examinee population vs. Overall Student Population<thead>\n",
    "<tr>\n",
    "<th>Race/Ethnicity</th>\n",
    "<th>AP Examinee Population</th>\n",
    "<th>Overall Student Population</th>\n",
    "</tr>\n",
    "</thead><tbody>\n",
    "<tr>\n",
    "<td>1 = Asian, Asian American or Pacific Islander</td>\n",
    "<td>10.3%</td>\n",
    "<td>5.7%</td>\n",
    "</tr>\n",
    "<tr>\n",
    "<td>2 = Black or African American</td>\n",
    "<td>9.0%</td>\n",
    "<td>14.7%</td>\n",
    "</tr>\n",
    "<tr>\n",
    "<td>3 = Hispanic or Latino</td>\n",
    "<td>17.0%</td>\n",
    "<td>17.6%</td>\n",
    "</tr>\n",
    "<tr>\n",
    "<td>4 = American Indian or Alaska Native</td>\n",
    "<td>0.6%</td>\n",
    "<td>1.1%</td>\n",
    "</tr>\n",
    "<tr>\n",
    "<td>5 = White</td>\n",
    "<td>57.1%</td>\n",
    "<td>59.2%</td>\n",
    "</tr>\n",
    "<tr>\n",
    "<td>6 = Not reported/other</td>\n",
    "<td>6.0%</td>\n",
    "<td>1.7%</td>\n",
    "</tr>\n",
    "</tbody></table>\n",
    "\n",
    "#### Solution\n",
    "This table provides us with the relative frequecy of each ethnicity in two different populations: the population of all AP examinees and the overall student population. In this case, we will only use the data in the \"AP Examinee Population\" column to construct our bar chart; we will not use the \"Overall Student Population\" data in this example."
   ]
  },
  {
   "cell_type": "code",
   "execution_count": 1,
   "metadata": {},
   "outputs": [
    {
     "data": {
      "image/png": "[encoded data removed]",
      "text/plain": [
       "plot without title"
      ]
     },
     "metadata": {},
     "output_type": "display_data"
    }
   ],
   "source": [
    "#**ALT=Bar chart of data in table 5.5 generated by above R code**#\n",
    "race = c(1, 2, 3, 4, 5, 6)\n",
    "APproportion = c(10.3, 9.0, 17.0, 0.6, 57.1, 6.0)\n",
    "\n",
    "barplot(height = APproportion, names = race)"
   ]
  },
  {
   "cell_type": "markdown",
   "metadata": {},
   "source": [
    "***"
   ]
  },
  {
   "cell_type": "markdown",
   "metadata": {},
   "source": [
    "## Pie Charts"
   ]
  },
  {
   "cell_type": "markdown",
   "metadata": {},
   "source": [
    "Qualitative data can also be visualized using a pie chart. In a **pie chart**, a circle is sliced (like a pie) so that the number of categories in the data is equal to the number of slices, and the size of each slice is proportional to the corresponding category's quantity.\n",
    "\n",
    "We can create a pie chart in R using the <code>pie</code> function:\n",
    "\n",
    "```R\n",
    "pie(x, labels)\n",
    "```\n",
    "Here, <code>x</code> is a list of quantities for each category, and <code>labels</code> is a list of labels for each category. The two lists must be in the same order.\n",
    "\n",
    "Let's revisit <a href=\"#Example-5.1\">example 5.1</a>, but this time construct a pie chart of the data."
   ]
  },
  {
   "cell_type": "markdown",
   "metadata": {},
   "source": [
    "***"
   ]
  },
  {
   "cell_type": "markdown",
   "metadata": {},
   "source": [
    "### Example 1.5.3\n",
    "The population in Park City is made up of children, working-age adults, and retirees. The table below shows the three age groups, the number of people in the town from each age group, and the proportion (%) of people in each age group. Construct a pie chart of the data\n",
    "\n",
    "<table data-id=\"M01_Ch02_tbl011\" summary=\"Table 2.10  \">\n",
    "<caption>Table 5.6: Population in Park City by age group.</caption>\n",
    "<thead>\n",
    "<tr><th>Age groups</th><th>Number of people</th><th>Proportion of population</th></tr>\n",
    "</thead><tbody>\n",
    "<tr><td>Children</td>\t<td>67,059</td>\t<td>19%</td></tr>\n",
    "<tr><td>Working-age adults</td>\t<td>152,198</td>\t<td>43%</td></tr>\n",
    "<tr><td>Retirees</td>\t<td>131,662</td>\t<td>38%</td></tr>\n",
    "</tbody></table>\n",
    "\n",
    "#### Solution\n",
    "We use R to construct a pie chart."
   ]
  },
  {
   "cell_type": "code",
   "execution_count": 1,
   "metadata": {},
   "outputs": [
    {
     "data": {
      "image/png": "[encoded data removed]",
      "text/plain": [
       "plot without title"
      ]
     },
     "metadata": {},
     "output_type": "display_data"
    }
   ],
   "source": [
    "#**ALT=A pie chart of the data in table 5.6**#\n",
    "age_groups = c(\"Children\", \"Working-age Adults\", \"Retirees\")\n",
    "proportions = c(19, 43, 38)\n",
    "\n",
    "pie(x = proportions, labels = age_groups)"
   ]
  },
  {
   "cell_type": "markdown",
   "metadata": {},
   "source": [
    "***"
   ]
  },
  {
   "cell_type": "markdown",
   "metadata": {},
   "source": [
    "Compare the bar chart in <a href=\"#Example-5.1\">example 5.1</a> with the pie chart in <a href=\"#Example-5.3\">example 5.3</a>. Which do you think is easier to read? Notice that it is a little difficult to decide if the \"working-age adults\" category or the \"retirees\" category is larger with the pie chart, but it is immediately obvious which category is larger using the bar chart. This isn't just a quirk with this data: bar charts tend to be easier to read than pie charts.\n",
    "\n",
    "As another example, consider the pie charts and bar charts below. Notice how hard it is to compare the sizes of the categories in the pie charts; notice how much easier it is to compare the sizes of the categories in the corresponding bar charts."
   ]
  },
  {
   "cell_type": "code",
   "execution_count": 4,
   "metadata": {},
   "outputs": [
    {
     "data": {
      "image/png": "[encoded data removed]",
      "text/plain": [
       "Plot with title \"C\""
      ]
     },
     "metadata": {},
     "output_type": "display_data"
    }
   ],
   "source": [
    "#**ALT=Three pie charts and three corresponding bar charts**#\n",
    "#**HIDE_INPUT**#\n",
    "a <- matrix(c(17, 18, 20, 22, 23,\n",
    "                20, 20, 19, 21, 20,\n",
    "                23, 22, 20, 18, 17), nrow=3, byrow=T)\n",
    "  titles <- c(\"A\", \"B\", \"C\")\n",
    "  cols <- c(\"#173f5f\", \"#20639b\", \"#3caea3\", \"#f6d55c\", \"tomato2\")\n",
    "  \n",
    "  defaultmar <- par()$mar\n",
    "  layout(matrix(c(1,3,5,\n",
    "                  2,4,6), nrow=2, byrow=T), height=c(1,1))       \n",
    "  par(cex=1)\n",
    "  par(font=1)\n",
    "  par(las=1)\n",
    "  par(font.axis=1)\n",
    "  par(mgp=c(1,1,0))\n",
    "  \n",
    "  for (i in 1:nrow(a)) {\n",
    "    par(mar=c(0,0,2,0))\n",
    "    pie(a[i,], init=90, clockwise=T, col=cols, radius=0.8)\n",
    "    title(main=titles[i], line=0)\n",
    "    par(mar=defaultmar+c(-2,-1.5,-4,-0.5))\n",
    "    par(mgp=c(0,0.5,0))\n",
    "    barplot(a[i,], horiz=F, xlim=c(0,10), ylim=c(0,25), col=cols, border=1,\n",
    "            names.arg=1:5, space=0.8, axes=F)\n",
    "    par(mgp=c(0,1,0))\n",
    "  \n",
    "    \n",
    "    axis(2)\n",
    "  }\n"
   ]
  },
  {
   "cell_type": "markdown",
   "metadata": {},
   "source": [
    "While pie charts are still commonly used in media and in business, most visualization experts recommend against using pie charts in favor of other visualization tools, like bar charts."
   ]
  },
  {
   "cell_type": "markdown",
   "metadata": {},
   "source": [
    "***"
   ]
  },
  {
   "cell_type": "markdown",
   "metadata": {},
   "source": [
    "### Example 1.5.4"
   ]
  },
  {
   "cell_type": "code",
   "execution_count": null,
   "metadata": {},
   "outputs": [],
   "source": [
    "#**VID=hHDvzYoxWHI**#"
   ]
  },
  {
   "cell_type": "markdown",
   "metadata": {},
   "source": [
    "***"
   ]
  },
  {
   "cell_type": "markdown",
   "metadata": {},
   "source": [
    "## Histograms\n",
    "We apporach graphs for quantitative data similarly, though with a few important distinctions. \n",
    "\n",
    "First, with quantitative data, it is often up to the statistician how to group or categorize the data. For example, if we are gathering data on eye color (qualitative data), we naturally have a category of blue eyes and a category of brown eyes; there is no opportunity to adjust the categories. But if we are gathering data on the heights of adult males (quantitative data), the statistician could partition the data so they get a group of individuals 50-59 inches tall, or they could partition the data so they get a group of individuals 50-54 inches tall and another group of individuals 55-59 inches tall. \n",
    "\n",
    "Second, we can measure how far apart quantitative data is. It doesn't make sense to ask how far apart blue eyes are from brown eyes. But it does make sense to ask how far apart 50 inches is from 59 inches (they are 59 - 50 = 9 inches apart).\n",
    "\n",
    "A common way to visualize quantitative data is to use a histogram. A **histogram** is similar to a bar chart, but it is better at displaying quantitative data. Unlike a bar chart, a histogram consists of contiguous (adjoining) boxes so there is no gap between the bars. This helps emphasize the \"distance\" between quantitative data. A histogram has both a horizontal axis and a vertical axis. The horizontal axis is labeled with what the data represents (for instance, distance from your home to school). The vertical axis is labeled either frequency or relative frequency (or percent frequency or probability). The graph will have the same shape with either label. The histogram can give you the shape of the data, the center, and the spread of the data.\n",
    "\n",
    "We will use R to construct histograms. To construct a histogram in R, use the <code>hist</code> function:\n",
    "\n",
    "```R\n",
    "hist(x)\n",
    "```\n",
    "\n",
    "Here, <code>x</code> is the list of data we want a histogram of."
   ]
  },
  {
   "cell_type": "markdown",
   "metadata": {},
   "source": [
    "***"
   ]
  },
  {
   "cell_type": "markdown",
   "metadata": {},
   "source": [
    "\n",
    "### Example 5.5\n",
    "The following data are the heights (in inches to the nearest half inch) of 100 male semiprofessional soccer players. The heights are continuous data, since height is measured. \n",
    "\n",
    "60, 60.5, 61, 61, 61.5, 63.5, 63.5, 63.5, 64, 64, 64, 64, 64, 64, 64, 64.5, 64.5, 64.5, 64.5, 64.5, 64.5, 64.5, 64.5, 66, 66, 66, 66, 66, 66, 66, 66, 66, 66, 66.5, 66.5, 66.5, 66.5, 66.5, 66.5, 66.5,    66.5, 66.5, 66.5, 66.5, 67, 67, 67, 67, 67, 67, 67, 67, 67, 67, 67, 67, 67.5, 67.5, 67.5, 67.5, 67.5, 67.5, 68, 68, 69, 69, 69, 69, 69, 69, 69, 69, 69, 69, 69.5, 69.5, 69.5, 69.5, 69.5, 70, 70, 70, 70, 70, 70, 70.5, 70.5, 70.5, 71, 71, 71, 72, 72, 72, 72.5, 72.5, 73, 73.5, 74\n",
    "\n",
    "Construct a histogram of the data. Where do the data seem to be concentrated?\n",
    "\n",
    "#### Solution"
   ]
  },
  {
   "cell_type": "code",
   "execution_count": 5,
   "metadata": {},
   "outputs": [
    {
     "data": {
      "image/png": "[encoded data removed]",
      "text/plain": [
       "Plot with title \"Histogram of data\""
      ]
     },
     "metadata": {},
     "output_type": "display_data"
    }
   ],
   "source": [
    "#**ALT=Histogram of data in example 5.3 generated using R**#\n",
    "data <- c(60, 60.5, 61, 61, 61.5, 63.5, 63.5, 63.5, 64, 64, 64, 64, 64, 64, 64, 64.5, 64.5, 64.5, 64.5, 64.5, 64.5, 64.5, 64.5, 66, 66, 66, 66, 66, 66, 66, 66, 66, 66, 66.5, 66.5, 66.5, 66.5, 66.5, 66.5, 66.5, 66.5, 66.5, 66.5, 66.5, 67, 67, 67, 67, 67, 67, 67, 67, 67, 67, 67, 67, 67.5, 67.5, 67.5, 67.5, 67.5, 67.5, 68, 68, 69, 69, 69, 69, 69, 69, 69, 69, 69, 69, 69.5, 69.5, 69.5, 69.5, 69.5, 70, 70, 70, 70, 70, 70, 70.5, 70.5, 70.5, 71, 71, 71, 72, 72, 72, 72.5, 72.5, 73, 73.5, 74)\n",
    "\n",
    "hist(x = data)"
   ]
  },
  {
   "cell_type": "markdown",
   "metadata": {},
   "source": [
    "**Note:** For histograms in R, each bar represents the frequency of values that lie between the endpoints to left and right of the bar, but *not including* the endpoint to the left and *including* the value to the right. For example, the bar between 70 and 72 counts only the data 70.5, 70.5, 70.5, 71, 71, 71, 72, 72, 72. So it includes the data points of value 72 (the right endpoint) but not the data points of value 70 (the left endpoint). The one exception to this rule is the bar on the far left, which includes both endpoints.\n",
    "\n",
    "From the histogram, we can see that most of the players' heights are between 64 inches and 70 inches.\n"
   ]
  },
  {
   "cell_type": "markdown",
   "metadata": {},
   "source": [
    "***"
   ]
  },
  {
   "cell_type": "markdown",
   "metadata": {},
   "source": [
    "### Example 5.6\n",
    "Create a histogram for the following data: the number of books bought by 50 part-time college students at ABC College. The number of books is discrete data, since books are counted. \n",
    "\n",
    "0, 0, 1, 1, 1, 1, 1, 1, 1, 1, 1, 2, 2, 2, 2, 2, 2, 2, 2, 2, 2, 3, 3, 3, 3, 3, 3, 3, 3, 3, 3, 3, 3, 3, 3, 3, 3, 4, 4, 4, 4, 4, 4, 5, 5, 5, 5, 5, 6, 6\n",
    "\n",
    "#### Solution"
   ]
  },
  {
   "cell_type": "code",
   "execution_count": 6,
   "metadata": {},
   "outputs": [
    {
     "data": {
      "image/png": "[encoded data removed]",
      "text/plain": [
       "Plot with title \"Histogram of books\""
      ]
     },
     "metadata": {},
     "output_type": "display_data"
    }
   ],
   "source": [
    "#**ALT=Histogram of data in example 5.4 generated using R**#\n",
    "books <- c(0, 0, 1, 1, 1, 1, 1, 1, 1, 1, 1, 2, 2, 2, 2, 2, 2, 2, 2, 2, 2, 3, 3, 3, 3, 3, 3, 3, 3, 3, 3, 3, 3, 3, 3, 3, 3, 4, 4, 4, 4, 4, 4, 5, 5, 5, 5, 5, 6, 6)\n",
    "\n",
    "hist(x = books)"
   ]
  },
  {
   "cell_type": "markdown",
   "metadata": {},
   "source": [
    "***"
   ]
  },
  {
   "cell_type": "markdown",
   "metadata": {},
   "source": [
    "<small style=\"color:gray\">The illustration with three pie charts and three bar charts was adapted from <a href=\"https://commons.wikimedia.org/wiki/File:Piecharts.svg\">an image created by Wikipedia user Shutz</a>. It is licensed under the <a href=\"https://creativecommons.org/licenses/by/1.0/deed.en\">CC BY 1.0 license</a>.</small>\n",
    "\n",
    "<small style=\"color:gray\">**License:** This work is licensed under a [Creative Commons Attribution 4.0 International](https://creativecommons.org/licenses/by/4.0/) license.</small>\n",
    "\n",
    "<small style=\"color:gray\">**Author:** Taylor Baldwin, Mt. San Jacinto College</small>\n",
    "\n",
    "<small style=\"color:gray\">**Adapted From:** *Introductory Statistics*, by Barbara Illowsky and Susan Dean. Access for free at [https://openstax.org/books/introductory-statistics/pages/1-introduction](https://openstax.org/books/introductory-statistics/pages/1-introduction).</small>"
   ]
  }
 ],
 "metadata": {
  "kernelspec": {
   "display_name": "R",
   "language": "R",
   "name": "ir"
  },
  "language_info": {
   "codemirror_mode": "r",
   "file_extension": ".r",
   "mimetype": "text/x-r-source",
   "name": "R",
   "pygments_lexer": "r",
   "version": "3.6.1"
  }
 },
 "nbformat": 4,
 "nbformat_minor": 2
}
