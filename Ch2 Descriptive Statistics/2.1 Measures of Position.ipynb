{
 "cells": [
  {
   "cell_type": "markdown",
   "metadata": {},
   "source": [
    "# 2.1 Measures of Position #"
   ]
  },
  {
   "cell_type": "markdown",
   "metadata": {},
   "source": [
    "## Objectives ##\n",
    "- Perform descriptive data analysis on collected data including calculation and interpretation  of measures of central tendency, measures of variation, measures of position, detection of outliers, and applying the Empirical Rule to bell-shaped data.\n",
    "- Create, analyze, and interpret statistical graphs including histograms, dot plots, stem-and-leaf plots, box plots, and scatter plots.\n",
    "- Analyze an application in the disciplines business, social sciences, psychology, life sciences, health science, and education, and utilize the correct statistical processes to arrive at a solution."
   ]
  },
  {
   "cell_type": "markdown",
   "metadata": {},
   "source": [
    "## Percentiles ##\n",
    "A common measure of position is **percentiles**. Percentiles divide ordered data into hundredths. To score in the 90th percentile of an exam does not mean, necessarily, that you received 90% on a test. It means that 90% of test scores are the same or less than your score and 10% of the test scores are the same or greater than your test score.\n",
    "\n",
    "Percentiles are useful for comparing values. For this reason, universities and colleges use percentiles extensively. One instance in which colleges and universities use percentiles is when SAT results are used to determine a minimum testing score that will be used as an acceptance factor. For example, suppose Duke accepts SAT scores at or above the 75th percentile. This means Duke will only accept students with an SAT scores higher than at least 75% of all SAT scores.\n",
    "\n",
    "Percentiles are mostly used with very large populations. Therefore, if you were to say that 90% of the test scores are less (and not the same or less) than your score, it would be acceptable because removing one particular data value is not significant in a very large population.\n",
    "\n",
    "To calculate percentiles by hand, the data must be ordered from smallest to largest. But we can use R to quickly find percentiles without ordering the data using the <code>quantile</code> function. The term **quantile** is a slight generalization of percentile, but in practice we often use the terms quantile and percentile interchangeably. The syntax for the <code>quantile</code> function is:\n",
    "\n",
    "```R\n",
    "quantile(x, probs)\n",
    "```\n",
    "In this case, <code>x</code> is the list of data that we want the percentiles of and <code>probs</code> is the percentage or list of percentages, in decimal form, corresponding to our percentiles. The name <code>probs</code> is an abbreviation for 'probabilities.' We will learn more about why that abbreviation is appropriate later.\n",
    "\n",
    "The following example illustrates how to use the <code>quantile</code> function to find a percentile."
   ]
  },
  {
   "cell_type": "markdown",
   "metadata": {},
   "source": [
    "***"
   ]
  },
  {
   "cell_type": "markdown",
   "metadata": {},
   "source": [
    "\n",
    "### Example 2.1.1 ###\n",
    "\n",
    "Listed are 29 ages for Academy Award winning best actors. Find the 73rd percentile. Explain, in words, what this value represents.\n",
    "\n",
    "<center>\n",
    "18, 21, 22, 25, 26, 27, 29, 30, 31, 33, 36, 37, 41, 42, 47, 52, 55, 57, 58, 59, 62, 65, 67, 71, 72, 73, 74, 76, 77\n",
    "</center>\n",
    "\n",
    "#### Solution ####\n",
    "We will use the <code>quantile</code> function in R with <code>probs = 0.73</code>, since 73% = 0.73. Note that it is important to use the decimal form of the percentage; if we use <code>probs = 73</code>, we will get an error."
   ]
  },
  {
   "cell_type": "code",
   "execution_count": 1,
   "metadata": {
    "scrolled": true
   },
   "outputs": [
    {
     "data": {
      "text/html": [
       "<strong>73%:</strong> 63.32"
      ],
      "text/latex": [
       "\\textbf{73\\textbackslash{}\\%:} 63.32"
      ],
      "text/markdown": [
       "**73%:** 63.32"
      ],
      "text/plain": [
       "  73% \n",
       "63.32 "
      ]
     },
     "metadata": {},
     "output_type": "display_data"
    }
   ],
   "source": [
    "ages = c(18, 21, 22, 25, 26, 27, 29, 30, 31, 33, 36, 37, 41, 42, 47, 52, 55, 57, 58, 59, 62, 65, 67, 71, 72, 73, 74, 76, 77)\n",
    "\n",
    "quantile(ages, probs = 0.73)"
   ]
  },
  {
   "cell_type": "markdown",
   "metadata": {},
   "source": [
    "So the 73rd percentile is 63.32. That means that of the 29 Academy Award winning best actors in our sample, 73% of them were younger than 63.32 years old.\n"
   ]
  },
  {
   "cell_type": "markdown",
   "metadata": {},
   "source": [
    "***"
   ]
  },
  {
   "cell_type": "markdown",
   "metadata": {},
   "source": [
    "## Quartiles\n",
    "\n",
    "Quartiles are special percentiles that separate the data into quarters. \n",
    "\n",
    "- The first quartile, $Q_1$, is the same as the 25th percentile. \n",
    "- The second quartile, $Q_2$, is the same as the 50th percentile. \n",
    "- The third quartile, $Q_3$, is the same as the 75th percentile.\n",
    "\n",
    "The second quartile, $Q_2$, is more often called the **median** and represented by the variable $M$. It is a number that measures the \"center\" of the data. You can think of the median as the \"middle value,\" but it does not actually have to be one of the observed values. It is a number that separates ordered data into halves. Half the values are the same value or smaller than the median, and half the values are the same value or larger than the median. For example, consider the following data.\n",
    "\n",
    "<center>\n",
    "1, 11.5, 6, 7.2, 4, 8, 9, 10, 6.8, 8.3, 2, 2, 10, 1 \n",
    "</center>\n",
    "\n",
    "Ordered from smallest to largest: \n",
    "\n",
    "<center>\n",
    "1, 1, 2, 2, 4, 6, 6.8, 7.2, 8, 8.3, 9, 10, 10, 11.5\n",
    "</center>\n",
    "\n",
    "Since there are 14 observations, the median is between the seventh value, 6.8, and the eighth value, 7.2. To find the median, average the two values together by adding them and dividing by 2.\n",
    "\n",
    "$$\\frac{6.8 + 7.2}{2} = 7$$\n",
    "\n",
    "The median is 7. Half of the values are smaller than 7 and half of the values are larger than 7.\n",
    "\n",
    "Let's confirm the median is 7 using R. Since the median is the 50th percentile, we will use <code>probs = 0.50</code>, since 50% = 0.50."
   ]
  },
  {
   "cell_type": "code",
   "execution_count": 1,
   "metadata": {},
   "outputs": [
    {
     "data": {
      "text/html": [
       "<strong>50%:</strong> 7"
      ],
      "text/latex": [
       "\\textbf{50\\textbackslash{}\\%:} 7"
      ],
      "text/markdown": [
       "**50%:** 7"
      ],
      "text/plain": [
       "50% \n",
       "  7 "
      ]
     },
     "metadata": {},
     "output_type": "display_data"
    }
   ],
   "source": [
    "data = c(1, 11.5, 6, 7.2, 4, 8, 9, 10, 6.8, 8.3, 2, 2, 10, 1)\n",
    "\n",
    "quantile(data, probs = 0.50)"
   ]
  },
  {
   "cell_type": "markdown",
   "metadata": {},
   "source": [
    "From our R calculation, we see that the median, or the 50th percentile, is 7. This matches the result we obtained from our calculation by hand above. But recall that when we calculated the median by hand, we had to first order the data from smallest to largest. By contrast, we were able to leave the data we plugged into R unordered.\n",
    "\n",
    "But the <code>quantile</code> function allows us to quickly and easily find any quartile, not just the median."
   ]
  },
  {
   "cell_type": "markdown",
   "metadata": {},
   "source": [
    "***"
   ]
  },
  {
   "cell_type": "markdown",
   "metadata": {},
   "source": [
    "\n",
    "### Example 2.1.2 ###\n",
    "For the following 13 real estate prices, calculate the quartiles.\n",
    "\n",
    "<center>\n",
    "\\$389,950; \\$230,500; \\$158,000; \\$479,000; \\$639,000; \\$114,950; \\$5,500,000; \\$387,000; \\$659,000; \\$529,000; \\$575,000; \\$488,800; \\$1,095,000\n",
    "</center>\n",
    "\n",
    "#### Solution ####\n",
    "We will use the <code>quantile</code> function to calculate our quartiles. \n",
    "- To calculate our first quartile $Q_1$, we will use <code>probs = 0.25</code>. \n",
    "- To calculate our median $M$ or second quartile $Q_2$, we will use <code>probs = 0.50</code>.\n",
    "- To calculate our third quartile $Q_3$, we will use <code>probs = 0.75</code>.\n",
    "\n",
    "But notice that our list of real estate prices above isn't ready to be input into R: it won't understand the dollar sign, and we must use a comma to separate values.\n",
    "\n",
    "<center>\n",
    "389950, 230500, 158000, 479000, 639000, 114950, 5500000, 387000, 659000, 529000, 575000, 488800, 1095000\n",
    "</center>\n",
    "\n",
    "**Note:** R will not allow the use of a comma to mark the thousands place of a number; commas are only used in R to separate values or items in a list. For example, if you type 389,950 into R, it will interpret it as a list of two numbers: 389 and 950. Instead, we omit the comma and type simply 389950."
   ]
  },
  {
   "cell_type": "code",
   "execution_count": 1,
   "metadata": {},
   "outputs": [
    {
     "data": {
      "text/html": [
       "<strong>25%:</strong> 387000"
      ],
      "text/latex": [
       "\\textbf{25\\textbackslash{}\\%:} 387000"
      ],
      "text/markdown": [
       "**25%:** 387000"
      ],
      "text/plain": [
       "   25% \n",
       "387000 "
      ]
     },
     "metadata": {},
     "output_type": "display_data"
    },
    {
     "data": {
      "text/html": [
       "<strong>50%:</strong> 488800"
      ],
      "text/latex": [
       "\\textbf{50\\textbackslash{}\\%:} 488800"
      ],
      "text/markdown": [
       "**50%:** 488800"
      ],
      "text/plain": [
       "   50% \n",
       "488800 "
      ]
     },
     "metadata": {},
     "output_type": "display_data"
    },
    {
     "data": {
      "text/html": [
       "<strong>75%:</strong> 639000"
      ],
      "text/latex": [
       "\\textbf{75\\textbackslash{}\\%:} 639000"
      ],
      "text/markdown": [
       "**75%:** 639000"
      ],
      "text/plain": [
       "   75% \n",
       "639000 "
      ]
     },
     "metadata": {},
     "output_type": "display_data"
    }
   ],
   "source": [
    "prices = c(389950, 230500, 158000, 479000, 639000, 114950, 5500000, 387000, 659000, 529000, 575000, 488800, 1095000)\n",
    "\n",
    "#First Quartile\n",
    "quantile(prices, probs = 0.25)\n",
    "\n",
    "#Median/Second Quartile\n",
    "quantile(prices, probs = 0.50)\n",
    "\n",
    "#Third Quartile\n",
    "quantile(prices, probs = 0.75)"
   ]
  },
  {
   "cell_type": "markdown",
   "metadata": {},
   "source": [
    "So $Q_1 = \\$387,000$, $Q_2 = \\$488,800$, and $Q_3 = \\$639,000$.\n",
    "\n",
    "We can calculate the same values with less code by using a list of percentiles instead of calculating each percentile individually."
   ]
  },
  {
   "cell_type": "code",
   "execution_count": 1,
   "metadata": {},
   "outputs": [
    {
     "data": {
      "text/html": [
       "<dl class=dl-horizontal>\n",
       "\t<dt>25%</dt>\n",
       "\t\t<dd>387000</dd>\n",
       "\t<dt>50%</dt>\n",
       "\t\t<dd>488800</dd>\n",
       "\t<dt>75%</dt>\n",
       "\t\t<dd>639000</dd>\n",
       "</dl>\n"
      ],
      "text/latex": [
       "\\begin{description*}\n",
       "\\item[25\\textbackslash{}\\%] 387000\n",
       "\\item[50\\textbackslash{}\\%] 488800\n",
       "\\item[75\\textbackslash{}\\%] 639000\n",
       "\\end{description*}\n"
      ],
      "text/markdown": [
       "25%\n",
       ":   38700050%\n",
       ":   48880075%\n",
       ":   639000\n",
       "\n"
      ],
      "text/plain": [
       "   25%    50%    75% \n",
       "387000 488800 639000 "
      ]
     },
     "metadata": {},
     "output_type": "display_data"
    }
   ],
   "source": [
    "prices = c(389950, 230500, 158000, 479000, 639000, 114950, 5500000, 387000, 659000, 529000, 575000, 488800, 1095000)\n",
    "quartiles = c(0.25, 0.50, 0.75)\n",
    "\n",
    "#All Quartiles\n",
    "quantile(prices, probs = quartiles)"
   ]
  },
  {
   "cell_type": "markdown",
   "metadata": {},
   "source": [
    "So we deduce that:\n",
    "- About 25% of the real estate prices in our sample are less than $Q_1 = \\$387,000$.\n",
    "- About 25% of the real estate prices in our sample are between $Q_1 = \\$387,000$ and $Q_2 = \\$488,800$.\n",
    "- About 25% of the real estate prices in our sample are between $Q_2 = \\$488,800$ and $Q_3 = \\$639,000$.\n",
    "- About 25% of the real estate prices in our sample are greater than $Q_3 = \\$639,000$.\n",
    "\n",
    "The quartiles quartered the data into groups each containing 25% of the data points.\n",
    "\n"
   ]
  },
  {
   "cell_type": "markdown",
   "metadata": {},
   "source": [
    "***"
   ]
  },
  {
   "cell_type": "markdown",
   "metadata": {},
   "source": [
    "### Example 2.1.3"
   ]
  },
  {
   "cell_type": "code",
   "execution_count": null,
   "metadata": {},
   "outputs": [],
   "source": [
    "#**VID=1x5rbOrDvM4**#"
   ]
  },
  {
   "cell_type": "markdown",
   "metadata": {},
   "source": [
    "***"
   ]
  },
  {
   "cell_type": "markdown",
   "metadata": {},
   "source": [
    "## Box Plots ##\n",
    "**Box plots** (also called **box-and-whisker plots** or **box-whisker plots**) give a good graphical image of the concentration of the data. They also show how far the extreme values are from most of the data. A box plot is constructed from five values: the minimum value, the first quartile, the median, the third quartile, and the maximum value. We use these values to compare how close other data values are to them.\n",
    "\n",
    "To construct a box plot, use a horizontal or vertical number line and a rectangular box. The smallest and largest data values label the endpoints of the axis. The first quartile marks one end of the box and the third quartile marks the other end of the box. **Approximately the middle 50 percent of the data fall inside the box.** The \"whiskers\" extend from the ends of the box to the smallest and largest data values. The median or second quartile can be between the first and third quartiles, or it can be one, or the other, or both. The box plot gives a good, quick picture of the data.\n",
    "\n",
    "**Note:** You may encounter box-and-whisker plots that have dots marking outlier values. In those cases, the whiskers extend only to the maximum and minimum values that are not outliers.\n",
    "\n",
    "We can construct a boxplot in R using the boxplot function:\n",
    "\n",
    "```R\n",
    "boxplot(x)\n",
    "```\n",
    "where <code>x</code> is the list of data we want to create a boxplot for.\n",
    "\n",
    "Consider this dataset.\n",
    "\n",
    "<center>\n",
    "    1, 2, 2, 3, 5, 7, 9, 9, 11, 12, 15\n",
    "</center>\n",
    "\n",
    "We can easily find the quartiles for this data using R:"
   ]
  },
  {
   "cell_type": "code",
   "execution_count": 1,
   "metadata": {},
   "outputs": [
    {
     "data": {
      "text/html": [
       "<dl class=dl-horizontal>\n",
       "\t<dt>0%</dt>\n",
       "\t\t<dd>1</dd>\n",
       "\t<dt>25%</dt>\n",
       "\t\t<dd>2.5</dd>\n",
       "\t<dt>50%</dt>\n",
       "\t\t<dd>7</dd>\n",
       "\t<dt>75%</dt>\n",
       "\t\t<dd>10</dd>\n",
       "\t<dt>100%</dt>\n",
       "\t\t<dd>15</dd>\n",
       "</dl>\n"
      ],
      "text/latex": [
       "\\begin{description*}\n",
       "\\item[0\\textbackslash{}\\%] 1\n",
       "\\item[25\\textbackslash{}\\%] 2.5\n",
       "\\item[50\\textbackslash{}\\%] 7\n",
       "\\item[75\\textbackslash{}\\%] 10\n",
       "\\item[100\\textbackslash{}\\%] 15\n",
       "\\end{description*}\n"
      ],
      "text/markdown": [
       "0%\n",
       ":   125%\n",
       ":   2.550%\n",
       ":   775%\n",
       ":   10100%\n",
       ":   15\n",
       "\n"
      ],
      "text/plain": [
       "  0%  25%  50%  75% 100% \n",
       " 1.0  2.5  7.0 10.0 15.0 "
      ]
     },
     "metadata": {},
     "output_type": "display_data"
    }
   ],
   "source": [
    "data = c(1, 2, 2, 3, 5, 7, 9, 9, 11, 12, 15)\n",
    "quartiles = c(0.0, 0.25, 0.5, 0.75, 1.00)\n",
    "\n",
    "quantile(data, probs = quartiles)"
   ]
  },
  {
   "cell_type": "markdown",
   "metadata": {},
   "source": [
    "Note that in addition to the quartiles, we also found the 0th percentile (the minimum value of the data) and the 100th percentile (the maximum value of the data). We can use these values to check our box plot as the whiskers of the box plot will extend to the minimum value and the maximum vale of our data.\n",
    "\n",
    "To construct the box plot is simple."
   ]
  },
  {
   "cell_type": "code",
   "execution_count": 2,
   "metadata": {},
   "outputs": [
    {
     "data": {
      "image/png": "[encoded data removed]",
      "text/plain": [
       "plot without title"
      ]
     },
     "metadata": {},
     "output_type": "display_data"
    }
   ],
   "source": [
    "#**ALT=A box plot of the above data.**#\n",
    "boxplot(data)\n"
   ]
  },
  {
   "cell_type": "markdown",
   "metadata": {},
   "source": [
    "Observe that:\n",
    "- The bottom whisker of our box plot begins as the minimum value of 1. \n",
    "- The bottom of the box is level with $Q_1 = 2.5$.\n",
    "- The center line in the box is level with the median $M = Q_2 = 7$.\n",
    "- The top of the box is level with $Q_3 = 10$.\n",
    "- The top whisker ends at the maximum value of 15.\n",
    "\n",
    "With a box plot, we can visualize the four regions of the data partitioned by its quartiles. Thus, the box plot gives us insight into how our data is spread out. For example, we can see that the 25% of the data between $Q_1$ and $Q_2$ (the region in the bottom portion of the box) is much more spread out than the 25% of the data between the minimum value and $Q_1$ (the region in the bottom whisker).\n",
    "\n",
    "**Note:** Sometimes there will be a slight difference between the quartile values we obtain in the <code>quantile</code> function and the partition boundaries on the box plot we obtain using the <code>boxplot</code> function. This is due to small differences in the way the <code>quantile</code> function and the <code>boxplot</code> function calculate $Q_1$ and $Q_3$. In practice, this small difference usually doesn't matter as both still partition the data into regions containing *about* 25% of the data."
   ]
  },
  {
   "cell_type": "markdown",
   "metadata": {},
   "source": [
    "***"
   ]
  },
  {
   "cell_type": "markdown",
   "metadata": {},
   "source": [
    "\n",
    "### Example 2.1.4 ###\n",
    "The following data are the heights of 40 students in a statistics class. Construct a box plot using R. In which quarter of the data is the spread of the data the smallest? In which quarter of the data is the spread of the data the largest?\n",
    "<center>\n",
    "59, 60, 61, 62, 62, 63, 63, 64, 64, 64, 65, 65, 65, 65, 65, 65, 65, 65, 65, 66, 66, 67, 67, 68, 68, 69, 70, 70, 70, 70, 70, 71, 71, 72, 72, 73, 74, 74, 75, 77\n",
    "    </center>\n",
    "    \n",
    "#### Solution ####\n",
    "Simply construct a box plot of the data."
   ]
  },
  {
   "cell_type": "code",
   "execution_count": 1,
   "metadata": {},
   "outputs": [
    {
     "data": {
      "image/png": "[encoded data removed]",
      "text/plain": [
       "plot without title"
      ]
     },
     "metadata": {},
     "output_type": "display_data"
    }
   ],
   "source": [
    "#**ALT=A box plot of the data from example 1.4**#\n",
    "heights = c(59, 60, 61, 62, 62, 63, 63, 64, 64, 64, 65, 65, 65, 65, 65, 65, 65, 65, 65, 66, 66, 67, 67, 68, 68, 69, 70, 70, 70, 70, 70, 71, 71, 72, 72, 73, 74, 74, 75, 77)\n",
    "\n",
    "boxplot(heights)"
   ]
  },
  {
   "cell_type": "markdown",
   "metadata": {},
   "source": [
    "From the box plot, we can see that the region between the first quartile $Q_1$ and the median $M = Q_2$ has the smallest spread of data, and the region between the third quartile $Q_3$ and the maximum value has the largest spread of data.\n"
   ]
  },
  {
   "cell_type": "markdown",
   "metadata": {},
   "source": [
    "***"
   ]
  },
  {
   "cell_type": "markdown",
   "metadata": {},
   "source": [
    "By providing the <code>boxplot</code> function with multiple sets of data, we can generate multiple box plots side-by-side. This is useful for comparing how different data sets are distributed."
   ]
  },
  {
   "cell_type": "markdown",
   "metadata": {},
   "source": [
    "***"
   ]
  },
  {
   "cell_type": "markdown",
   "metadata": {},
   "source": [
    "### Example 2.1.5\n",
    "Use R to construct side-by-side boxplots for the two sets of data below. Which data set has the larger spread of data?\n",
    "\n",
    "Data set 1:\n",
    "64, 73, 101.3, 71.1, 94, 85.5, 99.9, 42, 92.4, 103, 54.7, 72.5, 101.9, 86.4, 47.2, 71.5, 71\n",
    "\n",
    "Data set 2:\n",
    "56.8, 71, 49, 69.4, 67.6, 71, 68.5, 61.1, 50.9, 71, 71, 71, 72, 72, 71, 64, 67.2, 52.5, 71, 69, 72, 71.3, 58.3, 71, 71\n",
    "\n",
    "\n",
    "#### Solution\n",
    "We will create two box plots side-by-side, one for each set of data."
   ]
  },
  {
   "cell_type": "code",
   "execution_count": 1,
   "metadata": {},
   "outputs": [
    {
     "data": {
      "image/png": "[encoded data removed]",
      "text/plain": [
       "plot without title"
      ]
     },
     "metadata": {},
     "output_type": "display_data"
    }
   ],
   "source": [
    "#**ALT=Two boxplots, one each for the two data sets in example 1.5**#\n",
    "data1 = c(64, 73, 101.3, 71.1, 94, 85.5, 99.9, 42, 92.4, 103, 54.7, 72.5, 101.9, 86.4, 47.2, 71.5, 71)\n",
    "data2 = c(56.8, 71, 49, 69.4, 67.6, 71, 68.5, 61.1, 50.9, 71, 71, 71, 72, 72, 71, 64, 67.2, 52.5, 71, 69, 72, 71.3, 58.3, 71, 71)\n",
    "\n",
    "boxplot(data1, data2)"
   ]
  },
  {
   "cell_type": "markdown",
   "metadata": {},
   "source": [
    "By examining the box plots, we quickly see that the data in data set 1 is much more spread out than the data in data set 2."
   ]
  },
  {
   "cell_type": "markdown",
   "metadata": {},
   "source": [
    "***"
   ]
  },
  {
   "cell_type": "markdown",
   "metadata": {},
   "source": [
    "<small style=\"color:gray\"><b>License:</b> This work is licensed under a [Creative Commons Attribution 4.0 International](https://creativecommons.org/licenses/by/4.0/) license.</small>\n",
    "\n",
    "<small style=\"color:gray\"><b>Author:</b> Taylor Baldwin, Mt. San Jacinto College</small>\n",
    "\n",
    "<small style=\"color:gray\"><b>Adapted From:</b> <i>Introductory Statistics</i>, by Barbara Illowsky and Susan Dean. Access for free at [https://openstax.org/books/introductory-statistics/pages/1-introduction](https://openstax.org/books/introductory-statistics/pages/1-introduction).</small>"
   ]
  }
 ],
 "metadata": {
  "kernelspec": {
   "display_name": "R",
   "language": "R",
   "name": "ir"
  },
  "language_info": {
   "codemirror_mode": "r",
   "file_extension": ".r",
   "mimetype": "text/x-r-source",
   "name": "R",
   "pygments_lexer": "r",
   "version": "3.6.1"
  }
 },
 "nbformat": 4,
 "nbformat_minor": 2
}
