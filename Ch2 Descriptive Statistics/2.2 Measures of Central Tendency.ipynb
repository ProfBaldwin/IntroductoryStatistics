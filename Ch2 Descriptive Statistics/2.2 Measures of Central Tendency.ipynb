{
 "cells": [
  {
   "cell_type": "markdown",
   "metadata": {},
   "source": [
    "# 2.2 Measures of Central Tendency #"
   ]
  },
  {
   "cell_type": "markdown",
   "metadata": {},
   "source": [
    "## Objectives ##\n",
    "- Perform descriptive data analysis on collected data including calculation and interpretation of measures of central tendency, measures of variation, measures of position, detection of outliers, and applying the Empirical Rule to bell-shaped data.\n",
    "- Estimate population parameters using both point estimates and confidence interval estimates using both the normal and the Student $t$-distribution.\n",
    "- Analyze an application in the disciplines business, social sciences, psychology, life sciences, health science, and education, and utilize the correct statistical processes to arrive at a solution."
   ]
  },
  {
   "cell_type": "markdown",
   "metadata": {},
   "source": [
    "## Mean and Median ##\n",
    "The \"center\" of a data set is also a way of describing location. The two most widely used measures of the \"center\" of the data are the **mean** (average) and the **median**. To calculate the mean weight of 50 people, add the 50 weights together and divide by 50. To find the median weight of the 50 people, order the data and find the number that splits the data into two equal parts. The median is generally a better measure of the center when there are extreme values or outliers because it is not affected by the precise numerical values of the outliers. The mean is the most common measure of the center.\n",
    "\n",
    "**Note:** The words “mean” and “average” are often used interchangeably. The substitution of one word for the other is common practice. The technical term is “arithmetic mean” and “average” is technically a center location. However, in practice among non-statisticians, “average\" is commonly accepted for “arithmetic mean.”\n",
    "\n",
    "When each value in the data set is not unique, the mean can be calculated by multiplying each distinct value by its frequency and then dividing the sum by the total number of data values. The letter used to represent the sample mean is an x with a bar over it (pronounced “x bar”): $\\bar{x}$.\n",
    "\n",
    "The Greek letter $\\mu$ (pronounced \"mew\" and spelled in English \"mu\") represents the population mean. One of the requirements for the sample mean to be a good estimate of the population mean is for the sample taken to be truly random.\n",
    "\n",
    "To see that both ways of calculating the mean are the same, consider the sample:\n",
    "<center>\n",
    "    1, 1, 1, 2, 2, 3, 4, 4, 4, 4, 4\n",
    "</center>\n",
    "<br/>\n",
    "\n",
    "$$ \\bar{x} = \\frac{1 + 1 + 1 + 2 + 2 + 3 + 4 + 4 + 4 + 4 + 4}{11} = 2.727$$\n",
    "<br/>\n",
    "\n",
    "$$ \\bar{x} = \\frac{3(1) + 2(2) + 1(3) + 5(4)}{11} = 2.727$$\n",
    "<br/>\n",
    "\n",
    "In the second calculation, the frequencies are 3, 2, 1, and 5 since the data contains 3 ones, 2 twos, 1 three, and 5 fours.\n",
    "\n",
    "In R, these calculations look like:"
   ]
  },
  {
   "cell_type": "code",
   "execution_count": 1,
   "metadata": {},
   "outputs": [
    {
     "data": {
      "text/html": [
       "2.72727272727273"
      ],
      "text/latex": [
       "2.72727272727273"
      ],
      "text/markdown": [
       "2.72727272727273"
      ],
      "text/plain": [
       "[1] 2.727273"
      ]
     },
     "metadata": {},
     "output_type": "display_data"
    }
   ],
   "source": [
    "xbar = (1 + 1 + 1 + 2 + 2 + 3 + 4 + 4 + 4 + 4 + 4)/11\n",
    "xbar"
   ]
  },
  {
   "cell_type": "code",
   "execution_count": 1,
   "metadata": {},
   "outputs": [
    {
     "data": {
      "text/html": [
       "2.72727272727273"
      ],
      "text/latex": [
       "2.72727272727273"
      ],
      "text/markdown": [
       "2.72727272727273"
      ],
      "text/plain": [
       "[1] 2.727273"
      ]
     },
     "metadata": {},
     "output_type": "display_data"
    }
   ],
   "source": [
    "xbar = (3*1 + 2*2 + 1*3 + 5*4)/11\n",
    "xbar"
   ]
  },
  {
   "cell_type": "markdown",
   "metadata": {},
   "source": [
    "**Note**: In each case, we first calculate the mean and store the value in the variable <code>xbar</code>. To have the computer display the value that we stored in <code>xbar</code>, we simply type <code>xbar</code> by itself on the next line.\n",
    "\n",
    "Observe that all we do to calculate the mean is add all the data values together, then divide by the number of data values. This concept can be more succinctly expressed using the formula\n",
    "\n",
    "$$ \\bar{x} = \\frac{\\sum x}{n} $$\n",
    "\n",
    "We use $\\sum$ (the capital Greek letter sigma) when we want to add up or find the sum of values. In this case, the formula is telling us to add up all the $x$'s, where we use $x$ as a placeholder for our data values. Then we divide the sum of $x$'s by $n$, where $n$ is the number of data values we have. Note, though we've used the sample mean $\\bar{x}$ in the formula, this is the same formula we use to calculate the population mean $\\mu$.\n",
    "\n",
    "R makes this easy. We can use the <code>sum</code> function to add up the values in a list, which gives us $\\sum x$. And we can use the <code>length</code> function to find out how many numbers are in a list, which give us $n$. Both the <code>sum</code> function and the <code>length</code> function have just one argument:\n",
    "\n",
    "```R\n",
    "sum(x)\n",
    "```\n",
    "\n",
    "```R\n",
    "length(x)\n",
    "```\n",
    "\n",
    "In both cases, <code>x</code> is a list of data values.\n",
    "\n",
    "So for the above sample data, we can calculate the mean using R as follows:"
   ]
  },
  {
   "cell_type": "code",
   "execution_count": 1,
   "metadata": {},
   "outputs": [
    {
     "data": {
      "text/html": [
       "2.72727272727273"
      ],
      "text/latex": [
       "2.72727272727273"
      ],
      "text/markdown": [
       "2.72727272727273"
      ],
      "text/plain": [
       "[1] 2.727273"
      ]
     },
     "metadata": {},
     "output_type": "display_data"
    }
   ],
   "source": [
    "values = c(1, 1, 1, 2, 2, 3, 4, 4, 4, 4, 4)\n",
    "n = length(values)\n",
    "\n",
    "xbar = sum(values)/n\n",
    "xbar"
   ]
  },
  {
   "cell_type": "markdown",
   "metadata": {},
   "source": [
    "We've already discussed the median in section 2.1: the median $M$ is the same as $Q_2$, the second quartile, or the 50th percentile. The median is the 'middle value' of the data: exactly half the data are greater than the median, and exactly half the data are less than the median. We've seen that we can find the median in R using <code>quantile(x, probs=0.50)</code>. But the median is such an important value that there is another even simpler function in R to calculate it:\n",
    "\n",
    "```R\n",
    "median(x)\n",
    "```\n",
    "where, as usual, <code>x</code> is the list of data values that we want the median of.\n",
    "\n",
    "For example, to find the median of the data in our example above, we would type:"
   ]
  },
  {
   "cell_type": "code",
   "execution_count": 1,
   "metadata": {},
   "outputs": [
    {
     "data": {
      "text/html": [
       "3"
      ],
      "text/latex": [
       "3"
      ],
      "text/markdown": [
       "3"
      ],
      "text/plain": [
       "[1] 3"
      ]
     },
     "metadata": {},
     "output_type": "display_data"
    }
   ],
   "source": [
    "values = c(1, 1, 1, 2, 2, 3, 4, 4, 4, 4, 4)\n",
    "\n",
    "median(values)"
   ]
  },
  {
   "cell_type": "markdown",
   "metadata": {},
   "source": [
    "***"
   ]
  },
  {
   "cell_type": "markdown",
   "metadata": {},
   "source": [
    "\n",
    "### Example 2.2.1 ###\n",
    "AIDS data indicating the number of years a patient with AIDS lives after taking a new antibody drug are as follows:\n",
    "<center>\n",
    "    3, 4, 8, 8, 10, 11, 12, 13, 14, 15, 15, 16, 16, 17, 17, 18, 21, 22, 22, 24, 24, 25, 26, 26, 27, 27, 29, 29, 31, 32, 33, 33, 34, 34, 35, 37, 40, 44, 44, 47\n",
    "</center>\n",
    "Calculate the mean and median.\n",
    "\n",
    "#### Solution ####"
   ]
  },
  {
   "cell_type": "code",
   "execution_count": 1,
   "metadata": {},
   "outputs": [
    {
     "data": {
      "text/html": [
       "23.575"
      ],
      "text/latex": [
       "23.575"
      ],
      "text/markdown": [
       "23.575"
      ],
      "text/plain": [
       "[1] 23.575"
      ]
     },
     "metadata": {},
     "output_type": "display_data"
    },
    {
     "data": {
      "text/html": [
       "24"
      ],
      "text/latex": [
       "24"
      ],
      "text/markdown": [
       "24"
      ],
      "text/plain": [
       "[1] 24"
      ]
     },
     "metadata": {},
     "output_type": "display_data"
    }
   ],
   "source": [
    "years = c(3, 4, 8, 8, 10, 11, 12, 13, 14, 15, 15, 16, 16, 17, 17, 18, 21, 22, 22, 24, 24, 25, 26, 26, 27, 27, 29, 29, 31, 32, 33, 33, 34, 34, 35, 37, 40, 44, 44, 47)\n",
    "\n",
    "# Find the Mean\n",
    "n = length(years)\n",
    "\n",
    "xbar = sum(years)/n\n",
    "xbar\n",
    "\n",
    "# Find the Median\n",
    "M = median(years)\n",
    "M"
   ]
  },
  {
   "cell_type": "markdown",
   "metadata": {},
   "source": [
    "So the mean is $\\bar{x} = 23.575$  years and the median is $M = 24$ years."
   ]
  },
  {
   "cell_type": "markdown",
   "metadata": {},
   "source": [
    "***"
   ]
  },
  {
   "cell_type": "markdown",
   "metadata": {},
   "source": [
    "\n",
    "### Example 2.2.2 ###\n",
    "The following data show the number of months patients typically wait on a transplant list before getting surgery. The data are ordered from smallest to largest. Calculate the mean and median.\n",
    "<center>\n",
    "    3, 4, 5, 7, 7, 7, 7, 8, 8, 9, 9, 10, 10, 10, 10, 10, 11, 12, 12, 13, 14, 14, 15, 15, 17, 17, 18, 19, 19, 19, 21, 21, 22, 22, 23, 24, 24, 24, 24\n",
    "</center>\n",
    "\n",
    "#### Solution ####"
   ]
  },
  {
   "cell_type": "code",
   "execution_count": 1,
   "metadata": {},
   "outputs": [
    {
     "data": {
      "text/html": [
       "13.9487179487179"
      ],
      "text/latex": [
       "13.9487179487179"
      ],
      "text/markdown": [
       "13.9487179487179"
      ],
      "text/plain": [
       "[1] 13.94872"
      ]
     },
     "metadata": {},
     "output_type": "display_data"
    },
    {
     "data": {
      "text/html": [
       "13"
      ],
      "text/latex": [
       "13"
      ],
      "text/markdown": [
       "13"
      ],
      "text/plain": [
       "[1] 13"
      ]
     },
     "metadata": {},
     "output_type": "display_data"
    }
   ],
   "source": [
    "months = c(3, 4, 5, 7, 7, 7, 7, 8, 8, 9, 9, 10, 10, 10, 10, 10, 11, 12, 12, 13, 14, 14, 15, 15, 17, 17, 18, 19, 19, 19, 21, 21, 22, 22, 23, 24, 24, 24, 24)\n",
    "\n",
    "# Find the Mean\n",
    "n = length(months)\n",
    "\n",
    "xbar = sum(months)/n\n",
    "xbar\n",
    "\n",
    "# Find the Median\n",
    "M = median(months)\n",
    "M"
   ]
  },
  {
   "cell_type": "markdown",
   "metadata": {},
   "source": [
    "So the mean is about $\\bar{x} = 13.949$ months and the median is $M = 13$ months."
   ]
  },
  {
   "cell_type": "markdown",
   "metadata": {},
   "source": [
    "***"
   ]
  },
  {
   "cell_type": "markdown",
   "metadata": {},
   "source": [
    "\n",
    "### Example 2.2.3 ###\n",
    "Suppose that in a small town of 50 people, one person earns \\$5,000,000 per year and the other 49 each earn \\$30,000. Which is better measure of the \"center\": the mean or the median?\n",
    "\n",
    "#### Solution ####\n",
    "Since there is one person who earns \\$5,000,000 per year and 49 people who earn \\$30,000 per year, we calculate the mean as follows:"
   ]
  },
  {
   "cell_type": "code",
   "execution_count": 1,
   "metadata": {},
   "outputs": [
    {
     "data": {
      "text/html": [
       "129400"
      ],
      "text/latex": [
       "129400"
      ],
      "text/markdown": [
       "129400"
      ],
      "text/plain": [
       "[1] 129400"
      ]
     },
     "metadata": {},
     "output_type": "display_data"
    }
   ],
   "source": [
    "xbar <- (5000000 + 49*30000)/50\n",
    "xbar"
   ]
  },
  {
   "cell_type": "markdown",
   "metadata": {},
   "source": [
    "So the mean is \\$129,400 per year.\n",
    "\n",
    "To calculate the median, imagine lining up our data from smallest to largest. Clearly, the value in the middle, the median, would be \\$30,000 per year.\n",
    "\n",
    "The median is a better measure of the \"center\" than the mean in this case because 49 of the values are \\$30,000 and one is \\$5,000,000. The \\$5,000,000 value is an outlier. The \\$30,000 gives us a better sense of the middle of the data."
   ]
  },
  {
   "cell_type": "markdown",
   "metadata": {},
   "source": [
    "***"
   ]
  },
  {
   "cell_type": "markdown",
   "metadata": {},
   "source": [
    "### Example 2.2.4"
   ]
  },
  {
   "cell_type": "code",
   "execution_count": null,
   "metadata": {},
   "outputs": [],
   "source": [
    "#**VID=FgjyGnTE3mM**#"
   ]
  },
  {
   "cell_type": "markdown",
   "metadata": {},
   "source": [
    "***"
   ]
  },
  {
   "cell_type": "markdown",
   "metadata": {},
   "source": [
    "<small style=\"color:gray\"><b>License:</b> This work is licensed under a [Creative Commons Attribution 4.0 International](https://creativecommons.org/licenses/by/4.0/) license.</small>\n",
    "\n",
    "<small style=\"color:gray\"><b>Author:</b> Taylor Baldwin, Mt. San Jacinto College</small>\n",
    "\n",
    "<small style=\"color:gray\"><b>Adapted From:</b> <i>Introductory Statistics</i>, by Barbara Illowsky and Susan Dean. Access for free at [https://openstax.org/books/introductory-statistics/pages/1-introduction](https://openstax.org/books/introductory-statistics/pages/1-introduction).</small>"
   ]
  }
 ],
 "metadata": {
  "kernelspec": {
   "display_name": "R",
   "language": "R",
   "name": "ir"
  },
  "language_info": {
   "codemirror_mode": "r",
   "file_extension": ".r",
   "mimetype": "text/x-r-source",
   "name": "R",
   "pygments_lexer": "r",
   "version": "3.6.1"
  }
 },
 "nbformat": 4,
 "nbformat_minor": 2
}
