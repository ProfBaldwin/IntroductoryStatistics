{
 "cells": [
  {
   "cell_type": "markdown",
   "metadata": {},
   "source": [
    "# 2.3 Measures of Dispersion #"
   ]
  },
  {
   "cell_type": "markdown",
   "metadata": {},
   "source": [
    "## Objectives ##\n",
    "- Perform descriptive data analysis on collected data including calculation and interpretation of measures of central tendency, measures of variation, measures of position, detection of outliers, and applying the Empirical Rule to bell-shaped data.\n",
    "- Estimate population parameters using both point estimates and confdence interval estimates using both the normal and Student $t$-distribution.\n",
    "- Analyze an application in the disciplines business, social sciences, psychology, life sciences, health science, and education, and utilize the correct statistical processes to arrive at a solution."
   ]
  },
  {
   "cell_type": "markdown",
   "metadata": {},
   "source": [
    "## The Standard Deviation ##\n",
    "An important characteristic of any set of data is the variation in the data. In some data sets, the data values are concentrated closely near the mean; in other data sets, the data values are more widely spread out from the mean. The most common measure of variation, or spread, is the standard deviation. The **standard deviation** is a number that measures how far data values are from their mean.\n",
    "\n",
    "The standard deviation\n",
    "- provides a numerical measure of the overall amount of variation in a data set, and\n",
    "- can be used to determine whether a particular data value is close to or far from the mean.\n",
    "\n",
    "**The standard deviation provides a measure of the overall variation in a data set.**\n",
    "\n",
    "The standard deviation is always positive or zero. The standard deviation is small when the data are all concentrated close to the mean, exhibiting little variation or spread. The standard deviation is larger when the data values are more spread out from the mean, exhibiting more variation.\n",
    "\n",
    "Suppose that we are studying the amount of time customers wait in line at the checkout at supermarket A and supermarket B. the average wait time at both supermarkets is five minutes. At supermarket A, the standard deviation for the wait time is two minutes; at supermarket B the standard deviation for the wait time is four minutes.\n",
    "\n",
    "Because supermarket B has a higher standard deviation, we know that there is more variation in the wait times at supermarket B. Overall, wait times at supermarket B are more spread out from the average; wait times at supermarket A are more concentrated near the average.\n",
    "\n",
    "**The standard deviation can be used to determine whether a data value is close to or far from the mean.**\n",
    "\n",
    "Suppose that Rosa and Binh both shop at supermarket A. Rosa waits at the checkout counter for seven minutes and Binh waits for one minute. At supermarket A, the mean waiting time is five minutes and the standard deviation is two minutes. The standard deviation can be used to determine whether a data value is close to the mean or if it is an outlier that is unusually far from the mean.\n",
    "\n",
    "Rosa waits for seven minutes:\n",
    "- Seven is two minutes longer than the average of five; two minutes is equal to one standard deviation.\n",
    "- Rosa's wait time of seven minutes is **two minutes longer than the average** of five minutes.\n",
    "- Rosa's wait time of seven minutes is **one standard deviation above the average** of five minutes.\n",
    "\n",
    "Binh waits for one minute:\n",
    "- One is four minutes less than the average of five; four minutes is equal to two standard deviations.\n",
    "- Binh's wait time of one minute is **four minutes less than the average** of five minutes.\n",
    "- Binh's wait time of one minute is **two standard deviations below the average** of five minutes.\n",
    "\n",
    "A data value that is  more than two standard deviations from the average is considered by many statisticians to be an **outlier**—it deviates from the average much greater than the standard amount for the data. Considering data to be an outlier if it is more than two standard deviations away is more of an approximate \"rule of thumb\" than a rigid rule. In general, the shape of the distribution of the data affects how much of the data is further away than two standard deviations. (You will learn more about this in later chapters.)"
   ]
  },
  {
   "cell_type": "markdown",
   "metadata": {},
   "source": [
    "## Calculating the Standard Deviation ##\n",
    "If $x$ is a data value, then the difference \"$x – \\text{mean}$\" is called its **deviation**; it's a measure of how far the value $x$ is away from the mean of the data. In a data set, there are as many deviations as there are items in the data set. The deviations are used to calculate the standard deviation. If the numbers belong to a population, in symbols a deviation is $x – \\mu$. For sample data, in symbols a deviation is $x – \\bar{x}$.\n",
    "\n",
    "The procedure to calculate the standard deviation depends on whether the numbers are the entire population or are data from a sample. The calculations are similar, but not identical. Therefore the symbol used to represent the standard deviation depends on whether it is calculated from a population or a sample. The lower case letter $s$ represents the sample standard deviation and the Greek letter $\\sigma$ (sigma, lower case) represents the population standard deviation. If the sample has the same characteristics as the population, then $s$ should be a good estimate of $\\sigma$.\n",
    "\n",
    "To calculate the standard deviation, we need to calculate the variance first. The **variance** is the average of the squares of the deviations (the $x – \\bar{x}$ values for a sample, or the $x - \\mu$ values for a population). The symbol $\\sigma^2$ represents the population variance; the population standard deviation $\\sigma$ is the square root of the population variance. The symbol $s^2$ represents the sample variance; the sample standard deviation $s$ is the square root of the sample variance. You can think of the standard deviation as a special average of the deviations.\n",
    "\n",
    "If the numbers come from a census of the entire **population** and not a sample, when we calculate the average of the squared deviations to find the variance, we divide by $N$, the number of items in the population. If the data are from a **sample** rather than a population, when we calculate the average of the squared deviations, we divide by $n – 1$, one less than the number of items in the sample.\n",
    "\n",
    "**Formula for the Sample Standard Deviation:**\n",
    "$$ s = \\sqrt{\\frac{\\sum(x - \\bar{x})^2}{n - 1}} $$\n",
    "Here, $x$ is a data value in our sample, $\\bar{x}$ is the sample mean, and $n$ is the sample size. Remember, the $\\sum$ symbol means addition. In this case, we want to add up all the squared deviations $(x - \\bar{x})^2$ for each $x$ in our data.\n",
    "\n",
    "**Formula for the Population Standard Deviation:**\n",
    "$$ \\sigma = \\sqrt{\\frac{\\sum(x - \\mu)^2}{N}} $$\n",
    "Here, $x$ is a data value in our population, $\\mu$ is the population mean, and $N$ is the population size.\n",
    "\n",
    "Notice that, despite the differences of notation, the formulas are *almost* the same. The most significant difference is that the when calculating the sample standard deviation, we divide the sum of the squared deviations by the number of data values *minus 1*. When calculating the population standard deviation, we divide the sum of the squared deviation by simply the number of data values.\n",
    "\n",
    "Note also that the mean is a part of the formulas for standard deviation. In order to calculate the standard deviation, we must first calculate the mean.\n",
    "\n",
    "In practice, statisticians usually deal with data from a sample, not data from an entire population. It is often impractical to collect data on an entire population, so we study a smaller sample of the population to gain insights into the population as a whole. As such, statisticians usually use the formula for the sample standard deviation."
   ]
  },
  {
   "cell_type": "markdown",
   "metadata": {},
   "source": [
    "***"
   ]
  },
  {
   "cell_type": "markdown",
   "metadata": {},
   "source": [
    "\n",
    "### Example 3.1 ###\n",
    "A doctor checks the resting heart rate of 5 of his patients. Their resting heart rates, in beats-per-minute, are\n",
    "\n",
    "70, 73, 94, 62, 81\n",
    "    \n",
    "1. Calculate the sample mean.\n",
    "2. Calculate the sample standard deviation.\n",
    "\n",
    "\n",
    "#### Solution ####\n",
    "##### Part 1 #####\n",
    "We use R to calculate the mean."
   ]
  },
  {
   "cell_type": "code",
   "execution_count": 1,
   "metadata": {},
   "outputs": [
    {
     "data": {
      "text/html": [
       "76"
      ],
      "text/latex": [
       "76"
      ],
      "text/markdown": [
       "76"
      ],
      "text/plain": [
       "[1] 76"
      ]
     },
     "metadata": {},
     "output_type": "display_data"
    }
   ],
   "source": [
    "beats = c(70, 73, 94, 62, 81)\n",
    "\n",
    "# Calculate the Sample Mean\n",
    "n = length(beats)\n",
    "\n",
    "xbar = sum(beats)/n\n",
    "xbar"
   ]
  },
  {
   "cell_type": "markdown",
   "metadata": {},
   "source": [
    "The sample mean is $\\bar{x} = 76$ beats-per-minute.\n",
    "\n",
    "##### Part 2 #####\n",
    "Once we have the mean, we are ready to calculate the standard deviation. This calculation is more complicated than the calculations we've done so far. We'll first present the solution in its entirety, then explain what we did line by line."
   ]
  },
  {
   "cell_type": "code",
   "execution_count": 2,
   "metadata": {},
   "outputs": [
    {
     "data": {
      "text/html": [
       "12.1449578014911"
      ],
      "text/latex": [
       "12.1449578014911"
      ],
      "text/markdown": [
       "12.1449578014911"
      ],
      "text/plain": [
       "[1] 12.14496"
      ]
     },
     "metadata": {},
     "output_type": "display_data"
    }
   ],
   "source": [
    "# Calculate the Sample Standard Deviation\n",
    "s = sqrt( sum( (beats - xbar)^2 ) / (n - 1) )\n",
    "s"
   ]
  },
  {
   "cell_type": "markdown",
   "metadata": {},
   "source": [
    "The sample standard deviation is $s = 12.145$.\n",
    "\n",
    "\n",
    "<br><br>\n",
    "Now let's explain what we did. Remember, we want to calculate the sample standard deviation $s$ using the formula\n",
    "$$ s = \\sqrt{\\frac{\\sum(x - \\bar{x})^2}{n - 1}}.$$\n",
    "\n",
    "To calculate this formula, we first must find the deviation\n",
    "$$ x - \\bar{x}$$\n",
    "for *every* data value $x$. Since we stored our list of data values in <code>beats</code>, we just need to subtract the sample mean, stored in <code>xbar</code>, from each data value in <code>beats</code>, as we did in the first line above:"
   ]
  },
  {
   "cell_type": "code",
   "execution_count": 3,
   "metadata": {},
   "outputs": [
    {
     "data": {
      "text/html": [
       "<ol class=list-inline>\n",
       "\t<li>-6</li>\n",
       "\t<li>-3</li>\n",
       "\t<li>18</li>\n",
       "\t<li>-14</li>\n",
       "\t<li>5</li>\n",
       "</ol>\n"
      ],
      "text/latex": [
       "\\begin{enumerate*}\n",
       "\\item -6\n",
       "\\item -3\n",
       "\\item 18\n",
       "\\item -14\n",
       "\\item 5\n",
       "\\end{enumerate*}\n"
      ],
      "text/markdown": [
       "1. -6\n",
       "2. -3\n",
       "3. 18\n",
       "4. -14\n",
       "5. 5\n",
       "\n",
       "\n"
      ],
      "text/plain": [
       "[1]  -6  -3  18 -14   5"
      ]
     },
     "metadata": {},
     "output_type": "display_data"
    }
   ],
   "source": [
    "beats - xbar"
   ]
  },
  {
   "cell_type": "markdown",
   "metadata": {},
   "source": [
    "Note that what we get are the deviations *for each data value*. For example, for our first data value of 70, the deviation is\n",
    "$$ x - \\bar{x} = 70 - 76 = -6, $$\n",
    "which is the first value in our resulting list.\n",
    "\n",
    "<br><br>\n",
    "But note in the formula that we *square* each deviation:\n",
    "$$ (x - \\bar{x})^2 $$\n",
    "So we take our list of deviations and square all the values in that list:"
   ]
  },
  {
   "cell_type": "code",
   "execution_count": 4,
   "metadata": {},
   "outputs": [
    {
     "data": {
      "text/html": [
       "<ol class=list-inline>\n",
       "\t<li>36</li>\n",
       "\t<li>9</li>\n",
       "\t<li>324</li>\n",
       "\t<li>196</li>\n",
       "\t<li>25</li>\n",
       "</ol>\n"
      ],
      "text/latex": [
       "\\begin{enumerate*}\n",
       "\\item 36\n",
       "\\item 9\n",
       "\\item 324\n",
       "\\item 196\n",
       "\\item 25\n",
       "\\end{enumerate*}\n"
      ],
      "text/markdown": [
       "1. 36\n",
       "2. 9\n",
       "3. 324\n",
       "4. 196\n",
       "5. 25\n",
       "\n",
       "\n"
      ],
      "text/plain": [
       "[1]  36   9 324 196  25"
      ]
     },
     "metadata": {},
     "output_type": "display_data"
    }
   ],
   "source": [
    "(beats - xbar)^2"
   ]
  },
  {
   "cell_type": "markdown",
   "metadata": {},
   "source": [
    "Again, double check that we are indeed getting our deviation values squared. For our first data value, the deviation was -6. When we square that, we get\n",
    "$$ (x - \\bar{x})^2 = (-6)^2 = 36, $$\n",
    "which matches the first entry in our resulting list.\n",
    "\n",
    "<br><br>\n",
    "Once we have the list of squared deviations, we want to add together the values in the list to get\n",
    "$$ \\sum (x - \\bar{x})^2 $$"
   ]
  },
  {
   "cell_type": "code",
   "execution_count": 5,
   "metadata": {},
   "outputs": [
    {
     "data": {
      "text/html": [
       "590"
      ],
      "text/latex": [
       "590"
      ],
      "text/markdown": [
       "590"
      ],
      "text/plain": [
       "[1] 590"
      ]
     },
     "metadata": {},
     "output_type": "display_data"
    }
   ],
   "source": [
    "sum( (beats - xbar)^2 )"
   ]
  },
  {
   "cell_type": "markdown",
   "metadata": {},
   "source": [
    "So \n",
    "$$\\sum (x - \\bar{x})^2 = 36 + 9 + 324 + 196 + 25 = 590.$$\n",
    "This is the numerator of the fraction in our formula.\n",
    "\n",
    "<br><br>\n",
    "Then our next step is to divide by the denominator:\n",
    "$$ \\frac{\\sum (x - \\bar{x})^2}{n - 1} $$\n",
    "This is simple to do in R."
   ]
  },
  {
   "cell_type": "code",
   "execution_count": 6,
   "metadata": {},
   "outputs": [
    {
     "data": {
      "text/html": [
       "147.5"
      ],
      "text/latex": [
       "147.5"
      ],
      "text/markdown": [
       "147.5"
      ],
      "text/plain": [
       "[1] 147.5"
      ]
     },
     "metadata": {},
     "output_type": "display_data"
    }
   ],
   "source": [
    "sum( (beats - xbar)^2 )/(n - 1)"
   ]
  },
  {
   "cell_type": "markdown",
   "metadata": {},
   "source": [
    "Recall from above that we call this quantity the **variance** of the data. We denote it mathematically as $s^2$, the square of the standard deviation.\n",
    "\n",
    "<br><br>\n",
    "The only thing left to do is take the square root of the variance:\n",
    "$$ s = \\sqrt{\\frac{\\sum(x - \\bar{x})^2}{n - 1}} $$\n",
    "To do so, we use the <code>sqrt</code> function:\n",
    "```R\n",
    "sqrt(x)\n",
    "```\n",
    "Here, <code>x</code> is a number or a list of numbers. \n",
    "\n",
    "Using the <code>sqrt</code> function, we find the standard deviation $s$."
   ]
  },
  {
   "cell_type": "code",
   "execution_count": 7,
   "metadata": {},
   "outputs": [
    {
     "data": {
      "text/html": [
       "12.1449578014911"
      ],
      "text/latex": [
       "12.1449578014911"
      ],
      "text/markdown": [
       "12.1449578014911"
      ],
      "text/plain": [
       "[1] 12.14496"
      ]
     },
     "metadata": {},
     "output_type": "display_data"
    }
   ],
   "source": [
    "s = sqrt( sum( (beats - xbar)^2 )/ (n-1) )\n",
    "s"
   ]
  },
  {
   "cell_type": "markdown",
   "metadata": {},
   "source": [
    "***"
   ]
  },
  {
   "cell_type": "markdown",
   "metadata": {},
   "source": [
    "\n",
    "### Example 2.3.2 ###\n",
    "Use the following data (first exam scores) from Susan Dean's spring pre-calculus class:\n",
    "\n",
    "33, 42, 49, 49, 53, 55, 55, 61, 63, 67, 68, 68, 69, 69, 72, 73, 74, 78, 80, 83, 88, 88, 88, 90, 92, 94, 94, 94, 94, 96, 100\n",
    "\n",
    "1. Calculate the sample mean.\n",
    "2. Calculate the sample standard deviation.\n",
    "3. Are there any outliers in the data?\n",
    "\n",
    "#### Solution ####\n",
    "##### Part 1 #####"
   ]
  },
  {
   "cell_type": "code",
   "execution_count": 1,
   "metadata": {},
   "outputs": [
    {
     "data": {
      "text/html": [
       "73.5161290322581"
      ],
      "text/latex": [
       "73.5161290322581"
      ],
      "text/markdown": [
       "73.5161290322581"
      ],
      "text/plain": [
       "[1] 73.51613"
      ]
     },
     "metadata": {},
     "output_type": "display_data"
    }
   ],
   "source": [
    "scores = c(33, 42, 49, 49, 53, 55, 55, 61, 63, 67, 68, 68, 69, 69, 72, 73, 74, 78, 80, 83, 88, 88, 88, 90, 92, 94, 94, 94, 94, 96, 100)\n",
    "\n",
    "# Calculate the Sample Mean\n",
    "n = length(scores)\n",
    "\n",
    "xbar = sum(scores)/n\n",
    "xbar"
   ]
  },
  {
   "cell_type": "markdown",
   "metadata": {},
   "source": [
    "The mean score is $\\bar{x} = 73.51613$.\n",
    "\n",
    "##### Part 2 #####"
   ]
  },
  {
   "cell_type": "code",
   "execution_count": 2,
   "metadata": {},
   "outputs": [
    {
     "data": {
      "text/html": [
       "17.923673298633"
      ],
      "text/latex": [
       "17.923673298633"
      ],
      "text/markdown": [
       "17.923673298633"
      ],
      "text/plain": [
       "[1] 17.92367"
      ]
     },
     "metadata": {},
     "output_type": "display_data"
    }
   ],
   "source": [
    "# Calculate the Sample Standard Deviation\n",
    "s = sqrt( sum( (scores - xbar)^2 ) / (n - 1) )\n",
    "s"
   ]
  },
  {
   "cell_type": "markdown",
   "metadata": {},
   "source": [
    "So the standard deviation of the scores is $s = 17.924$."
   ]
  },
  {
   "cell_type": "markdown",
   "metadata": {},
   "source": [
    "#### Part 3 ####\n",
    "Recall that we consider a data value to be an outlier if it is more than two standard deviations away from the mean. Two standard deviations above the mean is\n",
    "$$ \\bar{x} + 2s = 73.516 + 2(17.924) = 109.364 $$\n",
    "and two standard deviations below the mean is\n",
    "$$ \\bar{x} - 2s = 73.516 - 2(17.924) = 37.668. $$\n",
    "The maximum value in our data is 100, which is not as far away from the mean as 109.364. So there are no outliers above the mean. But the minimum value of 33 is less than 37.668, meaning 33 is more than two standard deviations below the mean.\n",
    "\n",
    "So 33 is an outlier."
   ]
  },
  {
   "cell_type": "markdown",
   "metadata": {},
   "source": [
    "***"
   ]
  },
  {
   "cell_type": "markdown",
   "metadata": {},
   "source": [
    "\n",
    "### Example 2.3.3 ###\n",
    "In a fifth grade class, the teacher was interested in the average age and the population standard deviation of the ages of her students. The following data are the ages for all N = 20 fifth grade students in her class. The ages are rounded to the nearest half year:\n",
    "\n",
    "9, 9.5, 9.5, 10, 10, 10, 10, 10.5, 10.5, 10.5, 10.5, 11, 11, 11, 11, 11, 11, 11.5, 11.5, 11.5\n",
    "\n",
    "1. Find the population mean.\n",
    "2. Find the population standard deviation.\n",
    "3. Construct a box plot of the data.\n",
    "4. Using the population standard deviation and the box plot, comment on the spread of the data.\n",
    "\n",
    "#### Solution ####\n",
    "Note that since we have data on the entire class, we are calculating data for an entire population, not a sample.\n",
    "##### Part 1 #####"
   ]
  },
  {
   "cell_type": "code",
   "execution_count": 1,
   "metadata": {},
   "outputs": [
    {
     "data": {
      "text/html": [
       "10.525"
      ],
      "text/latex": [
       "10.525"
      ],
      "text/markdown": [
       "10.525"
      ],
      "text/plain": [
       "[1] 10.525"
      ]
     },
     "metadata": {},
     "output_type": "display_data"
    }
   ],
   "source": [
    "ages = c(9, 9.5, 9.5, 10, 10, 10, 10, 10.5, 10.5, 10.5, 10.5, 11, 11, 11, 11, 11, 11, 11.5, 11.5, 11.5)\n",
    "\n",
    "# Calculate the Population Mean\n",
    "N = length(ages)\n",
    "\n",
    "mu = sum(ages)/N\n",
    "mu\n"
   ]
  },
  {
   "cell_type": "markdown",
   "metadata": {},
   "source": [
    "The population mean is $\\mu = 10.525$.\n",
    "\n",
    "##### Part 2 #####\n",
    "When calculating the *population* standard deviation, be sure to use the correct formula."
   ]
  },
  {
   "cell_type": "code",
   "execution_count": 2,
   "metadata": {},
   "outputs": [
    {
     "data": {
      "text/html": [
       "0.697764286847643"
      ],
      "text/latex": [
       "0.697764286847643"
      ],
      "text/markdown": [
       "0.697764286847643"
      ],
      "text/plain": [
       "[1] 0.6977643"
      ]
     },
     "metadata": {},
     "output_type": "display_data"
    }
   ],
   "source": [
    "# Calculate the Population Standard Deviation\n",
    "sigma = sqrt( sum( (ages - mu)^2 ) / N)\n",
    "sigma"
   ]
  },
  {
   "cell_type": "markdown",
   "metadata": {},
   "source": [
    "The population standard deviation is $\\sigma = 0.6977643$.\n",
    "\n",
    "##### Part 3 #####"
   ]
  },
  {
   "cell_type": "code",
   "execution_count": 3,
   "metadata": {},
   "outputs": [
    {
     "data": {
      "image/png": "[encoded data removed]",
      "text/plain": [
       "plot without title"
      ]
     },
     "metadata": {},
     "output_type": "display_data"
    }
   ],
   "source": [
    "boxplot(ages)"
   ]
  },
  {
   "cell_type": "markdown",
   "metadata": {},
   "source": [
    "##### Part 4 #####\n",
    "From the box plot, we can see that the bottom whisker extends further than any other region. This means the data is the most spread out in this region. If we were able to omit the smallest value or values in our data, this region would be less spread out, and the standard deviation would be smaller."
   ]
  },
  {
   "cell_type": "markdown",
   "metadata": {},
   "source": [
    "***"
   ]
  },
  {
   "cell_type": "markdown",
   "metadata": {},
   "source": [
    "### Example 3.4"
   ]
  },
  {
   "cell_type": "code",
   "execution_count": null,
   "metadata": {},
   "outputs": [],
   "source": [
    "#**VID=jP7PPzsJYkg**#"
   ]
  },
  {
   "cell_type": "markdown",
   "metadata": {},
   "source": [
    "***"
   ]
  },
  {
   "cell_type": "markdown",
   "metadata": {},
   "source": [
    "<small style=\"color:gray\"><b>License:</b> This work is licensed under a [Creative Commons Attribution 4.0 International](https://creativecommons.org/licenses/by/4.0/) license.</small>\n",
    "\n",
    "<small style=\"color:gray\"><b>Author:</b> Taylor Baldwin, Mt. San Jacinto College</small>\n",
    "\n",
    "<small style=\"color:gray\"><b>Adapted From:</b> <i>Introductory Statistics</i>, by Barbara Illowsky and Susan Dean. Access for free at [https://openstax.org/books/introductory-statistics/pages/1-introduction](https://openstax.org/books/introductory-statistics/pages/1-introduction).</small>"
   ]
  }
 ],
 "metadata": {
  "kernelspec": {
   "display_name": "R",
   "language": "R",
   "name": "ir"
  },
  "language_info": {
   "codemirror_mode": "r",
   "file_extension": ".r",
   "mimetype": "text/x-r-source",
   "name": "R",
   "pygments_lexer": "r",
   "version": "3.6.1"
  }
 },
 "nbformat": 4,
 "nbformat_minor": 2
}
