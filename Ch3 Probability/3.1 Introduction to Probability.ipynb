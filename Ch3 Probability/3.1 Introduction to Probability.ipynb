{
 "cells": [
  {
   "cell_type": "markdown",
   "metadata": {},
   "source": [
    "# 3.1 Introduction to Probability #"
   ]
  },
  {
   "cell_type": "markdown",
   "metadata": {},
   "source": [
    "## Objectives ##\n",
    "- Apply probability and counting rules (including addition and multiplication rules) as pertaining to both continuous random variables and discrete random variables.\n",
    "- Analyze an application in the disciplines business, social sciences, psychology, life sciences, health science, and education, and utilize the correct statistical processes to arrive at a solution."
   ]
  },
  {
   "cell_type": "markdown",
   "metadata": {},
   "source": [
    "## Terminology and Basic Probability ##\n",
    "Probability is a measure that is associated with how certain we are of outcomes of a particular experiment or activity. An **experiment** is a planned operation carried out under controlled conditions. If the result is not predetermined, then the experiment is said to be a **chance** experiment. Flipping one fair coin twice is an example of an experiment.\n",
    "\n",
    "A result of an experiment is called an **outcome**. The **sample space** of an experiment is the set of all possible outcomes. Three ways to represent a sample space are: to list the possible outcomes, to create a tree diagram, or to create a Venn diagram. The uppercase letter $S$ is used to denote the sample space. For example, if you flip one fair coin, $S = \\{H, T\\}$ where $H$ = heads and $T$ = tails are the outcomes.\n",
    "\n",
    "An **event** is any combination of outcomes. Upper case letters like $A$ and $B$ represent events. For example, if the experiment is to flip one fair coin, event $A$ might be getting at most one head. The probability of an event $A$ is written $P(A)$.\n",
    "\n",
    "The **probability** of any outcome is the **long-term relative frequency** of that outcome. **Probabilities are between zero and one, inclusive** (that is, zero and one and all numbers between these values). $P(A) = 0$ means the event $A$ can never happen. $P(A) = 1$ means the event $A$ always happens. $P(A) = 0.5$ means the event $A$ is equally likely to occur or not to occur. For example, if you flip one fair coin repeatedly (from 20 to 2,000 to 20,000 times) the relative frequency of heads approaches 0.5 (the probability of heads).\n",
    "\n",
    "**Equally likely** means that each outcome of an experiment occurs with equal probability. For example, if you toss a **fair**, six-sided die, each face (1, 2, 3, 4, 5, or 6) is as likely to occur as any other face. If you toss a fair coin, a Head ($H$) and a Tail ($T$) are equally likely to occur. If you randomly guess the answer to a true/false question on an exam, you are equally likely to select a correct answer or an incorrect answer.\n",
    "\n",
    "**To calculate the probability of an event $A$ when all outcomes in the sample space are equally likely**, find $n(A)$, the number of outcomes for event $A$, and divide by $n(S)$, the total number of outcomes in the sample space $S$. Mathematically, we write\n",
    "$$ P(A) = \\frac{n(A)}{n(S)}.$$\n",
    "For example, if you toss a fair dime and a fair nickel, the sample space is $S = \\{HH, TH, HT, TT\\}$ where $T$ = tails and $H$ = heads. The sample space has $n(S) = 4$ outcomes. $A$ = getting one head. There are $n(A) = 2$ outcomes that meet this condition: $\\{HT, TH\\}$. So $P(A) =  \\frac{n(A)}{n(S)} = \\frac{2}{4}  = 0.5$.\n",
    "\n",
    "Suppose you roll one fair six-sided die, with the numbers $\\{1, 2, 3, 4, 5, 6\\}$ on its faces. Let event $E$ = rolling a number that is at least five. There are two outcomes: $\\{5, 6\\}$. $P(E) = \\frac{n(E)}{n(S)} = \\frac{2}{6}$. If you were to roll the die only a few times, you would not be surprised if your observed results did not match the probability. If you were to roll the die a very large number of times, you would expect that, overall, $\\frac{2}{6}$ of the rolls would result in an outcome of \"at least five\". You would not expect exactly $\\frac{2}{6}$. The long-term relative frequency of obtaining this result would approach the theoretical probability of $\\frac{2}{6}$ as the number of repetitions grows larger and larger.\n",
    "\n",
    "This important characteristic of probability experiments is known as the **law of large numbers** which states that as the number of repetitions of an experiment is increased, the relative frequency obtained in the experiment tends to become closer and closer to the theoretical probability. Even though the outcomes do not happen according to any set pattern or order, overall, the long-term observed relative frequency will approach the theoretical probability. (The word **empirical** is often used instead of the word observed.)\n",
    "\n",
    "It is important to realize that in many situations, the outcomes are not equally likely. A coin or die may be **unfair**, or **biased**. Two math professors in Europe had their statistics students test the Belgian one Euro coin and discovered that in 250 trials, a head was obtained 56% of the time and a tail was obtained 44% of the time. The data seem to show that the coin is not a fair coin; more repetitions would be helpful to draw a more accurate conclusion about such bias. Some dice may be biased. Look at the dice in a game you have at home; the spots on each face are usually small holes carved out and then painted to make the spots visible. Your dice may or may not be biased; it is possible that the outcomes may be affected by the slight weight differences due to the different numbers of holes in the faces. Gambling casinos make a lot of money depending on outcomes from rolling dice, so casino dice are made differently to eliminate bias. Casino dice have flat faces; the holes are completely filled with paint having the same density as the material that the dice are made out of so that each face is equally likely to occur. Later we will learn techniques to use to work with probabilities for events that are not equally likely.\n",
    "\n",
    "**\"OR\" Event:**<br>\n",
    "An outcome is in the event $A \\text{ OR } B$ if the outcome is in $A$ or is in $B$ or is in both $A$ and $B$. For example, let $A = \\{1, 2, 3, 4, 5\\}$ and $B = \\{4, 5, 6, 7, 8\\}$. $A \\text{ OR } B = \\{1, 2, 3, 4, 5, 6, 7, 8\\}$. Notice that 4 and 5 are NOT listed twice.\n",
    "\n",
    "**\"AND\" Event:**<br>\n",
    "An outcome is in the event $A \\text{ AND } B$ if the outcome is in both $A$ and $B$ at the same time. For example, let $A = \\{1, 2, 3, 4, 5\\}$ and $B = \\{4, 5, 6, 7, 8\\}$. Then $A \\text{ AND } B = \\{4, 5\\}$.\n",
    "\n",
    "The **complement** of event $A$ is denoted $A'$ (read \"A prime\"). $A'$ consists of all outcomes that are NOT in $A$. Notice that $P(A) + P(A') = 1$. For example, let $S = \\{1, 2, 3, 4, 5, 6\\}$ and let $A = \\{1, 2, 3, 4\\}$. Then, $A' = \\{5, 6\\}$. $P(A) = \\frac{4}{6}$, $P(A') = \\frac{2}{6}$, and $P(A) + P(A') = \\frac{4}{6} + \\frac{2}{6} = 1$.\n",
    "\n",
    "The **conditional probability** of $A$ given $B$ is written $P(A|B)$. $P(A|B)$ is the probability that event $A$ will occur given that the event $B$ has already occurred. **A conditional reduces the sample space.** We calculate the probability of $A$ from the reduced sample space $B$. When outcomes are equally likely, we use the formula\n",
    "$$ P(A|B) = \\frac{n(A \\text{ AND } B)}{n(B)}. $$\n",
    "Since we are assuming that we already know that event $B$ has already occurred, our sample space is reduced from all possible outcomes in the sample space $S$ to just the outcomes in $B$, which is why we divide by $n(B)$ instead of $n(S)$. Similarly, in the numerator, we write the number of outcomes in $A$ that can occur. But since we already know that $B$ occurred, only those outcomes in $A$ that are also in $B$ are possible. So our numerator is the number of outcomes in $A \\text{ AND } B$.\n",
    "\n",
    "For example, suppose we toss one fair, six-sided die. The sample space is $S = \\{1, 2, 3, 4, 5, 6\\}$. Let $A$ be the event that face is 2 or 3: $A = \\{2, 3\\}$. Let $B$ be the event that the face is even: $B = \\{2, 4, 6\\}$. To calculate $P(A|B)$, we count the number of outcomes of $A$ that are also in the sample space $B$. Then we divide that by the number of outcomes in $B$ (rather than $S$). We get\n",
    "$$P(A|B) = \\frac{n(A \\text{ and } B)}{n(B)} = \\frac{1}{3}.$$\n",
    "\n",
    "When events in the sample space are NOT equally likely, the more general formula to calculate $P(A|B)$ is \n",
    "$$P(A|B) = \\frac{P(A \\text{ AND } B)}{P(B)},$$\n",
    "where $P(B)$ is greater than zero. We can also use this slightly more complicated formula to get the same result to the preceding problem:\n",
    "$$P(A|B) = \\frac{P(A \\text{ AND } B)}{P(B)} = \\frac{\\frac{n(A \\text{ AND } B)}{n(S)}}{\\frac{n(B)}{n(S)}} = \\frac{\\frac{1}{6}}{\\frac{3}{6}} = \\frac{1}{3}.$$\n",
    "\n",
    "**Note:** Generally, $P(A|B)$ is NOT equal to $P(B|A)$. Make sure you are aware of the order events are written when calculating conditional probability."
   ]
  },
  {
   "cell_type": "markdown",
   "metadata": {},
   "source": [
    "***"
   ]
  },
  {
   "cell_type": "markdown",
   "metadata": {},
   "source": [
    "\n",
    "### Example 3.1.1 ###\n",
    "The sample space $S$ is the set of whole numbers starting at 1 and less than 20. Assume the outcomes are equally likely. Let event $A$ = the even numbers and event $B$ = numbers greater than 13. Find the following (in mathematical notation).\n",
    "1. $S$, $A$, and $B$\n",
    "2. $P(A)$ and $P(B)$\n",
    "3. $A \\text{ AND } B$ and $A \\text{ OR } B$\n",
    "4. $P(A \\text{ AND } B)$ and $P(A \\text{ OR } B)$\n",
    "5. $A'$ and $P(A')$\n",
    "6. $P(A) + P(A')$\n",
    "7. $P(A|B)$ and $P(B|A)$. Are the probabilities equal?\n",
    "\n",
    "#### Solution ####\n",
    "##### Part 1 #####\n",
    "$S = \\{1, 2, 3, 4, 5, 6, 7, 8, 9, 10, 11, 12, 13, 14, 15, 16, 17, 18, 19\\}$\n",
    "\n",
    "$A = \\{ 2, 4, 6, 8, 10, 12, 14, 16, 18\\}$\n",
    "\n",
    "$B = \\{14, 15, 16, 17, 18, 19\\}$\n",
    "\n",
    "##### Part 2#####\n",
    "$P(A) = \\dfrac{n(A)}{n(S)} = \\dfrac{9}{19} = 0.4737$\n",
    "\n",
    "$P(B) = \\dfrac{n(B)}{n(S)} = \\dfrac{6}{19} = 0.3158$\n",
    "\n",
    "##### Part 3 #####\n",
    "$A \\text{ AND } B = \\{14, 16, 18\\}$\n",
    "\n",
    "$A \\text{ OR } B = \\{2, 4, 6, 8, 10, 12, 14, 15, 16, 17, 18, 19\\}$\n",
    "\n",
    "##### Part 4 #####\n",
    "$P(A \\text{ AND } B) = \\dfrac{n(A \\text{ AND } B)}{n(S)} = \\dfrac{3}{19} = 0.1579$\n",
    "\n",
    "$P(A \\text{ OR } B) = \\dfrac{n(A \\text{ OR } B)}{n(S)} = \\dfrac{12}{19} = 0.6316$\n",
    "\n",
    "##### Part 5 #####\n",
    "$A' = \\{1, 3, 5, 7, 9, 11, 13, 15, 17, 19\\}$\n",
    "\n",
    "$P(A') = \\dfrac{n(A')}{n(S)} = \\dfrac{10}{19} = 0.5263$\n",
    "\n",
    "##### Part 6 #####\n",
    "$P(A) + P(A') = \\dfrac{9}{19} + \\dfrac{10}{19} = 1$\n",
    "\n",
    "##### Part 7 #####\n",
    "$P(A|B) = \\dfrac{n(A \\text{ AND } B)}{n(B)} = \\dfrac{3}{6} = 0.5$\n",
    "\n",
    "$P(B|A) = \\dfrac{n(B \\text{ AND } A)}{n(A)} = \\dfrac{3}{9} = 0.3333$\n",
    "\n",
    "$P(A|B)$ is NOT equal to $P(B|A)$."
   ]
  },
  {
   "cell_type": "markdown",
   "metadata": {},
   "source": [
    "***"
   ]
  },
  {
   "cell_type": "markdown",
   "metadata": {},
   "source": [
    "\n",
    "### Example 3.1.2 ###\n",
    "You draw one card from a well-shuffled standard deck of 52 cards. Let $♥$ = drawing a Heart and $K$ = drawing a King.\n",
    "\n",
    "<a href=\"_playingcards.html\" target=\"_blank\"><img src=\"playingcards.svg\" alt=\"A standard deck of playing cards.\"></a>\n",
    "\n",
    "Find each of the following.\n",
    "1. $n(S)$, $n(♥)$, and $n(K)$\n",
    "2. $P(♥)$ and $P(K)$\n",
    "3. $n(♥ \\text{ AND } K)$ and $n(♥ \\text{ OR } K)$\n",
    "4. $P(♥ \\text{ AND } K)$ and $P(♥ \\text{ OR } K)$\n",
    "5. $P(♥|K)$ and $P(K|♥)$\n",
    "\n",
    "#### Solution ####\n",
    "##### Part 1 #####\n",
    "$n(S) = 52$\n",
    "\n",
    "$n(♥) = 13$\n",
    "\n",
    "$n(K) = 4$\n",
    "\n",
    "##### Part 2 #####\n",
    "$P(♥) = \\dfrac{n(♥)}{n(S)} = \\dfrac{13}{52} = 0.25$<br>\n",
    "So there is a 25% chance that the card you draw is a Heart.\n",
    "\n",
    "$P(K) = \\dfrac{n(K)}{n(S)} = \\dfrac{4}{52} = 0.0769$</br>\n",
    "So there is a 7.69% chance that the card you draw is a King.\n",
    "\n",
    "##### Part 3 #####\n",
    "$n(♥ \\text{ AND } K) = 1$\n",
    "\n",
    "$n(♥ \\text{ OR } K) = 16$\n",
    "\n",
    "##### Part 4 #####\n",
    "$P(♥ \\text{ AND } K) = \\dfrac{n(♥ \\text{ AND } K)}{n(S)} = \\dfrac{1}{52} = 0.0192$<br>\n",
    "So there is a 1.92% chance that the card you draw is the King of Hearts.\n",
    "\n",
    "$n(♥ \\text{ OR } K) = \\dfrac{n(♥ \\text{ OR } K)}{n(S)} = \\dfrac{16}{52} = 0.3077$<br>\n",
    "So there is a 30.77% chance the the card you draw is either a Heart or a King (or both).\n",
    "\n",
    "##### Part 5 #####\n",
    "$P(♥|K) = \\dfrac{n(♥ \\text{ AND } K)}{n(K)} = \\dfrac{1}{4} = 0.25$<br>\n",
    "So if you draw a card and you aleady know that it is a King, there is a 25% chance that it is also a Heart.\n",
    "\n",
    "$P(K|♥) = \\dfrac{n(K \\text{ AND } ♥)}{n(♥)} = \\dfrac{1}{13} = 0.0769$<br>\n",
    "So if you draw a card and you already know that it is a Heart, there is a 7.69% chance that it is also a King."
   ]
  },
  {
   "cell_type": "markdown",
   "metadata": {},
   "source": [
    "***"
   ]
  },
  {
   "cell_type": "markdown",
   "metadata": {},
   "source": [
    "### Example 3.1.3"
   ]
  },
  {
   "cell_type": "code",
   "execution_count": null,
   "metadata": {},
   "outputs": [],
   "source": [
    "#**VID=ZONr5za7_Vc**#"
   ]
  },
  {
   "cell_type": "markdown",
   "metadata": {},
   "source": [
    "***"
   ]
  },
  {
   "cell_type": "markdown",
   "metadata": {},
   "source": [
    "<small style=\"color:gray\"><b>License:</b> This work is licensed under a [Creative Commons Attribution 4.0 International](https://creativecommons.org/licenses/by/4.0/) license.</small>\n",
    "\n",
    "<small style=\"color:gray\"><b>Author:</b> Taylor Baldwin, Mt. San Jacinto College</small>\n",
    "\n",
    "<small style=\"color:gray\"><b>Adapted From:</b> <i>Introductory Statistics</i>, by Barbara Illowsky and Susan Dean. Access for free at [https://openstax.org/books/introductory-statistics/pages/1-introduction](https://openstax.org/books/introductory-statistics/pages/1-introduction).</small>"
   ]
  }
 ],
 "metadata": {
  "kernelspec": {
   "display_name": "R",
   "language": "R",
   "name": "ir"
  },
  "language_info": {
   "codemirror_mode": "r",
   "file_extension": ".r",
   "mimetype": "text/x-r-source",
   "name": "R",
   "pygments_lexer": "r",
   "version": "3.6.1"
  }
 },
 "nbformat": 4,
 "nbformat_minor": 2
}
