{
 "cells": [
  {
   "cell_type": "markdown",
   "metadata": {},
   "source": [
    "# 3.2 Multiplication Rules and Independent Events #"
   ]
  },
  {
   "cell_type": "markdown",
   "metadata": {},
   "source": [
    "## Objectives ##\n",
    "- Apply probability and counting rules (including addition and multiplication rules) as pertaining to both continuous random variables and discrete random variables.\n",
    "- Analyze an application in the disciplines business, social sciences, psychology, life sciences, health science, and education, and utilize the correct statistical processes to arrive at a solution."
   ]
  },
  {
   "cell_type": "markdown",
   "metadata": {},
   "source": [
    "## The Multiplication Rule ##\n",
    "Recall the general formulas for conditional probability:\n",
    "\n",
    "$$P(A|B) = \\frac{P(A\\text{ AND }B)}{P(B)}, \\hspace{1cm} P(B|A) = \\frac{P(A\\text{ AND }B)}{P(A)}.$$\n",
    "\n",
    "By multiplying $P(B)$ to the other side of the first equation and $P(A)$ to the other side of the second equation, we obtain the **multiplication rules**\n",
    "\n",
    "$$P(A\\text{ AND }B) = P(A|B)P(B),$$\n",
    "$$P(A\\text{ AND }B) = P(B|A)P(A).$$\n",
    "\n",
    "We can use either rule to calculate $P(A\\text{ AND }B)$."
   ]
  },
  {
   "cell_type": "markdown",
   "metadata": {},
   "source": [
    "***"
   ]
  },
  {
   "cell_type": "markdown",
   "metadata": {},
   "source": [
    "\n",
    "### Example 3.2.1 ###\n",
    "Carlos plays college soccer. He makes a goal 65% of the time he shoots. Carlos is going to attempt two goals in a row in the next game. $A$ = the event Carlos is successful on his first attempt. $P(A) = 0.65$. $B$ = the event Carlos is successful on his second attempt. $P(B) = 0.65$. Carlos tends to shoot in streaks. The probability that he makes the second goal GIVEN that he made the first goal is 0.90. What is the probability that Carlos makes both goals?\n",
    "\n",
    "#### Solution ####\n",
    "Let's first translate this problem into math. We know that\n",
    "\n",
    "$$ P(A) = 0.65, P(B) = 0.65.$$\n",
    "\n",
    "We are told that the probability that Carlos makes the second goal GIVEN that he made his first goal is 0.90. Mathematically, that means\n",
    "\n",
    "$$ P(B|A) = 0.90. $$\n",
    "\n",
    "We want to find the probability that Carlos makes both goals; that is, we want to find\n",
    "\n",
    "$$ P(A \\text{ AND } B). $$\n",
    "\n",
    "We know by the formula that\n",
    "\n",
    "$$ P(A \\text{ AND } B) = P(A|B)P(B),$$\n",
    "\n",
    "but we don't know what $P(A|B)$ is. (Remember $P(A|B) \\neq P(B|A)$.) Instead, have $A$ and $B$ swap places:\n",
    "\n",
    "$$P(A \\text{ AND } B) = P(B \\text{ AND } A) = P(B|A)P(A) = 0.90\\cdot 0.65 = 0.585.$$\n",
    "\n",
    "We calculate that Carlos has a 58.5% chance of making both the first and the second goals.\n"
   ]
  },
  {
   "cell_type": "markdown",
   "metadata": {},
   "source": [
    "***"
   ]
  },
  {
   "cell_type": "markdown",
   "metadata": {},
   "source": [
    "## Independent Events ##\n",
    "We say that events $A$ and $B$ are **independent** if:\n",
    "- $P(A|B) = P(A)$\n",
    "- $P(B|A) = P(B)$\n",
    "\n",
    "In words, this means that whether or not event $B$ occurs has no impact on the probability of $A$; the likelihood that event $A$ happens is independent of $B$. Note, you need only show that **one** of the above conditions is satisfied to establish that the events are independent; if either one of the conditions is satisfied, then the other condition is true as well. If two events are NOT independent, then we say that they are **dependent**.\n",
    "\n",
    "Since $P(A|B) = P(A)$ when $A$ and $B$ are independent, our multiplication rule $P(A\\text{ AND }B) = P(A|B)P(B)$ above simplifies to\n",
    "\n",
    "$$ P(A \\text{ AND } B) = P(A)P(B). $$\n",
    "\n",
    "in the case where $A$ and $B$ are independent.\n",
    "\n",
    "The day of the week and rain are independent events: it's just as likely to rain on a Tuesday as it is to rain on a Friday. The outcome of the first event (which day of the week it is) does not affect the probability of the second event (whether or not it rains).\n",
    "\n",
    "Drawing one card, then drawing another card without putting the first card back is an example of two events that are dependent. If you draw an Ace of Spades for your first card, you can't draw an Ace of Spades for your second draw; the probability of the second event depends on the outcome of the first event.\n",
    "\n",
    "If it is not known whether A and B are independent or dependent, **assume they are dependent until you can show otherwise**."
   ]
  },
  {
   "cell_type": "markdown",
   "metadata": {},
   "source": [
    "***"
   ]
  },
  {
   "cell_type": "markdown",
   "metadata": {},
   "source": [
    "\n",
    "### Example 3.2.2 ###\n",
    "Felicity attends Modesto JC in Modesto, CA. The probability that Felicity enrolls in a math class is 0.2 and the probability that she enrolls in a speech class is 0.65. The probability that she enrolls in a math class GIVEN that she enrolls in speech class is 0.25.\n",
    "\n",
    "Let: $M$ = math class, $S$ = speech class\n",
    "\n",
    "1. Are $M$ and $S$ independent events?\n",
    "1. What is the probability that Felicity enrolls in math and speech?\n",
    "\n",
    "#### Solution ####\n",
    "Start by translating the problem into math:\n",
    "\n",
    "$P(M) = 0.2$\n",
    "\n",
    "$P(S) = 0.65$\n",
    "\n",
    "$P(M|S) = 0.25$\n",
    "\n",
    "##### Part 1 #####\n",
    "Events $M$ and $S$ are independent if $P(M|S) = P(M)$ or $P(S|M) = P(S)$. In this case, we know only $P(M|S)$. But\n",
    "$$ P(M|S) = 0.25 \\neq 0.2 = P(M), $$\n",
    "so $M$ and $S$ are *not* independent events.\n",
    "\n",
    "##### Part 2 #####\n",
    "Since $M$ and $S$ are not independent events, we must use the general multiplication rule, not the simpler multiplication rule for independent events. Thus,\n",
    "\n",
    "$$P(M\\text{ AND }S) = P(M|S)P(S) = 0.25\\cdot 0.65 = 0.1625. $$\n",
    "\n",
    "There is a $16.25\\%$ chance that Felicity enrolls in math and speech.\n"
   ]
  },
  {
   "cell_type": "markdown",
   "metadata": {},
   "source": [
    "***"
   ]
  },
  {
   "cell_type": "markdown",
   "metadata": {},
   "source": [
    "### Example 3.2.3 ###\n",
    "Esmeralda plays a game where she flips a coin then rolls a six-sided die. She wins if the coin comes up heads and the die comes up 4. \n",
    "- What is the probability that Esmeralda wins the game?\n",
    "- What is the probability that Esmeralda loses the game?\n",
    "\n",
    "#### Solution ####\n",
    "##### Part 1 #####\n",
    "Let $H$ = the event that the coin comes up heads and $F$ = the event that the die comes up 4. We want to find $P(H\\text{ AND }F)$. Note, though, that these two events are obviously independent: what happens on the coin flip will not change the probability on the die roll. So we can use the simpler multiplication rule for independent events:\n",
    "$$ P(H\\text{ AND }F) = P(H)P(F). $$\n",
    "We calculate that $P(H) = \\frac{1}{2}$ and $P(F) = \\frac{1}{6}$, so that\n",
    "$$ P(H\\text{ AND }F) = P(H)P(F) = \\frac{1}{2} \\cdot \\frac{1}{6} = \\frac{1}{12} = 0.0833. $$\n",
    "So there is an 8.33% chance that Esmeralda wins the game.\n",
    "\n",
    "##### Part 2 #####\n",
    "Note that there is a 100% chance (a probability of 1.00) that Esmeralda either wins the game or loses the game, since those are the only two possibilities. Because the probability that Esmeralda wins the game is 0.0833, the probability that Esmeralda loses the game is\n",
    "$$ 1.00 - 0.0833 = 0.9167. $$\n",
    "So there is a 91.67% chance that Esmeralda will lose the game.\n"
   ]
  },
  {
   "cell_type": "markdown",
   "metadata": {},
   "source": [
    "***"
   ]
  },
  {
   "cell_type": "markdown",
   "metadata": {},
   "source": [
    "### Example 3.2.4"
   ]
  },
  {
   "cell_type": "code",
   "execution_count": null,
   "metadata": {},
   "outputs": [],
   "source": [
    "#**VID=30FqJXopZoo**#"
   ]
  },
  {
   "cell_type": "markdown",
   "metadata": {},
   "source": [
    "***"
   ]
  },
  {
   "cell_type": "markdown",
   "metadata": {},
   "source": [
    "## Sampling With Replacement and Without Replacement ##\n",
    "Sampling may be done **with replacement** or **without replacement**.\n",
    "\n",
    "- **With replacement**: If each member of a population is replaced after it is picked, then that member has the possibility of being chosen more than once. When sampling is done with replacement, then events are considered to be independent, meaning the result of the first pick will not change the probabilities for the second pick.\n",
    "- **Without replacement**: When sampling is done without replacement, each member of a population may be chosen only once. In this case, the probabilities for the second pick are affected by the result of the first pick. The events are considered to be dependent."
   ]
  },
  {
   "cell_type": "markdown",
   "metadata": {},
   "source": [
    "***"
   ]
  },
  {
   "cell_type": "markdown",
   "metadata": {},
   "source": [
    "\n",
    "### Example 3.2.5 ###\n",
    "You have a fair, well-shuffled <a href=\"_playingcards.html\" target=\"_blank\">deck of 52 cards</a>. You draw two cards from the deck. Find the probability that the two cards you draw are both Queens if you draw the cards\n",
    "1. with replacement.\n",
    "2. without replacement.\n",
    "\n",
    "#### Solution ####\n",
    "Let $Q_1$ = the event where the first card you draw is a Queen and $Q_2$ = the event where the second card you draw is a Queen.\n",
    "\n",
    "##### Part 1 #####\n",
    "You are drawing two cards *with replacement*, meaning you draw the first card from the deck, then put the card back in the deck and re-shuffle before drawing the second card. So these two events are independent. So we calculate\n",
    "$$ P(Q_1 \\text{ AND }Q_2) = P(Q_1)P(Q_2) = \\frac{4}{52} \\cdot \\frac{4}{52} = \\frac{16}{2704} = 0.0059. $$\n",
    "There is a 0.59% chance that the two cards you draw are both Queens if you draw the cards with replacement.\n",
    "\n",
    "##### Part 2 #####\n",
    "You are drawing two cards *without replacement*, so we must assume the two events are dependent. First, note that $P(Q_1) = \\frac{4}{52}$ since there are 4 Queens and 52 total cards in the deck. But observe that $P(Q_2|Q_1) = \\frac{3}{51}$; given that we already drew a Queen from the deck and didn't put it back, we have only 3 Queens left in a deck that still has 51 cards. Therefore,\n",
    "$$ P(Q_1 \\text{ AND } Q_2) = P(Q_2|Q_1)P(Q_1) = \\frac{3}{51} \\cdot \\frac{4}{52} = \\frac{12}{2652} = 0.0045.$$\n",
    "So there is a 0.45% chance that the two cards you draw are both Queens if you draw the cards without replacement."
   ]
  },
  {
   "cell_type": "markdown",
   "metadata": {},
   "source": [
    "***"
   ]
  },
  {
   "cell_type": "markdown",
   "metadata": {},
   "source": [
    "### Example 3.2.6"
   ]
  },
  {
   "cell_type": "code",
   "execution_count": null,
   "metadata": {},
   "outputs": [],
   "source": [
    "#**VID=rbiVhiIh5Pw**#"
   ]
  },
  {
   "cell_type": "markdown",
   "metadata": {},
   "source": [
    "***"
   ]
  },
  {
   "cell_type": "markdown",
   "metadata": {},
   "source": [
    "<small style=\"color:gray\"><b>License:</b> This work is licensed under a [Creative Commons Attribution 4.0 International](https://creativecommons.org/licenses/by/4.0/) license.</small>\n",
    "\n",
    "<small style=\"color:gray\"><b>Author:</b> Taylor Baldwin, Mt. San Jacinto College</small>\n",
    "\n",
    "<small style=\"color:gray\"><b>Adapted From:</b> <i>Introductory Statistics</i>, by Barbara Illowsky and Susan Dean. Access for free at [https://openstax.org/books/introductory-statistics/pages/1-introduction](https://openstax.org/books/introductory-statistics/pages/1-introduction).</small>"
   ]
  }
 ],
 "metadata": {
  "kernelspec": {
   "display_name": "R",
   "language": "R",
   "name": "ir"
  },
  "language_info": {
   "codemirror_mode": "r",
   "file_extension": ".r",
   "mimetype": "text/x-r-source",
   "name": "R",
   "pygments_lexer": "r",
   "version": "3.6.1"
  }
 },
 "nbformat": 4,
 "nbformat_minor": 2
}
