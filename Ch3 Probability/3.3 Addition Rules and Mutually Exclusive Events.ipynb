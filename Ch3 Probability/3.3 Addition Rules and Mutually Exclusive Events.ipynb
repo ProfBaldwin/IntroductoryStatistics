{
 "cells": [
  {
   "cell_type": "markdown",
   "metadata": {},
   "source": [
    "# 3.3 Addition Rules and Mutually Exclusive Events"
   ]
  },
  {
   "cell_type": "markdown",
   "metadata": {},
   "source": [
    "## Objectives ##\n",
    "- Apply probability and counting rules (including addition and multiplication rules) as pertaining to both continuous random variables and discrete random variables.\n",
    "- Analyze an application in the disciplines business, social sciences, psychology, life sciences, health science, and education, and utilize the correct statistical processes to arrive at a solution."
   ]
  },
  {
   "cell_type": "markdown",
   "metadata": {},
   "source": [
    "## The Addition Rule ##\n",
    "Given two events $A$ and $B$, we would like to know how to calculate $P(A\\text{ OR }B)$, the probability that the outcome is in event $A$ or in event $B$. We know the probability that the outcome is in event $A$ is $P(A)$ and the probability that the outcome is in event $B$ is $P(B)$, so it may be reasonable to conclude that we can calculate $P(A\\text{ OR }B)$ by simply adding $P(A)$ and $P(B)$. But this isn't quite right.\n",
    "\n",
    "<img src=\"venn1.svg\" alt=\"Venn diagram of events A and B showing the intersection of the two events.\" width=\"600px\">\n",
    "\n",
    "Observe from the Venn Diagram that generally event $A$ and event $B$ share some outcomes. The set of shared outcomes is event $A\\text{ AND }B$. We count the set of shared outcomes $A\\text{ AND }B$ once when we calculate $P(A)$, then *again* when we calculate $P(B)$, meaning we count the probability of the outcomes in $A\\text{ AND }B$ *twice*. We only want to count each outcome *once*. To correct this, we need to subtract the excess: since we counted $P(A\\text{ AND }B)$ twice instead of just once, we need to subtract $P(A\\text{ AND }B)$ once to remove the excess. This gives us our **addition rule**:\n",
    "\n",
    "$$ P(A\\text{ OR } B) = P(A) + P(B) - P(A\\text{ AND }B). $$\n",
    "\n",
    "This equation can be expressed visually as\n",
    "\n",
    "<img src=\"venn2.svg\" alt=\"Venn diagram version of the addition rule.\" width=\"100%\">"
   ]
  },
  {
   "cell_type": "markdown",
   "metadata": {},
   "source": [
    "***"
   ]
  },
  {
   "cell_type": "markdown",
   "metadata": {},
   "source": [
    "\n",
    "### Example 3.3.1 ###\n",
    "Carlos plays college soccer. He makes a goal 65% of the time he shoots. Carlos is going to attempt two goals in a row in the next game. $A$ = the event Carlos is successful on his first attempt. $P(A) = 0.65$. $B$ = the event Carlos is successful on his second attempt. $P(B) = 0.65$. Carlos tends to shoot in streaks. The probability that he makes the second goal GIVEN that he made the first goal is 0.90.\n",
    "1. What is the probability that Carlos makes both goals?\n",
    "2. What is the probability that Carlos makes the first goal or the second goal (or both)?\n",
    "\n",
    "#### Solution ####\n",
    "##### Part 1 #####\n",
    "Recall that we solved part 1 in the previous section. We calculated\n",
    "\n",
    "$$P(A\\text{ and }B) = P(B|A)P(A) = 0.90(0.65) = 0.585.$$\n",
    "\n",
    "##### Part 2 #####\n",
    "We want to find $P(A\\text{ OR }B)$. Using the addition rule, we calculate\n",
    "\n",
    "$$ P(A\\text{ OR }B) = P(A) + P(B) - P(A\\text{ AND }B) = 0.65 + 0.65 - 0.585 = 0.715.$$\n",
    "\n",
    "So there is a 71.5% chance that Carlos makes his first goal or his second goal.\n"
   ]
  },
  {
   "cell_type": "markdown",
   "metadata": {},
   "source": [
    "***"
   ]
  },
  {
   "cell_type": "markdown",
   "metadata": {},
   "source": [
    "## Mutually Exclusive Events ##\n",
    "$A$ and $B$ are **mutually exclusive** events if they cannot occur at the same time. This means that $A$ and $B$ do not share any outcomes and P(A AND B) = 0. In terms of a Venn diagram, there is no overlap between the circles representing the two events.\n",
    "\n",
    "For example, suppose the sample space $S = \\{1, 2, 3, 4, 5, 6, 7, 8, 9, 10\\}$. Let $A = \\{1, 2, 3, 4, 5\\}$, $B = \\{4, 5, 6, 7, 8\\}$, and $C = \\{7, 9\\}$. $A \\text{ AND }B = \\{4, 5\\}$. $P(A\\text{ AND }B) = 210$ and is not equal to zero. Therefore, A and B are not mutually exclusive. $A$ and $C$ do not have any numbers in common so $P(A\\text{ AND }C) = 0$. Therefore, $A$ and $C$ are mutually exclusive.\n",
    "\n",
    "If it is not known whether two events $A$ and $B$ are mutually exclusive, **assume they are not until you can show otherwise**.\n",
    "\n",
    "If $A\\text{ AND }B$ are mutually exclusive, then the addition rule simplifies to\n",
    "\n",
    "$$ P(A\\text{ OR } B) = P(A) + P(B) $$\n",
    "\n",
    "since $P(A\\text{ AND }B) = 0$."
   ]
  },
  {
   "cell_type": "markdown",
   "metadata": {},
   "source": [
    "***"
   ]
  },
  {
   "cell_type": "markdown",
   "metadata": {},
   "source": [
    "\n",
    "### Example 3.3.2 ###\n",
    "Studies show that about one woman in seven (approximately 14.3%) who live to be 90 will develop breast cancer. Suppose that of those women who develop breast cancer, a test is negative 2% of the time. Also suppose that in the general population of women, the test for breast cancer is negative about 85% of the time. Let B = woman develops breast cancer and let N = tests negative. Suppose one woman is selected at random.\n",
    "1. What is the probability that the woman develops breast cancer? What is the probability that woman tests negative?\n",
    "2. Given that the woman has breast cancer, what is the probability that she tests negative?\n",
    "3. What is the probability that the woman has breast cancer AND tests negative?\n",
    "4. Are $B$ and $N$ mutually exclusive?\n",
    "5. What is the probability that the woman has breast cancer or tests negative?\n",
    "\n",
    "#### Solution ####\n",
    "##### Part 1 #####\n",
    "$ P(B) = 0.143 $\n",
    "\n",
    "$ P(N) = 0.85 $\n",
    "\n",
    "##### Part 2 #####\n",
    "$ P(N|B) = 0.02 $\n",
    "\n",
    "##### Part 3 #####\n",
    "$ P(B\\text{ AND }N) = P(N|B)P(B) = 0.02(0.143) = 0.0029 $\n",
    "\n",
    "##### Part 4 #####\n",
    "$B$ and $N$ are NOT mutually exclusive since $P(B\\text{ AND }N) = 0.0029 \\neq 0$.\n",
    "\n",
    "##### Part 5 #####\n",
    "Since $B$ and $N$ are not mutually exclusive, we calculate\n",
    "$$ P(B\\text{ OR }N) = P(B) + P(N) - P(B\\text{ AND } N) = 0.143 + 0.85 - 0.0029 = 0.9901.$$"
   ]
  },
  {
   "cell_type": "markdown",
   "metadata": {},
   "source": [
    "***"
   ]
  },
  {
   "cell_type": "markdown",
   "metadata": {},
   "source": [
    "\n",
    "### Example 3.3.3 ###\n",
    "An urn has 5 red marbles, 3 blue marbles, and 6 green marbles, and 6 yellow marbles. Seamus pulls one marble at random out of the urn. What is the probability that the marble is red or blue?\n",
    "\n",
    "#### Solution ####\n",
    "Let $R$ = the event of drawing a red marble and $B$ = the event of drawing a blue marble. First, note that $R$ and $B$ are mutually exclusive: the marble Seamus pulls out can't be both red and blue at the same time, so $P(R\\text{ AND } B) = 0$. Thus,\n",
    "\n",
    "$$P(R\\text{ OR } B) = P(R) + P(B) = \\frac{5}{20} + \\frac{3}{20} = \\frac{8}{20} = 0.4. $$"
   ]
  },
  {
   "cell_type": "markdown",
   "metadata": {},
   "source": [
    "***"
   ]
  },
  {
   "cell_type": "markdown",
   "metadata": {},
   "source": [
    "### Example 3.3.4"
   ]
  },
  {
   "cell_type": "code",
   "execution_count": null,
   "metadata": {},
   "outputs": [],
   "source": [
    "#**VID=--UL4pRbrpw**#"
   ]
  },
  {
   "cell_type": "markdown",
   "metadata": {},
   "source": [
    "***"
   ]
  },
  {
   "cell_type": "markdown",
   "metadata": {},
   "source": [
    "<small style=\"color:gray\"><b>License:</b> This work is licensed under a [Creative Commons Attribution 4.0 International](https://creativecommons.org/licenses/by/4.0/) license.</small>\n",
    "\n",
    "<small style=\"color:gray\"><b>Author:</b> Taylor Baldwin, Mt. San Jacinto College</small>\n",
    "\n",
    "<small style=\"color:gray\"><b>Adapted From:</b> <i>Introductory Statistics</i>, by Barbara Illowsky and Susan Dean. Access for free at [https://openstax.org/books/introductory-statistics/pages/1-introduction](https://openstax.org/books/introductory-statistics/pages/1-introduction).</small>"
   ]
  }
 ],
 "metadata": {
  "kernelspec": {
   "display_name": "R",
   "language": "R",
   "name": "ir"
  },
  "language_info": {
   "codemirror_mode": "r",
   "file_extension": ".r",
   "mimetype": "text/x-r-source",
   "name": "R",
   "pygments_lexer": "r",
   "version": "3.6.1"
  }
 },
 "nbformat": 4,
 "nbformat_minor": 2
}
