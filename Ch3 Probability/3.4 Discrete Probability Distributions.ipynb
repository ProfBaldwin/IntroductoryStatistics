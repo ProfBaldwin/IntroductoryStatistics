{
 "cells": [
  {
   "cell_type": "markdown",
   "metadata": {},
   "source": [
    "# 3.4 Discrete Probability Distributions #"
   ]
  },
  {
   "cell_type": "markdown",
   "metadata": {},
   "source": [
    "## Objectives ##\n",
    "- Apply probability and counting rules (including addition and multiplication rules) as pertaining to both continuous random variables and discrete random variables.\n",
    "- Analyze an application in the disciplines business, social sciences, psychology, life sciences, health science, and education, and utilize the correct statistical processes to arrive at a solution."
   ]
  },
  {
   "cell_type": "markdown",
   "metadata": {},
   "source": [
    "## A Discrete Probability Distribution Function ##\n",
    "A **discrete probability distribution function** has two characteristics:\n",
    "\n",
    "1. Each probability is between zero and one, inclusive.\n",
    "2. The sum of the probabilities is one.\n"
   ]
  },
  {
   "cell_type": "markdown",
   "metadata": {},
   "source": [
    "***"
   ]
  },
  {
   "cell_type": "markdown",
   "metadata": {},
   "source": [
    "\n",
    "### Example 3.4.1 ###\n",
    "A child psychologist is interested in the number of times a newborn baby's crying wakes its mother after midnight. For a random sample of 50 mothers, the following information was obtained. Let $X$ = the number of times per week a newborn baby's crying wakes its mother after midnight. For this example, $x = 0, 1, 2, 3, 4, 5$.\n",
    "\n",
    "$P(x)$ = probability that $X$ takes on a value $x$.\n",
    "\n",
    "|x\t|P(x)|\n",
    "|--|--|\n",
    "|0\t|P(x = 0) =  $\\dfrac{2}{50}$| \n",
    "|1\t|P(x = 1) =  $\\dfrac{11}{50}$|\n",
    "|2\t|P(x = 2) =  $\\dfrac{23}{50}$ |\n",
    "|3\t|P(x = 3) =  $\\dfrac{9}{50}$ |\n",
    "|4\t|P(x = 4) =  $\\dfrac{4}{50}$ |\n",
    "|5\t|P(x = 5) =  $\\dfrac{1}{50}$|\n",
    "\n",
    "$X$ takes on the values 0, 1, 2, 3, 4, 5. This is a discrete PDF because:\n",
    "\n",
    "1. Each $P(x)$ is between zero and one, inclusive.\n",
    "2. The sum of the probabilities is one, that is,\n",
    "$$ \\frac{2}{50} + \\frac{11}{50} + \\frac{23}{50} + \\frac{9}{50} + \\frac{4}{50} + \\frac{1}{50} = 1 $$"
   ]
  },
  {
   "cell_type": "markdown",
   "metadata": {},
   "source": [
    "***"
   ]
  },
  {
   "cell_type": "markdown",
   "metadata": {},
   "source": [
    "\n",
    "### Example 3.4.2 ###\n",
    "Suppose Nancy has classes **three days** a week. She attends classes **three days a week 80%** of the time, **two days 15%** of the time, **one day 4%** of the time, and **no days 1%** of the time. Suppose one week is randomly selected.\n",
    "\n",
    "1. What is $X$?\n",
    "2. $X$ takes on what values?\n",
    "3. Construct a probability distirbution table like the one in example 4.1. The table should have two columns labeled $x$ and $P(x)$. What does the $P(x)$ column sum up to?\n",
    "\n",
    "#### Solution ####\n",
    "##### Part 1 #####\n",
    "$X$ = the number of days Nancy attends class.\n",
    "\n",
    "##### Part 2 #####\n",
    "$X$ takes on the values $x = 0, 1, 2, 3$.\n",
    "\n",
    "##### Part 3 #####\n",
    "|x\t|P(x)|\n",
    "|--|--|\n",
    "|0\t|0.01|\n",
    "|1\t|0.04|\n",
    "|2\t|0.15|\n",
    "|3\t|0.80|\n",
    "\n",
    "If we add up the values in the $P(x)$ column, we get\n",
    "$$0.01 + 0.04 + 0.15 + 0.80 = 1.00$$\n",
    "\n"
   ]
  },
  {
   "cell_type": "markdown",
   "metadata": {},
   "source": [
    "***"
   ]
  },
  {
   "cell_type": "markdown",
   "metadata": {},
   "source": [
    "## Expected Value ##\n",
    "The **expected value** is often referred to as the **\"long-term\" average or mean**. This means that over the long term of doing an experiment over and over, you would **expect** this average.\n",
    "\n",
    "You toss a coin and record the result. What is the probability that the result is heads? If you flip a coin two times, does probability tell you that these flips will result in one heads and one tail? You might toss a fair coin ten times and record nine heads. Recall that probability does not describe the short-term results of an experiment. It gives information about what can be expected in the long term. To demonstrate this, Karl Pearson once tossed a fair coin 24,000 times! He recorded the results of each toss, obtaining heads 12,012 times. **In his experiment, Pearson illustrated the Law of Large Numbers**.\n",
    "\n",
    "**The Law of Large Numbers** states that, as the number of trials in a probability experiment increases, the difference between the theoretical probability of an event and the relative frequency approaches zero **(the theoretical probability and the relative frequency get closer and closer together)**. When evaluating the long-term results of statistical experiments, we often want to know the “average” outcome. This “long-term average” is known as the **mean** or **expected value** of the experiment and is denoted by the Greek letter $\\mu$. In other words, after conducting many trials of an experiment, you would expect this average value.\n",
    "\n",
    "The expected value of a discrete probability distribution function can be found using the formula\n",
    "$$ \\mu = \\sum xP(x) $$\n",
    "In words, we multiply each value $x$ by the probability $P(x)$ that the value will occur. Then we add up the products $xP(x)$."
   ]
  },
  {
   "cell_type": "markdown",
   "metadata": {},
   "source": [
    "***"
   ]
  },
  {
   "cell_type": "markdown",
   "metadata": {},
   "source": [
    "\n",
    "### Example 3.4.3 ###\n",
    "A men's soccer team plays soccer zero, one, or two days a week. The probability that they play zero days is 0.2, the probability that they play one day is 0.5, and the probability that they play two days is 0.3. Find the long-term average or expected value, $\\mu$, of the number of days per week the men's soccer team plays soccer.\n",
    "\n",
    "#### Solution ####\n",
    "\n",
    "$X$ = the number of days the men's soccer team plays soccer per week. $X$ takes on the values 0, 1, 2 and has the probability distribution table below.\n",
    "\n",
    "|x|P(x)|\n",
    "|--|--|\n",
    "|0\t|0.2|\t\n",
    "|1\t|0.5|\t\n",
    "|2\t|0.3|\n",
    "\n",
    "We will use R to find the expected value."
   ]
  },
  {
   "cell_type": "code",
   "execution_count": 1,
   "metadata": {},
   "outputs": [
    {
     "data": {
      "text/html": [
       "1.1"
      ],
      "text/latex": [
       "1.1"
      ],
      "text/markdown": [
       "1.1"
      ],
      "text/plain": [
       "[1] 1.1"
      ]
     },
     "metadata": {},
     "output_type": "display_data"
    }
   ],
   "source": [
    "x = c(0, 1, 2)\n",
    "Px = c(0.2, 0.5, 0.3)\n",
    "\n",
    "mu = sum(x*Px)\n",
    "mu"
   ]
  },
  {
   "cell_type": "markdown",
   "metadata": {},
   "source": [
    "The mean or expected value of the distribution is $\\mu = 1.1$ games per week.\n",
    "\n",
    "Note that the line\n",
    "```R\n",
    "xPx <- x * Px\n",
    "```\n",
    "multiplies the values in the list <code>x</code> by the corresponding probabilities in the list <code>Px</code>. The list of products is stored in <code>xPx</code>. For example, the first number in the list <code>xPx</code> is $0(0.2) = 0$, the second number is $1(0.5) = 0.5$, and the last number is $2(0.3) = 0.6$."
   ]
  },
  {
   "cell_type": "markdown",
   "metadata": {},
   "source": [
    "***"
   ]
  },
  {
   "cell_type": "markdown",
   "metadata": {},
   "source": [
    "\n",
    "### Example 3.4.4 ###\n",
    "Suppose you play a game of chance in which five numbers are chosen from 0, 1, 2, 3, 4, 5, 6, 7, 8, 9. A computer randomly selects five numbers from zero to nine with replacement. You pay \\\\$2 to play and could profit \\$100,000 if you match all five numbers in order (you get your \\$2 back plus \\$100,000). Over the long term, what is your **expected** profit of playing the game?\n",
    "\n",
    "#### Solution ####\n",
    "Let's first construct a probability distribution table. $X$ = the amount of money you profit from playing the game. The values that $X$ can take on are $x = -2$ and $x = 100,000$. (Note, since we are ultimately interested in the profit, the values are not 0, 1, 2, 3, 4, 5, 6, 7, 8, 9.)\n",
    "\n",
    "Now let's look at the probability of winning the game. Let\n",
    "- $N_1$ = the event you pick the right 1st number\n",
    "- $N_2$ = the event you pick the right 2nd number\n",
    "- $N_3$ = the event you pick the right 3rd number\n",
    "- $N_4$ = the event you pick the right 4th number\n",
    "- $N_5$ = the event you pick the right 5th number\n",
    "\n",
    "The probability that you win is\n",
    "\n",
    "$$ P(x = 100,000) = P(N_1\\text{ AND }N_2\\text{ AND }N_3\\text{ AND }N_4\\text{ AND }N_5) $$\n",
    "\n",
    "Note that since the numbers are chosen *with replacement*, $N_1$, $N_2$, $N_3$, $N_4$, and $N_5$ are all independent events. Thus\n",
    "\n",
    "$$\\begin{align}\n",
    "P(N_1\\text{ AND }N_2\\text{ AND }N_3\\text{ AND }N_4\\text{ AND }N_5) \n",
    "&= P(N_1)P(N_2)P(N_3)P(N_4)P(N_5) \\\\\n",
    "&= \\left(\\frac{1}{10}\\right)\\left(\\frac{1}{10}\\right)\\left(\\frac{1}{10}\\right)\\left(\\frac{1}{10}\\right)\\left(\\frac{1}{10}\\right)\\\\\n",
    "&= \\frac{1}{10^5} \\\\\n",
    "&= 0.00001\n",
    "\\end{align}$$\n",
    "\n",
    "So the probability that you win is $P(x = 100,000) = 0.00001$. Since there is a 100% chance that you either win or lose, the probability that you lose is\n",
    "\n",
    "$$ P(x = -2) = 1.00 - 0.00001 = 0.99999. $$\n",
    "\n",
    "The probability distribution table for this problem is\n",
    "\n",
    "|  |\tx|\tP(x)|\n",
    "|--|--|--|\n",
    "|Lose|\t–2|\t0.99999|\t\n",
    "|Win|\t100,000|\t0.00001|\n",
    "\n",
    "Now use R to calculate the expected value.\n"
   ]
  },
  {
   "cell_type": "code",
   "execution_count": 1,
   "metadata": {},
   "outputs": [
    {
     "data": {
      "text/html": [
       "-0.99998"
      ],
      "text/latex": [
       "-0.99998"
      ],
      "text/markdown": [
       "-0.99998"
      ],
      "text/plain": [
       "[1] -0.99998"
      ]
     },
     "metadata": {},
     "output_type": "display_data"
    }
   ],
   "source": [
    "x = c(-2, 100000)\n",
    "Px = c(0.99999, 0.00001)\n",
    "\n",
    "mu = sum(x*Px)\n",
    "mu"
   ]
  },
  {
   "cell_type": "markdown",
   "metadata": {},
   "source": [
    "The expected value is $\\mu = -\\$0.99998$. This means if you played this game many times, you would lose an average of about \\$1 per game."
   ]
  },
  {
   "cell_type": "markdown",
   "metadata": {},
   "source": [
    "***"
   ]
  },
  {
   "cell_type": "markdown",
   "metadata": {},
   "source": [
    "## Standard Deviation ##\n",
    "The standard deviation, $\\sigma$ of a discrete probability distribution function is\n",
    "\n",
    "$$ \\sigma = \\sqrt{\\sum\\left[(x - \\mu)^2 P(x)\\right]}, $$\n",
    "\n",
    "where $\\mu$ is the expected value of the distribution.\n",
    "\n",
    "When all outcomes in the probability distribution are equally likely, the expected value formula and the standard deviation formula above are equivalent to the mean and standard deviation formulas we learned earlier."
   ]
  },
  {
   "cell_type": "markdown",
   "metadata": {},
   "source": [
    "***"
   ]
  },
  {
   "cell_type": "markdown",
   "metadata": {},
   "source": [
    "\n",
    "### Example 3.4.5 ###\n",
    "Patients who have had an appendectomy must stay in the hospital for 1, 2, or 3 days. Patients stay in the hospital for 1 day 40% of the time, for 2 days 55% of the time, and for 3 days 5% of the time. \n",
    "\n",
    "1. How long should a patient **expect** to stay in the hospital? \n",
    "2. What is the standard deviation?\n",
    "\n",
    "#### Solution ####\n",
    "$X$ = the number of days the patient stays in the hosplital. The possible values of $X$ are $x = 1, 2, 3$. First, construct a probability distribution table.\n",
    "\n",
    "| x | P(x) |\n",
    "|--|--|\n",
    "|1 | 0.40 |\n",
    "|2 | 0.55 |\n",
    "|3 | 0.05 |\n",
    "\n",
    "##### Part 1 #####"
   ]
  },
  {
   "cell_type": "code",
   "execution_count": 1,
   "metadata": {},
   "outputs": [
    {
     "data": {
      "text/html": [
       "1.65"
      ],
      "text/latex": [
       "1.65"
      ],
      "text/markdown": [
       "1.65"
      ],
      "text/plain": [
       "[1] 1.65"
      ]
     },
     "metadata": {},
     "output_type": "display_data"
    }
   ],
   "source": [
    "x = c(1, 2, 3)\n",
    "Px = c(0.40, 0.55, 0.05)\n",
    "\n",
    "# Calculate the Mean\n",
    "mu = sum(x*Px)\n",
    "mu"
   ]
  },
  {
   "cell_type": "markdown",
   "metadata": {},
   "source": [
    "The expected value is $\\mu = 1.65$. A patient should expect to spend, on average, 1.65 days in the hospital after surgery."
   ]
  },
  {
   "cell_type": "markdown",
   "metadata": {},
   "source": [
    "##### Part 2 #####"
   ]
  },
  {
   "cell_type": "code",
   "execution_count": 2,
   "metadata": {},
   "outputs": [
    {
     "data": {
      "text/html": [
       "0.57227615711298"
      ],
      "text/latex": [
       "0.57227615711298"
      ],
      "text/markdown": [
       "0.57227615711298"
      ],
      "text/plain": [
       "[1] 0.5722762"
      ]
     },
     "metadata": {},
     "output_type": "display_data"
    }
   ],
   "source": [
    "# Calculate the Standard Deviation\n",
    "variance = sum( (x - mu)^2 * Px )\n",
    "sigma = sqrt(variance)\n",
    "sigma"
   ]
  },
  {
   "cell_type": "markdown",
   "metadata": {},
   "source": [
    "So the standard deviation is $\\sigma = 0.572$."
   ]
  },
  {
   "cell_type": "markdown",
   "metadata": {},
   "source": [
    "***"
   ]
  },
  {
   "cell_type": "markdown",
   "metadata": {},
   "source": [
    "\n",
    "### Example 3.4.6 ###\n",
    "A hospital researcher is interested in the number of times the average post-op patient will ring the nurse during a 12-hour shift. For a random sample of 50 patients, the following information was obtained.\n",
    "\n",
    "|x\t|P(x)|\n",
    "|--|--|\n",
    "|0\t|P(x = 0) =  $\\dfrac{4}{50}$ |\n",
    "|1\t|P(x = 1) =  $\\dfrac{8}{50}$ |\n",
    "|2\t|P(x = 2) =  $\\dfrac{16}{50}$ |\n",
    "|3\t|P(x = 3) =  $\\dfrac{14}{50}$ |\n",
    "|4\t|P(x = 4) =  $\\dfrac{6}{50}$ |\n",
    "|5\t|P(x = 5) =  $\\dfrac{2}{50}$|\n",
    "\n",
    "1. Find the mean.\n",
    "2. Find the standard deviation.\n",
    "\n",
    "#### Solution ####\n",
    "##### Part 1 #####\n",
    "Remember, for a probability distribution function, the mean and the expected value are the same thing."
   ]
  },
  {
   "cell_type": "code",
   "execution_count": 1,
   "metadata": {},
   "outputs": [
    {
     "data": {
      "text/html": [
       "2.32"
      ],
      "text/latex": [
       "2.32"
      ],
      "text/markdown": [
       "2.32"
      ],
      "text/plain": [
       "[1] 2.32"
      ]
     },
     "metadata": {},
     "output_type": "display_data"
    }
   ],
   "source": [
    "x = c(0, 1, 2, 3, 4, 5)\n",
    "Px = c(4/50, 8/50, 16/50, 14/50, 6/50, 2/50)\n",
    "\n",
    "# Calculate the Mean\n",
    "mu = sum(x*Px)\n",
    "mu"
   ]
  },
  {
   "cell_type": "markdown",
   "metadata": {},
   "source": [
    "The mean or expected value is $\\mu = 2.32$ times a patient will ring the nurse on average.\n",
    "\n",
    "##### Part 2 #####"
   ]
  },
  {
   "cell_type": "code",
   "execution_count": 2,
   "metadata": {},
   "outputs": [
    {
     "data": {
      "text/html": [
       "1.22376468326227"
      ],
      "text/latex": [
       "1.22376468326227"
      ],
      "text/markdown": [
       "1.22376468326227"
      ],
      "text/plain": [
       "[1] 1.223765"
      ]
     },
     "metadata": {},
     "output_type": "display_data"
    }
   ],
   "source": [
    "# Calculate the Standard Deviation\n",
    "variance <- sum( (x - mu)^2 * Px )\n",
    "sigma <- sqrt(variance)\n",
    "sigma"
   ]
  },
  {
   "cell_type": "markdown",
   "metadata": {},
   "source": [
    "The standard deviation is $\\sigma = 1.224$."
   ]
  },
  {
   "cell_type": "markdown",
   "metadata": {},
   "source": [
    "***"
   ]
  },
  {
   "cell_type": "markdown",
   "metadata": {},
   "source": [
    "### Example 3.4.7"
   ]
  },
  {
   "cell_type": "code",
   "execution_count": null,
   "metadata": {},
   "outputs": [],
   "source": [
    "#**VID=CgjMkdYCCBg**#"
   ]
  },
  {
   "cell_type": "markdown",
   "metadata": {},
   "source": [
    "***"
   ]
  },
  {
   "cell_type": "markdown",
   "metadata": {},
   "source": [
    "<small style=\"color:gray\"><b>License:</b> This work is licensed under a [Creative Commons Attribution 4.0 International](https://creativecommons.org/licenses/by/4.0/) license.</small>\n",
    "\n",
    "<small style=\"color:gray\"><b>Author:</b> Taylor Baldwin, Mt. San Jacinto College</small>\n",
    "\n",
    "<small style=\"color:gray\"><b>Adapted From:</b> <i>Introductory Statistics</i>, by Barbara Illowsky and Susan Dean. Access for free at [https://openstax.org/books/introductory-statistics/pages/1-introduction](https://openstax.org/books/introductory-statistics/pages/1-introduction).</small>"
   ]
  }
 ],
 "metadata": {
  "kernelspec": {
   "display_name": "R",
   "language": "R",
   "name": "ir"
  },
  "language_info": {
   "codemirror_mode": "r",
   "file_extension": ".r",
   "mimetype": "text/x-r-source",
   "name": "R",
   "pygments_lexer": "r",
   "version": "3.6.1"
  }
 },
 "nbformat": 4,
 "nbformat_minor": 2
}
