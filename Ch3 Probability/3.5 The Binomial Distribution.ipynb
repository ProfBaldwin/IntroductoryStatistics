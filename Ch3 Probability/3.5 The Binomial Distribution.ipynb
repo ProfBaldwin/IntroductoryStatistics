{
 "cells": [
  {
   "cell_type": "markdown",
   "metadata": {},
   "source": [
    "# 3.5 The Binomial Distribution #"
   ]
  },
  {
   "cell_type": "markdown",
   "metadata": {},
   "source": [
    "## Objectives ##\n",
    "- Apply probability and counting rules (including addition and multiplication rules) as pertaining to both continuous random variables and discrete random variables.\n",
    "- Analyze an application in the disciplines business, social sciences, psychology, life sciences, health science, and education, and utilize the correct statistical processes to arrive at a solution."
   ]
  },
  {
   "cell_type": "markdown",
   "metadata": {},
   "source": [
    "## The Binomial Distribution ##\n",
    "There are three characteristics of a binomial experiment.\n",
    "\n",
    "- There are a fixed number of trials. Think of trials as repetitions of an experiment. The letter n denotes the number of trials.\n",
    "- There are only two possible outcomes, called \"success\" and \"failure,\" for each trial. The letter $p$ denotes the probability of a success on one trial, and $q$ denotes the probability of a failure on one trial. $p + q = 1$.\n",
    "- The $n$ trials are independent and are repeated using identical conditions. Because the $n$ trials are independent, the outcome of one trial does not help in predicting the outcome of another trial. Another way of saying this is that for each individual trial, the probability, $p$, of a success and probability, $q$, of a failure remain the same. For example, randomly guessing at a true-false statistics question has only two outcomes. If a success is guessing correctly, then a failure is guessing incorrectly. Suppose Joe always guesses correctly on any statistics true-false question with probability $p = 0.6$. Then, $q = 0.4$. This means that for every true-false statistics question Joe answers, his probability of success ($p = 0.6$ and his probability of failure ($q = 0.4$) remain the same.\n",
    "The outcomes of a binomial experiment fit a **binomial probability distribution**, which is a special kind of discrete probability distribution. The random variable $X$ = the number of successes obtained in the $n$ independent trials.\n",
    "\n",
    "The mean, $\\mu$, and variance, $\\sigma^2$, for the binomial probability distribution are $\\mu = np$ and $\\sigma^2 = npq$. The standard deviation, $\\sigma$, is then $\\sigma =  \\sqrt{npq}$."
   ]
  },
  {
   "cell_type": "markdown",
   "metadata": {},
   "source": [
    "***"
   ]
  },
  {
   "cell_type": "markdown",
   "metadata": {},
   "source": [
    "\n",
    "### Example 3.5.1 ###\n",
    "At ABC College, the withdrawal rate from an elementary physics course is 30% for any given term. This implies that, for any given term, 70% of the students stay in the class for the entire term. A \"success\" could be defined as an individual who withdrew. The random variable $X$ = the number of students who withdraw from the randomly selected elementary physics class. The probability of success is $p = 0.30$ and the probability of failure is $q = 0.70$. If we track 20 students to see whether or not they withdraw, then this is a binomial experiment with $n = 20$.\n"
   ]
  },
  {
   "cell_type": "markdown",
   "metadata": {},
   "source": [
    "***"
   ]
  },
  {
   "cell_type": "markdown",
   "metadata": {},
   "source": [
    "### Example 3.5.2\n",
    "Suppose you play a game that you can only either win or lose. The probability that you win any game is 55%, and the probability that you lose is 45%. Each game you play is independent. You play the game 20 times. \n",
    "\n",
    "1. Write the function that describes the probability that you win 15 of the 20 times. \n",
    "2. Find the expected value of the distribution.\n",
    "3. Find the standard deviation of the distribution.\n",
    "\n",
    "#### Solution\n",
    "Here, if you define $X$ as the number of wins, then $X$ takes on the values 0, 1, 2, 3, ..., 20. The probability of a success is $p = 0.55$. The probability of a failure is $q = 0.45$. \n",
    "\n",
    "##### Step 1\n",
    "The number of trials is $n = 20$. The probability question can be stated mathematically as $P(x = 15)$.\n",
    "\n",
    "##### Step 2\n",
    "The expected value of the distribution is\n",
    "$$ \\mu = np = 20(0.55) = 11. $$\n",
    "\n",
    "##### Step 3\n",
    "The standard deviation of the distribution is\n",
    "$$ \\sigma = \\sqrt{npq} = \\sqrt{20(0.55)(0.45)} = 2.2249. $$"
   ]
  },
  {
   "cell_type": "markdown",
   "metadata": {},
   "source": [
    "***"
   ]
  },
  {
   "cell_type": "markdown",
   "metadata": {},
   "source": [
    "\n",
    "### Example 3.5.3\n",
    "Approximately 70% of statistics students do their homework in time for it to be collected and graded. Each student does homework independently. In a statistics class of 50 students, what is the probability that at least 40 will do their homework on time? Students are selected randomly.\n",
    "\n",
    "1. Is this a binomial problem? Why or why not?\n",
    "2. How do we define $X$?\n",
    "3. What values does $x$ take on?\n",
    "4. What is \"failure,\" in words?\n",
    "5. What is $n$? What is $p$? What is $q$?\n",
    "6. State the probability question mathematically.\n",
    "7. What is the expected value of the distribution?\n",
    "8. What is the standard deviation of the distribution?\n",
    "\n",
    "#### Solution\n",
    "##### Part 1\n",
    "This is a binomial problem because there are a fixed number of trials, there is only a success or a failure for each trial, and the trials are independent (that is, the probability of success doesn't change from trial to trial).\n",
    "\n",
    "##### Part 2\n",
    "$X$ = the number of students who do their homework on time.\n",
    "\n",
    "##### Part 3\n",
    "$x = 0, 1, 2, 3, \\ldots, 50$\n",
    "\n",
    "##### Part 4\n",
    "Failure is defined as a student who does not complete his or her homework on time.\n",
    "\n",
    "##### Part 5\n",
    "The number of trials is $n = 50$.\n",
    "\n",
    "The probability of success is $p = 0.70$.\n",
    "\n",
    "The probability of failure is $q = 0.30$.\n",
    "\n",
    "##### Part 6\n",
    "We want to know the probability that **at least** 40 will do their homework on time. We write this mathematically as $P(x \\geq 40)$.\n",
    "\n",
    "##### Part 7\n",
    "The expected value is\n",
    "$$ \\mu = np = 50(0.70) = 35 $$\n",
    "\n",
    "##### Part 8\n",
    "The standard deviation of the distribution is\n",
    "$$ \\sigma = \\sqrt{npq} = \\sqrt{50(0.70)(0.30)} = 3.2404 $$\n"
   ]
  },
  {
   "cell_type": "markdown",
   "metadata": {},
   "source": [
    "***"
   ]
  },
  {
   "cell_type": "markdown",
   "metadata": {},
   "source": [
    "## Notation and Calculation ##\n",
    "When we want to say that $X$ is a random variable with a binomial distribution, we write\n",
    "$$ X \\sim B(n, p) $$\n",
    "where $n$ is the number of trials and $p$ is the probability of success of any one trial.\n",
    "\n",
    "We can calculate the the probability of a binomial distribution using the R function\n",
    "```R\n",
    "dbinom(x, size, prob)\n",
    "```\n",
    "where <code>x</code> is the value or list of values we want to calculate the probability for, <code>size</code> is the number of trials $n$, and <code>prob</code> is the probability of success $p$ of one trial."
   ]
  },
  {
   "cell_type": "markdown",
   "metadata": {},
   "source": [
    "***"
   ]
  },
  {
   "cell_type": "markdown",
   "metadata": {},
   "source": [
    "\n",
    "### Example 3.5.4\n",
    "It has been stated that about 41% of adult workers have a high school diploma but do not pursue any further education. 20 adult workers are randomly selected.\n",
    "\n",
    "1. Find the probability that exactly 7 of the 20 workers have a high school diploma but do not pursue further education.\n",
    "2. Find the probability that at most 4 workers have a high school diploma but do not pursue further education.\n",
    "3. Find the probability that more than 15 workers have a high school diploma but do not pursue further education.\n",
    "4. Find the probability that more than 8 but less than 18 workers have a high school diploma but do not pursue further education.\n",
    "\n",
    "#### Solution\n",
    "For this problem, $X$ = the number of workers, of the 20 selected, that have a high school diploma but do not pursue further education. The number of trials is $n = 20$, and the probability of \"success\" is $p = 0.41$. So\n",
    "$$ X \\sim B(20, 0.41) $$\n",
    "\n",
    "##### Part 1\n",
    "We want to find $P(x = 7)$. Simply use the <code>dbinom</code> function."
   ]
  },
  {
   "cell_type": "code",
   "execution_count": 1,
   "metadata": {},
   "outputs": [
    {
     "data": {
      "text/html": [
       "0.158480894003918"
      ],
      "text/latex": [
       "0.158480894003918"
      ],
      "text/markdown": [
       "0.158480894003918"
      ],
      "text/plain": [
       "[1] 0.1584809"
      ]
     },
     "metadata": {},
     "output_type": "display_data"
    }
   ],
   "source": [
    "dbinom(x = 7, size = 20, prob = 0.41)"
   ]
  },
  {
   "cell_type": "markdown",
   "metadata": {},
   "source": [
    "The probability that exactly 7 of the 20 adults have a high school diploma but do not pursue further education is $P(x = 7) = 0.1585$, or 15.85%.\n",
    "\n",
    "##### Part 2\n",
    "We want to find $P(x \\leq 4)$. In other words, we want to know the probability that $x$ is 0 or 1 or 2 or 3 or 4. We will again use the <code>dbinom</code> function, but instead of passing a single value, we will pass a list of values. Let's first see how this works."
   ]
  },
  {
   "cell_type": "code",
   "execution_count": 1,
   "metadata": {},
   "outputs": [
    {
     "data": {
      "text/html": [
       "<ol class=list-inline>\n",
       "\t<li>2.6124033550459e-05</li>\n",
       "\t<li>0.000363079788328412</li>\n",
       "\t<li>0.00239694199243926</li>\n",
       "\t<li>0.00999402932440777</li>\n",
       "\t<li>0.0295162645725093</li>\n",
       "</ol>\n"
      ],
      "text/latex": [
       "\\begin{enumerate*}\n",
       "\\item 2.6124033550459e-05\n",
       "\\item 0.000363079788328412\n",
       "\\item 0.00239694199243926\n",
       "\\item 0.00999402932440777\n",
       "\\item 0.0295162645725093\n",
       "\\end{enumerate*}\n"
      ],
      "text/markdown": [
       "1. 2.6124033550459e-05\n",
       "2. 0.000363079788328412\n",
       "3. 0.00239694199243926\n",
       "4. 0.00999402932440777\n",
       "5. 0.0295162645725093\n",
       "\n",
       "\n"
      ],
      "text/plain": [
       "[1] 2.612403e-05 3.630798e-04 2.396942e-03 9.994029e-03 2.951626e-02"
      ]
     },
     "metadata": {},
     "output_type": "display_data"
    }
   ],
   "source": [
    "values = c(0, 1, 2, 3, 4)\n",
    "dbinom(x = values, size = 20, prob = 0.41)"
   ]
  },
  {
   "cell_type": "markdown",
   "metadata": {},
   "source": [
    "This gives us a list of 5 probabilities, one for each value we passed. For example, we can see from the list that $P(x = 4) = 0.0295$. \n",
    "\n",
    "But these values are all mutually exclusive (because, for example, we can't have at the same time 2 and 3 adults with a high school diploma but who do not pursue higher education; it is either 2, or 3, not both). So \n",
    "\n",
    "$$ P(x \\leq 4) = P(x = 0) + P(x = 1) + P(x = 2) + P(x = 3) + P(x = 4); $$\n",
    "\n",
    "that is, we just need to add up these probabilities."
   ]
  },
  {
   "cell_type": "code",
   "execution_count": 1,
   "metadata": {},
   "outputs": [
    {
     "data": {
      "text/html": [
       "0.0422964397112352"
      ],
      "text/latex": [
       "0.0422964397112352"
      ],
      "text/markdown": [
       "0.0422964397112352"
      ],
      "text/plain": [
       "[1] 0.04229644"
      ]
     },
     "metadata": {},
     "output_type": "display_data"
    }
   ],
   "source": [
    "values = c(0, 1, 2, 3, 4)\n",
    "probs = dbinom(x = values, size = 20, prob = 0.41)\n",
    "sum(probs)"
   ]
  },
  {
   "cell_type": "markdown",
   "metadata": {},
   "source": [
    "So $P(X \\leq 4) = 0.0423$. That is, there is a 4.23% chance that no more than 4 adults of the 20 selected have a high school diploma but do not pursue higher education.\n",
    "\n",
    "##### Part 3\n",
    "We want $P(x > 15)$."
   ]
  },
  {
   "cell_type": "code",
   "execution_count": 1,
   "metadata": {},
   "outputs": [
    {
     "data": {
      "text/html": [
       "0.000443150625878507"
      ],
      "text/latex": [
       "0.000443150625878507"
      ],
      "text/markdown": [
       "0.000443150625878507"
      ],
      "text/plain": [
       "[1] 0.0004431506"
      ]
     },
     "metadata": {},
     "output_type": "display_data"
    }
   ],
   "source": [
    "values = c(16, 17, 18, 19, 20)\n",
    "probs = dbinom(x = values, size = 20, prob = 0.41)\n",
    "sum(probs)"
   ]
  },
  {
   "cell_type": "markdown",
   "metadata": {},
   "source": [
    "So $P(x > 15) = 0.0004$. There is only a 0.04% chance that more than 15 of the 20 adults selected have a high school diploma but do not pursue further education.\n",
    "\n",
    "##### Part 4\n",
    "We want $P(8 < x < 18)$."
   ]
  },
  {
   "cell_type": "code",
   "execution_count": 1,
   "metadata": {},
   "outputs": [
    {
     "data": {
      "text/html": [
       "0.440587402134619"
      ],
      "text/latex": [
       "0.440587402134619"
      ],
      "text/markdown": [
       "0.440587402134619"
      ],
      "text/plain": [
       "[1] 0.4405874"
      ]
     },
     "metadata": {},
     "output_type": "display_data"
    }
   ],
   "source": [
    "values = c(9, 10, 11, 12, 13, 14, 15, 16, 17)\n",
    "probs = dbinom(x = values, size = 20, prob = 0.41)\n",
    "sum(probs)"
   ]
  },
  {
   "cell_type": "markdown",
   "metadata": {},
   "source": [
    "So $P(8 < x < 18) = 0.4406$. This is a 44.06% chance that between 8 and 18 adults of the 20 selected have a high school diploma but do not pursue futher education."
   ]
  },
  {
   "cell_type": "markdown",
   "metadata": {},
   "source": [
    "***"
   ]
  },
  {
   "cell_type": "markdown",
   "metadata": {},
   "source": [
    "\n",
    "### Example 3.5.5\n",
    "The lifetime risk of developing pancreatic cancer is about one in 78 (1.28%). Suppose we randomly sample 200 people. Let $X$ = the number of people who will develop pancreatic cancer.\n",
    "\n",
    "1. Is it more likely that five or six people will develop pancreatic cancer? Justify your answer numerically.\n",
    "2. Find the probability that less than eight people develop pancreatic cancer.\n",
    "\n",
    "#### Solution\n",
    "For this problem, $X \\sim B(200, 0.0128)$.\n",
    "\n",
    "##### Part 1\n",
    "We need to find $P(x = 5)$ and $P(x = 6)$ and see which probability is greater."
   ]
  },
  {
   "cell_type": "code",
   "execution_count": 1,
   "metadata": {},
   "outputs": [
    {
     "data": {
      "text/html": [
       "<ol class=list-inline>\n",
       "\t<li>0.0706549781513899</li>\n",
       "\t<li>0.0297735726407802</li>\n",
       "</ol>\n"
      ],
      "text/latex": [
       "\\begin{enumerate*}\n",
       "\\item 0.0706549781513899\n",
       "\\item 0.0297735726407802\n",
       "\\end{enumerate*}\n"
      ],
      "text/markdown": [
       "1. 0.0706549781513899\n",
       "2. 0.0297735726407802\n",
       "\n",
       "\n"
      ],
      "text/plain": [
       "[1] 0.07065498 0.02977357"
      ]
     },
     "metadata": {},
     "output_type": "display_data"
    }
   ],
   "source": [
    "values = c(5, 6)\n",
    "dbinom(x = values, size = 200, prob = 0.0128)"
   ]
  },
  {
   "cell_type": "markdown",
   "metadata": {},
   "source": [
    "So $P(x = 5) = 0.0707$ and $P(x = 6) = 0.0298$. Since the probability is greater when $x = 5$ than when $x = 6$, it is more likely that 5 people develop pancreatic cancer than it is for 6 people to develop pancreatic cancer.\n",
    "\n",
    "##### Part 2\n",
    "We want to find $P(x < 8)$."
   ]
  },
  {
   "cell_type": "code",
   "execution_count": 1,
   "metadata": {},
   "outputs": [
    {
     "data": {
      "text/html": [
       "0.995434178943854"
      ],
      "text/latex": [
       "0.995434178943854"
      ],
      "text/markdown": [
       "0.995434178943854"
      ],
      "text/plain": [
       "[1] 0.9954342"
      ]
     },
     "metadata": {},
     "output_type": "display_data"
    }
   ],
   "source": [
    "values = c(0, 1, 2, 3, 4, 5, 6, 7)\n",
    "probs = dbinom(x = values, size = 200, prob = 0.0128)\n",
    "sum(probs)"
   ]
  },
  {
   "cell_type": "markdown",
   "metadata": {},
   "source": [
    "So $P(x < 8) = 0.9954$. There is a 99.54% chance that fewer than 8 of the 200 people sampled develop pancreatic cancer."
   ]
  },
  {
   "cell_type": "markdown",
   "metadata": {},
   "source": [
    "***"
   ]
  },
  {
   "cell_type": "markdown",
   "metadata": {},
   "source": [
    "### Example 3.5.6"
   ]
  },
  {
   "cell_type": "code",
   "execution_count": null,
   "metadata": {},
   "outputs": [],
   "source": [
    "#**VID=XLKrsYg-WOE**#"
   ]
  },
  {
   "cell_type": "markdown",
   "metadata": {},
   "source": [
    "***"
   ]
  },
  {
   "cell_type": "markdown",
   "metadata": {},
   "source": [
    "<small style=\"color:gray\"><b>License:</b> This work is licensed under a [Creative Commons Attribution 4.0 International](https://creativecommons.org/licenses/by/4.0/) license.</small>\n",
    "\n",
    "<small style=\"color:gray\"><b>Author:</b> Taylor Baldwin, Mt. San Jacinto College</small>\n",
    "\n",
    "<small style=\"color:gray\"><b>Adapted From:</b> <i>Introductory Statistics</i>, by Barbara Illowsky and Susan Dean. Access for free at [https://openstax.org/books/introductory-statistics/pages/1-introduction](https://openstax.org/books/introductory-statistics/pages/1-introduction).</small>"
   ]
  }
 ],
 "metadata": {
  "kernelspec": {
   "display_name": "R",
   "language": "R",
   "name": "ir"
  },
  "language_info": {
   "codemirror_mode": "r",
   "file_extension": ".r",
   "mimetype": "text/x-r-source",
   "name": "R",
   "pygments_lexer": "r",
   "version": "3.6.1"
  }
 },
 "nbformat": 4,
 "nbformat_minor": 2
}
