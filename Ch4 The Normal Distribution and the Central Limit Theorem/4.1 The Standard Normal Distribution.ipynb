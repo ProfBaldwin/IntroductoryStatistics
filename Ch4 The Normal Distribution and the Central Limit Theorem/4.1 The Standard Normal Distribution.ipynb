{
 "cells": [
  {
   "cell_type": "markdown",
   "metadata": {},
   "source": [
    "# 4.1 The Standard Normal Distribution#   "
   ]
  },
  {
   "cell_type": "markdown",
   "metadata": {},
   "source": [
    "## Objectives ##\n",
    "- Apply probability and counting rules (including addition and multiplication rules) as pertaining to both continuous random variables and discrete random variables.\n",
    "- Compute probabilities using the Normal and Binomial Distributions, compute the mean, variance, and standard deviation of Normal and Binomial distributions.\n",
    "- Analyze an application in the disciplines business, social sciences, psychology, life sciences, health sciences, and education, and utilize the correct statistical process to arrive at a solution."
   ]
  },
  {
   "cell_type": "markdown",
   "metadata": {},
   "source": [
    "## Continuous Probability Distributions ##\n",
    "We begin by defining a **continuous probability density function**. In the study of probability, the functions we study are special. We define the function so that the area between it and the x-axis is equal to a probability. Since the maximum probability is one, the maximum area is also one. **For continuous probability distributions, PROBABILITY = AREA**."
   ]
  },
  {
   "cell_type": "markdown",
   "metadata": {},
   "source": [
    "***\n",
    "### Example 4.1.1 ###\n",
    "Consider the function $f(x) =  \\frac{1}{2} = 0.5$  for $0 ≤ x ≤ 2$. $x$ = a real number. The graph of $f(x) =  \\frac{1}{2}$  is a horizontal line. However, since $0 ≤ x ≤ 2$, $f(x)$ is restricted to the portion between $x = 0$ and $x = 2$, inclusive."
   ]
  },
  {
   "cell_type": "code",
   "execution_count": 1,
   "metadata": {},
   "outputs": [
    {
     "data": {
      "image/png": "[encoded data removed]",
      "text/plain": [
       "plot without title"
      ]
     },
     "metadata": {},
     "output_type": "display_data"
    }
   ],
   "source": [
    "#**ALT=Graph of f(x) = 1/2.**#\n",
    "#**HIDE_INPUT**#\n",
    "library(repr)\n",
    "options(repr.plot.width = 7, repr.plot.height=4)\n",
    "\n",
    "n = 2\n",
    "x = c(0, n, n)\n",
    "y = c(1/n, 1/n, 0)\n",
    "\n",
    "plot(x, y, type=\"l\", ylim=c(0.18, n), xlim=c(0.18, n))"
   ]
  },
  {
   "cell_type": "markdown",
   "metadata": {},
   "source": [
    "Note that this function does represent a continuous probability distribution since the area under the function is $0.5(2.0) = 1.0$.\n",
    "\n",
    "To calculate probabilities, we calculate the area under the curve in the region we are interested in. For example, $P(0 < x < 0.7) = 0.5(0.7) = 0.35$."
   ]
  },
  {
   "cell_type": "code",
   "execution_count": 2,
   "metadata": {
    "scrolled": true
   },
   "outputs": [
    {
     "data": {
      "image/png": "[encoded data removed]",
      "text/plain": [
       "plot without title"
      ]
     },
     "metadata": {},
     "output_type": "display_data"
    }
   ],
   "source": [
    "#**ALT=Graph of f(x) = 1/2 with area under the function between 0 and 0.7 shaded.**#\n",
    "#**HIDE_INPUT**#\n",
    "\n",
    "library(repr)\n",
    "options(repr.plot.width = 7, repr.plot.height=4)\n",
    "\n",
    "n = 2\n",
    "x = c(0, n, n)\n",
    "y = c(1/n, 1/n, 0)\n",
    "\n",
    "plot(x, y, type=\"l\", ylim=c(0.18, n), xlim=c(0.18, n))\n",
    "\n",
    "x = c(0, 0, 0.7, 0.7)\n",
    "y = c(0, 0.5, 0.5, 0)\n",
    "polygon(x, y, col=\"lightsteelblue\")"
   ]
  },
  {
   "cell_type": "markdown",
   "metadata": {},
   "source": [
    "To find $P(1.0 < x < 1.82)$, we simply calculate the area under the function between $x = 1.0$ and $x = 1.82$. So $P(1.0 < x < 1.82) = 0.5(0.82) = 0.41$."
   ]
  },
  {
   "cell_type": "code",
   "execution_count": 3,
   "metadata": {
    "scrolled": true
   },
   "outputs": [
    {
     "data": {
      "image/png": "[encoded data removed]",
      "text/plain": [
       "plot without title"
      ]
     },
     "metadata": {},
     "output_type": "display_data"
    }
   ],
   "source": [
    "#**ALT=Graph of f(x) = 1/2 with area under the function between 1 and 1.82 shaded.**#\n",
    "#**HIDE_INPUT**#\n",
    "library(repr)\n",
    "options(repr.plot.width = 7, repr.plot.height=4)\n",
    "\n",
    "n = 2\n",
    "x = c(0, n, n)\n",
    "y = c(1/n, 1/n, 0)\n",
    "\n",
    "plot(x, y, type=\"l\", ylim=c(0.18, n), xlim=c(0.18, n))\n",
    "\n",
    "x = c(1, 1, 1.82, 1.82)\n",
    "y = c(0, 0.5, 0.5, 0)\n",
    "polygon(x, y, col=\"lightsteelblue\")"
   ]
  },
  {
   "cell_type": "markdown",
   "metadata": {},
   "source": [
    "***\n",
    "### Example 4.1.2 ###"
   ]
  },
  {
   "cell_type": "code",
   "execution_count": null,
   "metadata": {},
   "outputs": [],
   "source": [
    "#**VID=cbUNnCt8oU8**#"
   ]
  },
  {
   "cell_type": "markdown",
   "metadata": {},
   "source": [
    "***\n",
    "## The Normal Distribution ##\n",
    "\n",
    "The **normal distribution** is a continuous distribution and is the most important of all the distributions. It is widely used and even more widely abused. Its graph is bell-shaped. You see the bell curve in almost all disciplines. Some of these include psychology, business, economics, the sciences, nursing, and, of course, mathematics. Some of your instructors may use the normal distribution to help determine your grade. Most IQ scores are normally distributed. Often real-estate prices fit a normal distribution. The normal distribution is extremely important, but it cannot be applied to everything in the real world.\n",
    "\n",
    "The normal distribution has two parameters (two numerical descriptive measures): the mean ($\\mu$) and the standard deviation ($\\sigma$). If $X$ is a quantity to be measured that has a normal distribution with mean ($\\mu$) and standard deviation ($\\sigma$), we designate this by writing\n",
    "\n",
    "$$ X \\sim N(\\mu, \\sigma). $$\n",
    "\n",
    "<img src=\"normal.jpeg\" alt=\"A bell-shaped curve.\">\n",
    "\n",
    "The probability density function is a rather complicated function. **Do not memorize it.** It is not necessary.\n",
    "\n",
    "$$ f(x) = \\frac{1}{\\sigma \\sqrt{2\\pi}} e^{-\\frac{1}{2} \\frac{(x - \\mu)^2}{\\sigma^2}} $$\n",
    "\n",
    "The probability is calculated either by a calculator or a computer, or it is looked up in a table. Technology has made the tables virtually obsolete. For that reason, we will be using R to find the probability of a normal distribution.\n",
    "\n",
    "The curve is symmetric about a vertical line drawn through the mean, $\\mu$. In theory, the mean is the same as the median, because the graph is symmetric about $\\mu$. As the notation indicates, the normal distribution depends only on the mean and the standard deviation. Since the area under the curve must equal one, a change in the standard deviation, $\\sigma$, causes a change in the shape of the curve; the curve becomes fatter or skinnier depending on $\\sigma$. A change in $\\mu$ causes the graph to shift to the left or right. This means there are an infinite number of normal probability distributions. One of special interest is called the **standard normal distribution**."
   ]
  },
  {
   "cell_type": "markdown",
   "metadata": {},
   "source": [
    "## The Standard Normal Distribution\n",
    "The **standard normal distribution** is the normal distribution with mean $\\mu = 0$ and standard deviation $\\sigma = 1$. We often use the random variable $Z$ for the standard normal distribution and write $Z \\sim N(0, 1)$."
   ]
  },
  {
   "cell_type": "code",
   "execution_count": 8,
   "metadata": {},
   "outputs": [
    {
     "data": {
      "image/png": "[encoded data removed]",
      "text/plain": [
       "plot without title"
      ]
     },
     "metadata": {},
     "output_type": "display_data"
    }
   ],
   "source": [
    "#**ALT=Graph of standard normal density function.**#\n",
    "#**HIDE_INPUT**#\n",
    "library(repr)\n",
    "options(repr.plot.width = 7, repr.plot.height=4)\n",
    "\n",
    "z = seq(-3, 3, 0.01)\n",
    "y = dnorm(z)\n",
    "plot(z, y, type=\"l\", ylab = \"\", axes = FALSE)\n",
    "axis(1, pos=0)\n",
    "axis(2, pos=-3)"
   ]
  },
  {
   "cell_type": "markdown",
   "metadata": {},
   "source": [
    "## Given a $z$-Value, Find Probability\n",
    "\n",
    "We can calculate the probability to the left or right of a $z$-value. using the R function <code>pnorm</code>:\n",
    "```R\n",
    "pnorm(q, lower.tail)\n",
    "```\n",
    "The argument <code>q</code> (which stands for 'quantile') is the boundary $z$-value. And <code>lower.tail</code> can be set equal to either <code>TRUE</code> (if we are interested in the probability to the left of the $z$-value) or <code>FALSE</code> (if we are interested in the probability to the right of the $z$-value)."
   ]
  },
  {
   "cell_type": "markdown",
   "metadata": {},
   "source": [
    "***\n",
    "### Example 4.1.3\n",
    "The data in a research study has a standard normal distribution.\n",
    "1. If you choose a data value randomly, what is the probability that the value will be less than $z = 1.0$?\n",
    "2. If you choose a data value randomly, what is the probability that the value will be greater than $z = 1.0$?\n",
    "3. If you choose a data value randomly, what is the probability that the value will be between $z = -1$ and $z = 1.5$?\n",
    "\n",
    "#### Solution\n",
    "##### Part 1\n",
    "Graphically, we want to find the area under the curve of the standard normal density function to the left of $z = 1.0$. This is $P(z < 1.0)$."
   ]
  },
  {
   "cell_type": "code",
   "execution_count": 9,
   "metadata": {},
   "outputs": [
    {
     "data": {
      "image/png": "[encoded data removed]",
      "text/plain": [
       "plot without title"
      ]
     },
     "metadata": {},
     "output_type": "display_data"
    }
   ],
   "source": [
    "#**ALT=Graph of standard normal density function with the area under the curve and to the left of z = 1 shaded.**#\n",
    "#**HIDE_INPUT**#\n",
    "library(repr)\n",
    "options(repr.plot.width = 7, repr.plot.height=4)\n",
    "\n",
    "z = seq(-3, 3, 0.01)\n",
    "y = dnorm(z)\n",
    "plot(z, y, type=\"l\", ylab = \"\", axes = FALSE)\n",
    "axis(1, pos=0)\n",
    "\n",
    "polyz = c(-3, seq(-3, 1, 0.01), 1)\n",
    "polyy = c(0, dnorm(seq(-3, 1, 0.01)), 0)\n",
    "polygon(polyz, polyy, col=\"lightsteelblue\")"
   ]
  },
  {
   "cell_type": "markdown",
   "metadata": {},
   "source": [
    "We use the <code>pnorm</code> function with <code>lower.tail</code> set to <code>TRUE</code> to find the probability."
   ]
  },
  {
   "cell_type": "code",
   "execution_count": 1,
   "metadata": {},
   "outputs": [
    {
     "data": {
      "text/html": [
       "0.841344746068543"
      ],
      "text/latex": [
       "0.841344746068543"
      ],
      "text/markdown": [
       "0.841344746068543"
      ],
      "text/plain": [
       "[1] 0.8413447"
      ]
     },
     "metadata": {},
     "output_type": "display_data"
    }
   ],
   "source": [
    "pnorm(q = 1.0, lower.tail = TRUE)"
   ]
  },
  {
   "cell_type": "markdown",
   "metadata": {},
   "source": [
    "So $P(z < 1.0) = 0.8413$.\n",
    "\n",
    "##### Part 2\n",
    "Graphically, we want the area under the curve of the standard normal density function to the right of $z = 1.0$. This is $P(z > 1.0)$."
   ]
  },
  {
   "cell_type": "code",
   "execution_count": 10,
   "metadata": {},
   "outputs": [
    {
     "data": {
      "image/png": "[encoded data removed]",
      "text/plain": [
       "plot without title"
      ]
     },
     "metadata": {},
     "output_type": "display_data"
    }
   ],
   "source": [
    "#**ALT=Graph of standard normal density function with the area under the curve and to the right of z = 1 shaded.**#\n",
    "#**HIDE_INPUT**#\n",
    "library(repr)\n",
    "options(repr.plot.width = 7, repr.plot.height=4)\n",
    "\n",
    "z = seq(-3, 3, 0.01)\n",
    "y = dnorm(z)\n",
    "plot(z, y, type=\"l\", ylab = \"\", axes = FALSE)\n",
    "axis(1, pos=0)\n",
    "\n",
    "polyz = c(1, seq(1, 3, 0.01), 3)\n",
    "polyy = c(0, dnorm(seq(1, 3, 0.01)), 0)\n",
    "polygon(polyz, polyy, col=\"lightsteelblue\")"
   ]
  },
  {
   "cell_type": "markdown",
   "metadata": {},
   "source": [
    "We use the <code>pnorm</code> function with <code>lower.tail</code> set to <code>FALSE</code> to find the probability."
   ]
  },
  {
   "cell_type": "code",
   "execution_count": 1,
   "metadata": {},
   "outputs": [
    {
     "data": {
      "text/html": [
       "0.158655253931457"
      ],
      "text/latex": [
       "0.158655253931457"
      ],
      "text/markdown": [
       "0.158655253931457"
      ],
      "text/plain": [
       "[1] 0.1586553"
      ]
     },
     "metadata": {},
     "output_type": "display_data"
    }
   ],
   "source": [
    "pnorm(q = 1.0, lower.tail = FALSE)"
   ]
  },
  {
   "cell_type": "markdown",
   "metadata": {},
   "source": [
    "So $P(z > 1.0) = 0.1587$.\n",
    "\n",
    "##### Part 3\n",
    "Graphically, we want the area under the curve of the standard normal density function between $z = -1$ and $z = 1.5$. This is $P(-1 < z < 1.5)$."
   ]
  },
  {
   "cell_type": "code",
   "execution_count": 3,
   "metadata": {},
   "outputs": [
    {
     "data": {
      "image/png": "[encoded data removed]",
      "text/plain": [
       "plot without title"
      ]
     },
     "metadata": {},
     "output_type": "display_data"
    }
   ],
   "source": [
    "#**ALT=Graph of standard normal density function with the area under the curve between z=0 and z=1.5.**#\n",
    "#**HIDE_INPUT**#\n",
    "library(repr)\n",
    "options(repr.plot.width = 7, repr.plot.height=4)\n",
    "\n",
    "z = seq(-3, 3, 0.01)\n",
    "y = dnorm(z)\n",
    "plot(z, y, type=\"l\", ylab = \"\", axes = FALSE)\n",
    "axis(1, pos = 0)\n",
    "\n",
    "polyz = c(-1, seq(-1, 1.5, 0.01), 1.5)\n",
    "polyy = c(0, dnorm(seq(-1, 1.5, 0.01)), 0)\n",
    "polygon(polyz, polyy, col=\"lightsteelblue\")"
   ]
  },
  {
   "cell_type": "markdown",
   "metadata": {},
   "source": [
    "We have to be clever about finding this value. We don't want the entire lower tail or the entire upper tail of the distribution, so simply setting <code>lower.tail</code> to <code>TRUE</code> or <code>FALSE</code> is insufficient.\n",
    "\n",
    "Instead, our strategy will be to first find more area than we need, then subtract off the excess. In particular, we will find the area of the blue region in the image below, which is the area to the left of $z = 1.5$, then subtract off the area of the red region, which is the area to the left of $z = -1$. The area remaining will be the area between $z = -1$ and $z = 1.5$."
   ]
  },
  {
   "cell_type": "code",
   "execution_count": 7,
   "metadata": {},
   "outputs": [
    {
     "data": {
      "image/png": "[encoded data removed]",
      "text/plain": [
       "plot without title"
      ]
     },
     "metadata": {},
     "output_type": "display_data"
    }
   ],
   "source": [
    "#**ALT=Graph of standard normal density function with the area under the curve between z=0 and z=1.5.**#\n",
    "#**HIDE_INPUT**#\n",
    "library(repr)\n",
    "options(repr.plot.width = 7, repr.plot.height=4)\n",
    "\n",
    "z = seq(-3, 3, 0.01)\n",
    "y = dnorm(z)\n",
    "plot(z, y, type=\"l\", ylab = \"\", axes = FALSE)\n",
    "axis(1, pos = 0)\n",
    "\n",
    "polyz = c(-3, seq(-3, 1.5, 0.01), 1.5)\n",
    "polyy = c(0, dnorm(seq(-3, 1.5, 0.01)), 0)\n",
    "polygon(polyz, polyy, col=\"dodgerblue\")\n",
    "\n",
    "polyz = c(-3, seq(-3, -1, 0.01), -1)\n",
    "polyy = c(0, dnorm(seq(-3, -1, 0.01)), 0)\n",
    "polygon(polyz, polyy, col=\"red\", density=15)"
   ]
  },
  {
   "cell_type": "code",
   "execution_count": 1,
   "metadata": {},
   "outputs": [
    {
     "data": {
      "text/html": [
       "0.774537544799685"
      ],
      "text/latex": [
       "0.774537544799685"
      ],
      "text/markdown": [
       "0.774537544799685"
      ],
      "text/plain": [
       "[1] 0.7745375"
      ]
     },
     "metadata": {},
     "output_type": "display_data"
    }
   ],
   "source": [
    "pnorm(q = 1.5, lower.tail = TRUE) - pnorm(q = -1, lower.tail = TRUE)"
   ]
  },
  {
   "cell_type": "markdown",
   "metadata": {},
   "source": [
    "So $P(0 < z < 1.5) = 0.7745$."
   ]
  },
  {
   "cell_type": "markdown",
   "metadata": {},
   "source": [
    "***\n",
    "### Example 4.1.4 ###"
   ]
  },
  {
   "cell_type": "code",
   "execution_count": null,
   "metadata": {},
   "outputs": [],
   "source": [
    "#**VID=JvVnFEffnEs**#"
   ]
  },
  {
   "cell_type": "markdown",
   "metadata": {},
   "source": [
    "***\n",
    "### Example 4.1.5 ###"
   ]
  },
  {
   "cell_type": "code",
   "execution_count": null,
   "metadata": {},
   "outputs": [],
   "source": [
    "#**VID=N1zc3LPdQiQ**#"
   ]
  },
  {
   "cell_type": "markdown",
   "metadata": {},
   "source": [
    "***\n",
    "## Given Probability, Find the $z$-Value\n",
    "Given a probability value, we can find the $z$-value with that probability to its left or right using the <code>qnorm</code> function:\n",
    "```R\n",
    "qnorm(p, lower.tail)\n",
    "```\n",
    "where <code>p</code> is the probability and <code>lower.tail</code> can be either <code>TRUE</code> or <code>FALSE</code>, depending on whether the probability is in the lower tail or the upper tail."
   ]
  },
  {
   "cell_type": "markdown",
   "metadata": {},
   "source": [
    "***\n",
    "### Example 4.1.6\n",
    "Find the 75th percentile of the standard normal distribution.\n",
    "\n",
    "#### Solution\n",
    "We want to find the $z$-value so that the area under the standard normal density function to the left of $z$ is 0.75. We use R to calculate:"
   ]
  },
  {
   "cell_type": "code",
   "execution_count": 1,
   "metadata": {},
   "outputs": [
    {
     "data": {
      "text/html": [
       "0.674489750196082"
      ],
      "text/latex": [
       "0.674489750196082"
      ],
      "text/markdown": [
       "0.674489750196082"
      ],
      "text/plain": [
       "[1] 0.6744898"
      ]
     },
     "metadata": {},
     "output_type": "display_data"
    }
   ],
   "source": [
    "qnorm(p = 0.75, lower.tail = TRUE)"
   ]
  },
  {
   "cell_type": "markdown",
   "metadata": {},
   "source": [
    "So $P(z < 0.6745) = 0.75$. That is, 75% of the values in the standard normal distribution are less than $z = 0.6745$."
   ]
  },
  {
   "cell_type": "markdown",
   "metadata": {},
   "source": [
    "***\n",
    "### Example 4.1.7 ###"
   ]
  },
  {
   "cell_type": "code",
   "execution_count": null,
   "metadata": {},
   "outputs": [],
   "source": [
    "#**VID=lvUd-o49xd0**#"
   ]
  },
  {
   "cell_type": "markdown",
   "metadata": {},
   "source": [
    "***"
   ]
  },
  {
   "cell_type": "markdown",
   "metadata": {},
   "source": [
    "<small style=\"color:gray\"><b>License:</b> This work is licensed under a [Creative Commons Attribution 4.0 International](https://creativecommons.org/licenses/by/4.0/) license.</small>\n",
    "\n",
    "<small style=\"color:gray\"><b>Author:</b> Taylor Baldwin, Mt. San Jacinto College</small>\n",
    "\n",
    "<small style=\"color:gray\"><b>Adapted From:</b> <i>Introductory Statistics</i>, by Barbara Illowsky and Susan Dean. Access for free at [https://openstax.org/books/introductory-statistics/pages/1-introduction](https://openstax.org/books/introductory-statistics/pages/1-introduction).</small>"
   ]
  }
 ],
 "metadata": {
  "kernelspec": {
   "display_name": "R",
   "language": "R",
   "name": "ir"
  },
  "language_info": {
   "codemirror_mode": "r",
   "file_extension": ".r",
   "mimetype": "text/x-r-source",
   "name": "R",
   "pygments_lexer": "r",
   "version": "3.6.1"
  }
 },
 "nbformat": 4,
 "nbformat_minor": 2
}
