{
 "cells": [
  {
   "cell_type": "markdown",
   "metadata": {},
   "source": [
    "# 4.2 The Normal Distribution and $z$-Scores"
   ]
  },
  {
   "cell_type": "markdown",
   "metadata": {},
   "source": [
    "## Objectives ##\n",
    "- Perform descriptive data analysis of collected data including calculation and interpretation of measures of central tendency, measures of variation, measures of position, detection of outliers, and applying the Empirical Rule to bell-shaped data.\n",
    "- Apply probability and counting rules (including addition and multiplication rules) as pertaining to both continuous random variables and discrete random variables.\n",
    "- Compute probabilities using the Normal and Binomial Distributions, compute the mean, variance, and standard deviation of Normal and Binomial distributions.\n",
    "- Analyze an application in the disciplines business, social sciences, psychology, life sciences, health sciences, and education, and utilize the correct statistical process to arrive at a solution."
   ]
  },
  {
   "cell_type": "markdown",
   "metadata": {},
   "source": [
    "## Finding $z$-Scores\n",
    "In the last section, we learned how to find probabilities for the standard normal distribution, $Z \\sim N(0, 1)$. To find probabilities generally for a non-standard normal distribution, $X \\sim N(\\mu, \\sigma)$, we first convert the $x$ value of interest into a **$z$-score**.\n",
    "\n",
    "**A $z$-score is measured in units of the standard deviation.** For example, if the mean of a normal distribution is $\\mu = 5$ and the standard deviation is $\\sigma = 2$, the value 11 is three standard deviations above (or to the right of) the mean. The calculation is as follows:\n",
    "\n",
    "$$x = \\mu + z\\sigma = 5 + (3)(2) = 11$$\n",
    "\n",
    "So the $z$-score  of $x = 11$ is $z = 3$.\n",
    "\n",
    "The mean for the standard normal distribution is zero, and the standard deviation is one. The transformation $z =  x−μσ$  produces the distribution $Z \\sim N(0, 1)$. The value $x$ in the given equation comes from a normal distribution with mean $\\mu$ and standard deviation $\\sigma$. The probability (that is, area) to the left of $x$ in a normal distribution $X \\sim N(\\mu, \\sigma)$ is equal to the probability to the left of the corresponding $z$ in the standard normal distribution $Z \\sim N(0, 1)$.\n",
    "\n",
    "If $X \\sim N(\\mu, \\sigma)$, then the $z$-score is:\n",
    "\n",
    "$$ z = \\frac{x - \\mu}{\\sigma} $$\n",
    "\n",
    "**The $z$-score tells you how many standard deviations the value $x$ is above (to the right of) or below (to the left of) the mean, $\\mu$.** Values of $x$ that are larger than the mean have positive $z$-scores, and values of $x$ that are smaller than the mean have negative $z$-scores. If $x$ equals the mean, then $x$ has a $z$-score of zero."
   ]
  },
  {
   "cell_type": "markdown",
   "metadata": {},
   "source": [
    "***"
   ]
  },
  {
   "cell_type": "markdown",
   "metadata": {},
   "source": [
    "### Example 4.2.1 ###"
   ]
  },
  {
   "cell_type": "code",
   "execution_count": null,
   "metadata": {},
   "outputs": [],
   "source": [
    "#**VID=9u3Ja0rD70Y**#"
   ]
  },
  {
   "cell_type": "markdown",
   "metadata": {},
   "source": [
    "***"
   ]
  },
  {
   "cell_type": "markdown",
   "metadata": {},
   "source": [
    "\n",
    "### Example 4.2.2\n",
    "\n",
    "The heights of adult men in the United States are normally distributed with a mean of 70 inches (5 ft, 10 in) and a standard deviation of 4 inches. If you choose an adult male from the U.S. population at random, what is the probability that:\n",
    "1. he will be taller than 72 inches (6 ft)?\n",
    "2. he will be shorter than 60 inches (5 ft)?\n",
    "3. he will be between 60 inches and 72 inches tall?\n",
    "\n",
    "#### Solution\n",
    "The distribution of the heights of adult males is $X \\sim N(70, 4)$. This is a non-standard normal distribution. To find the probabilities, we will convert to the standard normal distribution by finding the appropriate $z$-scores.\n",
    "\n",
    "##### Part 1\n",
    "We want $P(x > 72)$. To find the $z$-score associated with $x = 72$, we calculate\n",
    "\n",
    "$$ z = \\frac{x - \\mu}{\\sigma} = \\frac{72 - 70}{4} = 0.5. $$\n",
    "\n",
    "So $P(x > 72) = P(z > 0.5)$. We can now use R to find the probability:"
   ]
  },
  {
   "cell_type": "code",
   "execution_count": 1,
   "metadata": {},
   "outputs": [
    {
     "data": {
      "text/html": [
       "0.308537538725987"
      ],
      "text/latex": [
       "0.308537538725987"
      ],
      "text/markdown": [
       "0.308537538725987"
      ],
      "text/plain": [
       "[1] 0.3085375"
      ]
     },
     "metadata": {},
     "output_type": "display_data"
    }
   ],
   "source": [
    "pnorm(q = 0.5, lower.tail = FALSE)"
   ]
  },
  {
   "cell_type": "markdown",
   "metadata": {},
   "source": [
    "So $P(x > 72) = P(z > 0.5) = 0.3085$. In other words, there is a 30.85% chance that the adult male you randomly choose from the population is more than 6 feet tall.\n",
    "\n",
    "##### Part 2\n",
    "We want $P(x < 60)$. To find the $z$-score associated with $x = 60$, we calculate\n",
    "\n",
    "$$ z = \\frac{x - \\mu}{\\sigma} = \\frac{60 - 70}{4} = -2.5. $$\n",
    "\n",
    "So $P(x < 60) = P(z < -2.5)$. Now use R to find the probability:"
   ]
  },
  {
   "cell_type": "code",
   "execution_count": 1,
   "metadata": {},
   "outputs": [
    {
     "data": {
      "text/html": [
       "0.00620966532577613"
      ],
      "text/latex": [
       "0.00620966532577613"
      ],
      "text/markdown": [
       "0.00620966532577613"
      ],
      "text/plain": [
       "[1] 0.006209665"
      ]
     },
     "metadata": {},
     "output_type": "display_data"
    }
   ],
   "source": [
    "pnorm(q = -2.5, lower.tail = TRUE)"
   ]
  },
  {
   "cell_type": "markdown",
   "metadata": {},
   "source": [
    "Then $P(x < 60) = P(z < -2.5) = 0.0062$. In other words, there is only a 0.62% chance that the adult male you randomly choose from the population is less than 5 feet tall.\n",
    "\n",
    "##### Part 3\n",
    "We want $P(60 < x < 72)$. From parts 1 and 2, we already know that the $z$-score associated with $x = 60$ is $z = -2.5$, and the $z$-score associated with $x = 72$ is $z = 0.5$. Then\n",
    "\n",
    "$$ P(60 < x < 72) = P(-2.5 < z < 0.5) $$\n",
    "\n",
    "We can use R to find this probability: we will find all the area to the left of $z = 0.5$, then subtract off the excess area to the left of $z = -2.5$."
   ]
  },
  {
   "cell_type": "code",
   "execution_count": 1,
   "metadata": {},
   "outputs": [
    {
     "data": {
      "text/html": [
       "0.685252795948237"
      ],
      "text/latex": [
       "0.685252795948237"
      ],
      "text/markdown": [
       "0.685252795948237"
      ],
      "text/plain": [
       "[1] 0.6852528"
      ]
     },
     "metadata": {},
     "output_type": "display_data"
    }
   ],
   "source": [
    "pnorm(q = 0.5, lower.tail = TRUE) - pnorm(q = -2.5, lower.tail = TRUE)"
   ]
  },
  {
   "cell_type": "markdown",
   "metadata": {},
   "source": [
    "So $P(60 < x < 72) = P(-2.5 < z < 0.5) = 0.6853$. That is, there is a 68.53% chance that the adult male you choose is between 5 feet and 6 feet tall."
   ]
  },
  {
   "cell_type": "markdown",
   "metadata": {},
   "source": [
    "***"
   ]
  },
  {
   "cell_type": "markdown",
   "metadata": {},
   "source": [
    "### Example 4.2.3 ###"
   ]
  },
  {
   "cell_type": "code",
   "execution_count": null,
   "metadata": {},
   "outputs": [],
   "source": [
    "#**VID=zCDeQAE8PSY**#"
   ]
  },
  {
   "cell_type": "markdown",
   "metadata": {},
   "source": [
    "***"
   ]
  },
  {
   "cell_type": "markdown",
   "metadata": {},
   "source": [
    "## Using $z$-Scores to Find Values\n",
    "Sometimes we have a $z$-score and we want to find the $x$-value of a normal distribution $X \\sim N(\\mu, \\sigma)$. By solving for $x$ in the formula above, we see that we can do this using the formula\n",
    "\n",
    "$$ x = \\mu + z\\sigma $$"
   ]
  },
  {
   "cell_type": "markdown",
   "metadata": {},
   "source": [
    "***"
   ]
  },
  {
   "cell_type": "markdown",
   "metadata": {},
   "source": [
    "### Example 4.2.4\n",
    "Scores on a calculus test are normally distributed with a mean score of 73 and a standard deviation of 12.\n",
    "1. Find the 80th percentile.\n",
    "2. 10% of the scores are higher than which score?\n",
    "\n",
    "#### Solution\n",
    "##### Part 1\n",
    "To find the 80th percentile, start by finding the $z$-score."
   ]
  },
  {
   "cell_type": "code",
   "execution_count": 1,
   "metadata": {},
   "outputs": [
    {
     "data": {
      "text/html": [
       "0.841621233572914"
      ],
      "text/latex": [
       "0.841621233572914"
      ],
      "text/markdown": [
       "0.841621233572914"
      ],
      "text/plain": [
       "[1] 0.8416212"
      ]
     },
     "metadata": {},
     "output_type": "display_data"
    }
   ],
   "source": [
    "qnorm(p = 0.80, lower.tail = TRUE)"
   ]
  },
  {
   "cell_type": "markdown",
   "metadata": {},
   "source": [
    "So the $z$-score associated with the 80th percentile is $z = 0.8416$. To find the $x$-value, use the formula:\n",
    "\n",
    "$$x = \\mu + z\\sigma = 73 + 0.8416(12) = 83.0992 $$\n",
    "\n",
    "So a score of 83.0992 is higher than 80% of the scores.\n",
    "\n",
    "##### Part 2\n",
    "We want to find the $x$-value so that 10% of test scores are higher than that value. Start by finding the $z$-score."
   ]
  },
  {
   "cell_type": "code",
   "execution_count": 1,
   "metadata": {},
   "outputs": [
    {
     "data": {
      "text/html": [
       "1.2815515655446"
      ],
      "text/latex": [
       "1.2815515655446"
      ],
      "text/markdown": [
       "1.2815515655446"
      ],
      "text/plain": [
       "[1] 1.281552"
      ]
     },
     "metadata": {},
     "output_type": "display_data"
    }
   ],
   "source": [
    "qnorm(p = 0.10, lower.tail = FALSE)"
   ]
  },
  {
   "cell_type": "markdown",
   "metadata": {},
   "source": [
    "So 10% of the area of the standard normal distribution is to the right of $z = 1.2816$. Let's find the associated $x$-value:\n",
    "\n",
    "$$ x = \\mu + z\\sigma = 73 + 1.2816(12) = 88.3792 $$\n",
    "\n",
    "So only 10% of students scored higher than $x = 88.3792$."
   ]
  },
  {
   "cell_type": "markdown",
   "metadata": {},
   "source": [
    "***"
   ]
  },
  {
   "cell_type": "markdown",
   "metadata": {},
   "source": [
    "### Example 4.2.5 ###"
   ]
  },
  {
   "cell_type": "code",
   "execution_count": null,
   "metadata": {},
   "outputs": [],
   "source": [
    "#**VID=GFLbgN6df0Q**#"
   ]
  },
  {
   "cell_type": "markdown",
   "metadata": {},
   "source": [
    "***"
   ]
  },
  {
   "cell_type": "markdown",
   "metadata": {},
   "source": [
    "## The Empirical Rule\n",
    "\n",
    "Notice that the probability of a normally distributed random variable is determined by its $z$-scores. That is, we need only know how many standard deviations away from the mean a value is to calculate the probability.\n",
    "\n",
    "This observation leads us to the **Empirical Rule**: If X is a random variable and has a normal distribution with mean µ and standard deviation σ, then the Empirical Rule states the following:\n",
    "\n",
    "- About 68% of the data values lie within one standard deviation of the mean (between $\\mu - 1\\sigma$ and $\\mu + 1\\sigma$).\n",
    "- About 95% of the data values lie within two standard deviations of the mean (between $\\mu - 2\\sigma$ and $\\mu + 2\\sigma$).\n",
    "- About 99.7% of the data values lie within three standard deviations of the mean (between $\\mu - 3\\sigma$ and $\\mu + 3\\sigma$)."
   ]
  },
  {
   "cell_type": "code",
   "execution_count": 59,
   "metadata": {},
   "outputs": [
    {
     "data": {
      "image/png": "[encoded data removed]",
      "text/plain": [
       "plot without title"
      ]
     },
     "metadata": {},
     "output_type": "display_data"
    }
   ],
   "source": [
    "#**ALT=A graphical representation of the empirical rule.**#\n",
    "#**HIDE_INPUT**#\n",
    "library(repr)\n",
    "options(repr.plot.width = 7, repr.plot.height=5.5)\n",
    "cols <- c(\"#F5793A\", \"#A95AA1\", \"#85C079\", \"white\")\n",
    "\n",
    "# Sequence between -4 and 4 with 0.1 steps\n",
    "x <- seq(-4, 4, 0.1)\n",
    "\n",
    "# Plot an empty chart with tight axis boundaries, and axis lines on bottom and left\n",
    "plot(x, type=\"n\", xlim=c(-4, 4), ylim=c(-0.25, 0.39),\n",
    "     bty=\"l\", xaxt=\"n\", xlab=\"\", ylab=\"\", axes=FALSE)\n",
    "\n",
    "# Function to plot each coloured portion of the curve, between \"a\" and \"b\" as a\n",
    "# polygon; the function \"dnorm\" is the normal probability density function\n",
    "polysection <- function(a, b, col, n=11){\n",
    "    dx <- seq(a, b, length.out=n)\n",
    "    polygon(c(a, dx, b), c(0, dnorm(dx), 0), col=col, border=NA)\n",
    "    # draw a white vertical line on \"inside\" side to separate each section\n",
    "    segments(a, 0, a, dnorm(a), col=\"black\")\n",
    "}\n",
    "\n",
    "# Build the four left and right portions of this bell curve\n",
    "for(i in 0:3){\n",
    "    polysection(     i, i + 1, col=cols[i + 1])  # Right side of 0\n",
    "    polysection(-i - 1,    -i, col=cols[i + 1])  # Left right of 0\n",
    "}\n",
    "\n",
    "# Black outline of bell curve\n",
    "lines(x, dnorm(x))\n",
    "\n",
    "# Bottom axis values, where sigma represents standard deviation and mu is the mean\n",
    "axis(1, at=c(-4, 4), labels=c(\"\",\"\"), lwd.ticks=0, pos=0)\n",
    "axis(1, at=-3:3, labels=expression(mu - 3 * sigma, mu - 2 * sigma, mu - sigma, mu,\n",
    "                                   mu + sigma, mu + 2 * sigma, mu + 3 * sigma), pos = 0)\n",
    "\n",
    "# Percent Densities for regions 1, 2, and 3 standard deviations from the mean\n",
    "lines(c(-1, -1, 1, 1), c(-0.1, -0.12, -0.12, -0.1))\n",
    "text(0, -0.135, \"68%\")\n",
    "\n",
    "lines(c(-2, -2, 2, 2), c(-0.1, -0.17, -0.17, -0.1))\n",
    "text(0, -0.185, \"95%\")\n",
    "\n",
    "lines(c(-3, -3, 3, 3), c(-0.1, -0.22, -0.22, -0.1))\n",
    "text(0, -0.235, \"99.7%\")\n",
    "\n",
    "# Add percent densities to each division (rounded to 1 decimal place), between x and x+1\n",
    "text(c((0:3) + 0.5, (0:-3) - 0.5), c(0.06,0.06, 0.06,0.02),\n",
    "     c(\"35%\", \"16.5%\", \"2.35%\", \"\"),\n",
    "     col=\"black\")#c(\"white\", \"white\", \"black\", \"black\"))\n",
    "segments(c(-2.5, 2.5), dnorm(2.5),\n",
    "         c(-2.5, 2.5), 0.04)"
   ]
  },
  {
   "cell_type": "markdown",
   "metadata": {},
   "source": [
    "***"
   ]
  },
  {
   "cell_type": "markdown",
   "metadata": {},
   "source": [
    "### Example 4.2.6\n",
    "IQ scores are normally distributed with a mean of 100 and a standard deviation of 15.\n",
    "1. 68% of IQ scores lie between which two values?\n",
    "2. 95% of IQ scores lie between which two values?\n",
    "3. 99.7% of IQ scores lie between which two values?\n",
    "\n",
    "#### Solution\n",
    "##### Part 1\n",
    "Since IQ scores are normally distributed, we know that 68% of IQ scores lie within one standard deviation of the mean. Let's find the values that are one standard deviation away from the mean:\n",
    "\n",
    "$$ x = \\mu + 1\\sigma = 100 + 1(15) = 115 $$\n",
    "$$ x = \\mu - 1\\sigma = 100 - 1(15) = 85 $$\n",
    "\n",
    "So 68% of IQ scores are between 85 and 115.\n",
    "\n",
    "##### Part 2\n",
    "We know that 95% of IQ scores lie within two standard deviations of the mean. Let's find the values that are two standard deviations away from the  mean:\n",
    "\n",
    "$$ x = \\mu + 2\\sigma = 100 + 2(15) = 130 $$\n",
    "$$ x = \\mu - 2\\sigma = 100 - 2(15) =  70 $$\n",
    "\n",
    "So 95% of IQ scores are between 70 and 130.\n",
    "\n",
    "##### Part 3\n",
    "We know that 99.7% of IQ scores lie within three standard deviations of the mean. Let's find the values that are three standard deviations away from the  mean:\n",
    "\n",
    "$$ x = \\mu + 3\\sigma = 100 + 3(15) = 145 $$\n",
    "$$ x = \\mu - 3\\sigma = 100 - 3(15) =  55 $$\n",
    "\n",
    "So 99.7% of IQ scores are between 55 and 145."
   ]
  },
  {
   "cell_type": "markdown",
   "metadata": {},
   "source": [
    "*** "
   ]
  },
  {
   "cell_type": "markdown",
   "metadata": {},
   "source": [
    "### Example 4.2.7 ###"
   ]
  },
  {
   "cell_type": "code",
   "execution_count": null,
   "metadata": {},
   "outputs": [],
   "source": [
    "#**VID=1tTwrjPqIsk**#"
   ]
  },
  {
   "cell_type": "markdown",
   "metadata": {},
   "source": [
    "***"
   ]
  },
  {
   "cell_type": "markdown",
   "metadata": {},
   "source": [
    "<small style=\"color:gray\"><b>License:</b> This work is licensed under a [Creative Commons Attribution 4.0 International](https://creativecommons.org/licenses/by/4.0/) license.</small>\n",
    "\n",
    "<small style=\"color:gray\"><b>Author:</b> Taylor Baldwin, Mt. San Jacinto College</small>\n",
    "\n",
    "<small style=\"color:gray\"><b>Adapted From:</b> <i>Introductory Statistics</i>, by Barbara Illowsky and Susan Dean. Access for free at [https://openstax.org/books/introductory-statistics/pages/1-introduction](https://openstax.org/books/introductory-statistics/pages/1-introduction).</small>"
   ]
  }
 ],
 "metadata": {
  "kernelspec": {
   "display_name": "R",
   "language": "R",
   "name": "ir"
  },
  "language_info": {
   "codemirror_mode": "r",
   "file_extension": ".r",
   "mimetype": "text/x-r-source",
   "name": "R",
   "pygments_lexer": "r",
   "version": "3.6.1"
  }
 },
 "nbformat": 4,
 "nbformat_minor": 2
}
