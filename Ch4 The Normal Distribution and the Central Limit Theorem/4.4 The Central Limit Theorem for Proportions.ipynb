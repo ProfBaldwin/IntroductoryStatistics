{
 "cells": [
  {
   "cell_type": "markdown",
   "metadata": {},
   "source": [
    "# 4.4 The Central Limit Theorem for Proportions"
   ]
  },
  {
   "cell_type": "markdown",
   "metadata": {},
   "source": [
    "## Objectives\n",
    "\n",
    "- Compute probabilities using the Central Limit Theorem and demonstrate the ability to interpret sampling distributions of both population proportions and means.\n",
    "- Analyze an application in the disciplines business, social sciences, psychology, life sciences, health science, and education, and utilize the correct statistical processes to arrive at a solution."
   ]
  },
  {
   "cell_type": "markdown",
   "metadata": {},
   "source": [
    "## Population Proportions\n",
    "\n",
    "A **population proportion** is the fraction, ratio, or percentage of the population that possesses a certain characteristic. For example, in 2006, the **proportion** of adult Americans that were married was 55.7%. Note a few important properties about proportions:\n",
    " \n",
    "- For each member of the population, there are only two options: either the member possesses the characteristic or the member doesn't possess the characteristic. In the above example, since 55.7% of U.S. adults were married in 2006, we can conclude that 100% - 55.7% = 44.3% of U.S. adults were not married in 2006.\n",
    "- The value of a proportion is always between 0 and 1. In the above example, the proportion 55.7% = 0.557 lies between 0 and 1.\n",
    "- A proportion is the probability that, if we randomly select a member of the population, that the selected member will possess the characteristic. In the example above, if we were to randomly select an adult in the year 2006, there is a 55.7% chance that the selected adult would be married.\n",
    "\n",
    "A population proportion $p$ is calculated using the formula\n",
    "\n",
    "$$ p = \\frac{x}{N}, $$\n",
    "\n",
    "where $x$ is the number of individuals in the population with the desired characteristic and $N$ is the size of the population.\n",
    "\n",
    "For example, if we knew that Menifee High School had 4,582 students, 1,231 of whom were freshman, the proportion of freshman in the population of Menifee High School students is\n",
    "\n",
    "$$p = \\frac{x}{N} = \\frac{1,231}{4,582} = 0.2687.$$\n",
    "\n",
    "So 26.87% of all Menifee High School students are freshman."
   ]
  },
  {
   "cell_type": "markdown",
   "metadata": {},
   "source": [
    "## The Central Limit Theorem for Proportions\n",
    "\n",
    "We can also find the proportion of a sample. The formula for a sample proportion is\n",
    "\n",
    "$$ p' = \\frac{x}{n}, $$\n",
    "\n",
    "where $x$ is the number of individuals in the *sample* with the desired characteristic and $n$ is the size of the sample.\n",
    "\n",
    "We know from the Central Limit Theorem for means that we can expect a sample mean to be close to the population mean. We might naturally ask the same question of proportions: If we take a sample from a population, can we expect the sample proportion to be close to the population proportion?\n",
    "\n",
    "The answer is \"Yes\". In fact, if we look at all possible samples of a fixed size $n$, the sample proportions are normally distributed with distribution mean\n",
    "\n",
    "$$ \\mu_{P'} = p $$\n",
    "\n",
    "and distribution standard deviation\n",
    "\n",
    "$$ \\sigma_{P'} = \\sqrt{\\frac{p(1 - p)}{n}}, $$\n",
    "\n",
    "where $p$ is the population proportion. That is $P' \\sim N\\left(p, \\sqrt{\\frac{p(1 - p)}{n}}\\right)$.\n",
    "\n",
    "As usual, we can calculate the $z$-score for a value $p'$ in the distribution with the formula\n",
    "\n",
    "$$ z = \\frac{p' - \\mu_{P'}}{\\sigma_{P'}}. $$"
   ]
  },
  {
   "cell_type": "markdown",
   "metadata": {},
   "source": [
    "***\n",
    "### Example 4.4.1\n",
    "A poll is conducted of 1,000 Americans to determine whether or not they approve of the President of the United States. Suppose that, in reality, 54% of all Americans approve of the President.\n",
    "\n",
    "1. What is the probability that fewer than 50% of those polled approve of the President?\n",
    "2. What is the probability that more than 56% of those polled approve of the President?\n",
    "3. What is the probability that between 50% and 56% of those polled approve of the President?\n",
    "\n",
    "#### Solution\n",
    "First, note that the sample size is $n = 1,000$ and the population proportion is $p = 0.54$. Then by the Central Limit Theorem, we know that the sample proportions or normally distributed with mean\n",
    "\n",
    "$$ \\mu_{P'} = p = 0.54 $$\n",
    "\n",
    "and standard deviation\n",
    "\n",
    "$$ \\sigma_{P'} = \\sqrt{\\frac{p(1 - p)}{n}} = \\sqrt{\\frac{0.54(1 - 0.54)}{1000}} = 0.0158. $$\n",
    "\n",
    "So $P' \\sim N(0.54, 0.0158)$.\n",
    "\n",
    "##### Part 1\n",
    "We want to find $P(p' < 0.50)$. First find the $z$-score of $p' = 0.50$:\n",
    "\n",
    "$$ z = \\frac{p' - \\mu_{P'}}{\\sigma_{P'}} = \\frac{0.50 - 0.54}{0.0158} = -2.5316. $$\n",
    "\n",
    "So $P(p' < 0.50) = P(z < -2.5316)$. Let's use R to calculate the probability."
   ]
  },
  {
   "cell_type": "code",
   "execution_count": 1,
   "metadata": {},
   "outputs": [
    {
     "data": {
      "text/html": [
       "0.0056771717907339"
      ],
      "text/latex": [
       "0.0056771717907339"
      ],
      "text/markdown": [
       "0.0056771717907339"
      ],
      "text/plain": [
       "[1] 0.005677172"
      ]
     },
     "metadata": {},
     "output_type": "display_data"
    }
   ],
   "source": [
    "pnorm(q = -2.5316, lower.tail = TRUE)"
   ]
  },
  {
   "cell_type": "markdown",
   "metadata": {},
   "source": [
    "Then $P(p' < 0.50) = P(z < -2.5316) = 0.0057$. There is a 0.57% chance that a sample of 1,000 Americans will yield a sample proportion less than 50%.\n",
    "\n",
    "##### Part 2\n",
    "We want to find $P(p' > 0.56)$. First find the $z$-score of $p' = 0.56$:\n",
    "\n",
    "$$ z = \\frac{p' - \\mu_{P'}}{\\sigma_{P'}} = \\frac{0.56 - 0.54}{0.0158} = 1.2658. $$\n",
    "\n",
    "So $P(p' > 0.56) = P(z > 1.2658)$. Let's use R to calculate the probability."
   ]
  },
  {
   "cell_type": "code",
   "execution_count": 1,
   "metadata": {},
   "outputs": [
    {
     "data": {
      "text/html": [
       "0.102792347555097"
      ],
      "text/latex": [
       "0.102792347555097"
      ],
      "text/markdown": [
       "0.102792347555097"
      ],
      "text/plain": [
       "[1] 0.1027923"
      ]
     },
     "metadata": {},
     "output_type": "display_data"
    }
   ],
   "source": [
    "pnorm(q = 1.2658, lower.tail = FALSE)"
   ]
  },
  {
   "cell_type": "markdown",
   "metadata": {},
   "source": [
    "Then $P(p' > 0.56) = P(z > 1.2658) = 0.1028$. There is a 10.28% chance that a sample of 1,000 Americans will yield a sample proportion more than 56%.\n",
    "\n",
    "##### Part 3\n",
    "We want $P(0.50 < p' < 0.56)$. We know from parts 1 and 2 that the $z$-score of $p' = 0.50$ is $z = -2.5316$ and the $z$-score of $p' = 0.56$ is $z = 1.2658$. So $P(0.50 < p' < 0.56) = P(-2.5316 < z < 1.2658)$.\n",
    "\n",
    "The probability is the entire area under the normal density function between $z = -2.5316$ and $z = 1.2658$. To find this, we will use R to first find all the area to the left of $z = 1.2658$, then subtract off the excess area to the left of $z = -2.5316$."
   ]
  },
  {
   "cell_type": "code",
   "execution_count": 1,
   "metadata": {},
   "outputs": [
    {
     "data": {
      "text/html": [
       "0.891530480654169"
      ],
      "text/latex": [
       "0.891530480654169"
      ],
      "text/markdown": [
       "0.891530480654169"
      ],
      "text/plain": [
       "[1] 0.8915305"
      ]
     },
     "metadata": {},
     "output_type": "display_data"
    }
   ],
   "source": [
    "pnorm(q = 1.2658, lower.tail = TRUE) - pnorm(q = -2.5316, lower.tail = TRUE)"
   ]
  },
  {
   "cell_type": "markdown",
   "metadata": {},
   "source": [
    "So $P(0.50 < p' < 0.56) = P(-2.5316 < z < 1.2658) = 0.8915$. There is an 89.15% chance that a sample of 1,000 Americans will have a sample proportion of between 50% and 56%.\n",
    "***"
   ]
  },
  {
   "cell_type": "markdown",
   "metadata": {},
   "source": [
    "### Example 4.4.2"
   ]
  },
  {
   "cell_type": "code",
   "execution_count": null,
   "metadata": {},
   "outputs": [],
   "source": [
    "#**VID=JG9eQPGshSk**#"
   ]
  },
  {
   "cell_type": "markdown",
   "metadata": {},
   "source": [
    "***"
   ]
  },
  {
   "cell_type": "markdown",
   "metadata": {},
   "source": [
    "### Example0 4.4.3"
   ]
  },
  {
   "cell_type": "code",
   "execution_count": null,
   "metadata": {},
   "outputs": [],
   "source": [
    "#**VID=Io66GKJEcHM**#"
   ]
  },
  {
   "cell_type": "markdown",
   "metadata": {},
   "source": [
    "***"
   ]
  },
  {
   "cell_type": "markdown",
   "metadata": {},
   "source": [
    "<small style=\"color:gray\"><b>License:</b> This work is licensed under a [Creative Commons Attribution 4.0 International](https://creativecommons.org/licenses/by/4.0/) license.</small>\n",
    "\n",
    "<small style=\"color:gray\"><b>Author:</b> Taylor Baldwin, Mt. San Jacinto College</small>\n",
    "\n",
    "<small style=\"color:gray\"><b>Adapted From:</b> <i>Introductory Statistics</i>, by Barbara Illowsky and Susan Dean. Access for free at [https://openstax.org/books/introductory-statistics/pages/1-introduction](https://openstax.org/books/introductory-statistics/pages/1-introduction).</small>"
   ]
  }
 ],
 "metadata": {
  "kernelspec": {
   "display_name": "R",
   "language": "R",
   "name": "ir"
  },
  "language_info": {
   "codemirror_mode": "r",
   "file_extension": ".r",
   "mimetype": "text/x-r-source",
   "name": "R",
   "pygments_lexer": "r",
   "version": "3.6.1"
  }
 },
 "nbformat": 4,
 "nbformat_minor": 2
}
