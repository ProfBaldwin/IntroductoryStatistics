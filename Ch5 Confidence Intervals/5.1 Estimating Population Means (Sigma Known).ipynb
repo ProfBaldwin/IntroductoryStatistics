{
 "cells": [
  {
   "cell_type": "markdown",
   "metadata": {},
   "source": [
    "# 5.1 Estimating Population Means ($\\sigma$ Known)"
   ]
  },
  {
   "cell_type": "markdown",
   "metadata": {},
   "source": [
    "## Objectives\n",
    "- Compute probabilities using the Normal and Binomial Distributions, compute the mean, variance, and standard deviation of Normal and Binomial Distributions.\n",
    "- Compute probabilities using the Central Limit Theorem and demonstrate the ability to interpret sampling distributions of both population proportions and means.\n",
    "- Estimate population parameters using both point estimates and confidence interval estimates using both the normal and Student t-distribution.\n",
    "- Analyze an application in the disciplines business, social sciences, psychology, life sciences, health sciences, and education, and utilize the correct statistical processes to arrive at a solution."
   ]
  },
  {
   "cell_type": "markdown",
   "metadata": {},
   "source": [
    "## Introduction\n",
    "Suppose you were trying to determine the mean rent of a two-bedroom apartment in your town. You might look in the classified section of the newspaper, write down several rents listed, and average them together. You would have obtained a **point estimate** of the true mean. If you are trying to determine the percentage of times you make a basket when shooting a basketball, you might count the number of shots you make and divide that by the number of shots you attempted. In this case, you would have obtained a **point estimate** for the true proportion.\n",
    "\n",
    "We use sample data to make generalizations about an unknown population. This part of statistics is called **inferential statistics**. **The sample data help us to make an estimate of a population parameter.** We realize that the point estimate is most likely not the exact value of the population parameter, but close to it. After calculating point estimates, we construct interval estimates, called confidence intervals.\n",
    "\n",
    "A **confidence interval** is another type of estimate but, instead of being just one number, it is an interval of numbers. It provides a range of reasonable values in which we expect the population parameter to fall. There is no guarantee that a given confidence interval does capture the parameter, but there is a predictable probability of success."
   ]
  },
  {
   "cell_type": "markdown",
   "metadata": {},
   "source": [
    "## Calculating the Confidence Interval\n",
    "To construct a confidence interval for a single unknown population mean $\\mu$, **where the population standard deviation $\\sigma$ is known**, we need  $\\bar{x}$  as an estimate for $\\mu$ and we need the **margin of error**. The margin of error is denoted with the variable $E$. The sample mean  $\\bar{x}$  is the **point estimate** of the unknown population mean $\\mu$.\n",
    "\n",
    "**The confidence interval estimate will have the form:**\n",
    "\n",
    "(point estimate - margin of error, point estimate + margin of error) or, in symbols: \n",
    "\n",
    "$$(\\bar{x} – E, \\bar{x} + E).$$\n",
    "\n",
    "We say $\\bar{x} - E$ is the **lower bound** of the confidence interval and $\\bar{x} + E$ is the **upper bound** of the confidence interval.\n",
    "\n",
    "The margin of error (E) depends on the **confidence level** (abbreviated **CL**). The confidence level is often considered the probability that the calculated confidence interval estimate will contain the true population parameter. However, it is more accurate to state that the confidence level is the percent of confidence intervals that contain the true population parameter when repeated samples are taken. Most often, the person constructing the confidence interval chooses a confidence level of 90% or higher because that person wants to be reasonably certain of his or her conclusions.\n",
    "\n",
    "There is another probability called alpha ($\\alpha$). $\\alpha$ is related to the confidence level, $CL$. $\\alpha$ is the probability that the interval does not contain the unknown population parameter. \n",
    "\n",
    "Mathematically, $\\alpha + CL = 1.$"
   ]
  },
  {
   "cell_type": "markdown",
   "metadata": {},
   "source": [
    "***"
   ]
  },
  {
   "cell_type": "markdown",
   "metadata": {},
   "source": [
    "\n",
    "### Example 1.1\n",
    "Suppose we have collected data from a sample. We know the sample mean is $\\bar{x} = 7$. Given a confidence level of $CL = 95\\%$, the margin of error is $E = 2.5$. The population mean is unkown. Construct a confidence interval for the population mean.\n",
    "\n",
    "#### Solution\n",
    "The confidence interval is\n",
    "\n",
    "$$(\\bar{x} - E, \\bar{x} + E) = (7 - 2.5, 7 + 2.5) = (4.5, 9.5). $$\n",
    "\n",
    "So we are 95% confident that the population mean $\\mu$ is between 4.5 and 9.5.\n"
   ]
  },
  {
   "cell_type": "markdown",
   "metadata": {},
   "source": [
    "***"
   ]
  },
  {
   "cell_type": "markdown",
   "metadata": {},
   "source": [
    "A confidence interval for a population mean $\\mu$ with a known standard deviation $\\sigma$ is based on the fact that the sample means follow an approximately normal distribution. In fact, by the Central Limit Theorem,\n",
    "\n",
    "$$ \\overline{X} \\sim N\\left(\\mu, \\frac{\\sigma}{\\sqrt{n}}\\right) $$\n",
    "\n",
    "But we do not know the population mean $\\mu$. If we did, we would not need to estimate it using a confidence interval. Instead, we approximate the population mean $\\mu$ with the point estimate $\\bar{x}$. We will use the normal distribution \n",
    "\n",
    "$$N\\left(\\bar{x}, \\frac{\\sigma}{\\sqrt{n}}\\right)$$\n",
    "\n",
    "to construct our confidence interval.\n",
    "\n",
    "Suppose we want to estimate the mean of a population, but we know the standard deviation is $\\sigma = 3$. We sample $n = 20$ members of the population and calculate a sample mean of $\\bar{x} = 10$. We want to construct a 90% confidence interval for the population mean. To get a 90% confidence interval, we must include the central 90% of the probability of the normal distribution. If we include the central 90%, we leave out a total of $\\alpha = 10\\%$ in both tails of the normal distribution, or $\\frac{\\alpha}{2} = 5\\%$ in each tail."
   ]
  },
  {
   "cell_type": "code",
   "execution_count": 3,
   "metadata": {},
   "outputs": [
    {
     "data": {
      "image/png": "[encoded data removed]",
      "text/plain": [
       "plot without title"
      ]
     },
     "metadata": {},
     "output_type": "display_data"
    }
   ],
   "source": [
    "#**ALT=Graph of normal density function with mean=10, standard deviation=3. The central region is shaded and labeled 90%. Each tail is labeled 5%.**#\n",
    "#**HIDE_INPUT**#\n",
    "library(repr)\n",
    "options(repr.plot.width = 7, repr.plot.height=4)\n",
    "\n",
    "x <- seq(0, 20, 0.01)\n",
    "y <- dnorm(x, mean = 10, sd = 3)\n",
    "plot(x, y, type=\"l\", xaxt=\"n\", yaxt=\"n\")\n",
    "\n",
    "L = 10 - 4.935\n",
    "U = 10 + 4.935\n",
    "polyx <- c(L, seq(L, U, 0.01), U)\n",
    "polyy <- c(0, dnorm(seq(L, U, 0.01), mean=10, sd=3), 0)\n",
    "polygon(polyx, polyy, col=\"lightsteelblue\")\n",
    "\n",
    "text(4, 0.007, \"5%\")\n",
    "text(10, 0.06, \"90%\")\n",
    "text(16, 0.007, \"5%\")"
   ]
  },
  {
   "cell_type": "markdown",
   "metadata": {},
   "source": [
    "We want to find the margin of error $E$ of our confidence interval. We know that the upper bound to our confidence interval is $\\bar{x} + E$. But we also know that we can express the upper bound of our confidence interval using a $z$-score as $\\bar{x} + z\\frac{\\sigma}{\\sqrt{n}}$. Since $\\bar{x} + E = \\bar{x} + z\\frac{\\sigma}{\\sqrt{n}}$, subtracting $\\bar{x}$ off from both sides tells us that the margin of error is\n",
    "\n",
    "$$ E = z\\frac{\\sigma}{\\sqrt{n}}. $$\n",
    "\n",
    "For this particular problem, we want the $z$-score with an area of 0.05 to the right (since we want 5% probability to the right of the upper bound). We can calculate this using R."
   ]
  },
  {
   "cell_type": "code",
   "execution_count": 1,
   "metadata": {},
   "outputs": [
    {
     "data": {
      "text/html": [
       "1.64485362695147"
      ],
      "text/latex": [
       "1.64485362695147"
      ],
      "text/markdown": [
       "1.64485362695147"
      ],
      "text/plain": [
       "[1] 1.644854"
      ]
     },
     "metadata": {},
     "output_type": "display_data"
    }
   ],
   "source": [
    "qnorm(p = 0.05, lower.tail = FALSE)"
   ]
  },
  {
   "cell_type": "markdown",
   "metadata": {},
   "source": [
    "So the $z$-score we will use is $z = 1.645$. Then we can calculate the margin of error:\n",
    "\n",
    "$$ E = z\\frac{\\sigma_X}{\\sqrt{n}} = 1.645\\left(\\frac{3}{\\sqrt{20}}\\right) = 1.1035. $$\n",
    "\n",
    "So the margin of error is $E = 1.1035$. Then the confidence interval is\n",
    "\n",
    "$$ (\\bar{x} - E, \\bar{x} + E) = (10 - 1.1035, 10 + 1.1035) = (8.8965, 11.1035). $$\n",
    "\n",
    "We are 90% confident that the population mean $\\mu$ is between $8.8965$ and $11.1035$.\n",
    "\n",
    "<br><br><br>\n",
    "\n",
    "Based on this example, we can see that the steps to finding a confidence interval for a population mean are:\n",
    "\n",
    "1. Find the sample mean $\\bar{x}$.\n",
    "3. Find $z_{\\alpha/2}$, the $z$-score with an area of $\\alpha/2$ to its right.\n",
    "4. Calculate the margin of error using the formula $E = z_{\\alpha/2}\\dfrac{\\sigma}{\\sqrt{n}}$.\n",
    "5. Construct the confidence interval $(\\bar{x} - E, \\bar{x} + E)$."
   ]
  },
  {
   "cell_type": "markdown",
   "metadata": {},
   "source": [
    "***"
   ]
  },
  {
   "cell_type": "markdown",
   "metadata": {},
   "source": [
    "\n",
    "### Example 1.2\n",
    "The standard deviation of the weights of elephants is known to be approximately 50 pounds. Forty-five newborn elephants are sampled and found to have the following weights, in pounds:\n",
    "\n",
    "333, 248, 303, 248, 153, 168, 280, 256, 195, 234, 366, 250, 325, 266, 164, 253, 262, 343, 244, 425, 345, 343, 277, 215, 226, 254, 289, 296, 268, 195, 268, 202, 249, 256, 284, 257, 205, 215, 251, 257, 144, 323, 238, 257, 218\n",
    "\n",
    "Construct a 95% confidence interval for the mean weight of a newborn elephant.\n",
    "\n",
    "#### Solution\n",
    "\n",
    "First, let's note what we are given. We are told that\n",
    "$$\\begin{align}\n",
    "\\sigma &= 50, \\\\\n",
    "n &= 45, \\\\\n",
    "CL &= 0.95.\n",
    "\\end{align}$$\n",
    "\n",
    "##### Step 1: Find the sample mean $\\bar{x}$.\n",
    "\n",
    "Recall that $\\bar{x} = \\frac{\\sum x}{n}$. We will use R to calculate this."
   ]
  },
  {
   "cell_type": "code",
   "execution_count": 1,
   "metadata": {},
   "outputs": [
    {
     "data": {
      "text/html": [
       "258.844444444444"
      ],
      "text/latex": [
       "258.844444444444"
      ],
      "text/markdown": [
       "258.844444444444"
      ],
      "text/plain": [
       "[1] 258.8444"
      ]
     },
     "metadata": {},
     "output_type": "display_data"
    }
   ],
   "source": [
    "x = c(333, 248, 303, 248, 153, 168, 280, 256, 195, 234, 366, 250, 325, 266, 164, 253, 262, 343, 244, 425, 345, 343, 277, 215, 226, 254, 289, 296, 268, 195, 268, 202, 249, 256, 284, 257, 205, 215, 251, 257, 144, 323, 238, 257, 218)\n",
    "n = length(x)\n",
    "\n",
    "xbar = sum(x)/n\n",
    "xbar"
   ]
  },
  {
   "cell_type": "markdown",
   "metadata": {},
   "source": [
    "So the sample mean is $\\bar{x} = 258.8444$.\n",
    "\n",
    "##### Step 2: Find $z_{\\alpha/2}$.\n",
    "Since we want a 95% confidence interval, the area under the normal distribution outside our confidence interval is\n",
    "\n",
    "$$ \\alpha = 1 - CL = 1 - 0.95 = 0.05 $$\n",
    "\n",
    "So we want an area of $\\alpha/2 = 0.05/2 = 0.025$ in each tail of the normal distribution. We can calculate $z_{\\alpha/2} = z_{0.025}$, the $z$-score with an area of 0.025 to its right, using R."
   ]
  },
  {
   "cell_type": "code",
   "execution_count": 2,
   "metadata": {},
   "outputs": [
    {
     "data": {
      "text/html": [
       "1.95996398454005"
      ],
      "text/latex": [
       "1.95996398454005"
      ],
      "text/markdown": [
       "1.95996398454005"
      ],
      "text/plain": [
       "[1] 1.959964"
      ]
     },
     "metadata": {},
     "output_type": "display_data"
    }
   ],
   "source": [
    "qnorm(p = 0.025, lower.tail = FALSE)"
   ]
  },
  {
   "cell_type": "markdown",
   "metadata": {},
   "source": [
    "So $z_{\\alpha/2} = z_{0.025} = 1.960$.\n",
    "\n",
    "##### Step 3: Calculate the Margin of Error.\n",
    "Using the formula, the margin of error is\n",
    "\n",
    "$$ E = z_{0.025} \\frac{\\sigma}{\\sqrt{n}} = 1.960\\left(\\frac{50}{\\sqrt{45}}\\right) = 14.6090. $$\n",
    "\n",
    "##### Step 4: Construct the Confidence Interval.\n",
    "Our confidence interval is\n",
    "\n",
    "$$(\\bar{x} - E, \\bar{x} + E) = (258.8444 - 14.6090, 258.8444 + 14.6090) = (244.2354, 273.4534). $$\n",
    "\n",
    "We are 95% confident that the population mean weight of newborn elephants is between 244.2354 pounds and 273.4534 pounds."
   ]
  },
  {
   "cell_type": "markdown",
   "metadata": {},
   "source": [
    "***"
   ]
  },
  {
   "cell_type": "markdown",
   "metadata": {},
   "source": [
    "\n",
    "### Example 1.3\n",
    "A Menifee High School math teacher, Mr. DeLeon, wants to know the average GPA of students at the high school. He randomly asks 30 students what their GPA is, and obtains the following data:\n",
    "\n",
    "3.55, 3.51, 3.27, 4.30, 3.17, 3.61, 3.24, 3.74, 3.40, 3.91, 3.00, 1.88, 2.54, 3.15, 4.35, 2.62, 4.01, 3.69, 3.82, 3.18, 2.60, 3.49, 3.05, 2.91, 3.28, 2.97, 3.09, 3.49, 3.49, 3.05\n",
    "\n",
    "Mr. DeLeon assumes the population standard deviation is $\\sigma = 0.5$. Construct a 98% confidence interval for the mean GPA.\n",
    "\n",
    "#### Solution\n",
    "First, note that\n",
    "$$\\begin{align}\n",
    "n &= 30 \\\\\n",
    "\\sigma &= 0.5 \\\\\n",
    "CL &= 0.98\n",
    "\\end{align}$$\n",
    "\n",
    "##### Step 1: Find the Sample Mean $\\bar{x}$."
   ]
  },
  {
   "cell_type": "code",
   "execution_count": 1,
   "metadata": {},
   "outputs": [
    {
     "data": {
      "text/html": [
       "3.312"
      ],
      "text/latex": [
       "3.312"
      ],
      "text/markdown": [
       "3.312"
      ],
      "text/plain": [
       "[1] 3.312"
      ]
     },
     "metadata": {},
     "output_type": "display_data"
    }
   ],
   "source": [
    "x = c(3.55, 3.51, 3.27, 4.30, 3.17, 3.61, 3.24, 3.74, 3.40, 3.91, 3.00, 1.88, 2.54, 3.15, 4.35, 2.62, 4.01, 3.69, 3.82, 3.18, 2.60, 3.49, 3.05, 2.91, 3.28, 2.97, 3.09, 3.49, 3.49, 3.05)\n",
    "n = length(x)\n",
    "\n",
    "xbar = sum(x)/n\n",
    "xbar"
   ]
  },
  {
   "cell_type": "markdown",
   "metadata": {},
   "source": [
    "The sample mean GPA is $\\bar{x} = 3.312$.\n",
    "\n",
    "##### Step 2: Find $z_{\\alpha/2}$.\n",
    "Note that\n",
    "\n",
    "$$\\alpha = 1 - CL = 1 - 0.98 = 0.02. $$\n",
    "\n",
    "Then we want area outside the confidence interval in each tail to be $\\alpha/2 = 0.02/2 = 0.01$.\n",
    "\n",
    "We use R to find $z_{\\alpha/2} = z_{0.01}$, the $z$-score with an area of 0.01 to its right."
   ]
  },
  {
   "cell_type": "code",
   "execution_count": 2,
   "metadata": {},
   "outputs": [
    {
     "data": {
      "text/html": [
       "2.32634787404084"
      ],
      "text/latex": [
       "2.32634787404084"
      ],
      "text/markdown": [
       "2.32634787404084"
      ],
      "text/plain": [
       "[1] 2.326348"
      ]
     },
     "metadata": {},
     "output_type": "display_data"
    }
   ],
   "source": [
    "qnorm(p = 0.01, lower.tail = FALSE)"
   ]
  },
  {
   "cell_type": "markdown",
   "metadata": {},
   "source": [
    "So $z_{0.01} = 2.3263$.\n",
    "\n",
    "##### Step 3: Calculate the Margin of Error.\n",
    "The margin of error is\n",
    "\n",
    "$$E = z_{0.01}\\left(\\frac{\\sigma}{\\sqrt{n}}\\right) = 2.3263\\left(\\frac{0.5}{\\sqrt{30}}\\right) = 0.2124.$$\n",
    "\n",
    "##### Step 4: Construct the Confidence Interval.\n",
    "The confidence interval is\n",
    "\n",
    "$$(\\bar{x} - E, \\bar{x} + E) = (3.312 - 0.2124, 3.312 + 0.2124) = (3.0996, 3.5244).$$\n",
    "\n",
    "We are 98% confident that the average GPA at Menifee High School is between 3.0996 and 3.5244.\n"
   ]
  },
  {
   "cell_type": "markdown",
   "metadata": {},
   "source": [
    "***"
   ]
  },
  {
   "cell_type": "markdown",
   "metadata": {},
   "source": [
    "### Example 1.4 ###"
   ]
  },
  {
   "cell_type": "code",
   "execution_count": null,
   "metadata": {},
   "outputs": [],
   "source": [
    "#**VID=BcHJBGISw3k**#"
   ]
  },
  {
   "cell_type": "markdown",
   "metadata": {},
   "source": [
    "***"
   ]
  },
  {
   "cell_type": "markdown",
   "metadata": {},
   "source": [
    "<small style=\"color:gray\"><b>License:</b> This work is licensed under a [Creative Commons Attribution 4.0 International](https://creativecommons.org/licenses/by/4.0/) license.</small>\n",
    "\n",
    "<small style=\"color:gray\"><b>Author:</b> Taylor Baldwin, Mt. San Jacinto College</small>\n",
    "\n",
    "<small style=\"color:gray\"><b>Adapted From:</b> <i>Introductory Statistics</i>, by Barbara Illowsky and Susan Dean. Access for free at [https://openstax.org/books/introductory-statistics/pages/1-introduction](https://openstax.org/books/introductory-statistics/pages/1-introduction).</small>"
   ]
  }
 ],
 "metadata": {
  "kernelspec": {
   "display_name": "R",
   "language": "R",
   "name": "ir"
  },
  "language_info": {
   "codemirror_mode": "r",
   "file_extension": ".r",
   "mimetype": "text/x-r-source",
   "name": "R",
   "pygments_lexer": "r",
   "version": "3.6.1"
  }
 },
 "nbformat": 4,
 "nbformat_minor": 2
}
