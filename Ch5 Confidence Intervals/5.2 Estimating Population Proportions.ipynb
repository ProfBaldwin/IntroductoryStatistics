{
 "cells": [
  {
   "cell_type": "markdown",
   "metadata": {},
   "source": [
    "# 5.2 Estimating Population Proportions"
   ]
  },
  {
   "cell_type": "markdown",
   "metadata": {},
   "source": [
    "## Objectives\n",
    "- Compute probabilities using the Normal and Binomial Distributions, compute the mean, variance, and standard deviation of Normal and Binomial Distributions.\n",
    "- Compute probabilities using the Central Limit Theorem and demonstrate the ability to interpret sampling distributions of both population proportions and means.\n",
    "- Estimate population parameters using both point estimates and confidence interval estimates using both the normal and Student t-distribution.\n",
    "- Analyze an application in the disciplines business, social sciences, psychology, life sciences, health sciences, and education, and utilize the correct statistical processes to arrive at a solution."
   ]
  },
  {
   "cell_type": "markdown",
   "metadata": {},
   "source": [
    "## Introduction\n",
    "During an election year, we see articles in the newspaper that state **confidence intervals** in terms of proportions or percentages. For example, a poll for a particular candidate running for president might show that the candidate has 40% of the vote with a margin of error of three percentage points (if the sample is large enough). Often, election polls are calculated with 95% confidence, so, the pollsters would be 95% confident that the true proportion of voters who favored the candidate would be between 0.37 and 0.43: (0.40 – 0.03,0.40 + 0.03).\n",
    "\n",
    "Investors in the stock market are interested in the true proportion of stocks that go up and down each week. Businesses that sell personal computers are interested in the proportion of households in the United States that own personal computers. Confidence intervals can be calculated for the true proportion of stocks that go up or down each week and for the true proportion of households in the United States that own personal computers."
   ]
  },
  {
   "cell_type": "markdown",
   "metadata": {},
   "source": [
    "## Calculating the Confidence Interval\n",
    "\n",
    "The procedure to find the confidence interval, the sample size, the **margin of error**, and the **confidence level** for a proportion is similar to that for the population mean, but the formulas are different.\n",
    "\n",
    "We know from the Central Limit Theorem that the distributions of sample proportions is\n",
    "\n",
    "$$ P' \\sim N\\left(p, \\sqrt{\\frac{p(1 - p)}{n}}\\right), $$\n",
    "\n",
    "where $p$ is the population proportion and $n$ is the sample size. Of course, as in the case with means, if we already knew the value of the population proportion $p$, we wouldn't be estimating it using a confidence interval. We approximate the population proportion $p$ with the point estimate $p'$. Then to construct a confidence interval, we will use the distribution\n",
    "\n",
    "$$ N\\left(p', \\sqrt{\\frac{p'(1 - p')}{n}}\\right) $$\n",
    "\n",
    "We want to construct the confidence interval\n",
    "\n",
    "$$ (p' - E, p' + E), $$\n",
    "\n",
    "where $E$ is the margin of error. As in the case with means, we know that the upper bound has a $z$-score associated with it. This implies that $p' + E = p' + z\\sqrt{\\frac{p'(1-p')}{n}}$ for some value of $z$. Subtracting $p'$ from both sides gives us the formula for the margin of error:\n",
    "\n",
    "$$ E = z\\sqrt{\\frac{p'(1 - p')}{n}}. $$\n",
    "\n",
    "The value of $z$ is calculated exactly the same way when estimating proportions as it was when estimating means.\n",
    "\n",
    "<br><br><br>\n",
    "Based on these observations, we can see that the steps to finding a confidence interval for a population proportion are:\n",
    "\n",
    "1. Find the sample proportion p'.\n",
    "2. Find $z_{\\alpha/2}$, the $z$-score with an area of $\\alpha/2$ to its right.\n",
    "3. Calculate the margin of error using the formula $E = z_{\\alpha/2}\\sqrt{\\dfrac{p'(1 - p')}{n}}$.\n",
    "4. Construct the confidence interval $(p' - E, p' + E)$."
   ]
  },
  {
   "cell_type": "markdown",
   "metadata": {},
   "source": [
    "***"
   ]
  },
  {
   "cell_type": "markdown",
   "metadata": {},
   "source": [
    "\n",
    "### Example 2.1\n",
    "\n",
    "A student polls his school to see if students in the school district are for or against the new legistlation regarding school uniforms. She surveys 600 students and finds that 480 are against the new legislation. Compute a 99% confidence interval for the true percent of students who are against the new legislation.\n",
    "\n",
    "#### Solution\n",
    "First, note the given information:\n",
    "$$\\begin{align}\n",
    "n &= 600 \\\\\n",
    "x &= 480 \\\\\n",
    "CL &= 0.99.\n",
    "\\end{align}$$\n",
    "Here, $x$ represents the number of students who are against the new legislation.\n",
    "\n",
    "##### Part 1: Find the sample proportion $p'$.\n",
    "The sample proportion is\n",
    "\n",
    "$$ p' = \\frac{x}{n} = \\frac{480}{600} = 0.8. $$\n",
    "\n",
    "So 80% of the students surveyed are against the new legislation.\n",
    "\n",
    "##### Part 2: Find $z_{\\alpha/2}$.\n",
    "Since $CL = 0.99$, the area under the normal density function not in the confidence interval is\n",
    "\n",
    "$$\\alpha = 1 - CL = 1 - 0.99 = 0.01. $$\n",
    "\n",
    "This means that each tail should have an area of $\\alpha/2 = 0.01/2 = 0.005$ outside the confidence interval. We can use R to find $z_{\\alpha/2} = z_{0.005}$, the $z$-score with area $0.005$ to its right."
   ]
  },
  {
   "cell_type": "code",
   "execution_count": 1,
   "metadata": {},
   "outputs": [
    {
     "data": {
      "text/html": [
       "2.5758293035489"
      ],
      "text/latex": [
       "2.5758293035489"
      ],
      "text/markdown": [
       "2.5758293035489"
      ],
      "text/plain": [
       "[1] 2.575829"
      ]
     },
     "metadata": {},
     "output_type": "display_data"
    }
   ],
   "source": [
    "qnorm(p = 0.005, lower.tail = FALSE)"
   ]
  },
  {
   "cell_type": "markdown",
   "metadata": {},
   "source": [
    "So $z_{0.005} = 2.5758$.\n",
    "\n",
    "##### Step 3: Calculate the Margin of Error.\n",
    "The margin of error is\n",
    "\n",
    "$$ E = z_{0.005}\\sqrt{\\frac{p'(1 - p')}{n}} = 2.5758\\sqrt{\\frac{0.8(1 - 0.8)}{600}} = 0.0421. $$\n",
    "\n",
    "##### Step 4: Construct the Confidence Interval.\n",
    "The confidence interval is\n",
    "\n",
    "$$ (p' - E, p' + E) = (0.8 - 0.0421, 0.8 + 0.0421) = (0.7579, 0.8421). $$\n",
    "\n",
    "So we are 99% confident that between 75.79% and 84.21% of all students in the district are against the new legislation."
   ]
  },
  {
   "cell_type": "markdown",
   "metadata": {},
   "source": [
    "***"
   ]
  },
  {
   "cell_type": "markdown",
   "metadata": {},
   "source": [
    "\n",
    "### Example 2.2\n",
    "The Berkman Center for Internet & Society at Harvard recently conducted a study analyzing the privacy management habits of teen internet users. In a group of 50 teens, 13 reported having more than 500 friends on Facebook. Find a 92% confidence interval for the true proportion of teens who would report having more than 500 Facebook friends.\n",
    "\n",
    "#### Solution\n",
    "We are told that\n",
    "$$\\begin{align}\n",
    "n &= 50 \\\\\n",
    "x &= 13 \\\\\n",
    "CL &= 0.92\n",
    "\\end{align}$$\n",
    "\n",
    "##### Step 1: Find the sample proportion $p'$.\n",
    "The sample proportion is\n",
    "\n",
    "$$p' = \\frac{x}{n} = \\frac{13}{50} = 0.26. $$\n",
    "\n",
    "So 26% of the 50 teens sampled have more than 500 friends on facebook. \n",
    "\n",
    "##### Step 2: Find $z_{\\alpha/2}$.\n",
    "The area under the normal density function inside the confidence interval is $CL = 0.92$. Thus, the area under the normal density function outside the confidence interval is\n",
    "\n",
    "$$ \\alpha = 1 - CL = 1 - 0.92 = 0.08. $$\n",
    "\n",
    "This means that the area outside the confidence interval in each tail of the normal density function is $\\alpha/2 = 0.08/2 = 0.04$.\n",
    "\n",
    "We use R to find $z_{\\alpha/2} = z_{0.04}$, the $z$-score with an area of 0.04 to its right."
   ]
  },
  {
   "cell_type": "code",
   "execution_count": 1,
   "metadata": {},
   "outputs": [
    {
     "data": {
      "text/html": [
       "1.75068607125217"
      ],
      "text/latex": [
       "1.75068607125217"
      ],
      "text/markdown": [
       "1.75068607125217"
      ],
      "text/plain": [
       "[1] 1.750686"
      ]
     },
     "metadata": {},
     "output_type": "display_data"
    }
   ],
   "source": [
    "qnorm(p = 0.04, lower.tail = FALSE)"
   ]
  },
  {
   "cell_type": "markdown",
   "metadata": {},
   "source": [
    "So $z_{0.04} = 1.7507$.\n",
    "\n",
    "##### Step 3: Calculate the Margin of Error.\n",
    "The margin of error is\n",
    "\n",
    "$$ E = z_{0.04}\\sqrt{\\frac{p'(1-p')}{n}} = 1.7507 \\sqrt{\\frac{0.26(1 - 0.26)}{50}} = 0.1086. $$\n",
    "\n",
    "##### Step 4: Construct the Confidence Interval.\n",
    "The confidence interval is\n",
    "\n",
    "$$ (p' - E, p' + E) = (0.26 - 0.1086, 0.26 + 0.1086) = (0.1514, 0.3686). $$\n",
    "\n",
    "We are 92% confident that between 15.14% and 36.86% of teens have more than 500 friends on Facebook."
   ]
  },
  {
   "cell_type": "markdown",
   "metadata": {},
   "source": [
    "***"
   ]
  },
  {
   "cell_type": "markdown",
   "metadata": {},
   "source": [
    "### Example 2.3 ###"
   ]
  },
  {
   "cell_type": "code",
   "execution_count": 1,
   "metadata": {},
   "outputs": [],
   "source": [
    "#**VID=mkgFfWJMWNA**#"
   ]
  },
  {
   "cell_type": "markdown",
   "metadata": {},
   "source": [
    "***"
   ]
  },
  {
   "cell_type": "markdown",
   "metadata": {},
   "source": [
    "<small style=\"color:gray\"><b>License:</b> This work is licensed under a [Creative Commons Attribution 4.0 International](https://creativecommons.org/licenses/by/4.0/) license.</small>\n",
    "\n",
    "<small style=\"color:gray\"><b>Author:</b> Taylor Baldwin, Mt. San Jacinto College</small>\n",
    "\n",
    "<small style=\"color:gray\"><b>Adapted From:</b> <i>Introductory Statistics</i>, by Barbara Illowsky and Susan Dean. Access for free at [https://openstax.org/books/introductory-statistics/pages/1-introduction](https://openstax.org/books/introductory-statistics/pages/1-introduction).</small>"
   ]
  }
 ],
 "metadata": {
  "kernelspec": {
   "display_name": "R",
   "language": "R",
   "name": "ir"
  },
  "language_info": {
   "codemirror_mode": "r",
   "file_extension": ".r",
   "mimetype": "text/x-r-source",
   "name": "R",
   "pygments_lexer": "r",
   "version": "3.6.1"
  }
 },
 "nbformat": 4,
 "nbformat_minor": 2
}
