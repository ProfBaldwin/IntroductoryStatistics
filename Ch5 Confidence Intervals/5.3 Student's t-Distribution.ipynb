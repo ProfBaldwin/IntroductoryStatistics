{
 "cells": [
  {
   "cell_type": "markdown",
   "metadata": {},
   "source": [
    "# 5.3 Student's $t$-Distribution"
   ]
  },
  {
   "cell_type": "markdown",
   "metadata": {},
   "source": [
    "## Objectives\n",
    "- Estimate population parameters using both point estimates and confidence interval estimates using both the normal and Student t-distribution."
   ]
  },
  {
   "cell_type": "markdown",
   "metadata": {},
   "source": [
    "## Why Student's $t$-Distribution?\n",
    "In practice, when constructing a confidence interval for a population mean, we rarely know the population standard deviation. In the past, when the sample size was large, this did not present a problem to statisticians. They used the sample standard deviation $s$ as an estimate for $\\sigma$ and proceeded as before to calculate a confidence interval with close enough results. However, statisticians ran into problems when the sample size was small. A small sample size caused inaccuracies in the confidence interval.\n",
    "\n",
    "William S. Goset (1876–1937) of the Guinness brewery in Dublin, Ireland ran into this problem. His experiments with hops and barley produced very few samples. Just replacing the population standard deviation $\\sigma$ with the sample standard deviation $s$ did not produce accurate results when he tried to calculate a confidence interval. He realized that he could not use a normal distribution for the calculation; he found that the actual distribution depends on the sample size. This problem led him to \"discover\" what is called the Student's $t$-distribution. The name comes from the fact that Gosset wrote under the pen name \"Student\".\n",
    "\n",
    "Up until the mid-1970s, some statisticians used the normal distribution approximation for large sample sizes and used Student's $t$-distribution only for sample sizes of at most 30. With graphing calculators and computers, the practice now is to use Student's $t$-distribution whenever $s$ is used as an estimate for $\\sigma$."
   ]
  },
  {
   "cell_type": "markdown",
   "metadata": {},
   "source": [
    "## Student's $t$-Distribution\n",
    "If you draw a simple random sample of size $n$ from a population that has an approximately normal distribution with mean $\\mu$ and unknown population standard deviation $\\sigma$ and calculate the $t$-score \n",
    "\n",
    "$$t = \\frac{\\bar{x} - \\mu}{\\left(\\frac{s}{\\sqrt{n}}\\right)},$$\n",
    "\n",
    "then the $t$-scores follow a Student's $t$-distribution **with $n – 1$ degrees of freedom**. The $t$-score has the same interpretation as the $z$-score. It measures how far $\\bar{x}$ is from its mean $\\mu$. For each sample size $n$, there is a different Student's $t$-distribution.\n",
    "\n",
    "The **degrees of freedom, $n – 1$**, come from the calculation of the sample standard deviation $s$. Recall that we used $n$ deviations (that is, the $n$ values of $(x - \\bar{x})$) to calculate $s$. Because the sum of the deviations is zero, we can find the last deviation once we know the other $n – 1$ deviations. The other $n – 1$ deviations can change or vary freely, but once $n-1$ deviations are known, there is only one number we can choose for the final deviation to get the sample standard deviation $s$. We call the number $n – 1$ the degrees of freedom ($df$).\n",
    "\n",
    "- The graph for the Student's $t$-distribution is similar to the standard normal curve.\n",
    "- The mean for the Student's $t$-distribution is zero and the distribution is symmetric about zero.\n",
    "- The Student's $t$-distribution has more probability in its tails than the standard normal distribution because the spread of the $t$-distribution is greater than the spread of the standard normal. So the graph of the Student's $t$-distribution will be thicker in the tails and shorter in the center than the graph of the standard normal distribution.\n",
    "- The exact shape of the Student's $t$-distribution depends on the degrees of freedom. As the degrees of freedom increases, the graph of Student's $t$-distribution becomes more like the graph of the standard normal distribution.\n",
    "- The underlying population of individual observations is assumed to be normally distributed with unknown population mean $\\mu$ and unknown population standard deviation $\\sigma$. The size of the underlying population is generally not relevant unless it is very small. If it is bell shaped (normal) then the assumption is met and doesn't need discussion. Random sampling is assumed, but that is a completely separate assumption from normality."
   ]
  },
  {
   "cell_type": "code",
   "execution_count": 4,
   "metadata": {},
   "outputs": [
    {
     "data": {
      "image/png": "[encoded data removed]",
      "text/plain": [
       "plot without title"
      ]
     },
     "metadata": {},
     "output_type": "display_data"
    }
   ],
   "source": [
    "#**ALT=Graphs of the standard normal distribution and Student's $t$-distributions with different degrees of freedom.**#\n",
    "#**HIDE_INPUT**#\n",
    "\n",
    "x <- seq(-3, 3, 0.01)\n",
    "y <- dnorm(x)\n",
    "\n",
    "plot(x, y, type=\"l\", col=\"black\")\n",
    "\n",
    "y <- dt(x, df = 12)\n",
    "\n",
    "lines(x, y, col=\"red\")\n",
    "\n",
    "y <- dt(x, df = 3)\n",
    "\n",
    "lines(x, y, col=\"blue\")\n",
    "\n",
    "legend(0.7, 0.4, legend=c(\"Standard Normal\", \"Student's t, df=12\", \"Student's t, df=3\"), col=c(\"black\", \"red\", \"blue\"), lty=1)\n",
    "\n"
   ]
  },
  {
   "cell_type": "markdown",
   "metadata": {},
   "source": [
    "## Student's $t$-Distribution Using R\n",
    "We can use R to do calculations involving Student's $t$-distribution in almost the same way we did calculations involving the standard normal distribution. Recall that to find the area under the standard normal density function to the left or right of a $z$-score, we use the function <code>pnorm(q, lower.tail)</code>. Similarly, to find the area under Student's $t$-density function to the left or right of a $t$-score, we use the function\n",
    "\n",
    "```R\n",
    "pt(q, df, lower.tail)\n",
    "```\n",
    "\n",
    "where <code>q</code> is the value of the $t$-score, <code>df</code> is the degrees of freedom, and <code>lower.tail</code> is set to <code>TRUE</code> or <code>FALSE</code> depending on whether we want to know the probability to the left or to the right of the $t$-score."
   ]
  },
  {
   "cell_type": "markdown",
   "metadata": {},
   "source": [
    "***"
   ]
  },
  {
   "cell_type": "markdown",
   "metadata": {},
   "source": [
    "\n",
    "### Example 3.1\n",
    "Consider a $t$-distribution has 11 degrees of freedom.\n",
    "\n",
    "1. Find P(t < -0.5).\n",
    "2. Find P(t > 0.3).\n",
    "3. Find P(-1.0 < t < 1.2).\n",
    "\n",
    "#### Solution\n",
    "##### Part 1"
   ]
  },
  {
   "cell_type": "code",
   "execution_count": 1,
   "metadata": {},
   "outputs": [
    {
     "data": {
      "text/html": [
       "0.313463109591923"
      ],
      "text/latex": [
       "0.313463109591923"
      ],
      "text/markdown": [
       "0.313463109591923"
      ],
      "text/plain": [
       "[1] 0.3134631"
      ]
     },
     "metadata": {},
     "output_type": "display_data"
    }
   ],
   "source": [
    "pt(q = -0.5, df = 11, lower.tail = TRUE)"
   ]
  },
  {
   "cell_type": "markdown",
   "metadata": {},
   "source": [
    "So $P(t < -0.5) = 0.3135$.\n",
    "\n",
    "##### Part 2"
   ]
  },
  {
   "cell_type": "code",
   "execution_count": 1,
   "metadata": {},
   "outputs": [
    {
     "data": {
      "text/html": [
       "0.384885178944686"
      ],
      "text/latex": [
       "0.384885178944686"
      ],
      "text/markdown": [
       "0.384885178944686"
      ],
      "text/plain": [
       "[1] 0.3848852"
      ]
     },
     "metadata": {},
     "output_type": "display_data"
    }
   ],
   "source": [
    "pt(q = 0.3, df = 11, lower.tail = FALSE)"
   ]
  },
  {
   "cell_type": "markdown",
   "metadata": {},
   "source": [
    "So $P(t > 0.3) = 0.3849$.\n",
    "\n",
    "##### Part 3\n",
    "As we do with the normal distribution, to find $P(-1.0 < t < 1.2)$, we will first find all the area to the left of $t = 1.2$, then subtract the excess area to the left of $t = -1.0$."
   ]
  },
  {
   "cell_type": "code",
   "execution_count": 1,
   "metadata": {},
   "outputs": [
    {
     "data": {
      "text/html": [
       "0.702926510623682"
      ],
      "text/latex": [
       "0.702926510623682"
      ],
      "text/markdown": [
       "0.702926510623682"
      ],
      "text/plain": [
       "[1] 0.7029265"
      ]
     },
     "metadata": {},
     "output_type": "display_data"
    }
   ],
   "source": [
    "pt(q = 1.2, df = 11, lower.tail = TRUE) - pt(q = -1.0, df = 11, lower.tail = TRUE)"
   ]
  },
  {
   "cell_type": "markdown",
   "metadata": {},
   "source": [
    "So $P(-1.0 < t < 1.2) = 0.7029$."
   ]
  },
  {
   "cell_type": "markdown",
   "metadata": {},
   "source": [
    "***"
   ]
  },
  {
   "cell_type": "markdown",
   "metadata": {},
   "source": [
    "### Example 3.2 ###"
   ]
  },
  {
   "cell_type": "code",
   "execution_count": null,
   "metadata": {},
   "outputs": [],
   "source": [
    "#**VID=XjtEoFnKkYQ**#"
   ]
  },
  {
   "cell_type": "markdown",
   "metadata": {},
   "source": [
    "***"
   ]
  },
  {
   "cell_type": "markdown",
   "metadata": {},
   "source": [
    "Given a value, we can find the probability to its left or right using <code>pnorm</code> (for a standard normal distribution) or <code>pt</code> (for a $t$-distribution). We can also do the reverse:given a probability, we can find the value. We've seen that the function for doing this for the standard normal distribution is <code>qnorm(p, lower.tail)</code>. Similarly, the function for doing this for a $t$-distribution is\n",
    "\n",
    "```R\n",
    "qt(p, df, lower.tail)\n",
    "```\n",
    "\n",
    "where <code>p</code> is the probability, <code>df</code> is the degrees of freedom, and <code>lower.tail</code> indicates whether the probability is to the left or right of the $t$-value."
   ]
  },
  {
   "cell_type": "markdown",
   "metadata": {},
   "source": [
    "***"
   ]
  },
  {
   "cell_type": "markdown",
   "metadata": {},
   "source": [
    "### Example 3.3\n",
    "Consider a $t$-distribution with 22 degrees of freedom.\n",
    "\n",
    "1. Find $t$ so that the area to the left of $t$ is 0.12.\n",
    "2. Find $t$ so that the area to the right of $t$ is 0.34.\n",
    "3. Find $t_{0.05}$.\n",
    "\n",
    "#### Solution\n",
    "##### Part 1"
   ]
  },
  {
   "cell_type": "code",
   "execution_count": 1,
   "metadata": {},
   "outputs": [
    {
     "data": {
      "text/html": [
       "-1.20766344702836"
      ],
      "text/latex": [
       "-1.20766344702836"
      ],
      "text/markdown": [
       "-1.20766344702836"
      ],
      "text/plain": [
       "[1] -1.207663"
      ]
     },
     "metadata": {},
     "output_type": "display_data"
    }
   ],
   "source": [
    "qt(p = 0.12, df = 22, lower.tail = TRUE)"
   ]
  },
  {
   "cell_type": "markdown",
   "metadata": {},
   "source": [
    "So the area to the left of $t = -1.0277$ is 0.12.\n",
    "\n",
    "##### Part 2"
   ]
  },
  {
   "cell_type": "code",
   "execution_count": 1,
   "metadata": {},
   "outputs": [
    {
     "data": {
      "text/html": [
       "0.417998499316742"
      ],
      "text/latex": [
       "0.417998499316742"
      ],
      "text/markdown": [
       "0.417998499316742"
      ],
      "text/plain": [
       "[1] 0.4179985"
      ]
     },
     "metadata": {},
     "output_type": "display_data"
    }
   ],
   "source": [
    "qt(p = 0.34, df = 22, lower.tail = FALSE)"
   ]
  },
  {
   "cell_type": "markdown",
   "metadata": {},
   "source": [
    "So the area to the right of $t = 0.4180$ is 0.34.\n",
    "\n",
    "##### Part 3\n",
    "Just as we saw with $z$-scores, the notation $t_{0.05}$ is the $t$-value with area 0.05 to its right."
   ]
  },
  {
   "cell_type": "code",
   "execution_count": 1,
   "metadata": {},
   "outputs": [
    {
     "data": {
      "text/html": [
       "1.71714437438024"
      ],
      "text/latex": [
       "1.71714437438024"
      ],
      "text/markdown": [
       "1.71714437438024"
      ],
      "text/plain": [
       "[1] 1.717144"
      ]
     },
     "metadata": {},
     "output_type": "display_data"
    }
   ],
   "source": [
    "qt(p = 0.05, df = 22, lower.tail = FALSE)"
   ]
  },
  {
   "cell_type": "markdown",
   "metadata": {},
   "source": [
    "So $t_{0.05} = 1.7171$."
   ]
  },
  {
   "cell_type": "markdown",
   "metadata": {},
   "source": [
    "***"
   ]
  },
  {
   "cell_type": "markdown",
   "metadata": {},
   "source": [
    "### Example 3.4 ###"
   ]
  },
  {
   "cell_type": "code",
   "execution_count": null,
   "metadata": {},
   "outputs": [],
   "source": [
    "#**VID=7JUP9kansiw**#"
   ]
  },
  {
   "cell_type": "markdown",
   "metadata": {},
   "source": [
    "***"
   ]
  },
  {
   "cell_type": "markdown",
   "metadata": {},
   "source": [
    "<small style=\"color:gray\"><b>License:</b> This work is licensed under a [Creative Commons Attribution 4.0 International](https://creativecommons.org/licenses/by/4.0/) license.</small>\n",
    "\n",
    "<small style=\"color:gray\"><b>Author:</b> Taylor Baldwin, Mt. San Jacinto College</small>\n",
    "\n",
    "<small style=\"color:gray\"><b>Adapted From:</b> <i>Introductory Statistics</i>, by Barbara Illowsky and Susan Dean. Access for free at [https://openstax.org/books/introductory-statistics/pages/1-introduction](https://openstax.org/books/introductory-statistics/pages/1-introduction).</small>"
   ]
  }
 ],
 "metadata": {
  "kernelspec": {
   "display_name": "R",
   "language": "R",
   "name": "ir"
  },
  "language_info": {
   "codemirror_mode": "r",
   "file_extension": ".r",
   "mimetype": "text/x-r-source",
   "name": "R",
   "pygments_lexer": "r",
   "version": "3.6.1"
  }
 },
 "nbformat": 4,
 "nbformat_minor": 2
}
