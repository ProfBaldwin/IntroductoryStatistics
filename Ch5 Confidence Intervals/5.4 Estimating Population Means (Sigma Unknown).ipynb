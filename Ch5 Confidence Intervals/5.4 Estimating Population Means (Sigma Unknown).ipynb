{
 "cells": [
  {
   "cell_type": "markdown",
   "metadata": {},
   "source": [
    "# 5.4 Estimating Population Means ($\\sigma$ Unknown)"
   ]
  },
  {
   "cell_type": "markdown",
   "metadata": {},
   "source": [
    "## Objectives\n",
    "- Compute probabilities using the Central Limit Theorem and demonstrate the ability to interpret sampling distributions of both population proportions and means.\n",
    "- Estimate population parameters using both point estimates and confidence interval estimates using both the normal and Student t-distribution.\n",
    "- Analyze an application in the disciplines business, social sciences, psychology, life sciences, health sciences, and education, and utilize the correct statistical processes to arrive at a solution."
   ]
  },
  {
   "cell_type": "markdown",
   "metadata": {},
   "source": [
    "## Confidence Intervals using Student's $t$-Distribution\n",
    "\n",
    "As mentioned in the previous section, we rarely actually know the population standard deviation $\\sigma$ when constructing a confidence interval for the population mean $\\mu$. To substitute the sample standard deviation $s$ in place of the population standard deviation $\\sigma$, we must use a $t$-distribution with $n - 1$ degrees of freedom (where $n$ is the sample size) instead of a normal distribution.\n",
    "\n",
    "With the exception of this change, the process of constructing a confidence interval for the population mean is largely the same:\n",
    "\n",
    "1. Find the sample mean $\\bar{x}$ and the sample standard deviation $s$.\n",
    "2. Find $t_{\\alpha/2}$, the $t$-score with area $\\alpha/2$ to its right and $n-1$ degrees of freedom.\n",
    "3. Calculate the margin of error using the formula $E = t_{\\alpha/2} \\dfrac{s}{\\sqrt{n}}$.\n",
    "4. Construct the confidence interval $(\\bar{x} - E, \\bar{x} + E)$."
   ]
  },
  {
   "cell_type": "markdown",
   "metadata": {},
   "source": [
    "***"
   ]
  },
  {
   "cell_type": "markdown",
   "metadata": {},
   "source": [
    "### Example 4.1\n",
    "Twenty-five newborn elephants are sampled and found to have the following weights, in pounds:\n",
    "\n",
    "333, 248, 303, 248, 153, 168, 280, 256, 195, 234, 366, 250, 325, 266, 164, 253, 262, 343, 244, 425, 345, 343, 277, 215, 226\n",
    "\n",
    "Construct a 95% confidence interval for the mean weight of a newborn elephant.\n",
    "\n",
    "#### Solution\n",
    "Note that we are *not* told what the population standard deviation $\\sigma$ is. That means we will need to use the sample standard deviation $s$ instead together with a $t$-distribution.\n",
    "\n",
    "We are given that\n",
    "$$\\begin{align}\n",
    "n &= 25 \\\\\n",
    "CL &= 0.95\n",
    "\\end{align}$$\n",
    "\n",
    "##### Step 1: Find the sample mean $\\bar{x}$ and the sample standard deviation $s$."
   ]
  },
  {
   "cell_type": "code",
   "execution_count": 1,
   "metadata": {},
   "outputs": [
    {
     "data": {
      "text/html": [
       "268.88"
      ],
      "text/latex": [
       "268.88"
      ],
      "text/markdown": [
       "268.88"
      ],
      "text/plain": [
       "[1] 268.88"
      ]
     },
     "metadata": {},
     "output_type": "display_data"
    }
   ],
   "source": [
    "x = c(333, 248, 303, 248, 153, 168, 280, 256, 195, 234, 366, 250, 325, 266, 164, 253, 262, 343, 244, 425, 345, 343, 277, 215, 226)\n",
    "n = length(x)\n",
    "\n",
    "xbar = sum(x)/n\n",
    "xbar"
   ]
  },
  {
   "cell_type": "markdown",
   "metadata": {},
   "source": [
    "Then the sample mean is $\\bar{x} = 268.88$.\n",
    "\n",
    "To find the sample standard deviation, recall that we use the formula\n",
    "\n",
    "$$ s = \\sqrt{\\frac{\\sum (x - \\bar{x})^2}{n - 1}}. $$\n",
    "\n",
    "The last time we calculated the sample standard deviation, we calculated each step in the formula separately. But we're more experienced now, so we'll move faster. Look at the code carefully; make sure you see how the code below matches the sample deviation formula."
   ]
  },
  {
   "cell_type": "code",
   "execution_count": 2,
   "metadata": {},
   "outputs": [
    {
     "data": {
      "text/html": [
       "66.9404710669612"
      ],
      "text/latex": [
       "66.9404710669612"
      ],
      "text/markdown": [
       "66.9404710669612"
      ],
      "text/plain": [
       "[1] 66.94047"
      ]
     },
     "metadata": {},
     "output_type": "display_data"
    }
   ],
   "source": [
    "s = sqrt(sum( (x - xbar)^2 )/(n-1))\n",
    "s"
   ]
  },
  {
   "cell_type": "markdown",
   "metadata": {},
   "source": [
    "The sample standard deviation is $s = 66.9405$.\n",
    "\n",
    "##### Step 2: Find $t_{\\alpha/2}$.\n",
    "First, note the degrees of freedom for the $t$-distribution is\n",
    "\n",
    "$$ df = n-1 = 25 - 1 = 24. $$\n",
    "\n",
    "Next, since $CL = 0.95$, the area outside of the confidence interval is\n",
    "\n",
    "$$ \\alpha = 1 - CL = 1 - 0.95 = 0.05. $$\n",
    "\n",
    "So $\\alpha/2 = 0.05/2 = 0.025$. We want to find $t_{\\alpha/2} = t_{0.025}$, the $t$-score with an area of 0.025 to its right."
   ]
  },
  {
   "cell_type": "code",
   "execution_count": 3,
   "metadata": {},
   "outputs": [
    {
     "data": {
      "text/html": [
       "2.06389856162803"
      ],
      "text/latex": [
       "2.06389856162803"
      ],
      "text/markdown": [
       "2.06389856162803"
      ],
      "text/plain": [
       "[1] 2.063899"
      ]
     },
     "metadata": {},
     "output_type": "display_data"
    }
   ],
   "source": [
    "qt(p = 0.025, df = 24, lower.tail = FALSE)"
   ]
  },
  {
   "cell_type": "markdown",
   "metadata": {},
   "source": [
    "So $t_{0.025} = 2.0639$.\n",
    "\n",
    "##### Step 3: Calculate the Margin of Error.\n",
    "The margin of error is\n",
    "\n",
    "$$ E = t_{0.025}\\frac{s}{\\sqrt{n}} = 2.0639\\left(\\frac{66.9405}{\\sqrt{25}}\\right) = 27.6317. $$\n",
    "\n",
    "##### Step 4: Construct the Confidence Interval.\n",
    "The confidence interval is\n",
    "\n",
    "$$(\\bar{x} - E, \\bar{x} + E) = (268.88 - 27.6317, 268.88 + 27.6317) = (241.2483, 296.5117).$$\n",
    "\n",
    "We are 95% confident that the average weight of a newborn elephant is between 241.2483 pounds and 296.5117 pounds."
   ]
  },
  {
   "cell_type": "markdown",
   "metadata": {},
   "source": [
    "***"
   ]
  },
  {
   "cell_type": "markdown",
   "metadata": {},
   "source": [
    "\n",
    "### Example 4.2\n",
    "A Menifee High School math teacher, Mr. DeLeon, wants to know the average GPA of students at the high school. He randomly asks 30 students what their GPA is, and obtains the following data:\n",
    "\n",
    "3.55, 3.51, 3.27, 4.30, 3.17, 3.61, 3.24, 3.74, 3.40, 3.91, 3.00, 1.88, 2.54, 3.15, 4.35, 2.62, 4.01, 3.69, 3.82, 3.18, 2.60, 3.49, 3.05, 2.91, 3.28, 2.97, 3.09, 3.49, 3.49, 3.05\n",
    "\n",
    "Construct a 98% confidence interval for the mean GPA.\n",
    "\n",
    "#### Solution\n",
    "We are not told the population standard deviation $\\sigma$, so we will need to find the sample standard deviation $s$ and use a $t$-distribution.\n",
    "\n",
    "We are told that\n",
    "$$\\begin{align}\n",
    "n &= 30 \\\\\n",
    "CL &= 0.98\n",
    "\\end{align}$$\n",
    "\n",
    "##### Step 1: Find the Sample Mean $\\bar{x}$ and the Sample Standard Deviation $s$.\n"
   ]
  },
  {
   "cell_type": "code",
   "execution_count": 1,
   "metadata": {},
   "outputs": [
    {
     "data": {
      "text/html": [
       "3.312"
      ],
      "text/latex": [
       "3.312"
      ],
      "text/markdown": [
       "3.312"
      ],
      "text/plain": [
       "[1] 3.312"
      ]
     },
     "metadata": {},
     "output_type": "display_data"
    }
   ],
   "source": [
    "x = c(3.55, 3.51, 3.27, 4.30, 3.17, 3.61, 3.24, 3.74, 3.40, 3.91, 3.00, 1.88, 2.54, 3.15, 4.35, 2.62, 4.01, 3.69, 3.82, 3.18, 2.60, 3.49, 3.05, 2.91, 3.28, 2.97, 3.09, 3.49, 3.49, 3.05)\n",
    "n = length(x)\n",
    "\n",
    "xbar = sum(x)/n\n",
    "xbar"
   ]
  },
  {
   "cell_type": "markdown",
   "metadata": {},
   "source": [
    "So the sample mean is $\\bar{x} = 3.312$."
   ]
  },
  {
   "cell_type": "code",
   "execution_count": 2,
   "metadata": {},
   "outputs": [
    {
     "data": {
      "text/html": [
       "0.526428434406543"
      ],
      "text/latex": [
       "0.526428434406543"
      ],
      "text/markdown": [
       "0.526428434406543"
      ],
      "text/plain": [
       "[1] 0.5264284"
      ]
     },
     "metadata": {},
     "output_type": "display_data"
    }
   ],
   "source": [
    "s = sqrt(sum( (x - xbar)^2 )/(n-1))\n",
    "s"
   ]
  },
  {
   "cell_type": "markdown",
   "metadata": {},
   "source": [
    "Then the sample standard deviation is $s = 0.5264$.\n",
    "\n",
    "##### Step 2: Find $t_{\\alpha/2}$.\n",
    "First, note that the degrees of freedom for our $t$-distribution is\n",
    "\n",
    "$$ df = n-1 = 30-1 = 29. $$\n",
    "\n",
    "Next, since the area inside the confidence interval is $CL = 0.98$, the area outside the confidence interval is\n",
    "\n",
    "$$ \\alpha = 1 - CL = 1 - 0.98 = 0.02. $$\n",
    "\n",
    "So the area left in each tail of the $t$-distribution is $\\alpha/2 = 0.02/2 = 0.01$. We want to find $t_{\\alpha/2} = t_{0.01}$, the $t$-value with a area of 0.01 to its right."
   ]
  },
  {
   "cell_type": "code",
   "execution_count": 3,
   "metadata": {},
   "outputs": [
    {
     "data": {
      "text/html": [
       "2.46202136015041"
      ],
      "text/latex": [
       "2.46202136015041"
      ],
      "text/markdown": [
       "2.46202136015041"
      ],
      "text/plain": [
       "[1] 2.462021"
      ]
     },
     "metadata": {},
     "output_type": "display_data"
    }
   ],
   "source": [
    "qt(p = 0.01, df = 29, lower.tail = FALSE)"
   ]
  },
  {
   "cell_type": "markdown",
   "metadata": {},
   "source": [
    "Then $t_{0.01} = 2.4620$.\n",
    "\n",
    "##### Step 3: Calculate the Margin of Error.\n",
    "The margin of error is\n",
    "\n",
    "$$ E = t_{0.01}\\frac{s}{\\sqrt{n}} = 2.4620\\left(\\frac{0.5264}{\\sqrt{30}}\\right) = 0.2366. $$\n",
    "\n",
    "##### Step 4: Construct the Confidence Interval.\n",
    "The confidence interval is\n",
    "\n",
    "$$(\\bar{x} - E, \\bar{x} + E) = (3.312 - 0.2366, 3.312 + 0.2366) = (3.0754, 3.5486).$$\n",
    "\n",
    "We are 98% confident that the average GPA of students at Menifee High School is between 3.0754 and 3.5486.\n"
   ]
  },
  {
   "cell_type": "markdown",
   "metadata": {},
   "source": [
    "***"
   ]
  },
  {
   "cell_type": "markdown",
   "metadata": {},
   "source": [
    "### Example 4.3 ###"
   ]
  },
  {
   "cell_type": "code",
   "execution_count": null,
   "metadata": {},
   "outputs": [],
   "source": [
    "#**VID=Y4ZbE3-ir6M**#"
   ]
  },
  {
   "cell_type": "markdown",
   "metadata": {},
   "source": [
    "***"
   ]
  },
  {
   "cell_type": "markdown",
   "metadata": {},
   "source": [
    "<small style=\"color:gray\"><b>License:</b> This work is licensed under a [Creative Commons Attribution 4.0 International](https://creativecommons.org/licenses/by/4.0/) license.</small>\n",
    "\n",
    "<small style=\"color:gray\"><b>Author:</b> Taylor Baldwin, Mt. San Jacinto College</small>\n",
    "\n",
    "<small style=\"color:gray\"><b>Adapted From:</b> <i>Introductory Statistics</i>, by Barbara Illowsky and Susan Dean. Access for free at [https://openstax.org/books/introductory-statistics/pages/1-introduction](https://openstax.org/books/introductory-statistics/pages/1-introduction).</small>"
   ]
  }
 ],
 "metadata": {
  "kernelspec": {
   "display_name": "R",
   "language": "R",
   "name": "ir"
  },
  "language_info": {
   "codemirror_mode": "r",
   "file_extension": ".r",
   "mimetype": "text/x-r-source",
   "name": "R",
   "pygments_lexer": "r",
   "version": "3.6.1"
  }
 },
 "nbformat": 4,
 "nbformat_minor": 2
}
