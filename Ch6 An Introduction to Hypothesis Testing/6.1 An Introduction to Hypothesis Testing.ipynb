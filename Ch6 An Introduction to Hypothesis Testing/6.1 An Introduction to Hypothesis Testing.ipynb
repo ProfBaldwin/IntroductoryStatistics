{
 "cells": [
  {
   "cell_type": "markdown",
   "metadata": {},
   "source": [
    "# 6.1 An Introduction to Hypothesis Testing"
   ]
  },
  {
   "cell_type": "markdown",
   "metadata": {},
   "source": [
    "## Objectives\n",
    "\n",
    "- Compute probabilities using the Central Limit Theorem and demonstrate the ability to interpret sampling distributions of both population proportions and means.\n",
    "- Analyze a problem involving hypothesis testing, apply the correct techniques, and come to a conclusion for a claim about population proportion and mean, all this while using appropriate levels of statistical significance, $p$-values, and determining what would constitute a type I and type II error.\n",
    "- Analyze an application in the disciplines business, social sciences, psychology, life sciences, health science, and education, and utilize the correct statistical processes to arrive at a solution."
   ]
  },
  {
   "cell_type": "markdown",
   "metadata": {},
   "source": [
    "## Introduction to Hypothesis Testing\n",
    "Sometimes we want to test whether a claim made about a population parameter is true or not. For instance, a car dealer advertises that its new small truck gets 35 miles per gallon, on average. A tutoring service claims that its method of tutoring helps 90% of its students get an A or a B. A company says that women managers in their company earn an average of \\\\$53,000 per year.\n",
    "\n",
    "It's often impractical to survey every member of a population to confirm the claim or **hypothesis**. Instead, statisticians sample a few members of the population and calculate the point estimate of the parameter in question. Then they use the Central Limit Theorem to determine how likely it is to randomly select a sample with that particular point estimate **assuming the hypothesis is true**. If it is exceptionally unlikely that the sample would have the point estimate given that the hypothesis were true, we can conclude with some confidence that the claim is probably not true.\n",
    "\n",
    "In summary, the fundamental components to a **hypothesis test** are as follows:\n",
    "\n",
    "1. We want to test if a claim about a population parameter is true.\n",
    "2. We randomly sample members of the population to find a point estimate of the population parameter.\n",
    "3. Assuming the claim about the population parameter *is* true, we use the Central Limit Theorem to determine the probability that we obtain the point estimate of our random sample.\n",
    "4. If the probability of obtaining the point estimate is exceptionally small, we reject the claim.\n",
    "\n",
    "We will formalize these ideas in the coming chapter and return to them throughout the rest of the course. For now, let's go over a few examples focusing on the big idea and the fundamental components."
   ]
  },
  {
   "cell_type": "markdown",
   "metadata": {},
   "source": [
    "***"
   ]
  },
  {
   "cell_type": "markdown",
   "metadata": {},
   "source": [
    "\n",
    "### Example 1.1\n",
    "A company says that women managers in their company earn an average of \\\\$53,000 per year with a standard deviation of \\\\$5,000. Janice wants to test the claim. She surveys 25 women managers and obtains the following data on income per year:\n",
    "\n",
    "48230, 53491, 52926, 54832, 48080, 47101, 50126, 47433, 57753, 55107, 57205, 46297, 61249, 66936, 5463, 44429, 52696, 51243, 49008, 51522, 46658, 51788, 60244, 46164, 51103\n",
    "\n",
    "Do you think Janice should conclude that the claim is not true?\n",
    "\n",
    "#### Solution\n",
    "##### Step 1: State the Hypothesis\n",
    "The claim or hypothesis is that the average annual income of women managers at the company is \\\\$53,000. Written mathematically, the hypothesis is\n",
    "\n",
    "$$ \\mu = 53,000. $$\n",
    "\n",
    "##### Step 2: Determine the Features of the Distribution of Point Estimates Using the Central Limit Theorem\n",
    "We are testing the mean $\\mu$ and we are told the population standard deviation $\\sigma$. Then by the Central Limit Theorem, sample means are normally distributed with distribution mean\n",
    "\n",
    "$$\\mu_{\\overline{X}} = \\mu = 53,000 $$\n",
    "\n",
    "and distribution standard deviation\n",
    "\n",
    "$$ \\sigma_{\\overline{X}} = \\frac{\\sigma}{\\sqrt{n}} = \\frac{5000}{\\sqrt{25}} = 1000. $$\n",
    "\n",
    "##### Step 3: Assuming the Claim is True, Find the Probability of Obtaining the Point Estimate\n",
    "\n",
    "First, we calculate the sample mean $\\bar{x}$, which is the point estimate of the population mean $\\mu$.\n"
   ]
  },
  {
   "cell_type": "code",
   "execution_count": 1,
   "metadata": {},
   "outputs": [
    {
     "data": {
      "text/html": [
       "50283.36"
      ],
      "text/latex": [
       "50283.36"
      ],
      "text/markdown": [
       "50283.36"
      ],
      "text/plain": [
       "[1] 50283.36"
      ]
     },
     "metadata": {},
     "output_type": "display_data"
    }
   ],
   "source": [
    "x = c(48230, 53491, 52926, 54832, 48080, 47101, 50126, 47433, 57753, 55107, 57205, 46297, 61249, 66936, 5463, 44429, 52696, 51243, 49008, 51522, 46658, 51788, 60244, 46164, 51103)\n",
    "n = length(x)\n",
    "\n",
    "xbar = sum(x)/n\n",
    "xbar"
   ]
  },
  {
   "cell_type": "markdown",
   "metadata": {},
   "source": [
    "The sample mean is $\\bar{x} = 50283.36$.\n",
    "\n",
    "The $z$-score associated with the sample mean $\\bar{x}$ is\n",
    "\n",
    "$$z = \\frac{\\bar{x} - \\mu_{\\overline{X}}}{\\sigma_{\\overline{X}}} = \\frac{50283.36 - 53000}{1000} = -2.7166. $$\n",
    "\n",
    "We want to find $P(\\bar{x} \\leq 50283.36) = P(z \\leq -2.7166)$$. Let's use R to find this."
   ]
  },
  {
   "cell_type": "code",
   "execution_count": 2,
   "metadata": {},
   "outputs": [
    {
     "data": {
      "text/html": [
       "0.00329781334352045"
      ],
      "text/latex": [
       "0.00329781334352045"
      ],
      "text/markdown": [
       "0.00329781334352045"
      ],
      "text/plain": [
       "[1] 0.003297813"
      ]
     },
     "metadata": {},
     "output_type": "display_data"
    }
   ],
   "source": [
    "pnorm(q = -2.7166, lower.tail = TRUE)"
   ]
  },
  {
   "cell_type": "markdown",
   "metadata": {},
   "source": [
    "So $P(\\bar{x} \\leq 50283.36) = P(z \\leq -2.7166) = 0.0033$. That is, if the claim were true, there is only a 0.33% chance that a random sample of women managers would yield a sample mean salary of \\\\$50,283.36 or less\n",
    "\n",
    "##### Step 4: Make a Conclusion About the Claim\n",
    "In this case, it is very unlikely that we would obtain the point estimate we did if the claim were true. In fact, it is so unlikely (less than a 1% chance) that we feel confident in concluding that the claim is not true. \n",
    "\n",
    "We conclude that the average salary of women managers at the company is not \\\\$53,000."
   ]
  },
  {
   "cell_type": "markdown",
   "metadata": {},
   "source": [
    "***"
   ]
  },
  {
   "cell_type": "markdown",
   "metadata": {},
   "source": [
    "\n",
    "### Example 1.2\n",
    "A tutoring service claims that 90% of its students get an A or a B. Mike wants to test the claim. He surveys 45 students who utilized the tutoring service and found that 37 students got an A or a B. Do you think Mike should reject the claim?\n",
    "\n",
    "#### Solution\n",
    "##### Step 1: State the Hypothesis\n",
    "The claim we are testing is the proportion of students of the tutoring service who get an A or a B is 90%. Mathematically, the hypothesis is\n",
    "\n",
    "$$p = 0.90. $$\n",
    "\n",
    "##### Step 2: Determine the Features of the Distribution of Point Estimates Using the Central Limit Theorem\n",
    "By the Central Limit Theorem, we know that sample proportions are normally distributed with distribution mean\n",
    "\n",
    "$$ \\mu_{P'} = p = 0.90 $$\n",
    "\n",
    "and distribution standard deviation\n",
    "\n",
    "$$ \\sigma_{P'} = \\sqrt{\\frac{p(1 - p)}{n}} = \\sqrt{\\frac{0.90(1 - 0.90)}{45}} = 0.0447. $$\n",
    "\n",
    "##### Step 3: Assuming the Claim is True, Find the Probability of Obtaining the Point Estimate\n",
    "\n",
    "First note that the sample proportion, the point estimate of the population proportion, is\n",
    "\n",
    "$$ p' = \\frac{x}{n} = \\frac{37}{45} = 0.8222. $$\n",
    "\n",
    "The $z$-score associated with the sample proportion $p'$ is\n",
    "\n",
    "$$z = \\frac{p' - \\mu_{P'}}{\\sigma_{P'}} = \\frac{0.8222 - 0.90}{0.0447} = -1.7405.$$\n",
    "\n",
    "We want to find $P(p' \\leq 0.8222) = P(z \\leq -1.7405)$. We calculate this using R."
   ]
  },
  {
   "cell_type": "code",
   "execution_count": 1,
   "metadata": {},
   "outputs": [
    {
     "data": {
      "text/html": [
       "0.0408856300354386"
      ],
      "text/latex": [
       "0.0408856300354386"
      ],
      "text/markdown": [
       "0.0408856300354386"
      ],
      "text/plain": [
       "[1] 0.04088563"
      ]
     },
     "metadata": {},
     "output_type": "display_data"
    }
   ],
   "source": [
    "pnorm(q = -1.7405, lower.tail = TRUE)"
   ]
  },
  {
   "cell_type": "markdown",
   "metadata": {},
   "source": [
    "Then $P(p' \\leq 0.8222) = P(z \\leq -1.7405) = 0.0409$. So if the population proportion is actually $p = 0.90$, there is a 4.09% chance that a random sample gives a sample proportion of $p' \\leq 0.8222$.\n",
    "\n",
    "##### Step 4: Make a Conclusion About the Claim\n",
    "There is about a 4% chance of obtaining a sample proportion of $p' \\leq 0.8222$ if the claim were true. This is somewhat unlikely, but it wouldn't be outlandish. \n",
    "\n",
    "Ultimately, whether we reject a hypothesis or not is a choice. Would you reject the hypothesis if there is only a 1% chance that we get the point estimate we do? What if it was a 4% chance? An 8% chance? The choice ultimately must be made by the statistician where to draw the line. In a later section, we will cover some guidelines on making this choice.\n",
    "\n",
    "So what do you think? In this particular case, would you reject the claim that 90% of students of the tutoring service get an A or a B? Or do you think the evidence isn't strong enough to reject the claim?"
   ]
  },
  {
   "cell_type": "markdown",
   "metadata": {},
   "source": [
    "***"
   ]
  },
  {
   "cell_type": "markdown",
   "metadata": {},
   "source": [
    "\n",
    "### Example 1.3\n",
    "A statistics instructor claims that the class average on an exam is 65 points. Richard thinks the class average is higher. He collects the following scores from 9 students in the class:\n",
    "\n",
    "84, 67, 60, 55, 51, 64, 66, 70, 83\n",
    "\n",
    "Should Richard reject his instructor's claim?\n",
    "\n",
    "#### Solution\n",
    "##### Step 1: State the Hypothesis\n",
    "The hypothesis is that the class average is 65 points. Mathematically, we write\n",
    "\n",
    "$$\\mu = 65. $$\n",
    "\n",
    "##### Step 2: Determine the Features of the Distribution of Point Estimates Using the Central Limit Theorem\n",
    "We want to test the population mean $\\mu$, but we are *not* given the population standard deviation $\\sigma$. We will need to use the sample standard deviation $s$ and a $t$-distribution with degrees of freedom\n",
    "\n",
    "$$ df = n-1 = 9-1 = 8. $$\n",
    "\n",
    "To find the $t$-score, we will need the distribution mean\n",
    "\n",
    "$$ \\mu_{\\overline{X}} = \\mu = 65. $$\n",
    "\n",
    "The distribution mean is given by the formula $\\sigma_{\\overline{X}} = \\frac{s}{\\sqrt{n}}$, so we will need to find the sample standard deviation $s$ first.\n",
    "\n",
    "To find the sample standard deviation $s$, first find the sample mean $\\bar{x}$."
   ]
  },
  {
   "cell_type": "code",
   "execution_count": 1,
   "metadata": {},
   "outputs": [
    {
     "data": {
      "text/html": [
       "66.6666666666667"
      ],
      "text/latex": [
       "66.6666666666667"
      ],
      "text/markdown": [
       "66.6666666666667"
      ],
      "text/plain": [
       "[1] 66.66667"
      ]
     },
     "metadata": {},
     "output_type": "display_data"
    }
   ],
   "source": [
    "x = c(84, 67, 60, 55, 51, 64, 66, 70, 83)\n",
    "n = length(x)\n",
    "\n",
    "xbar = sum(x)/n\n",
    "xbar"
   ]
  },
  {
   "cell_type": "markdown",
   "metadata": {},
   "source": [
    "The sample mean is $\\bar{x} = 66.6667$.\n",
    "\n",
    "Next, we find the sample standard deviation."
   ]
  },
  {
   "cell_type": "code",
   "execution_count": 2,
   "metadata": {},
   "outputs": [
    {
     "data": {
      "text/html": [
       "11.247221879202"
      ],
      "text/latex": [
       "11.247221879202"
      ],
      "text/markdown": [
       "11.247221879202"
      ],
      "text/plain": [
       "[1] 11.24722"
      ]
     },
     "metadata": {},
     "output_type": "display_data"
    }
   ],
   "source": [
    "s = sqrt(sum( (x - xbar)^2 )/(n - 1))\n",
    "s"
   ]
  },
  {
   "cell_type": "markdown",
   "metadata": {},
   "source": [
    "So the sample standard deviation is $s = 11.2472$. We can now calculate the standard deviation of the distribution of sample means:\n",
    "\n",
    "$$ \\sigma_{\\overline{X}} = \\frac{s}{\\sqrt{n}} = \\frac{11.2472}{\\sqrt{9}} = 3.7491. $$ \n",
    "\n",
    "##### Step 3: Assuming the Claim is True, Find the Probability of Obtaining the Point Estimate\n",
    "We calculated the point estimate in step 2: the sample mean is $\\bar{x} =  66.6667$. The $t$-score associated with $\\bar{x} = 66.6667$ is\n",
    "\n",
    "$$t = \\frac{\\bar{x} - \\mu_{\\overline{X}}}{\\sigma_{\\overline{X}}} = \\frac{66.6667 - 65}{3.7491} = 0.4446. $$\n",
    "\n",
    "We want to find $P(\\bar{x} \\geq 66.6667) = P(t \\geq 0.4446)$. We calculate this using R."
   ]
  },
  {
   "cell_type": "code",
   "execution_count": 3,
   "metadata": {},
   "outputs": [
    {
     "data": {
      "text/html": [
       "0.334195519428358"
      ],
      "text/latex": [
       "0.334195519428358"
      ],
      "text/markdown": [
       "0.334195519428358"
      ],
      "text/plain": [
       "[1] 0.3341955"
      ]
     },
     "metadata": {},
     "output_type": "display_data"
    }
   ],
   "source": [
    "pt(q = 0.4446, df = 8, lower.tail = FALSE)"
   ]
  },
  {
   "cell_type": "markdown",
   "metadata": {},
   "source": [
    "So $P(\\bar{x} \\geq 66.6667) = P(t \\geq 0.4446) = 0.3342$. That is, assuming the claim is true, there is a 33.42% chance that our sample would have a sample mean of $66.6667$ or greater.\n",
    "\n",
    "##### Step 4: Make a Conclusion About the Claim\n",
    "If the claim is true, there is a 33.42% chance that a random sample of the population has a sample mean as extreme as $\\bar{x} = 66.6667$. This isn't a small probability; there is a fairly large chance that we obtain a sample with the sample mean we do given that the claim is true. We usually don't reject a claim unless we obtain at a probability of at least less than 10%. So we cannot conclude that the mean exam score is not 65 points.\n"
   ]
  },
  {
   "cell_type": "markdown",
   "metadata": {},
   "source": [
    "***"
   ]
  },
  {
   "cell_type": "markdown",
   "metadata": {},
   "source": [
    "### Example 1.4"
   ]
  },
  {
   "cell_type": "code",
   "execution_count": null,
   "metadata": {},
   "outputs": [],
   "source": [
    "#**VID=yJWkbN-91xc**#"
   ]
  },
  {
   "cell_type": "markdown",
   "metadata": {},
   "source": [
    "***"
   ]
  },
  {
   "cell_type": "markdown",
   "metadata": {},
   "source": [
    "### Example 1.5"
   ]
  },
  {
   "cell_type": "code",
   "execution_count": null,
   "metadata": {},
   "outputs": [],
   "source": [
    "#**VID=0Vj0LibwID8**#"
   ]
  },
  {
   "cell_type": "markdown",
   "metadata": {},
   "source": [
    "***"
   ]
  },
  {
   "cell_type": "markdown",
   "metadata": {},
   "source": [
    "### Example 1.6"
   ]
  },
  {
   "cell_type": "code",
   "execution_count": null,
   "metadata": {},
   "outputs": [],
   "source": [
    "#**VID=z2rIPx5p7lI**#"
   ]
  },
  {
   "cell_type": "markdown",
   "metadata": {},
   "source": [
    "***"
   ]
  },
  {
   "cell_type": "markdown",
   "metadata": {},
   "source": [
    "<small style=\"color:gray\"><b>License:</b> This work is licensed under a [Creative Commons Attribution 4.0 International](https://creativecommons.org/licenses/by/4.0/) license.</small>\n",
    "\n",
    "<small style=\"color:gray\"><b>Author:</b> Taylor Baldwin, Mt. San Jacinto College</small>\n",
    "\n",
    "<small style=\"color:gray\"><b>Adapted From:</b> <i>Introductory Statistics</i>, by Barbara Illowsky and Susan Dean. Access for free at [https://openstax.org/books/introductory-statistics/pages/1-introduction](https://openstax.org/books/introductory-statistics/pages/1-introduction).</small>"
   ]
  }
 ],
 "metadata": {
  "kernelspec": {
   "display_name": "R",
   "language": "R",
   "name": "ir"
  },
  "language_info": {
   "codemirror_mode": "r",
   "file_extension": ".r",
   "mimetype": "text/x-r-source",
   "name": "R",
   "pygments_lexer": "r",
   "version": "3.6.1"
  }
 },
 "nbformat": 4,
 "nbformat_minor": 2
}
