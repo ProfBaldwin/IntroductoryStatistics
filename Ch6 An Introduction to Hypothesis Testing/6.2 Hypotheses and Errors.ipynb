{
 "cells": [
  {
   "cell_type": "markdown",
   "metadata": {},
   "source": [
    "# 6.2 Hypotheses and Errors"
   ]
  },
  {
   "cell_type": "markdown",
   "metadata": {},
   "source": [
    "## Objectives\n",
    "\n",
    "- Analyze a problem involving hypothesis testing, apply the correct techniques, and come to a conclusion for a claim about population proportion and mean, all this while using appropriate levels of statistical significance, $p$-values, and determining what would constitute a type I and type II error.\n",
    "- Analyze an application in the disciplines business, social sciences, psychology, life sciences, health science, and education, and utilize the correct statistical processes to arrive at a solution."
   ]
  },
  {
   "cell_type": "markdown",
   "metadata": {},
   "source": [
    "## The Null and Alternative Hypothesis\n",
    "\n",
    "A hypothesis test begins by considering two **hypotheses**. They are called the **null hypothesis** and the **alternative hypothesis**. These hypotheses contain opposing viewpoints.\n",
    "\n",
    "$H_0$: **The null hypothesis**: It is the claim about the population mean $\\mu$ or population proportion $p$. After sampling the population and obtaining a point estimate of the parameter, we initially assume the null hypothesis $H_0$ is true and use the Central Limit Theorem to determine the probability of obtaining that point estimate. If the probability is sufficiently small, we conclude that the null hypothesis $H_0$ probably is not correct and reject the null hypothesis $H_0$.\n",
    "\n",
    "$H_a$: **The alternative hypothesis**: It is a claim about the population that is contradictory to null hypothesis $H_0$ and it's what we conclude when we reject then null hypothesis $H_0$.\n",
    "\n",
    "Since the null and alternative hypotheses are contradictory, you must examine evidence to decide if you have enough evidence to reject the null hypothesis or not. The evidence is in the form of sample data.\n",
    "\n",
    "After you have determined which hypothesis the sample supports, you make a decision. There are two options for a decision. They are \"reject $H_0$\" if the sample information favors the alternative hypothesis or \"do not reject $H_0$\" or \"decline to reject $H_0$\" if the sample information is insufficient to reject the null hypothesis.\n",
    "\n",
    "Mathematical Symbols Used in $H_0$ and $H_a$:\n",
    "\n",
    "| $H_0$ | $H_a$ |\n",
    "|--|--|\n",
    "|equal ($=$) | not equal $(\\neq)$ **or** greater than ($>$) **or** less than ($<$) |\n",
    "| greater than or equal to ($\\geq$) | less than ($<$) |\n",
    "| less than or equal to ($\\leq$) | greater than ($>$) |\n",
    "\n",
    "\n",
    "**Note:** $H_0$ always has a symbol with an equal in it. $H_a$ never has a symbol with an equal in it. The choice of symbol depends on the wording of the hypothesis test. However, be aware that many researchers (including one of the co-authors in research work) use $=$ in the null hypothesis, even with $>$ or $<$ as the symbol in the alternative hypothesis. This practice is acceptable because we only make the decision to reject or not reject the null hypothesis.\n"
   ]
  },
  {
   "cell_type": "markdown",
   "metadata": {},
   "source": [
    "***"
   ]
  },
  {
   "cell_type": "markdown",
   "metadata": {},
   "source": [
    "### Example 2.1\n",
    "We want to test whether the mean GPA of students in American colleges is different from 2.0 (out of 4.0). State the null and alternative hypotheses.\n",
    "\n",
    "#### Solution\n",
    "The statement, \"the mean GPA of students in American colleges is different from 2.0\" can be written mathematically as $\\mu \\neq 2.0$. Because we are using a not-equal-to symbol, this must be our alternative hypothesis $H_a$. Since the null hypothesis $H_0$ and the alternative hypothesis $H_a$ are the reverse of each other, the null  hypothesis is $\\mu = 2.0$. In summary\n",
    "\n",
    "$$\\begin{align}\n",
    "H_0:&\\  \\mu = 2.0 \\\\\n",
    "H_a:&\\  \\mu \\neq 2.0\n",
    "\\end{align}$$"
   ]
  },
  {
   "cell_type": "markdown",
   "metadata": {},
   "source": [
    "***"
   ]
  },
  {
   "cell_type": "markdown",
   "metadata": {},
   "source": [
    "\n",
    "### Example 2.2\n",
    "We want to test if college students take less than five years to graduate from college, on the average. Find the null and alternative hypotheses.\n",
    "\n",
    "#### Solution\n",
    "The statement, \"college students take less than five years to graduate from college, on the average\", can be written mathematically as $\\mu < 5$. Since the less-than symbol does not have an equal in it, this is the alternative hypothesis $H_a$. Then the null hypothesis $H_0$ is $\\mu \\geq 5$, which is the opposite of the alternative hypothesis $H_a$. So\n",
    "\n",
    "$$\\begin{align}\n",
    "H_0:&\\  \\mu \\geq 5 \\\\\n",
    "H_a:&\\  \\mu < 5\n",
    "\\end{align}$$"
   ]
  },
  {
   "cell_type": "markdown",
   "metadata": {},
   "source": [
    "***"
   ]
  },
  {
   "cell_type": "markdown",
   "metadata": {},
   "source": [
    "\n",
    "### Example 2.3\n",
    "In an issue of *U. S. News and World Report*, an article on school standards stated that about half of all students in France, Germany, and Israel take advanced placement exams and a third pass. The same article stated that 6.6% of U.S. students take advanced placement exams and 4.4% pass. Test if the percentage of U.S. students who take advanced placement exams is more than 6.6%. State the null and alternative hypotheses.\n",
    "\n",
    "#### Solution\n",
    "The statement, \"the percentage of U.S. students who take advanced placement exams is more than 6.6%\" can be written mathematically as $p > 0.066$. Since the greater-than symbol does not have an equal in it, this is the alternative hypothesis. Then the null hypothesis $H_0$ is $p \\leq 0.066$, which is the opposite of the alternative hypothesis $H_a$. That is,\n",
    "\n",
    "$$\\begin{align}\n",
    "H_0:&\\ p \\leq 0.066 \\\\\n",
    "H_a:&\\ p > 0.066\n",
    "\\end{align}$$\n"
   ]
  },
  {
   "cell_type": "markdown",
   "metadata": {},
   "source": [
    "***"
   ]
  },
  {
   "cell_type": "markdown",
   "metadata": {},
   "source": [
    "## Type I and Type II Errors\n",
    "When you perform a hypothesis test, there are four possible outcomes depending on the actual truth (or falseness) of the null hypothesis H0 and the decision to reject or not. The outcomes are summarized in the following table:\n",
    "\n",
    "|  | $H_0$ is Actually True | $H_0$ is Actually False |\n",
    "|--|--|--|\n",
    "|**Do not reject $H_0$**| Correct Outcome | Type II Error |\n",
    "|**Reject $H_0$**| Type I Error | Correct Outcome |\n",
    "\n",
    "The four possible outcomes in the table are:\n",
    "\n",
    "1. The decision is **not to reject $H_0$** when **$H_0$ is true** (correct decision).\n",
    "2. The decision is to **reject $H_0$** when **$H_0$ is true** (incorrect decision known as a **Type I error** or a **false positive**).\n",
    "3. The decision is **not to reject $H_0$** when, in fact, **$H_0$ is false** (incorrect decision known as a **Type II error** or a **false negative**).\n",
    "4. The decision is to **reject $H_0$** when **$H_0$ is false** (correct decision).\n",
    "\n",
    "Statisticians are trained to minimize the probability that a type I or type II error would occur. We will focus on simply identifying the type I and type II errors in different situations."
   ]
  },
  {
   "cell_type": "markdown",
   "metadata": {},
   "source": [
    "***"
   ]
  },
  {
   "cell_type": "markdown",
   "metadata": {},
   "source": [
    "\n",
    "### Example 2.4\n",
    "Suppose the null hypothesis, H0, is: the blood cultures contain no traces of pathogen X. State the Type I and Type II errors.\n",
    "\n",
    "#### Solution\n",
    "\n",
    "- Type I error: The decision is that the blood cultures *do* contain traces of pathogen X when, in fact, the blood cultures actually *do not* contain traces of pathogen X.\n",
    "- Type II error: The decision is that the blood cultures *do not* contain traces of pathogen X when, in fact, the blood cultures actually *do* contain traces of pathogen X.\n",
    "\n",
    "In this situation, which do you think would be the more serious error: a Type I error or a Type II error?"
   ]
  },
  {
   "cell_type": "markdown",
   "metadata": {},
   "source": [
    "***"
   ]
  },
  {
   "cell_type": "markdown",
   "metadata": {},
   "source": [
    "\n",
    "### Example 2.5\n",
    "A certain experimental drug claims a cure rate of at least 75% for males with prostate cancer. Describe both the Type I and Type II errors in context. Which error is the more serious?\n",
    "\n",
    "#### Solution\n",
    "First, note the hypotheses are\n",
    "\n",
    "$$\\begin{align}\n",
    "H_0:&\\ p \\geq 0.75 \\\\\n",
    "H_a:&\\ p < 0.75\n",
    "\\end{align}$$\n",
    "\n",
    "Then:\n",
    "\n",
    "- Type I error: The decision is that the cure rate for the drug is less than 75% when, in fact, the cure rate for the drug is at least 75%.\n",
    "- Type II error: The decision is that the cure rate for the drug is at least 75% when, in fact, the cure rate for the drug is less than 75%.\n",
    "\n",
    "In this case, the Type II error would be the more serious error. If a patient believes the drug works at least 75% of the time, this most likely will influence the patient’s (and doctor’s) choice about whether to use the drug as a treatment option.\n"
   ]
  },
  {
   "cell_type": "markdown",
   "metadata": {},
   "source": [
    "***"
   ]
  },
  {
   "cell_type": "markdown",
   "metadata": {},
   "source": [
    "### Example 2.6"
   ]
  },
  {
   "cell_type": "code",
   "execution_count": null,
   "metadata": {},
   "outputs": [],
   "source": [
    "#**VID=3x585fDgU-U**#"
   ]
  },
  {
   "cell_type": "markdown",
   "metadata": {},
   "source": [
    "***"
   ]
  },
  {
   "cell_type": "markdown",
   "metadata": {},
   "source": [
    "### Example 2.7"
   ]
  },
  {
   "cell_type": "code",
   "execution_count": null,
   "metadata": {},
   "outputs": [],
   "source": [
    "#**VID=iMH9GJUA90c**#"
   ]
  },
  {
   "cell_type": "markdown",
   "metadata": {},
   "source": [
    "***"
   ]
  },
  {
   "cell_type": "markdown",
   "metadata": {},
   "source": [
    "<small style=\"color:gray\"><b>License:</b> This work is licensed under a [Creative Commons Attribution 4.0 International](https://creativecommons.org/licenses/by/4.0/) license.</small>\n",
    "\n",
    "<small style=\"color:gray\"><b>Author:</b> Taylor Baldwin, Mt. San Jacinto College</small>\n",
    "\n",
    "<small style=\"color:gray\"><b>Adapted From:</b> <i>Introductory Statistics</i>, by Barbara Illowsky and Susan Dean. Access for free at [https://openstax.org/books/introductory-statistics/pages/1-introduction](https://openstax.org/books/introductory-statistics/pages/1-introduction).</small>"
   ]
  }
 ],
 "metadata": {
  "kernelspec": {
   "display_name": "R",
   "language": "R",
   "name": "ir"
  },
  "language_info": {
   "codemirror_mode": "r",
   "file_extension": ".r",
   "mimetype": "text/x-r-source",
   "name": "R",
   "pygments_lexer": "r",
   "version": "3.6.1"
  }
 },
 "nbformat": 4,
 "nbformat_minor": 2
}
