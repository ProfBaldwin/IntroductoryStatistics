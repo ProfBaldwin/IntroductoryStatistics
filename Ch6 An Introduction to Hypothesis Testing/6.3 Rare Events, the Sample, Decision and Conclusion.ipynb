{
 "cells": [
  {
   "cell_type": "markdown",
   "metadata": {},
   "source": [
    "# 6.3 Rare Events, the Sample, Decision, and Conclusion"
   ]
  },
  {
   "cell_type": "markdown",
   "metadata": {},
   "source": [
    "## Objectives\n",
    "\n",
    "- Analyze a problem involving hypothesis testing, apply the correct techniques, and come to a conclusion for a claim about population proportion and mean, all this while using appropriate levels of statistical significance, $p$-values, and determining what would constitute a type I and type II error.\n",
    "- Analyze an application in the disciplines business, social sciences, psychology, life sciences, health science, and education, and utilize the correct statistical processes to arrive at a solution."
   ]
  },
  {
   "cell_type": "markdown",
   "metadata": {},
   "source": [
    "## Rare Events\n",
    "Suppose you make an assumption about a property of the population (this assumption is the **null hypothesis**). Then you gather sample data randomly. If the sample has properties that would be **very unlikely** to occur if the assumption is true, then you would conclude that your assumption about the population is probably incorrect. (Remember that your assumption is just an **assumption**—it is not a fact and it may or may not be true. But your sample data are real and the data are showing you a fact that seems to contradict your assumption.)\n",
    "\n",
    "For example, Didi and Ali are at a birthday party of a very wealthy friend. They hurry to be first in line to grab a prize from a tall basket that they cannot see inside because they will be blindfolded. There are 200 plastic bubbles in the basket and Didi and Ali have been told that there is only one with a \\\\$100 bill. Didi is the first person to reach into the basket and pull out a bubble. Her bubble contains a \\\\$100 bill. The probability of this happening is $\\frac{1}{200} = 0.005$. Because this is so unlikely, Ali is hoping that what the two of them were told is wrong and there are more \\\\$100 bills in the basket. A \"rare event\" has occurred (Didi getting the \\\\$100 bill) so Ali doubts the assumption about only one \\\\$100 bill being in the basket."
   ]
  },
  {
   "cell_type": "markdown",
   "metadata": {},
   "source": [
    "## Using the Sample to Test the Null Hypothesis\n",
    "Use the sample data to calculate the actual probability of getting the test result, called the **$p$-value**. The $p$-value is the **probability that, if the null hypothesis is true, the results from another randomly selected sample will be as extreme or more extreme as the results obtained from the given sample**.\n",
    "\n",
    "A large $p$-value calculated from the data indicates that we should not reject the **null hypothesis**. The smaller the $p$-value, the more unlikely the outcome, and the stronger the evidence is against the null hypothesis. We would reject the null hypothesis if the evidence is strongly against it."
   ]
  },
  {
   "cell_type": "markdown",
   "metadata": {},
   "source": [
    "## Decision and Conclusion\n",
    "A systematic way to make a decision of whether to reject or not reject the **null hypothesis** is to compare the $p$-value and a **preset or preconceived $\\alpha$ (also called a \"significance level\")**. A preset $\\alpha$ is the probability of a Type I error (rejecting the null hypothesis when the null hypothesis is true). In this class, $\\alpha$ will always be given to you at the beginning of a problem. Real statisticians must themselves choose a value for $\\alpha$ that fits the problem.\n",
    "\n",
    "When you make a decision to reject or not reject $H_0$, do as follows:\n",
    "\n",
    "- If $p$-value $< \\alpha$, reject $H_0$. The results of the sample data are significant. There is sufficient evidence to conclude that $H_0$ is an incorrect belief and that the alternative hypothesis, Ha, may be correct.\n",
    "- If $p$-value $\\geq \\alpha$, do not reject $H_0$. The results of the sample data are not significant.There is not sufficient evidence to conclude that the alternative hypothesis, $H_a$, may be correct.\n",
    "- When you \"do not reject $H_0$\", it does not mean that you should believe that $H_0$ is true. It simply means that the sample data have failed to provide sufficient evidence to cast serious doubt about the truthfulness of Ho.\n",
    "\n",
    "**Conclusion:** After you make your decision, write a thoughtful **conclusion** about the hypotheses in terms of the given problem."
   ]
  },
  {
   "cell_type": "markdown",
   "metadata": {},
   "source": [
    "***"
   ]
  },
  {
   "cell_type": "markdown",
   "metadata": {},
   "source": [
    "\n",
    "### Example 3.1\n",
    "Boy Genetics Labs claim that their procedures improve the chances of a pregnancy resulting in a boy.\n",
    "\n",
    "1. What are the null and alternative hypotheses?\n",
    "2. A hypothesis test is conducted at the 1% level of significance. If the $p$-value is 0.025, what conclusion should be made?\n",
    "\n",
    "#### Solution\n",
    "##### Part 1\n",
    "A normal pregnancy has a 50% chance in being a boy and a 50% chance of being a girl. So the claim that the procedures improve the chances of a boy can be written mathematically as $p > 0.50$. Since the symbol has no equal in it, this is the alternative hypothesis. Then the null hypothesis is $p \\leq 0.50$.\n",
    "\n",
    "$$\\begin{align}\n",
    "H_0:&\\ p \\leq 0.50 \\\\\n",
    "H_a:&\\ p > 0.50\n",
    "\\end{align}$$\n",
    "\n",
    "##### Part 2\n",
    "The level of significance $\\alpha = 0.01$. So we are only comfortable with rejecting the null hypothesis if the $p$-value is smaller than $\\alpha = 0.01$. Since\n",
    "\n",
    "$$p\\text{-value} = 0.025 \\geq 0.01 = \\alpha, $$\n",
    "\n",
    "we are not comfortable rejecting the null hypothesis.\n",
    "\n",
    "We cannot conclude that that Boy Genetics Labs procedures improve the chances of a pregnancy resulting in a boy."
   ]
  },
  {
   "cell_type": "markdown",
   "metadata": {},
   "source": [
    "***"
   ]
  },
  {
   "cell_type": "markdown",
   "metadata": {},
   "source": [
    "\n",
    "### Example 3.2\n",
    "Your friend claims that his mean golf score is 63. You want to show it is higher than that.\n",
    "\n",
    "1. What are the null and alternative hypotheses?\n",
    "2. A hypothesis test is conducted at the 5% level of significance. If the $p$-value is 0.045, what conclusion should be made?\n",
    "\n",
    "#### Solution\n",
    "##### Part 1\n",
    "$$\\begin{align}\n",
    "H_0:&\\ \\mu = 63 \\\\\n",
    "H_a:&\\ \\mu > 63\n",
    "\\end{align}$$\n",
    "\n",
    "##### Part 2\n",
    "Since\n",
    "\n",
    "$$p\\text{-value} = 0.045 < 0.05 = \\alpha, $$\n",
    "\n",
    "we should reject the null hypothesis.\n",
    "\n",
    "We conclude that your friend's mean golf score is higher than $\\mu = 63$.\n"
   ]
  },
  {
   "cell_type": "markdown",
   "metadata": {},
   "source": [
    "***"
   ]
  },
  {
   "cell_type": "markdown",
   "metadata": {},
   "source": [
    "### Example 3.3"
   ]
  },
  {
   "cell_type": "code",
   "execution_count": null,
   "metadata": {},
   "outputs": [],
   "source": [
    "#**VID=pQf7dGifV-g**#"
   ]
  },
  {
   "cell_type": "markdown",
   "metadata": {},
   "source": [
    "***"
   ]
  },
  {
   "cell_type": "markdown",
   "metadata": {},
   "source": [
    "### Example 3.4"
   ]
  },
  {
   "cell_type": "code",
   "execution_count": null,
   "metadata": {},
   "outputs": [],
   "source": [
    "#**VID=EV2y0lHr_NA**#"
   ]
  },
  {
   "cell_type": "markdown",
   "metadata": {},
   "source": [
    "***"
   ]
  },
  {
   "cell_type": "markdown",
   "metadata": {},
   "source": [
    "<small style=\"color:gray\"><b>License:</b> This work is licensed under a [Creative Commons Attribution 4.0 International](https://creativecommons.org/licenses/by/4.0/) license.</small>\n",
    "\n",
    "<small style=\"color:gray\"><b>Author:</b> Taylor Baldwin, Mt. San Jacinto College</small>\n",
    "\n",
    "<small style=\"color:gray\"><b>Adapted From:</b> <i>Introductory Statistics</i>, by Barbara Illowsky and Susan Dean. Access for free at [https://openstax.org/books/introductory-statistics/pages/1-introduction](https://openstax.org/books/introductory-statistics/pages/1-introduction).</small>"
   ]
  }
 ],
 "metadata": {
  "kernelspec": {
   "display_name": "R",
   "language": "R",
   "name": "ir"
  },
  "language_info": {
   "codemirror_mode": "r",
   "file_extension": ".r",
   "mimetype": "text/x-r-source",
   "name": "R",
   "pygments_lexer": "r",
   "version": "3.6.1"
  }
 },
 "nbformat": 4,
 "nbformat_minor": 2
}
