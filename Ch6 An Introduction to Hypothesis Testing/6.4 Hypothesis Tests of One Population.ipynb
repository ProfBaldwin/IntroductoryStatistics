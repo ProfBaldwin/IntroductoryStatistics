{
 "cells": [
  {
   "cell_type": "markdown",
   "metadata": {},
   "source": [
    "# 6.4 Hypothesis Tests of One Population"
   ]
  },
  {
   "cell_type": "markdown",
   "metadata": {},
   "source": [
    "## Objectives\n",
    "\n",
    "- Compute probabilities using the Central Limit Theorem and demonstrate the ability to interpret sampling distributions of both population proportions and means.\n",
    "- Analyze a problem involving hypothesis testing, apply the correct techniques, and come to a conclusion for a claim about population proportion and mean, all this while using appropriate levels of statistical significance, $p$-values, and determining what would constitute a type I and type II error.\n",
    "- Analyze an application in the disciplines business, social sciences, psychology, life sciences, health science, and education, and utilize the correct statistical processes to arrive at a solution."
   ]
  },
  {
   "cell_type": "markdown",
   "metadata": {},
   "source": [
    "## Review and Additional Information\n",
    "\n",
    "- In a **hypothesis test** problem, you may see words such as \"the level of significance is 1%.\" The \"1%\" is the preconceived or preset $\\alpha$.\n",
    "- The statistician setting up the hypothesis test selects the value of $\\alpha$ to use **before** collecting the sample data.\n",
    "- When you calculate the $p$-value and draw the picture, the $p$-value is the area in the left tail, the right tail, or split evenly between the two tails. For this reason, we call the hypothesis test left-tailed, right-tailed, or two-tailed.\n",
    "- **The alternative hypothesis,  $H_a$ , tells you if the test is left, right, or two-tailed.** It is the **key** to conducting the appropriate test.\n",
    "- $H_a$ **never** has a symbol that contains an equal sign.\n",
    "- **Thinking about the meaning of the $p$-value:** A data analyst (and anyone else) should have more confidence that he made the correct decision to reject the null hypothesis with a smaller $p$-value (for example, 0.001 as opposed to 0.04) even if using the 0.05 level for $\\alpha$. Similarly, for a large $p$-value such as 0.4, as opposed to a $p$-value of 0.056 ($\\alpha$ = 0.05 is less than either number), a data analyst should have more confidence that she made the correct decision in not rejecting the null hypothesis. This makes the data analyst use judgment rather than mindlessly applying rules.\n",
    "\n",
    "The following examples illustrate a left-, right-, and two-tailed test.\n",
    "\n"
   ]
  },
  {
   "cell_type": "markdown",
   "metadata": {},
   "source": [
    "***"
   ]
  },
  {
   "cell_type": "markdown",
   "metadata": {},
   "source": [
    "\n",
    "### Example 4.1\n",
    "$$\\begin{align}\n",
    "H_0:\\ \\mu = 5 \\\\\n",
    "H_a:\\ \\mu < 5\n",
    "\\end{align}$$\n",
    "Test of a single population mean. The less-than symbol on the alternative hypothesis $H_a$ tells us the test is left-tailed. The picture of the $p$-value is as follows:\n",
    "\n",
    "<img src=\"lefttailed.jpeg\" alt=\"Bell curve with area equal to p-value in the left tail.\">"
   ]
  },
  {
   "cell_type": "markdown",
   "metadata": {},
   "source": [
    "***"
   ]
  },
  {
   "cell_type": "markdown",
   "metadata": {},
   "source": [
    "\n",
    "### Example 4.2\n",
    "$$\\begin{align}\n",
    "H_0:&\\ p \\leq 0.2 \\\\\n",
    "H_a:&\\ p > 0.2\n",
    "\\end{align}$$\n",
    "\n",
    "This is a test of a single population proportion. The greater-than symbol on the alternative hypothesis $H_a$ tells us the test is right-tailed. The picture of the $p$-value is as follows:\n",
    "\n",
    "<img src=\"righttailed.jpeg\" alt=\"A bell curve with area in the right tail shaded.\">"
   ]
  },
  {
   "cell_type": "markdown",
   "metadata": {},
   "source": [
    "***\n",
    "### Example 4.3\n",
    "$$\\begin{align}\n",
    "H_0:&\\ p = 50 \\\\\n",
    "H_a:&\\ p \\neq 50\n",
    "\\end{align}$$\n",
    "\n",
    "This is a test of a single population proportion. The not-equal-to symbol on the alternative hypothesis $H_a$ tells us the test is two-tailed. In a two-tailed test, teach tail contains only half the $p$-value:\n",
    "\n",
    "<img src=\"twotailed.jpeg\" alt=\"A bell curve with equal regions in each tail shaded.\">\n",
    "\n"
   ]
  },
  {
   "cell_type": "markdown",
   "metadata": {},
   "source": [
    "***"
   ]
  },
  {
   "cell_type": "markdown",
   "metadata": {},
   "source": [
    "The following table tells us which tailed test to use when:\n",
    "\n",
    "| Symbol in $H_a$ | Which Tail |\n",
    "|--|--|\n",
    "| $<$ | Left-tailed |\n",
    "| $>$ | Right-tailed |\n",
    "| $\\neq$ | Two-tailed |"
   ]
  },
  {
   "cell_type": "markdown",
   "metadata": {},
   "source": [
    "## Steps and Examples\n",
    "\n",
    "The general steps for completing a hypothesis test are\n",
    "\n",
    "1. State the null and alternative hypotheses.\n",
    "2. Assuming the null hypothesis is true, determine the features of the distribution of point estimates.\n",
    "3. Find the $p$-value of the point estimate.\n",
    "4. Make a conclusion about the null hypothesis."
   ]
  },
  {
   "cell_type": "markdown",
   "metadata": {},
   "source": [
    "***"
   ]
  },
  {
   "cell_type": "markdown",
   "metadata": {},
   "source": [
    "\n",
    "### Example 4.4\n",
    "Jeffrey, as an eight-year old, established a mean time of 16.43 seconds for swimming the 25-yard freestyle, with a standard deviation of 0.8 seconds. His dad, Frank, thought that Jeffrey could swim the 25-yard freestyle faster using goggles. Frank bought Jeffrey a new pair of expensive goggles and timed Jeffrey for 15 25-yard freestyle swims and obtained the following swim times (in seconds):\n",
    "\n",
    "14.96, 15.51, 15.54, 16.14, 15.55, 16.73, 16.4, 16.59, 14.76, 17.6, 17.68, 16.71, 14.87, 15.73, 16.42\n",
    "\n",
    "Conduct a hypothesis test at the 5% significance level to conclude whether or not the goggles helped Jeffrey swim faster.\n",
    "\n",
    "#### Solution\n",
    "##### Step 1: State the null and alternative hypotheses.\n",
    "Frank thinks Jeffrey's mean swim time would be faster with goggles; that is, $\\mu < 16.43$. Since the symbol has no equal in it, this is the alternative hypothesis. Then we can write the null and alternative hypotheses as\n",
    "\n",
    "$$\\begin{align}\n",
    "H_0:&\\ \\mu \\geq 16.43 \\\\\n",
    "H_a:&\\ \\mu < 16.43\n",
    "\\end{align}$$\n",
    "\n",
    "##### Step 2: Assuming the null hypothesis is true, determine the features of the distribution of point estimates.\n",
    "We are testing the population mean and we are told the population standard deviation. Then by the Central Limit Theorem, sample means are normally distributed with mean\n",
    "\n",
    "$$ \\mu_{\\overline{X}} = \\mu = 16.43 $$\n",
    "\n",
    "and standard deviation\n",
    "\n",
    "$$ \\sigma_{\\overline{X}} = \\frac{\\sigma}{\\sqrt{n}} = \\frac{0.8}{\\sqrt{15}} = 0.2066. $$\n",
    "\n",
    "##### Step 3: Find the  $p$-value of the point estimate.\n",
    "The point estimate of the population mean is the sample mean $\\bar{x}$."
   ]
  },
  {
   "cell_type": "code",
   "execution_count": 1,
   "metadata": {},
   "outputs": [
    {
     "data": {
      "text/html": [
       "16.0793333333333"
      ],
      "text/latex": [
       "16.0793333333333"
      ],
      "text/markdown": [
       "16.0793333333333"
      ],
      "text/plain": [
       "[1] 16.07933"
      ]
     },
     "metadata": {},
     "output_type": "display_data"
    }
   ],
   "source": [
    "x = c(14.96, 15.51, 15.54, 16.14, 15.55, 16.73, 16.4, 16.59, 14.76, 17.6, 17.68, 16.71, 14.87, 15.73, 16.42)\n",
    "n = length(x)\n",
    "\n",
    "xbar = sum(x)/n\n",
    "xbar"
   ]
  },
  {
   "cell_type": "markdown",
   "metadata": {},
   "source": [
    "The sample mean is $\\bar{x} = 16.0793$. The $z$-score associated with $\\bar{x}$ is\n",
    "\n",
    "$$ z = \\frac{\\bar{x} - \\mu_{\\overline{X}}}{\\sigma_{\\overline{X}}} = \\frac{ 16.0793 - 16.43}{0.2066} = -1.6975. $$\n",
    "\n",
    "Since the alternative hypothesis $H_a$ uses a less-than symbol, we will perform a left-tailed test. That is, the $p$-value is the probability $P(\\bar{x} \\leq 16.0793) = P(z \\leq -1.6975)$. We use R to calculate this."
   ]
  },
  {
   "cell_type": "code",
   "execution_count": 2,
   "metadata": {},
   "outputs": [
    {
     "data": {
      "text/html": [
       "0.0448010855505775"
      ],
      "text/latex": [
       "0.0448010855505775"
      ],
      "text/markdown": [
       "0.0448010855505775"
      ],
      "text/plain": [
       "[1] 0.04480109"
      ]
     },
     "metadata": {},
     "output_type": "display_data"
    }
   ],
   "source": [
    "pnorm(q = -1.6975, lower.tail = TRUE)"
   ]
  },
  {
   "cell_type": "markdown",
   "metadata": {},
   "source": [
    "So $P(\\bar{x} \\leq 16.0793) = P(z \\leq -1.6975) = 0.0448$. Assuming the null hypothesis is true, that using goggles didn't improve Jeffrey's mean swim time, there is a 4.48% chance that a random sample of 15 of Jeffrey's swims with goggles would yield a sample mean of 16.0793 seconds or less.\n",
    "\n",
    "##### Step 4: Make a conclusion about the null hypothesis.\n",
    "The hypothesis test is at the 5% significance level, so $\\alpha = 0.05$. Since\n",
    "\n",
    "$$p\\text{-value} = 0.0448 < 0.05 = \\alpha, $$\n",
    "\n",
    "we reject the null hypothesis. The chance of obtaining the sample mean we did if the null hypothesis were true is unlikely enough, we think it is more likely that the null hypothesis is not true.\n",
    "\n",
    "We conclude that Jeffrey *does* improve his swim time using goggles."
   ]
  },
  {
   "cell_type": "markdown",
   "metadata": {},
   "source": [
    "***"
   ]
  },
  {
   "cell_type": "markdown",
   "metadata": {},
   "source": [
    "\n",
    "### Example 4.5\n",
    "A college football coach records the mean weight that his players can bench press as 275 pounds. Three of his players thought that the mean weight was more than that amount. They asked 30 of their teammates for their estimated maximum lift on the bench press exercise, obtaining the following data (in pounds):\n",
    "\n",
    "205, 205, 205, 215, 215, 215, 225, 241, 241, 252, 252, 265, 265, 275, 275, 313, 313, 316, 316, 316, 316, 316, 338, 338, 341, 345, 345, 368, 368, 385\n",
    "\n",
    "Conduct a hypothesis test using a 2.5% level of significance to determine if the bench press mean is more than 275 pounds.\n",
    "\n",
    "#### Solution\n",
    "##### Step 1: State the null and alternative hypotheses.\n",
    "The three players think the mean bench press weight of the team is more than 275 pounds. Mathematically, we write this as $\\mu > 275$. Since the greater-than symbol has no equal in it, this is our alternative hypothesis. Then the hypotheses are\n",
    "\n",
    "$$\\begin{align}\n",
    "H_0:&\\ \\mu \\leq 275 \\\\\n",
    "H_a:&\\ \\mu > 275\n",
    "\\end{align}$$\n",
    "\n",
    "##### Step 2: Assuming the null hypothesis is true, determine the features of the distribution of point estimates.\n",
    "\n",
    "We are testing the population mean, but we are *not* told the population standard deviation. We will need to approximate the population standard deviation using the sample standard deviation and a $t$-distribution with degrees of freedom\n",
    "\n",
    "$$df = n-1 = 30-1 = 29. $$\n",
    "\n",
    "The mean of the distribution is\n",
    "\n",
    "$$ \\mu_{\\overline{X}} = \\mu = 275. $$\n",
    "\n",
    "To find the standard deviation $\\sigma_{\\overline{X}} = \\frac{s}{\\sqrt{n}}$ of the distribution, we first need to find the standard deviation $s$ of the sample. To do so, first find the sample mean."
   ]
  },
  {
   "cell_type": "code",
   "execution_count": 1,
   "metadata": {},
   "outputs": [
    {
     "data": {
      "text/html": [
       "286.166666666667"
      ],
      "text/latex": [
       "286.166666666667"
      ],
      "text/markdown": [
       "286.166666666667"
      ],
      "text/plain": [
       "[1] 286.1667"
      ]
     },
     "metadata": {},
     "output_type": "display_data"
    }
   ],
   "source": [
    "x = c(205, 205, 205, 215, 215, 215, 225, 241, 241, 252, 252, 265, 265, 275, 275, 313, 313, 316, 316, 316, 316, 316, 338, 338, 341, 345, 345, 368, 368, 385)\n",
    "n = length(x)\n",
    "\n",
    "xbar = sum(x)/n\n",
    "xbar"
   ]
  },
  {
   "cell_type": "markdown",
   "metadata": {},
   "source": [
    "The sample mean is $\\bar{x} = 286.1667$. Using this, we calculate the sample standard deviation."
   ]
  },
  {
   "cell_type": "code",
   "execution_count": 2,
   "metadata": {},
   "outputs": [
    {
     "data": {
      "text/html": [
       "55.8983580866344"
      ],
      "text/latex": [
       "55.8983580866344"
      ],
      "text/markdown": [
       "55.8983580866344"
      ],
      "text/plain": [
       "[1] 55.89836"
      ]
     },
     "metadata": {},
     "output_type": "display_data"
    }
   ],
   "source": [
    "s = sqrt(sum( (x - xbar)^2 )/(n-1))\n",
    "s"
   ]
  },
  {
   "cell_type": "markdown",
   "metadata": {},
   "source": [
    "The sample standard deviation is $s = 55.8984$. Then the distribution standard deviation is\n",
    "\n",
    "$$\\sigma_{\\overline{X}} = \\frac{s}{\\sqrt{n}} = \\frac{55.8984}{\\sqrt{30}} = 10.2056. $$\n",
    "\n",
    "##### Step 3: Find the  $p$-value of the point estimate.\n",
    "In step 2, we found that sample mean, which is the point estimate of the population mean, is $\\bar{x} = 286.1667$. To find the $p$-value, we will need the $t$-score of $\\bar{x}$:\n",
    "\n",
    "$$t = \\frac{\\bar{x} - \\mu_{\\overline{X}}}{\\sigma_{\\overline{X}}} = \\frac{286.1667 - 275}{10.2056} = 0.9962. $$\n",
    "\n",
    "Since $H_a$ uses a greater-than symbol, we will perform a right-tailed test. So the $p$-value is $P(\\bar{x} \\geq 286.1667) = P(t \\geq 0.9962)$. Let's use R to find this probability."
   ]
  },
  {
   "cell_type": "code",
   "execution_count": 3,
   "metadata": {},
   "outputs": [
    {
     "data": {
      "text/html": [
       "0.163696572454292"
      ],
      "text/latex": [
       "0.163696572454292"
      ],
      "text/markdown": [
       "0.163696572454292"
      ],
      "text/plain": [
       "[1] 0.1636966"
      ]
     },
     "metadata": {},
     "output_type": "display_data"
    }
   ],
   "source": [
    "pt(q = 0.9962, df = 29, lower.tail = FALSE)"
   ]
  },
  {
   "cell_type": "markdown",
   "metadata": {},
   "source": [
    "Then $P(\\bar{x} \\geq 286.1667) = P(t \\geq 0.9962) = 0.1637$. That is, assuming the null hypothesis is true, that the team's mean lift weight is 275 pounds, there is a 16.37% chance that if we randomly sample 30 team members, their mean lift weight would be at least 286.1667 pounds.\n",
    "\n",
    "##### Step 4: Make a conclusion about the null hypothesis.\n",
    "The level of significance is 2.5%, so $\\alpha = 0.025$. Since\n",
    "\n",
    "$$ p\\text{-value} = 0.1637 \\geq 0.025 = \\alpha, $$\n",
    "\n",
    "we do not reject the null hypothesis.\n",
    "\n",
    "The evidence is not strong enough to conclude that the team mean lift weight is greater than 275 pounds."
   ]
  },
  {
   "cell_type": "markdown",
   "metadata": {},
   "source": [
    "***"
   ]
  },
  {
   "cell_type": "markdown",
   "metadata": {},
   "source": [
    "\n",
    "### Example 4.6\n",
    "Joon believes that 50% of first-time brides in the United States are younger than their grooms. She performs a hypothesis test to determine if the percentage is the same or different from 50%. Joon samples 95 first-time brides and 51 reply that they are younger than their grooms. For the hypothesis test, she uses a 1% level of significance.\n",
    "\n",
    "#### Solution\n",
    "##### Step 1: State the null and alternative hypotheses.\n",
    "Joon wants to know if the percent of first-time brides that are younger than their grooms is 50% (that is, if $p = 0.50$) or different from 50% (that is, if $p \\neq 0.50$). Then the hypotheses are\n",
    "\n",
    "$$\\begin{align}\n",
    "H_0:&\\ p = 0.50 \\\\\n",
    "H_a:&\\ p \\neq 0.50\n",
    "\\end{align}$$\n",
    "\n",
    "##### Step 2: Assuming the null hypothesis is true, determine the features of the distribution of point estimates.\n",
    "\n",
    "We are testing the population proportion. By the Central Limit Theorem, sample proportions are normally distributed with mean\n",
    "\n",
    "$$ \\mu_{P'} = p = 0.50 $$\n",
    "\n",
    "and standard deviation\n",
    "\n",
    "$$ \\sigma_{P'} = \\sqrt{\\frac{p(1 - p)}{n}} = \\sqrt{\\frac{0.50(1 - 0.50)}{95}} = 0.0513. $$\n",
    "\n",
    "##### Step 3: Find the  $p$-value of the point estimate.\n",
    "The point estimate of the population proportion is the sample proportion\n",
    "\n",
    "$$ p' = \\frac{x}{n} = \\frac{51}{95} = 0.5368. $$\n",
    "\n",
    "Using the features of the distribution determined in step 2, we can calculate the $z$-score of the point estimate $p'$:\n",
    "\n",
    "$$ z = \\frac{p' - \\mu_{P'}}{\\sigma_{P'}} = \\frac{0.5368 - 0.50}{0.0513} = 0.7173. $$\n",
    "\n",
    "Since $H_a$ uses a not-equal-to symbol, we will perform a two-tailed test. That means half of the $p$-value is in each tail. We will first calculate the half of the $p$-value in the right tail, as represented by $P(p' \\geq 0.5368) = P(z \\geq 0.7173)$. (We find the half of the $p$-value in the right tail since our point estimate $p' = 0.5368$ is to the right of $p = 0.50$.)"
   ]
  },
  {
   "cell_type": "code",
   "execution_count": 1,
   "metadata": {},
   "outputs": [
    {
     "data": {
      "text/html": [
       "0.236594503619779"
      ],
      "text/latex": [
       "0.236594503619779"
      ],
      "text/markdown": [
       "0.236594503619779"
      ],
      "text/plain": [
       "[1] 0.2365945"
      ]
     },
     "metadata": {},
     "output_type": "display_data"
    }
   ],
   "source": [
    "pnorm(q = 0.7173, lower.tail = FALSE)"
   ]
  },
  {
   "cell_type": "markdown",
   "metadata": {},
   "source": [
    "So $P(p' \\geq 0.5368) = P(z \\geq 0.7173) = 0.2366.$ But remember, this is only half the $p$-value. that means the full $p$-value is\n",
    "\n",
    "$$ p\\text{-value} = 2(0.2366) = 0.4732. $$\n",
    "\n",
    "So, assuming the null hypothesis that the proportion of first-time brides younger than their grooms *is* 50%, there is a 47.32% chance that a random survey would yield a sample proportion at least as extreme as $p' = 0.5368 = 53.68\\%$.\n",
    "\n",
    "##### Step 4: Make a conclusion about the null hypothesis.\n",
    "The level of significance of the hypothesis test is 1%, so $\\alpha = 0.01$. Since\n",
    "\n",
    "$$ p\\text{-value} = 0.4732 \\geq 0.01 = \\alpha, $$\n",
    "\n",
    "we cannot reject the null hypothesis.\n",
    "\n",
    "The evidence is insufficient to conclude that the proportion of first-time brides that are younger than their grooms is different than 50%.\n"
   ]
  },
  {
   "cell_type": "markdown",
   "metadata": {},
   "source": [
    "***"
   ]
  },
  {
   "cell_type": "markdown",
   "metadata": {},
   "source": [
    "### Example 4.7"
   ]
  },
  {
   "cell_type": "code",
   "execution_count": null,
   "metadata": {},
   "outputs": [],
   "source": [
    "#**VID=Kiw1wDJ_goY**#"
   ]
  },
  {
   "cell_type": "markdown",
   "metadata": {},
   "source": [
    "***"
   ]
  },
  {
   "cell_type": "markdown",
   "metadata": {},
   "source": [
    "### Example 4.8"
   ]
  },
  {
   "cell_type": "code",
   "execution_count": 1,
   "metadata": {},
   "outputs": [],
   "source": [
    "#**VID=MEAUDl8wjN4**#"
   ]
  },
  {
   "cell_type": "markdown",
   "metadata": {},
   "source": [
    "***"
   ]
  },
  {
   "cell_type": "markdown",
   "metadata": {},
   "source": [
    "### Example 4.9"
   ]
  },
  {
   "cell_type": "code",
   "execution_count": null,
   "metadata": {},
   "outputs": [],
   "source": [
    "#**VID=_7DjYMmR7eE**#"
   ]
  },
  {
   "cell_type": "markdown",
   "metadata": {},
   "source": [
    "***"
   ]
  },
  {
   "cell_type": "markdown",
   "metadata": {},
   "source": [
    "<small style=\"color:gray\"><b>License:</b> This work is licensed under a [Creative Commons Attribution 4.0 International](https://creativecommons.org/licenses/by/4.0/) license.</small>\n",
    "\n",
    "<small style=\"color:gray\"><b>Author:</b> Taylor Baldwin, Mt. San Jacinto College</small>\n",
    "\n",
    "<small style=\"color:gray\"><b>Adapted From:</b> <i>Introductory Statistics</i>, by Barbara Illowsky and Susan Dean. Access for free at [https://openstax.org/books/introductory-statistics/pages/1-introduction](https://openstax.org/books/introductory-statistics/pages/1-introduction).</small>"
   ]
  }
 ],
 "metadata": {
  "kernelspec": {
   "display_name": "R",
   "language": "R",
   "name": "ir"
  },
  "language_info": {
   "codemirror_mode": "r",
   "file_extension": ".r",
   "mimetype": "text/x-r-source",
   "name": "R",
   "pygments_lexer": "r",
   "version": "3.6.1"
  }
 },
 "nbformat": 4,
 "nbformat_minor": 2
}
