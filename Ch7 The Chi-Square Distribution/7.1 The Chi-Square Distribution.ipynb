{
 "cells": [
  {
   "cell_type": "markdown",
   "metadata": {},
   "source": [
    "# 7.1 The $\\chi^2$-Distribution"
   ]
  },
  {
   "cell_type": "markdown",
   "metadata": {},
   "source": [
    "## Objectives\n",
    "- Analyze categorical data using $2\\times 2$ tables and chi-square analysis.\n",
    "- Analyze an application in the disciplins business, social sciences, psychology, life sciences, health science, and education, and utilize te correct statistical processes to arrive at a solution."
   ]
  },
  {
   "cell_type": "markdown",
   "metadata": {},
   "source": [
    "## The $\\chi^2$-Distribution\n",
    "\n",
    "For the $\\chi^2$-distribution (that is, the chi-square distribution), the population mean is $\\mu = df$, where $df$ is the degrees of freedom. The population standard deviation is $\\sigma = \\sqrt{2(df)}$.\n",
    "\n",
    "The random variable for a $\\chi^2$-distribution with $k$ degrees of freedom is the sum of $k$ independent, squared standard normal variables:\n",
    "\n",
    "$$ \\chi^2 = Z_1^2 + Z_2^2 + \\cdots + Z_k^2. $$\n",
    "\n",
    "The curve of the $\\chi^2$-distribution is nonsymmetrical. There is a different $\\chi^2$ curve for each $df$."
   ]
  },
  {
   "cell_type": "code",
   "execution_count": 8,
   "metadata": {},
   "outputs": [
    {
     "data": {
      "image/png": "[encoded data removed]",
      "text/plain": [
       "Plot with title \"Chi-Square Distributions\""
      ]
     },
     "metadata": {},
     "output_type": "display_data"
    }
   ],
   "source": [
    "#**ALT=Graphs of chi-square distributions with df=2, df=8, and df=24.**#\n",
    "#**HIDE_INPUT**#\n",
    "\n",
    "x <- seq(0, 60, 0.01)\n",
    "y <- dchisq(x, df=2)\n",
    "plot(x, y, type=\"l\", col=\"black\", main=\"Chi-Square Distributions\", lwd=1, xaxs = \"i\", yaxs = \"i\")\n",
    "\n",
    "y <- dchisq(x, df=8)\n",
    "lines(x, y, col=\"red\")\n",
    "\n",
    "y <- dchisq(x, df=24)\n",
    "lines(x, y, col=\"blue\")\n",
    "\n",
    "legend(45, 0.475, legend=c(\"df=2\", \"df=8\", \"df=24\"), col=c(\"black\", \"red\", \"blue\"), lty=1)"
   ]
  },
  {
   "cell_type": "markdown",
   "metadata": {},
   "source": [
    "To find the probability to the left or right of a value when using the $\\chi^2$-distribution, we will use the R function\n",
    "\n",
    "```R\n",
    "pchisq(q, df, lower.tail)\n",
    "```\n",
    "\n",
    "where we want the probability to the left or right of <code>q</code>, the degrees of freedom is <code>df</code>, and <code>lower.tail</code> is set to either <code>TRUE</code> or <code>FALSE</code> depending on whether we want to calculate the probability to the left or right of the value."
   ]
  },
  {
   "cell_type": "markdown",
   "metadata": {},
   "source": [
    "***"
   ]
  },
  {
   "cell_type": "markdown",
   "metadata": {},
   "source": [
    "\n",
    "### Example 1.1\n",
    "Consider a $\\chi^2$-distribution with 4 degrees of freedom.\n",
    "\n",
    "1. Find $P(\\chi^2 < 2)$.\n",
    "2. Find $P(\\chi^2 > 6)$.\n",
    "3. Find $P(3 < \\chi^2 < 5)$.\n",
    "\n",
    "#### Solution\n",
    "##### Part 1\n",
    "We can calculate this simply using R:"
   ]
  },
  {
   "cell_type": "code",
   "execution_count": 22,
   "metadata": {},
   "outputs": [
    {
     "data": {
      "text/html": [
       "0.264241117657115"
      ],
      "text/latex": [
       "0.264241117657115"
      ],
      "text/markdown": [
       "0.264241117657115"
      ],
      "text/plain": [
       "[1] 0.2642411"
      ]
     },
     "metadata": {},
     "output_type": "display_data"
    }
   ],
   "source": [
    "pchisq(q = 2, df = 4, lower.tail = TRUE)"
   ]
  },
  {
   "cell_type": "markdown",
   "metadata": {},
   "source": [
    "So $P( \\chi^2 < 2) = 0.2642$.\n",
    "\n",
    "##### Part 2\n",
    "Again, this is simple using R:"
   ]
  },
  {
   "cell_type": "code",
   "execution_count": 23,
   "metadata": {},
   "outputs": [
    {
     "data": {
      "text/html": [
       "0.199148273471456"
      ],
      "text/latex": [
       "0.199148273471456"
      ],
      "text/markdown": [
       "0.199148273471456"
      ],
      "text/plain": [
       "[1] 0.1991483"
      ]
     },
     "metadata": {},
     "output_type": "display_data"
    }
   ],
   "source": [
    "pchisq(q = 6, df = 4, lower.tail = FALSE)"
   ]
  },
  {
   "cell_type": "markdown",
   "metadata": {},
   "source": [
    "So $P(\\chi^2 > 6) = 0.1991$.\n",
    "\n",
    "##### Part 3\n",
    "To find $P(3 < \\chi^2 < 5)$, we will first calculate *all* the area to the left of $\\chi^2 = 5$, then subtract the excess area to the left of $\\chi^2 = 3$."
   ]
  },
  {
   "cell_type": "code",
   "execution_count": 24,
   "metadata": {
    "scrolled": true
   },
   "outputs": [
    {
     "data": {
      "text/html": [
       "0.270527905187429"
      ],
      "text/latex": [
       "0.270527905187429"
      ],
      "text/markdown": [
       "0.270527905187429"
      ],
      "text/plain": [
       "[1] 0.2705279"
      ]
     },
     "metadata": {},
     "output_type": "display_data"
    }
   ],
   "source": [
    "pchisq(q = 5, df = 4, lower.tail = TRUE) - pchisq(q = 3, df = 4, lower.tail = TRUE)"
   ]
  },
  {
   "cell_type": "markdown",
   "metadata": {},
   "source": [
    "So $P(3 < \\chi^2 < 5) = 0.2705$.\n"
   ]
  },
  {
   "cell_type": "markdown",
   "metadata": {},
   "source": [
    "***"
   ]
  },
  {
   "cell_type": "code",
   "execution_count": null,
   "metadata": {},
   "outputs": [],
   "source": [
    "#**VID=DFXcInJfeKc**#"
   ]
  },
  {
   "cell_type": "markdown",
   "metadata": {},
   "source": [
    "***"
   ]
  },
  {
   "cell_type": "markdown",
   "metadata": {},
   "source": [
    "## Attribution ##\n",
    "Significant portions of this textbook were written by Barbara Illowsky and Susan Dean in their textbook *Introductory Statistics*, published by OpenStax.\n",
    "\n",
    "Access for free at [https://openstax.org/books/introductory-statistics/pages/1-introduction](https://openstax.org/books/introductory-statistics/pages/1-introduction)"
   ]
  }
 ],
 "metadata": {
  "kernelspec": {
   "display_name": "R",
   "language": "R",
   "name": "ir"
  },
  "language_info": {
   "codemirror_mode": "r",
   "file_extension": ".r",
   "mimetype": "text/x-r-source",
   "name": "R",
   "pygments_lexer": "r",
   "version": "3.6.1"
  }
 },
 "nbformat": 4,
 "nbformat_minor": 2
}
