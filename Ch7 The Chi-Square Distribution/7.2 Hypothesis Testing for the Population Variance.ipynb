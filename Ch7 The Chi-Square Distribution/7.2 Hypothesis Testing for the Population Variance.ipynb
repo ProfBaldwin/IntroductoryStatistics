{
 "cells": [
  {
   "cell_type": "markdown",
   "metadata": {},
   "source": [
    "# 7.2 Hypothesis Testing for the Population Variance"
   ]
  },
  {
   "cell_type": "markdown",
   "metadata": {},
   "source": [
    "## Variance and the Test Statistic"
   ]
  },
  {
   "cell_type": "markdown",
   "metadata": {},
   "source": [
    "In the previous chapter, we learned how we test a claim about the mean or the proportion of a population. The process for testing a claim about the variance of a population is very similar. \n",
    "\n",
    "(Recall that the **variance** is simply the square of the standard deviation; that is, if $\\sigma$ is the population standard deviation, then $\\sigma^2$ is the population variance. While the variance and the standard deviation are not quite the same, the two parameters both measure how far data is from the mean. Testing the population variance is the same as testing the population standard deviation.)\n",
    "\n",
    "Unlike our tests for the population mean or the population proportion, our test for the population variance uses a test statistic with a $\\chi^2$-distribution. The test statistic is\n",
    "\n",
    "$$ \\chi^2 = \\frac{(n - 1)s^2}{\\sigma^2}, $$\n",
    "\n",
    "where $n$ is the sample size, $s$ is the sample standard deviation, and $\\sigma$ is the hypothesized population standard deviation. The degrees of freedom of the $\\chi^2$-distribution of point estimates is one less than the sample size: $df = n - 1$. The population must be normally distributed for the test to be valid.\n",
    "\n",
    "The general steps for completing a hypothesis test have not changed:\n",
    "1. State the null and alternative hypotheses.\n",
    "2. Assuming the null hypothesis is true, determine the features of the distribution of test statistics.\n",
    "3. Find the $p$-value of the test statistic.\n",
    "4. Make a conclusion about the null hypothesis."
   ]
  },
  {
   "cell_type": "markdown",
   "metadata": {},
   "source": [
    "***"
   ]
  },
  {
   "cell_type": "markdown",
   "metadata": {},
   "source": [
    "### Example 2.1\n",
    "A beverage company wants to make sure that the amount of soda in their two-liter bottles doesn't differ significantly bottle-to-bottle. Specifically, they want the population standard deviation to be no larger than 1.5 milliliters. The quality control division of the company carefully measures the amount of soda in 13 bottles and obtains the following results (in milliliters):\n",
    "<br/>\n",
    "<br/>\n",
    "\n",
    "<center>2002.08, 1999.25, 2002, 1996.51, 1998.99, 2000.06, 1999.73, 2001.16, 2001.19, 2002.14, 2000.21, 2002.15, 2000.06</center>\n",
    "\n",
    "Conduct a hypothesis test at the 10% significance level to determine is the beverage company's criterion is satisfied.\n",
    "\n",
    "#### Solution\n",
    "##### Step 1: State the null and alternative hypotheses.\n",
    "The beverage company doesn't want the population standard deviation to be larger than 1.5 milliliters; that is, the company wants $\\sigma \\leq 1.5$. Since the symbol has an 'equal' in it, this is the null hypothesis. The alternative hypothesis is the opposite of the null hypothesis.\n",
    "\n",
    "$$\\begin{align}\n",
    "H_0:&\\ \\sigma \\leq 1.5 \\\\\n",
    "H_a:&\\ \\sigma > 1.5\n",
    "\\end{align}$$\n",
    "\n",
    "Note, we have chosen to write our hypotheses in terms of the population standard deviation $\\sigma$. But we could also have written the hypotheses in terms of the population variance $\\sigma^2$. Since $1.5^2 = 2.25$, the same hypotheses written in terms of the population variance are\n",
    "\n",
    "$$\\begin{align}\n",
    "H_0:&\\ \\sigma^2 \\leq 2.25 \\\\\n",
    "H_a:&\\ \\sigma^2 > 2.25\n",
    "\\end{align}$$\n",
    "\n",
    "These two ways of writing the hypotheses are equivalent and mean the same thing.\n",
    "\n",
    "Also, recall that since the alternative hypothesis uses a greater-than symbol, we will be performing a right-tailed test.\n",
    "\n",
    "##### Step 2: Assuming the null hypothesis is true, determine the features of the distribution of test statistics.\n",
    "Because we are testing the population standard deviation, we will use a $\\chi^2$ distribution with degrees of freedom\n",
    "\n",
    "$$ df = n - 1 = 13 - 1 = 12. $$\n",
    "\n",
    "##### Step 3: Find the $p$-value of the test statistic.\n",
    "To calculate the test-statistic, we first need to find the sample standard deviation. To begin, we calculate the sample mean:"
   ]
  },
  {
   "cell_type": "code",
   "execution_count": 1,
   "metadata": {},
   "outputs": [
    {
     "data": {
      "text/html": [
       "2000.42538461538"
      ],
      "text/latex": [
       "2000.42538461538"
      ],
      "text/markdown": [
       "2000.42538461538"
      ],
      "text/plain": [
       "[1] 2000.425"
      ]
     },
     "metadata": {},
     "output_type": "display_data"
    }
   ],
   "source": [
    "x = c(2002.08, 1999.25, 2002, 1996.51, 1998.99, 2000.06, 1999.73, 2001.16, 2001.19, 2002.14, 2000.21, 2002.15, 2000.06)\n",
    "n = length(x)\n",
    "\n",
    "xbar = sum(x)/n\n",
    "xbar"
   ]
  },
  {
   "cell_type": "markdown",
   "metadata": {},
   "source": [
    "The sample mean is about $\\bar{x} = 2000.4254$. Next, we calculate the sample standard deviation:"
   ]
  },
  {
   "cell_type": "code",
   "execution_count": 2,
   "metadata": {},
   "outputs": [
    {
     "data": {
      "text/html": [
       "1.62851473938995"
      ],
      "text/latex": [
       "1.62851473938995"
      ],
      "text/markdown": [
       "1.62851473938995"
      ],
      "text/plain": [
       "[1] 1.628515"
      ]
     },
     "metadata": {},
     "output_type": "display_data"
    }
   ],
   "source": [
    "s = sqrt(sum( (x - xbar)^2 )/(n - 1))\n",
    "s"
   ]
  },
  {
   "cell_type": "markdown",
   "metadata": {},
   "source": [
    "The sample standard deviation is $s = 1.6285$. Assuming the null hypothesis is true (so that $\\sigma = 1.5$), we calculate the test statistic\n",
    "$$ \\chi^2 = \\frac{(n - 1)s^2}{\\sigma^2}. $$"
   ]
  },
  {
   "cell_type": "code",
   "execution_count": 3,
   "metadata": {},
   "outputs": [
    {
     "data": {
      "text/html": [
       "14.1443213675217"
      ],
      "text/latex": [
       "14.1443213675217"
      ],
      "text/markdown": [
       "14.1443213675217"
      ],
      "text/plain": [
       "[1] 14.14432"
      ]
     },
     "metadata": {},
     "output_type": "display_data"
    }
   ],
   "source": [
    "sigma = 1.5\n",
    "chisq = (n - 1)*s^2 / sigma^2\n",
    "chisq"
   ]
  },
  {
   "cell_type": "markdown",
   "metadata": {},
   "source": [
    "Our test statistic is $\\chi^2 = 14.1443$. Then since we are performing a right-tailed test, the $p$-value is equal to $P(\\chi^2 > 14.1443)$. We use R to calculate this probability."
   ]
  },
  {
   "cell_type": "code",
   "execution_count": 4,
   "metadata": {},
   "outputs": [
    {
     "data": {
      "text/html": [
       "0.291588646205538"
      ],
      "text/latex": [
       "0.291588646205538"
      ],
      "text/markdown": [
       "0.291588646205538"
      ],
      "text/plain": [
       "[1] 0.2915886"
      ]
     },
     "metadata": {},
     "output_type": "display_data"
    }
   ],
   "source": [
    "pvalue = pchisq(q = 14.1443, df = 12, lower.tail = FALSE)\n",
    "pvalue"
   ]
  },
  {
   "cell_type": "markdown",
   "metadata": {},
   "source": [
    "So the $p$-value is $P(\\chi^2 > 14.1443) = 0.2916$. That means that, assuming the null hypothesis is true, there is a 29.16% chance that a random sample of 13 bottles would have a sample standard deviation as extreme as ours.\n",
    "\n",
    "##### Step 4: Make a conclusion about the null hypothesis.\n",
    "The level of significance is 10%, so $\\alpha = 0.10$. But since\n",
    "\n",
    "$$p\\text{-value} = 0.2916 \\geq 0.10 = \\alpha, $$\n",
    "\n",
    "we do not reject the null hypothesis.\n",
    "\n",
    "There is not enough evidence to conclude that the population standard deviation of the bottles of soda is greater than 1.5 milliliters."
   ]
  },
  {
   "cell_type": "markdown",
   "metadata": {},
   "source": [
    "***"
   ]
  },
  {
   "cell_type": "markdown",
   "metadata": {},
   "source": [
    "### Example 2.2\n",
    "A medical testing company has created an IQ test and claims that the population scores an average of 100 points on the test with a standard deviation of 15 points. A psychologist suspects that the standard deviation might be wrong. He administers the IQ test to 18 randomly chosen individuals and obtains the following scores.\n",
    "<br>\n",
    "<br>\n",
    "\n",
    "<center>\n",
    "    108, 95, 98, 101, 118, 105, 102, 80, 112, 113, 88, 101, 93, 98, 104, 99, 87, 90\n",
    "</center>\n",
    "\n",
    "Perform a hypothesis test with a 5% level of significance to test the medical testing company's claim.\n",
    "\n",
    "#### Solution\n",
    "##### Step 1: State the null and alternative hypotheses.\n",
    "The medical testing company claims that the population standard deviation score on the test is 15 points, or $\\sigma = 15$. Since the symbol is an equal sign, this is our null hypothesis. The alternative hypothesis is the opposite of this.\n",
    "\n",
    "$$\\begin{align}\n",
    "H_0:&\\ \\sigma = 15 \\\\\n",
    "H_a:&\\ \\sigma \\neq 15\n",
    "\\end{align}$$\n",
    "\n",
    "Since the alternative hypothesis uses a not-equal-to symbol, we will be performing a two-tailed test.\n",
    "\n",
    "##### Step 2: Assuming the null hypothesis is true, determine the features of the distribution of test statistics.\n",
    "Since we are testing the population standard deviation, we will be using a $chi^2$-distribution with $n - 1 = 18 - 1 = 17$ degrees of freedom.\n",
    "\n",
    "##### Step 3: Find the $p$-value of the test statistic.\n",
    "To calculate the point estimate, we first must find the sample standard deviation. And to find the sample standard deviation, we need the sample mean."
   ]
  },
  {
   "cell_type": "code",
   "execution_count": 1,
   "metadata": {},
   "outputs": [
    {
     "data": {
      "text/html": [
       "99.5555555555556"
      ],
      "text/latex": [
       "99.5555555555556"
      ],
      "text/markdown": [
       "99.5555555555556"
      ],
      "text/plain": [
       "[1] 99.55556"
      ]
     },
     "metadata": {},
     "output_type": "display_data"
    }
   ],
   "source": [
    "x = c(108, 95, 98, 101, 118, 105, 102, 80, 112, 113, 88, 101, 93, 98, 104, 99, 87, 90)\n",
    "n = length(x)\n",
    "\n",
    "xbar = sum(x)/n\n",
    "xbar"
   ]
  },
  {
   "cell_type": "markdown",
   "metadata": {},
   "source": [
    "So the sample mean is $\\bar{x} = 99.5556$. Next, we use our calculation of the sample mean to find the sample standard deviation."
   ]
  },
  {
   "cell_type": "code",
   "execution_count": 2,
   "metadata": {},
   "outputs": [
    {
     "data": {
      "text/html": [
       "9.82327501529626"
      ],
      "text/latex": [
       "9.82327501529626"
      ],
      "text/markdown": [
       "9.82327501529626"
      ],
      "text/plain": [
       "[1] 9.823275"
      ]
     },
     "metadata": {},
     "output_type": "display_data"
    }
   ],
   "source": [
    "s = sqrt( sum( (x - xbar)^2 )/(n - 1) )\n",
    "s"
   ]
  },
  {
   "cell_type": "markdown",
   "metadata": {},
   "source": [
    "The sample standard deviation is $s = 9.8233$. Using this with the hypothesized population standard deviation of $\\sigma = 15$, we calculate the test statistic using the formula\n",
    "\n",
    "$$ \\chi^2 = \\frac{(n - 1)s^2}{\\sigma^2}. $$"
   ]
  },
  {
   "cell_type": "code",
   "execution_count": 3,
   "metadata": {},
   "outputs": [
    {
     "data": {
      "text/html": [
       "7.29086419753086"
      ],
      "text/latex": [
       "7.29086419753086"
      ],
      "text/markdown": [
       "7.29086419753086"
      ],
      "text/plain": [
       "[1] 7.290864"
      ]
     },
     "metadata": {},
     "output_type": "display_data"
    }
   ],
   "source": [
    "sigma = 15\n",
    "chisq = (n - 1)*s^2 / sigma^2\n",
    "chisq"
   ]
  },
  {
   "cell_type": "markdown",
   "metadata": {},
   "source": [
    "So the sample statistic is $\\chi^2 = 7.2909$. Since we are performing a two-tailed test, and because our sample standard deviation $s = 9.8233$ is smaller than our hypothesized population standard deviation of $\\sigma = 15$, we will find the half of the $p$-value in the lower tail by calculating $P(\\chi^2 < 7.2909)$."
   ]
  },
  {
   "cell_type": "code",
   "execution_count": 4,
   "metadata": {},
   "outputs": [
    {
     "data": {
      "text/html": [
       "0.0205403083373764"
      ],
      "text/latex": [
       "0.0205403083373764"
      ],
      "text/markdown": [
       "0.0205403083373764"
      ],
      "text/plain": [
       "[1] 0.02054031"
      ]
     },
     "metadata": {},
     "output_type": "display_data"
    }
   ],
   "source": [
    "half_pvalue = pchisq(7.2909, df = 17, lower.tail = TRUE)\n",
    "half_pvalue"
   ]
  },
  {
   "cell_type": "markdown",
   "metadata": {},
   "source": [
    "To find the full $p$-value, we double this quantity."
   ]
  },
  {
   "cell_type": "code",
   "execution_count": 5,
   "metadata": {},
   "outputs": [
    {
     "data": {
      "text/html": [
       "0.0410806166747528"
      ],
      "text/latex": [
       "0.0410806166747528"
      ],
      "text/markdown": [
       "0.0410806166747528"
      ],
      "text/plain": [
       "[1] 0.04108062"
      ]
     },
     "metadata": {},
     "output_type": "display_data"
    }
   ],
   "source": [
    "pvalue = 2*half_pvalue\n",
    "pvalue"
   ]
  },
  {
   "cell_type": "markdown",
   "metadata": {},
   "source": [
    "So the probability of testing 18 randomly sampled individuals from the population and obtaining a sample standard deviation as extreme as the one we got is only about 4.11%.\n",
    "\n",
    "##### Step 4: Make a conclusion about the null hypothesis.\n",
    "Our level of significance for this problem is 5%, so $\\alpha = 0.05$. Since\n",
    "\n",
    "$$ p\\text{-value} = 0.0411 < 0.05 = \\alpha, $$\n",
    "\n",
    "we reject the null hypothesis.\n",
    "\n",
    "We conclude that the population standard deviation score on the IQ test is not 15 points."
   ]
  },
  {
   "cell_type": "markdown",
   "metadata": {},
   "source": [
    "***"
   ]
  },
  {
   "cell_type": "code",
   "execution_count": null,
   "metadata": {},
   "outputs": [],
   "source": [
    "#**VID=qWQ39iWrU-I**#"
   ]
  },
  {
   "cell_type": "markdown",
   "metadata": {},
   "source": [
    "***"
   ]
  },
  {
   "cell_type": "markdown",
   "metadata": {},
   "source": [
    "<small style=\"color:gray\"><b>License:</b> This work is licensed under a [Creative Commons Attribution 4.0 International](https://creativecommons.org/licenses/by/4.0/) license.</small>\n",
    "\n",
    "<small style=\"color:gray\"><b>Author:</b> Taylor Baldwin, Mt. San Jacinto College</small>\n",
    "\n",
    "<small style=\"color:gray\"><b>Adapted From:</b> <i>Introductory Statistics</i>, by Barbara Illowsky and Susan Dean. Access for free at [https://openstax.org/books/introductory-statistics/pages/1-introduction](https://openstax.org/books/introductory-statistics/pages/1-introduction).</small>"
   ]
  }
 ],
 "metadata": {
  "kernelspec": {
   "display_name": "R",
   "language": "R",
   "name": "ir"
  },
  "language_info": {
   "codemirror_mode": "r",
   "file_extension": ".r",
   "mimetype": "text/x-r-source",
   "name": "R",
   "pygments_lexer": "r",
   "version": "3.6.1"
  }
 },
 "nbformat": 4,
 "nbformat_minor": 4
}
