{
 "cells": [
  {
   "cell_type": "markdown",
   "metadata": {},
   "source": [
    "# 7.3 Goodness of Fit Test"
   ]
  },
  {
   "cell_type": "markdown",
   "metadata": {},
   "source": [
    "## Objectives\n",
    "- Analyze a problem involving hypothesis testing, apply the correct techniques, and come to a conclusion for a claim about population proportion and mean, all this while using appropriate levels of statistical significance, $p$-values, and determining what would constitute a type I and type II error.\n",
    "- Analyze categorical data using $2 \\times 2$ tables and chi-square analysis.\n",
    "- Conduct and interpret (a) tests involving non-parametric methods or (b) conduct and analyze process data using the techniques of Statistical Process Control.\n",
    "- Analyze an application in the disciplines business, social sciences, psychology, life sciences, health science, and education, and utilize the correct statistical processes to arrive at a solution."
   ]
  },
  {
   "cell_type": "markdown",
   "metadata": {},
   "source": [
    "In this type of hypothesis test, you determine whether the data **\"fit\"** a particular distribution or not. For example, you may suspect your unknown data fit a binomial distribution. You use a chi-square test (meaning the distribution for the hypothesis test is chi-square) to determine if there is a fit or not. **The null and the alternative hypotheses for this test may be written in sentences or may be stated as equations or inequalities.**\n",
    "\n",
    "The test statistic for a goodness-of-fit test is:\n",
    "\n",
    "$$ \\chi^2 = \\sum \\frac{(O - E)^2}{E}, $$\n",
    "\n",
    "where\n",
    "\n",
    "- $O$ = **observed values** (sample data)\n",
    "- $E$ = **expected values** (from theory)\n",
    "\n",
    "**The observed values are the data values and the expected values are the values you would expect to get if the null hypothesis were true.** Generally, the hypotheses of a goodness-of-fit test are\n",
    "\n",
    "$$\\begin{align}\n",
    "H_0:&\\ \\text{The actual population fits the expected distribution.} \\\\\n",
    "H_a:&\\ \\text{The actual population does not fit the expected distribution.}\n",
    "\\end{align}$$\n",
    "\n",
    "These hypotheses should be expressed in the context of the particular problem.\n",
    "\n",
    "The number of degrees of freedom is $df = \\text{number of categories} - 1$.\n",
    "\n",
    "**The goodness-of-fit test is almost always right-tailed.** If the observed values and the corresponding expected values are not close to each other, then the test statistic can get very large and will be way out in the right tail of the chi-square curve.\n",
    "\n",
    "**Note:** The expected value for each cell needs to be at least five in order for you to use this test.\n",
    "\n",
    "The fundamental steps for performing a goodness-of-fit hypothesis test remain unchanged:\n",
    "\n",
    "1. State the null and alternative hypotheses.\n",
    "2. Assuming the null hypothesis is true, determine the features of the distribution used in the hypothesis test.\n",
    "3. Find the $p$-value.\n",
    "4. Make a conclusion about the null hypothesis."
   ]
  },
  {
   "cell_type": "markdown",
   "metadata": {},
   "source": [
    "***"
   ]
  },
  {
   "cell_type": "markdown",
   "metadata": {},
   "source": [
    "\n",
    "### Example 2.1\n",
    "Absenteeism of college students from math classes is a major concern to math instructors because missing class appears to increase the drop rate. Suppose that a study was done to determine if the actual student absenteeism rate follows faculty perception. The faculty expected that a group of 100 students would miss class according to the table below\n",
    "\n",
    "| Number of Absences per term | Expected Number of Students |\n",
    "|--|--|\n",
    "| 0-2 | 50 |\n",
    "| 3-5 | 30 |\n",
    "| 6-8 | 12 |\n",
    "| 9+ | 8 |\n",
    "\n",
    "A random survey across all mathematics courses was then done to determine the actual number of absences in a course. The table below displays the results of the survey.\n",
    "\n",
    "| Number of Absences per term | Actual Number of Students |\n",
    "|--|--|\n",
    "| 0-2 | 35 |\n",
    "| 3-5 | 40 |\n",
    "| 6-8 | 20 |\n",
    "| 9+ | 5 |\n",
    "\n",
    "Perform a goodness-of-fit test at a significance level of 1% to determine whether or not student absenteeism fits faculty perception.\n",
    "\n",
    "#### Solution\n",
    "##### Step 1: State the null and alternative hypotheses.\n",
    "The null and alternative hypotheses are\n",
    "\n",
    "$$\\begin{align}\n",
    "H_0:&\\ \\text{Student absenteeism fits faculty perception} \\\\\n",
    "H_a:&\\ \\text{Student absenteeism does not fit faculty perception}\n",
    "\\end{align}$$\n",
    "\n",
    "##### Step 2: Assuming the null hypothesis is true, determine the features of the distribution used in the hypothesis test.\n",
    "This is a goodness-of-fit test. We are testing to see if student absenteeism is distributed in the same way that faculty expect it to be distributed; that is, we are testing whether or not faculty perception of student absenteeism is a *good fit* for actual student absenteeism. Since this is a goodness-of-fit test, we will use a chi-square distribution.\n",
    "\n",
    "The degrees of freedom of the distribution is\n",
    "\n",
    "$$ df = \\text{number of categories} - 1 = 4 - 1 = 3. $$\n",
    "\n",
    "Note, to calculate the degrees of freedom for a goodness-of-fit test, we use the number of categories (in this case, the categories are 0-2, 3-5, 6-8, and 9+, for a total of 4 categories), *not* the sample size.\n",
    "\n",
    "##### Step 3: Find the  $p$-value.\n",
    "To find the $p$-value, we first must calculate the test statistic\n",
    "\n",
    "$$ \\chi^2 = \\sum \\frac{(O - E)^2}{E}. $$\n",
    "\n",
    "The observed values $O$ are the actual number of students in each category. The expected values $E$ are the numbers of students the faculty expect to be in each category. These value are found in the two tables above. We will use R to calculate the test statistic."
   ]
  },
  {
   "cell_type": "code",
   "execution_count": 1,
   "metadata": {},
   "outputs": [
    {
     "data": {
      "text/html": [
       "14.2916666666667"
      ],
      "text/latex": [
       "14.2916666666667"
      ],
      "text/markdown": [
       "14.2916666666667"
      ],
      "text/plain": [
       "[1] 14.29167"
      ]
     },
     "metadata": {},
     "output_type": "display_data"
    }
   ],
   "source": [
    "O = c(35, 40, 20, 5)\n",
    "E = c(50, 30, 12, 8)\n",
    "\n",
    "chisq = sum( (O - E)^2 / E )\n",
    "chisq"
   ]
  },
  {
   "cell_type": "markdown",
   "metadata": {},
   "source": [
    "The test statistic is $\\chi^2 = 14.2917$. Since goodness-of-fit tests are almost always right-tailed tests, we will perform a right-tailed test to find the $p$-value. That means the $p$-value is $P(\\chi^2 \\geq 14.2917)$."
   ]
  },
  {
   "cell_type": "code",
   "execution_count": 2,
   "metadata": {},
   "outputs": [
    {
     "data": {
      "text/html": [
       "0.00253382515522107"
      ],
      "text/latex": [
       "0.00253382515522107"
      ],
      "text/markdown": [
       "0.00253382515522107"
      ],
      "text/plain": [
       "[1] 0.002533825"
      ]
     },
     "metadata": {},
     "output_type": "display_data"
    }
   ],
   "source": [
    "pchisq(q = 14.2917, df = 3, lower.tail = FALSE)"
   ]
  },
  {
   "cell_type": "markdown",
   "metadata": {},
   "source": [
    "So $P(\\chi^2 \\geq 14.2917) = 0.0025$. That is, if student absenteeism actually does fit faculty perception, then there is only a 0.25% chance that the values we observe in our sample are as extreme as they are.\n",
    "\n",
    "##### Step 4: Make a conclusion about the null hypothesis.\n",
    "We are conducting this hypothesis test at the 1% level of significance, so $\\alpha = 0.01$. Since\n",
    "\n",
    "$$ p\\text{-value} = 0.0025 < 0.01 = \\alpha, $$\n",
    "\n",
    "we reject the null hypothesis. We conclude that the actual student absenteeism does not fit faculty perception."
   ]
  },
  {
   "cell_type": "markdown",
   "metadata": {},
   "source": [
    "***"
   ]
  },
  {
   "cell_type": "markdown",
   "metadata": {},
   "source": [
    "\n",
    "### Example 2.2\n",
    "Suppose you roll a six-sided die 80 times, with the following results:\n",
    "\n",
    "| | 1 | 2 | 3 | 4 | 5 | 6 |\n",
    "|--|--|--|--|--|--|--|\n",
    "|Number of Rolls| 16 | 21 | 14 | 9 | 7 | 13 |\n",
    "\n",
    "Use a goodness-of-fit test with a 5% level of significance to determine whether or not the die is fair.\n",
    "\n",
    "#### Solution\n",
    "##### Part 1: State the null and alternative hypotheses.\n",
    "The null hypothesis is that the true distribution of rolls of your die matches the distribution of rolls of a fair die. This could be said more succinctly as:\n",
    "$$\\begin{align}\n",
    "H_0:&\\ \\text{The die is fair.} \\\\\n",
    "H_a:&\\ \\text{The die is not fair.}\n",
    "\\end{align}$$\n",
    "\n",
    "##### Part 2: Assuming the null hypothesis is true, determine the features of the distribution used in the hypothesis test.\n",
    "Since we want to see if the distribution of rolls of a fair die is a *good fit* for the distribution of rolls of your die, we will use a chi-square distribution to test the hypothesis. Since there are six categories, the degrees of freedom is\n",
    "\n",
    "$$ df = \\text{number of categories} - 1 = 6 - 1 = 5.$$\n",
    "\n",
    "#### Part 3: Find the $p$-value.\n",
    "To find the $p$-value, we first must calculate the test statistic\n",
    "\n",
    "$$ \\chi^2 = \\sum \\frac{(O - E)^2}{E}. $$\n",
    "\n",
    "Note that the table above are the observed values. But if we roll a fair die 80 times, we *expect* to roll each number $\\frac{1}{6}80 = 13.3333$ times:\n",
    "\n",
    "| | 1 | 2 | 3 | 4 | 5 | 6 |\n",
    "|--|--|--|--|--|--|--|\n",
    "| Observed Number of Rolls| 16 | 21 | 14 | 9 | 7 | 13 |\n",
    "| Expected Number of Rolls| 13.3333| 13.3333| 13.3333| 13.3333| 13.3333| 13.3333|\n",
    "\n",
    "Let's use R to calculate the test statistic $\\chi^2$:"
   ]
  },
  {
   "cell_type": "code",
   "execution_count": 1,
   "metadata": {},
   "outputs": [
    {
     "data": {
      "text/html": [
       "9.40002350055875"
      ],
      "text/latex": [
       "9.40002350055875"
      ],
      "text/markdown": [
       "9.40002350055875"
      ],
      "text/plain": [
       "[1] 9.400024"
      ]
     },
     "metadata": {},
     "output_type": "display_data"
    }
   ],
   "source": [
    "O = c(16, 21, 14, 9, 7, 13)\n",
    "E = c(13.3333, 13.3333, 13.3333, 13.3333, 13.3333, 13.3333)\n",
    "\n",
    "chisq = sum( (O - E)^2/E )\n",
    "chisq"
   ]
  },
  {
   "cell_type": "markdown",
   "metadata": {},
   "source": [
    "The test statistic is $\\chi^2 = 9.400$.\n",
    "\n",
    "Since a goodness-of-fit test is almost always right-tailed, the $p$-value we want to find is equal to $P(\\chi^2 \\geq 9.400)$."
   ]
  },
  {
   "cell_type": "code",
   "execution_count": 2,
   "metadata": {},
   "outputs": [
    {
     "data": {
      "text/html": [
       "0.0941343840306237"
      ],
      "text/latex": [
       "0.0941343840306237"
      ],
      "text/markdown": [
       "0.0941343840306237"
      ],
      "text/plain": [
       "[1] 0.09413438"
      ]
     },
     "metadata": {},
     "output_type": "display_data"
    }
   ],
   "source": [
    "pchisq(q = 9.400, df = 5, lower.tail = FALSE)"
   ]
  },
  {
   "cell_type": "markdown",
   "metadata": {},
   "source": [
    "So the $p$-value is $P(\\chi^2 \\geq 9.400) = 0.0941$. That is, assuming the die is fair, there is a 9.41% chance of obtaining the sample we did.\n",
    "\n",
    "##### Step 4: Make a conclusion about the null hypothesis.\n",
    "Since the level of significance for this hypothesis test is 5%, the value of $\\alpha = 0.05$. Because\n",
    "\n",
    "$$ p\\text{-value} = 0.091 \\geq 0.05 = \\alpha, $$\n",
    "\n",
    "we do not reject the null hypothesis.\n",
    "\n",
    "There is not enough evidence to conclude that your die is not fair.\n"
   ]
  },
  {
   "cell_type": "markdown",
   "metadata": {},
   "source": [
    "***"
   ]
  },
  {
   "cell_type": "code",
   "execution_count": null,
   "metadata": {},
   "outputs": [],
   "source": [
    "#**VID=5lHTEfwyg5M**#"
   ]
  },
  {
   "cell_type": "markdown",
   "metadata": {},
   "source": [
    "***"
   ]
  },
  {
   "cell_type": "markdown",
   "metadata": {},
   "source": [
    "<small style=\"color:gray\"><b>License:</b> This work is licensed under a [Creative Commons Attribution 4.0 International](https://creativecommons.org/licenses/by/4.0/) license.</small>\n",
    "\n",
    "<small style=\"color:gray\"><b>Author:</b> Taylor Baldwin, Mt. San Jacinto College</small>\n",
    "\n",
    "<small style=\"color:gray\"><b>Adapted From:</b> <i>Introductory Statistics</i>, by Barbara Illowsky and Susan Dean. Access for free at [https://openstax.org/books/introductory-statistics/pages/1-introduction](https://openstax.org/books/introductory-statistics/pages/1-introduction).</small>"
   ]
  }
 ],
 "metadata": {
  "kernelspec": {
   "display_name": "R",
   "language": "R",
   "name": "ir"
  },
  "language_info": {
   "codemirror_mode": "r",
   "file_extension": ".r",
   "mimetype": "text/x-r-source",
   "name": "R",
   "pygments_lexer": "r",
   "version": "3.6.1"
  }
 },
 "nbformat": 4,
 "nbformat_minor": 2
}
