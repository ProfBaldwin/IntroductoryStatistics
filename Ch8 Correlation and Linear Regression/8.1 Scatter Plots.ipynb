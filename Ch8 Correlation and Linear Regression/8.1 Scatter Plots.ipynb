{
 "cells": [
  {
   "cell_type": "markdown",
   "metadata": {},
   "source": [
    "# 8.1 Scatter Plots"
   ]
  },
  {
   "cell_type": "markdown",
   "metadata": {},
   "source": [
    "## Objectives\n",
    "- Create, analyze, and interpret statistical graphs including histograms, dot plots, stem-and-leaf plots, box plots, and scatter plots.\n",
    "- Analyze an application in the disciplines business, social sciences, psychology, life sciences, health science, and education, and utilize the correct statistical processes to arrive at a solution."
   ]
  },
  {
   "cell_type": "markdown",
   "metadata": {},
   "source": [
    "## Introduction\n",
    "Professionals often want to know how two or more numeric variables are related. For example, is there a relationship between the grade on the second math exam a student takes and the grade on the final exam? If there is a relationship, what is the relationship and how strong is it?\n",
    "\n",
    "In another example, your income may be determined by your education, your profession, your years of experience, and your ability. The amount you pay a repair person for labor is often determined by an initial amount plus an hourly fee.\n",
    "\n",
    "The type of data described in the examples is bivariate data — \"bi\" for two variables. In reality, statisticians use multivariate data, meaning many variables.\n",
    "\n",
    "In this chapter, you will be studying the simplest form of regression, \"linear regression\" with one independent variable ($x$). This involves data that fits a line in two dimensions. You will also study correlation which measures how strong the relationship is.\n",
    "\n",
    "## Scatter Plots\n",
    "Before we take up the discussion of linear regression and correlation, we need to examine a way to display the relation between two variables $x$ and $y$. The most common and easiest way is a **scatter plot**. A scatter plot is a plot of the known $(x, y)$ data points. Plotting the data graphically allows us to more easily visualize any correlation between $x$ and $y$."
   ]
  },
  {
   "cell_type": "markdown",
   "metadata": {},
   "source": [
    "***\n",
    "### Example 1.1\n",
    "Amelia plays basketball for her high school. She wants to improve to play at the college level. She notices that the number of points she scores in a game goes up in response to the number of hours she practices her jump shot each week. She records the following data:\n",
    "\n",
    "|X (hours practicing jump shot)|\tY (points scored in a game)|\n",
    "|--|--|\n",
    "|5\t|15|\n",
    "|7\t|22|\n",
    "|9\t|28|\n",
    "|10\t|31|\n",
    "|11\t|33|\n",
    "|12\t|36|\n",
    "\n",
    "Construct a scatter plot and state if what Amelia thinks appears to be true.\n",
    "\n",
    "#### Solution\n",
    "We get 6 pairs of $(x, y)$ points from our data: $(5, 15)$, $(7, 22)$, $(9, 28)$, $(10, 31)$, $(11, 33)$, $(12, 36)$. We can easily plot these by hand, but it is faster and easier to use R to obtain our scatter plot using the <code>plot</code> function."
   ]
  },
  {
   "cell_type": "code",
   "execution_count": 1,
   "metadata": {},
   "outputs": [
    {
     "data": {
      "image/png": "[encoded data removed]",
      "text/plain": [
       "plot without title"
      ]
     },
     "metadata": {},
     "output_type": "display_data"
    }
   ],
   "source": [
    "#**ALT=Scatter plot of data in example 1.1.**#\n",
    "x <- c(5, 7, 9, 10, 11, 12)\n",
    "y <- c(15, 22, 28, 31, 33, 36)\n",
    "\n",
    "plot(x, y)"
   ]
  },
  {
   "cell_type": "markdown",
   "metadata": {},
   "source": [
    "Notice there appears to be a strong linear correlation between the number of hours Amelia spends practicing each week ($x$) and the number of points she scores in a game ($y$). That is, the points almost fall on a straight line. From this, we might presume that the more hours Amelia spends practicing, the more points she'll score in a game.\n",
    "***"
   ]
  },
  {
   "cell_type": "markdown",
   "metadata": {},
   "source": [
    "A scatter plot shows the **direction** of a relationship between the variables. A clear direction happens when there is either:\n",
    "\n",
    "- High values of one variable occurring with high values of the other variable or low values of one variable occurring with low values of the other variable.\n",
    "- High values of one variable occurring with low values of the other variable.\n",
    "\n",
    "You can determine the **strength** of the relationship by looking at the scatter plot and seeing how close the points are to a line, a power function, an exponential function, or to some other type of function. For a linear relationship there is an exception. Consider a scatter plot where all the points fall on a horizontal line providing a \"perfect fit.\" The horizontal line would in fact show no relationship.\n",
    "\n",
    "When you look at a scatterplot, you want to notice the overall pattern and any deviations from the pattern. The following scatterplot examples illustrate these concepts.\n",
    "\n",
    "<img src=\"positive.jpeg\" alt=\"Two scatter plots with a positive correlation. One has a strong correlation, the other has one significant deviation.\">\n",
    "\n",
    "<img src=\"negative.jpeg\" alt=\"Two scatter plots with a negative correlation. One has a strong correlation, the other has a weak correlation.\">\n",
    "\n",
    "<img src=\"none.jpeg\" alt=\"Two scatter plots. One has an exponential correlation, the other has no correlation.\">"
   ]
  },
  {
   "cell_type": "markdown",
   "metadata": {},
   "source": [
    "In this chapter, we are interested in scatter plots that show a linear pattern. Linear patterns are quite common. The linear relationship is strong if the points are close to a straight line, except in the case of a horizontal line where there is no relationship. If we think that the points show a linear relationship, we would like to draw a line on the scatter plot. This line can be calculated through a process called **linear regression**. However, we only calculate a regression line if one of the variables helps to explain or predict the other variable. If $x$ is the independent variable and $y$ the dependent variable, then we can use a regression line to predict $y$ for a given value of $x$\n",
    "\n"
   ]
  },
  {
   "cell_type": "markdown",
   "metadata": {},
   "source": [
    "## Attribution ##\n",
    "Significant portions of this textbook were written by Barbara Illowsky and Susan Dean in their textbook *Introductory Statistics*, published by OpenStax.\n",
    "\n",
    "Access for free at [https://openstax.org/books/introductory-statistics/pages/1-introduction](https://openstax.org/books/introductory-statistics/pages/1-introduction)"
   ]
  }
 ],
 "metadata": {
  "kernelspec": {
   "display_name": "R",
   "language": "R",
   "name": "ir"
  },
  "language_info": {
   "codemirror_mode": "r",
   "file_extension": ".r",
   "mimetype": "text/x-r-source",
   "name": "R",
   "pygments_lexer": "r",
   "version": "3.6.1"
  }
 },
 "nbformat": 4,
 "nbformat_minor": 2
}
