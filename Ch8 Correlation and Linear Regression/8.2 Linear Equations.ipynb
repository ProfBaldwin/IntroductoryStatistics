{
 "cells": [
  {
   "cell_type": "markdown",
   "metadata": {},
   "source": [
    "# 8.2 Linear Equations"
   ]
  },
  {
   "cell_type": "markdown",
   "metadata": {},
   "source": [
    "## Objectives\n",
    "- Analyze and interpret bivariate data using scatter plots, correlation, and linear regression analysis to determine what the best prediction would be for a certain value.\n",
    "- Analyze an application in the disciplines business, social sciences, psychology, life sciences, health science, and education, and utilize the correct statistical processes to arrive at a solution."
   ]
  },
  {
   "cell_type": "markdown",
   "metadata": {},
   "source": [
    "## Linear Equations\n",
    "Linear regression for two variables is based on a linear equation with one independent variable. The equation has the form:\n",
    "\n",
    "$$y = a + bx, $$\n",
    "\n",
    "where $a$ and $b$ are constant numbers.\n",
    "\n",
    "The variable **$x$ is the independent variable**, and **$y$ is the dependent variable**. Typically, you choose a value to substitute for the independent variable and then solve for the dependent variable.\n",
    "\n",
    "The graph of a linear equation of the form $y = a + bx$ is a **straight line**. Any line that is not vertical can be described by this equation."
   ]
  },
  {
   "cell_type": "markdown",
   "metadata": {},
   "source": [
    "## Slope and Y-Intercept of a Linear Equation\n",
    "For the linear equation $y = a + bx$, $b$ = slope and $a$ = $y$-intercept. From algebra recall that the $y$-intercept is the $y$ coordinate of the point $(0, a)$ where the line crosses the $y$-axis.\n",
    "\n",
    "The slope describes the steepness of the line. The larger that slope $b$ is, the steeper the line. If $b$ is positive, the line has an \"uphill\" slope. If $b$ is negative, the line has a \"downhill\" slope.\n",
    "\n",
    "<img src=\"slopes.jpeg\" alt=\"Three lines, labeled (a), (b), and (c). Line (a) increases from left to right. Line (b) is flat. Line (c) decreases from left to right.\">\n",
    "\n",
    "Three lines are pictured. Line (a) has a positive slope ($b > 0$). Line (b) has zero slope ($b = 0$). Line (c) has a negative slope ($b < 0$).\n",
    "\n",
    "In terms of the variables, a positive slope means that as the value of $x$ gets bigger, the value of $y$ gets bigger, too. Conversely, a negative slope means that as the value of $x$ gets bigger, the value of $y$ gets smaller."
   ]
  },
  {
   "cell_type": "markdown",
   "metadata": {},
   "source": [
    "***"
   ]
  },
  {
   "cell_type": "markdown",
   "metadata": {},
   "source": [
    "\n",
    "### Example 2.1\n",
    "Svetlana tutors to make extra money for college. For each tutoring session, she charges a one-time fee of \\\\$25 plus \\\\$15 per hour of tutoring.\n",
    "\n",
    "1. Find the equation that expresses the total amount Svetlana charges in terms of the number of hours of the tutoring session.\n",
    "2. What is the $y$-intercept? Interpret it.\n",
    "3. What is the slope? Interpret it.\n",
    "4. If Svetlana has a tutoring session that lasts 4.5 hours, how much will she charge?\n",
    "\n",
    "#### Solution\n",
    "##### Part 1\n",
    "Let $x$ = the number of hours of the tutoring session.\n",
    "\n",
    "Let $y$ = the amount Svetlana charges for the tutoring session.\n",
    "\n",
    "Svetlana charges \\\\$25 as a one-time fee; it does not change with the length of the tutoring session. But Svetlana also charges \\\\$15 per hour. We will need to multiply the hourly rate of \\\\$15 by the number of hours $x$ to find the hourly charge. Combined, we have the total amount Svetlana charges for a tutoring session:\n",
    "\n",
    "$$ y = 25 + 15x. $$\n",
    "\n",
    "##### Part 2\n",
    "Since $a = 25$, the $y$-intercept is $(x, y) = (0, 25)$. If someone hires Svetlana for a tutoring session that lasts $x = 0$ hours (for example, if the person hires Svetlana but doesn't show), Svetlana still charges them $y = 25$ dollars.\n",
    "\n",
    "##### Part 3\n",
    "The slope is $b = 15$. Since $b$ is positive, the line has an \"uphill\" direction. Also, longer tutoring sessions (bigger $x$) mean Svetlana will charge more (bigger $y$).\n",
    "\n",
    "##### Part 4\n",
    "If Svetlana has a tutoring session that lasts 4.5 hours, then mathematically, $x = 4.5$. Substituting this into our linear equation will tell us $y$:\n",
    "\n",
    "$$ y = 25 + 15x = 25 + 15(4.5) = 92.5. $$\n",
    "\n",
    "So for a 4.5 hour tutoring session, Svetlana charges \\\\$92.50."
   ]
  },
  {
   "cell_type": "markdown",
   "metadata": {},
   "source": [
    "***"
   ]
  },
  {
   "cell_type": "markdown",
   "metadata": {},
   "source": [
    "\n",
    "### Example 2.2\n",
    "Belisario made 36 cookies. He eats two cookies each day.\n",
    "\n",
    "1. Find an equation that expresses the total number of cookies that Belisario has in terms of the number of days that have passed.\n",
    "2. What is the $y$-intercept? Interpret it.\n",
    "3. What is the slope? Interpret it.\n",
    "4. After 6 days, how many cookies does Belisario have?\n",
    "\n",
    "#### Solution\n",
    "##### Part 1\n",
    "Let $x$ = the number of days that have passed since Belisario made cookies.\n",
    "\n",
    "Let $y$ = the number of cookies Belisario has left.\n",
    "\n",
    "Belisario starts off with 36 cookies, but we need to take 2 away for each day that has passed. This gives us the equation\n",
    "\n",
    "$$ y = 36 - 2x. $$\n",
    "\n",
    "##### Part 2\n",
    "Since $a = 36$, the $y$-intercept is $(x, y) = (0, 36)$. That means when $x = 0$ days have passed, Belisario has $y = 36$ cookies. Or, even more simply, this is just saying that Belisario starts off with 36 cookies.\n",
    "\n",
    "##### Part 3\n",
    "The slope is $b = -2$. Since $b$ is negative, the line has a \"downhill\" direction. Also, the more days that pass (bigger $x$), the fewer cookies Belisario will have (fewer $y$).\n",
    "\n",
    "##### Part 4\n",
    "To find out how many cookies Belisario has after 6 days, we plug in $x = 6$ into the equation:\n",
    "\n",
    "$$ y = 36 - 2x = 36 - 2(6) = 24. $$\n",
    "\n",
    "After 6 days Belisario has 24 cookies left.\n"
   ]
  },
  {
   "cell_type": "markdown",
   "metadata": {},
   "source": [
    "***"
   ]
  },
  {
   "cell_type": "markdown",
   "metadata": {},
   "source": [
    "### Example 2.3"
   ]
  },
  {
   "cell_type": "code",
   "execution_count": null,
   "metadata": {},
   "outputs": [],
   "source": [
    "#**VID=DQ1INQCc5bk**#"
   ]
  },
  {
   "cell_type": "markdown",
   "metadata": {},
   "source": [
    "***"
   ]
  },
  {
   "cell_type": "markdown",
   "metadata": {},
   "source": [
    "<small style=\"color:gray\"><b>License:</b> This work is licensed under a [Creative Commons Attribution 4.0 International](https://creativecommons.org/licenses/by/4.0/) license.</small>\n",
    "\n",
    "<small style=\"color:gray\"><b>Author:</b> Taylor Baldwin, Mt. San Jacinto College</small>\n",
    "\n",
    "<small style=\"color:gray\"><b>Adapted From:</b> <i>Introductory Statistics</i>, by Barbara Illowsky and Susan Dean. Access for free at [https://openstax.org/books/introductory-statistics/pages/1-introduction](https://openstax.org/books/introductory-statistics/pages/1-introduction).</small>"
   ]
  }
 ],
 "metadata": {
  "kernelspec": {
   "display_name": "R",
   "language": "R",
   "name": "ir"
  },
  "language_info": {
   "codemirror_mode": "r",
   "file_extension": ".r",
   "mimetype": "text/x-r-source",
   "name": "R",
   "pygments_lexer": "r",
   "version": "3.6.1"
  }
 },
 "nbformat": 4,
 "nbformat_minor": 2
}
