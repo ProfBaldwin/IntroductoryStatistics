{
 "cells": [
  {
   "cell_type": "markdown",
   "metadata": {},
   "source": [
    "# 8.3 The Regression Equation"
   ]
  },
  {
   "cell_type": "markdown",
   "metadata": {},
   "source": [
    "## Objectives\n",
    "- Create, analyze, and interpret statistical graphs including histograms, dot plots, stem-and-leaf plots, box plots, and scatter plots.\n",
    "- Analyze and interpret bivariate data using scatter plots, correlation, and linear regression analysis to determine what would be the be prediction for a certain value.\n",
    "- Analyze an application in the disciplines business, social sciences, psychology, life sciences, health science, and education, and utilize the correct statistical processes to arrive at a solution."
   ]
  },
  {
   "cell_type": "markdown",
   "metadata": {},
   "source": [
    "## The Regression Equation\n",
    "Data rarely fit a straight line exactly. Usually, you must be satisfied with rough predictions. Typically, you have a set of data whose scatter plot appears to **\"fit\"** a straight line. This is called a **Line of Best Fit** or **Least-Squares Line**.\n",
    "\n",
    "We can use R to find the coefficients of the line of best fit using the <code>line</code> function:\n",
    "\n",
    "```R\n",
    "line(x, y)\n",
    "```\n",
    "\n",
    "where <code>x</code> is a list of independent values and <code>y</code> is a corresponding list of dependent values.\n",
    "\n",
    "For example, imagine we have the following data:\n",
    "\n",
    "| x | y |\n",
    "|---|---|\n",
    "| 5 | 6 |\n",
    "| 2 | 4 |\n",
    "| 4 | 2 |\n",
    "| 5 | 7 |\n",
    "|11 |13 |\n",
    "| 0 |-2 |\n",
    "| 8 |12 |\n",
    "| 5 | 8 |\n",
    "\n",
    "We can use R to find the coefficients of the line of best fit."
   ]
  },
  {
   "cell_type": "code",
   "execution_count": 1,
   "metadata": {},
   "outputs": [
    {
     "data": {
      "text/plain": [
       "\n",
       "Call:\n",
       "line(x, y)\n",
       "\n",
       "Coefficients:\n",
       "[1]  -3.5   2.0\n"
      ]
     },
     "metadata": {},
     "output_type": "display_data"
    }
   ],
   "source": [
    "x <- c(5, 2, 4, 5, 11, 0, 8, 5)\n",
    "y <- c(6, 4, 2, 7, 13, -2, 12, 8)\n",
    "\n",
    "line(x, y)"
   ]
  },
  {
   "cell_type": "markdown",
   "metadata": {},
   "source": [
    "These give us the $y$-value of the $y$-intercept, $a = -3.5$, the the slope, $b = 2.0$. So the line of best fit for the data is\n",
    "\n",
    "$$ y = -3.5 + 2.0x $$\n",
    "\n",
    "We can graph this line *after* graphing the scatterplot using the function <code>abline</code>:\n",
    "\n",
    "```R\n",
    "abline(a, b)\n",
    "```\n",
    "\n",
    "Here <code>a</code> is the $a$ coefficient and <code>b</code> is the $b$ coefficient in the linear equation."
   ]
  },
  {
   "cell_type": "code",
   "execution_count": 2,
   "metadata": {},
   "outputs": [
    {
     "data": {
      "image/png": "[encoded data removed]",
      "text/plain": [
       "plot without title"
      ]
     },
     "metadata": {},
     "output_type": "display_data"
    }
   ],
   "source": [
    "#**ALT=Scatter plot of above data with the best fit line going through it.**#\n",
    "# Graph the scatter plot\n",
    "plot(x, y)\n",
    "\n",
    "# Plot the line\n",
    "abline(a = -3.5, b = 2.0)"
   ]
  },
  {
   "cell_type": "markdown",
   "metadata": {},
   "source": [
    "The line graphed is the best fit for the data points. We can use the equation of the best fit line to predict the $y$-value that would correlate to an $x$-value.\n",
    "\n",
    "For example, we might want to predict what $y$ would be if $x = 6.5$. We can best predict the $y$-value by plugging $x = 6.5$ into the equation of the best fit line:\n",
    "\n",
    "$$ y = -3.5 + 2.0x = -3.5 + 2.0(6.5) = 9.5. $$\n",
    "\n",
    "So if $x = 6.5$, we predict that $y = 9.5$."
   ]
  },
  {
   "cell_type": "markdown",
   "metadata": {},
   "source": [
    "***\n",
    "### Example 3.1\n",
    "A random sample of 11 statistics students produced the following data, where $x$ is the third exam score out of 80, and $y$ is the final exam score out of 200.\n",
    "\n",
    "|x (third exam score)\t|y (final exam score)|\n",
    "|--|--|\n",
    "|65\t|175|\n",
    "|67\t|133|\n",
    "|71\t|185|\n",
    "|71\t|163|\n",
    "|66\t|126|\n",
    "|75\t|198|\n",
    "|67\t|153|\n",
    "|70\t|163|\n",
    "|71\t|159|\n",
    "|69\t|151|\n",
    "|69\t|159|\n",
    "\n",
    "1. Find the best fit line for the data.\n",
    "2. Graph the scatter plot of the data together with the best fit line.\n",
    "3. Predict a student's final exam score if their third exam score is 73.\n",
    "\n",
    "#### Solution\n",
    "##### Part 1\n",
    "We will use R to find the coefficients of the line of best fit."
   ]
  },
  {
   "cell_type": "code",
   "execution_count": 3,
   "metadata": {},
   "outputs": [
    {
     "data": {
      "text/plain": [
       "\n",
       "Call:\n",
       "line(x, y)\n",
       "\n",
       "Coefficients:\n",
       "[1]  -319.222     6.889\n"
      ]
     },
     "metadata": {},
     "output_type": "display_data"
    }
   ],
   "source": [
    "x <- c(65, 67, 71, 71, 66, 75, 67, 70, 71, 69, 69)\n",
    "y <- c(175, 133, 185, 163, 125, 198, 153, 163, 159, 151, 159)\n",
    "\n",
    "line(x, y)"
   ]
  },
  {
   "cell_type": "markdown",
   "metadata": {},
   "source": [
    "The coefficients of the best fit line are $a = -319.222$ and $b = 6.889$. So the best fit line is\n",
    "\n",
    "$$ y= -319.222 + 6.889x. $$\n",
    "\n",
    "##### Part 2"
   ]
  },
  {
   "cell_type": "code",
   "execution_count": 4,
   "metadata": {},
   "outputs": [
    {
     "data": {
      "image/png": "[encoded data removed]",
      "text/plain": [
       "plot without title"
      ]
     },
     "metadata": {},
     "output_type": "display_data"
    }
   ],
   "source": [
    "#**ALT=Graph of a scatter plot of the data in example 3.1 together with the best fit line.**#\n",
    "# Graph of the scatter plot\n",
    "plot(x, y)\n",
    "\n",
    "# Plot of the best fit line\n",
    "abline(a = -319.222, b = 6.889)"
   ]
  },
  {
   "cell_type": "markdown",
   "metadata": {},
   "source": [
    "##### Step 3\n",
    "If the third exam score is 73, we can predict the final exam score by plugging in $x = 73$ into the equation for the best fit line:\n",
    "\n",
    "$$ y = -319.222 + 6.889x = -319.222 + 6.889(73) = 183.675. $$\n",
    "\n",
    "So if a student scores 73 points on the third exam, we predict that their final exam score would be about 183.675.\n",
    "***"
   ]
  },
  {
   "cell_type": "markdown",
   "metadata": {},
   "source": [
    "## Attribution ##\n",
    "Significant portions of this textbook were written by Barbara Illowsky and Susan Dean in their textbook *Introductory Statistics*, published by OpenStax.\n",
    "\n",
    "Access for free at [https://openstax.org/books/introductory-statistics/pages/1-introduction](https://openstax.org/books/introductory-statistics/pages/1-introduction)"
   ]
  }
 ],
 "metadata": {
  "kernelspec": {
   "display_name": "R",
   "language": "R",
   "name": "ir"
  },
  "language_info": {
   "codemirror_mode": "r",
   "file_extension": ".r",
   "mimetype": "text/x-r-source",
   "name": "R",
   "pygments_lexer": "r",
   "version": "3.6.1"
  }
 },
 "nbformat": 4,
 "nbformat_minor": 2
}
