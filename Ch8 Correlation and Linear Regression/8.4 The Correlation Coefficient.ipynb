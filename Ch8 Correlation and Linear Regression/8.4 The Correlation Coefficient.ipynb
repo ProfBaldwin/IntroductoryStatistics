{
 "cells": [
  {
   "cell_type": "markdown",
   "metadata": {},
   "source": [
    "# 8.4 The Correlation Coefficient"
   ]
  },
  {
   "cell_type": "markdown",
   "metadata": {},
   "source": [
    "## Objectives\n",
    "- Analyze and interpret bivariate data using scatter plots, correlation, and linear regression analysis to determine what the best prediction would be for a certain value.\n",
    "- Analyze an application in the disciplines business, social sciences, psychology, life sciences, health science, and education, and utilize the correct statistical processes to arrive at a solution."
   ]
  },
  {
   "cell_type": "markdown",
   "metadata": {},
   "source": [
    "## The Correlation Coefficient\n",
    "Besides looking at the scatter plot and seeing that a line seems reasonable, how can you tell if the line is a good predictor? Use the correlation coefficient as another indicator (besides the scatterplot) of the strength of the relationship between $x$ and $y$.\n",
    "\n",
    "The **correlation coefficient**, $r$, developed by Karl Pearson in the early 1900s, is numerical and provides a measure of strength and direction of the linear association between the independent variable $x$ and the dependent variable $y$.\n",
    "\n",
    "We can find the correlation coefficient using the <code>cor</code> function:\n",
    "\n",
    "```R\n",
    "cor(x, y)\n",
    "```\n",
    "\n",
    "Here, <code>x</code> is a list of the independent $x$ values, and <code>y</code> is the corresponding list of the dependent $y$ values.\n",
    "\n",
    "**What the VALUE of $r$ tells us:**\n",
    "- The value of $r$ is always between -1 and +1: $-1 \\leq r \\leq 1$.\n",
    "- The size of the correlation coefficient $r$ indicates the strength of the linear relationship between $x$ and $y$. Values of $r$ close to -1 or to +1 indicate a stronger linear relationship between $x$ and $y$.\n",
    "- If $r = 0$ there is likely no linear correlation. It is important to view the scatterplot, however, because data that exhibit a curved or horizontal pattern may have a correlation of 0.\n",
    "- If $r = 1$, there is perfect positive correlation. If $r = –1$, there is perfect negative correlation. In both these cases, all of the original data points lie on a straight line. Of course, in the real world, this will not generally happen.\n",
    "\n",
    "**What the SIGN of $r$ tells us:**\n",
    "- A positive value of $r$ means that when $x$ increases, $y$ tends to increase and when $x$ decreases, $y$ tends to decrease (**positive correlation**).\n",
    "- A negative value of $r$ means that when $x$ increases, $y$ tends to decrease and when $x$ decreases, $y$ tends to increase (**negative correlation**).\n",
    "- The sign of $r$ is the same as the sign of the slope, $b$, of the best-fit line."
   ]
  },
  {
   "cell_type": "markdown",
   "metadata": {},
   "source": [
    "***"
   ]
  },
  {
   "cell_type": "markdown",
   "metadata": {},
   "source": [
    "\n",
    "### Example 4.1\n",
    "SCUBA divers have maximum dive times they cannot exceed when going to different depths. The data in the table show different depths with the maximum dive times in minutes. Find and interpret the correlation coefficient $r$ for the data.\n",
    "\n",
    "|X (depth in feet)\t|Y (maximum dive time)|\n",
    "|--|--|\n",
    "|50\t|80|\n",
    "|60\t|55|\n",
    "|70\t|45|\n",
    "|80\t|35|\n",
    "|90\t|25|\n",
    "|100|22|\n",
    "\n",
    "#### Solution"
   ]
  },
  {
   "cell_type": "code",
   "execution_count": 1,
   "metadata": {},
   "outputs": [
    {
     "data": {
      "text/html": [
       "-0.962938502101513"
      ],
      "text/latex": [
       "-0.962938502101513"
      ],
      "text/markdown": [
       "-0.962938502101513"
      ],
      "text/plain": [
       "[1] -0.9629385"
      ]
     },
     "metadata": {},
     "output_type": "display_data"
    }
   ],
   "source": [
    "x = c(50, 60, 70, 80, 90, 100)\n",
    "y = c(80, 55, 45, 35, 25, 22)\n",
    "\n",
    "cor(x, y)"
   ]
  },
  {
   "cell_type": "markdown",
   "metadata": {},
   "source": [
    "So the correlation coefficient for the data is $r = -0.9629$. Since $r$ is very close to -1, the dive depth has a very strong negative linear relationship to the maximum dive time.\n"
   ]
  },
  {
   "cell_type": "markdown",
   "metadata": {},
   "source": [
    "***"
   ]
  },
  {
   "cell_type": "markdown",
   "metadata": {},
   "source": [
    "## Testing the Significance of the Correlation Coefficient\n",
    "The correlation coefficient, $r$, tells us about the strength and direction of the linear relationship between $x$ and $y$. However, the reliability of the linear model also depends on how many observed data points are in the sample. We need to look at both the value of the correlation coefficient $r$ and the sample size $n$, together.\n",
    "\n",
    "We perform a hypothesis test of the **\"significance of the correlation coefficient\"** to decide whether the linear relationship in the sample data is strong enough to use to model the relationship in the population.\n",
    "\n",
    "The sample data are used to compute $r$, the correlation coefficient for the sample. If we had data for the entire population, we could find the population correlation coefficient. But because we only have sample data, we cannot calculate the population correlation coefficient. The sample correlation coefficient, $r$, is our estimate of the unknown population correlation coefficient.\n",
    "\n",
    "- The symbol for the population correlation coefficient is $ρ$, the Greek letter \"rho.\"\n",
    "- $ρ$ = population correlation coefficient (unknown)\n",
    "- $r$ = sample correlation coefficient (known; calculated from sample data)\n",
    "\n",
    "The hypothesis test lets us decide whether the value of the population correlation coefficient $ρ$ is \"close to zero\" or \"significantly different from zero\". We decide this based on the sample correlation coefficient $r$ and the sample size $n$.\n",
    "\n",
    "**If the test concludes that the correlation coefficient is significantly different from zero, we say that the correlation coefficient is \"significant.\"**\n",
    "\n",
    "- Conclusion: There is sufficient evidence to conclude that there is a significant linear relationship between $x$ and $y$ because the correlation coefficient is significantly different from zero.\n",
    "- What the conclusion means: There is a significant linear relationship between $x$ and $y$. We can use the regression line to model the linear relationship between $x$ and $y$ in the population.\n",
    "\n",
    "**If the test concludes that the correlation coefficient is not significantly different from zero (it is close to zero), we say that correlation coefficient is \"not significant\".**\n",
    "\n",
    "- Conclusion: \"There is insufficient evidence to conclude that there is a significant linear relationship between $x$ and $y$ because the correlation coefficient is not significantly different from zero.\"\n",
    "- What the conclusion means: There is not a significant linear relationship between $x$ and $y$. Therefore, we CANNOT use the regression line to model a linear relationship between $x$ and $y$ in the population.\n",
    "\n",
    "**NOTE:**\n",
    "-  If $r$ is significant and the scatter plot shows a linear trend, the line can be used to predict the value of $y$ for values of $x$ that are within the domain of observed $x$ values.\n",
    "- If $r$ is not significant OR if the scatter plot does not show a linear trend, the line should not be used for prediction.\n",
    "- If $r$ is significant and if the scatter plot shows a linear trend, the line may NOT be appropriate or reliable for prediction OUTSIDE the domain of observed $x$ values in the data."
   ]
  },
  {
   "cell_type": "markdown",
   "metadata": {},
   "source": [
    "## Performing the Hypothesis Test\n",
    "- Null Hypothesis: $H_0: \\rho = 0$\n",
    "- Alternate Hypothesis: $H_a: \\rho \\neq 0$\n",
    "\n",
    "**What the hypotheses mean in words:**\n",
    "\n",
    "- Null Hypothesis $H_0$: The population correlation coefficient *is not* significantly different from zero. There *is not* a significant linear relationship(correlation) between x and y in the population.\n",
    "- Alternate Hypothesis $H_a$: The population correlation coefficient *is* significantly different from zero. There *is* a significant linear relationship (correlation) between x and y in the population.\n",
    "\n",
    "**Using a $p$-value to make a decision:**\n",
    "\n",
    "If the $p$-value is less than the significance level $\\alpha$:\n",
    "\n",
    "- Decision: Reject the null hypothesis.\n",
    "- Conclusion: \"There is sufficient evidence to conclude that there is a significant linear relationship between $x$ and $y$ because the correlation coefficient is significantly different from zero.\"\n",
    "\n",
    "If the $p$-value is *not* less than the significance level $\\alpha$:\n",
    "\n",
    "- Decision: Do not reject the null hypothesis.\n",
    "- Conclusion: \"There is insufficient evidence to conclude that there is a significant linear relationship between $x$ and $y$ because the correlation coefficient is *not* significantly different from zero.\"\n",
    "\n",
    "Calculation Notes:\n",
    "\n",
    "- The $p$-value is calculated using a $t$-distribution with $n - 2$ degrees of freedom.\n",
    "- The formula for the test statistic is\n",
    "$$ t = \\frac{r\\sqrt{n - 2}}{\\sqrt{1 - r^2}}. $$\n",
    "- The test statistic t has the same sign as the correlation coefficient r.\n",
    "- The hypothesis test is two-tailed. The $p$-value is the combined area in both tails.\n",
    "\n",
    "**The fundamental steps for conducting a hypothesis test remain the same:**\n",
    "\n",
    "1. State the null and alternative hypotheses.\n",
    "2. Assuming the null hypothesis is true, determine the features of the distribution of sample statistics.\n",
    "3. Find the $p$-value.\n",
    "4. Make a conclusion about the null hypothesis."
   ]
  },
  {
   "cell_type": "markdown",
   "metadata": {},
   "source": [
    "***"
   ]
  },
  {
   "cell_type": "markdown",
   "metadata": {},
   "source": [
    "\n",
    "### Example 4.2\n",
    "A random sample of 11 statistics students produced the following data, where $x$ is the third exam score out of 80, and $y$ is the final exam score out of 200.\n",
    "\n",
    "|x (third exam score)\t|y (final exam score)|\n",
    "|--|--|\n",
    "|65\t|175|\n",
    "|67\t|133|\n",
    "|71\t|185|\n",
    "|71\t|163|\n",
    "|66\t|126|\n",
    "|75\t|198|\n",
    "|67\t|153|\n",
    "|70\t|163|\n",
    "|71\t|159|\n",
    "|69\t|151|\n",
    "|69\t|159|\n",
    "\n",
    "Perform a hypothesis test with a 1% level of significance to determine whether or not there is a linear correlation between a student's third exam score and their final exam score.\n",
    "\n",
    "#### Solution\n",
    "##### Part 1: State the null and alternative hypotheses.\n",
    "When testing the significance of the population correlation coefficient, the null and alternative hypotheses are always the same:\n",
    "\n",
    "$$\\begin{align}\n",
    "H_0:&\\ \\rho = 0 \\\\\n",
    "H_a:&\\ \\rho \\neq 0\n",
    "\\end{align}$$\n",
    "\n",
    "Our null hypothesis $H_0$ is that there is no linear correlation in the *population* between a student's third exam score and their final exam score. The alternative hypothesis $H_a$ is that there is some degree of linear correlation in the population between a student's third exam score and their final exam score.\n",
    "\n",
    "##### Part 2: Assuming the null hypothesis is true, determine the features of the distribution of sample statistics.\n",
    "When testing the population correlation coefficient $\\rho$, we use a $t$-distribution with $n - 2$ degrees of freedom, where $n$ is the number of $(x, y)$ points in our data. Since our data has 11 $(x, y)$ points in this case,\n",
    "\n",
    "$$ df = n - 2 = 11 - 2 = 9. $$\n",
    "\n",
    "##### Part 3: Find the $p$-value\n",
    "We will use the test statistic\n",
    "\n",
    "$$ t = \\frac{r\\sqrt{n-2}}{\\sqrt{1 - r^2}} $$\n",
    "\n",
    "to find the $p$-value. To calculate this $t$-score, we first must find the sample correlation coefficient $r$:"
   ]
  },
  {
   "cell_type": "code",
   "execution_count": 1,
   "metadata": {},
   "outputs": [
    {
     "data": {
      "text/html": [
       "0.663093590999518"
      ],
      "text/latex": [
       "0.663093590999518"
      ],
      "text/markdown": [
       "0.663093590999518"
      ],
      "text/plain": [
       "[1] 0.6630936"
      ]
     },
     "metadata": {},
     "output_type": "display_data"
    }
   ],
   "source": [
    "x = c(65, 67, 71, 71, 66, 75, 67, 70, 71, 69, 69)\n",
    "y = c(175, 133, 185, 163, 126, 198, 153, 163, 159, 151, 159)\n",
    "\n",
    "cor(x, y)"
   ]
  },
  {
   "cell_type": "markdown",
   "metadata": {},
   "source": [
    "The sample correlation coefficient is $r = 0.6631$. Then we calculate that the test statistic is\n",
    "\n",
    "$$ t = \\frac{r\\sqrt{n - 2}}{\\sqrt{1 - r^2}} = \\frac{0.6631\\sqrt{11 - 2}}{\\sqrt{1 - (0.6631)^2}} = 2.6576. $$\n",
    "\n",
    "Since the alternative hypothesis $H_a$ uses a not-equal-to symbol, we will perform a two-tailed test. That means *half* of the $p$-value is represented by $P(t \\geq 2.6576)$, which we will calculate using R."
   ]
  },
  {
   "cell_type": "code",
   "execution_count": 2,
   "metadata": {},
   "outputs": [
    {
     "data": {
      "text/html": [
       "0.0130742219589208"
      ],
      "text/latex": [
       "0.0130742219589208"
      ],
      "text/markdown": [
       "0.0130742219589208"
      ],
      "text/plain": [
       "[1] 0.01307422"
      ]
     },
     "metadata": {},
     "output_type": "display_data"
    }
   ],
   "source": [
    "pt(q = 2.6576, df = 9, lower.tail = FALSE)"
   ]
  },
  {
   "cell_type": "markdown",
   "metadata": {},
   "source": [
    "So half the $p$-value is $P(t \\geq 2.6576) = 0.0131$. This means that the whole $p$-value is\n",
    "\n",
    "$$p\\text{-value} = 2(0.0131) = 0.0262. $$\n",
    "\n",
    "So assuming that the null hypothesis is true—that there is no correlation in the population—there would still be a 2.62% chance that a random sample of 11 data points would have a correlation coefficient at least as extreme as $r = 0.6631$.\n",
    "\n",
    "##### Part 4: Make a conclusion about the null hypothesis.\n",
    "We're performing the test at the 1% significance level, so $\\alpha = 0.01$. Thus, since\n",
    "\n",
    "$$p\\text{-value} = 0.0262 \\geq 0.01 = \\alpha, $$\n",
    "\n",
    "the evidence is not sufficient to reject the null hypothesis.\n",
    "\n",
    "We conclude that it is possible that there is no linear correlation in the population between a student's third exam score and their final exam score.\n"
   ]
  },
  {
   "cell_type": "markdown",
   "metadata": {},
   "source": [
    "***"
   ]
  },
  {
   "cell_type": "markdown",
   "metadata": {},
   "source": [
    "### Example 4.3"
   ]
  },
  {
   "cell_type": "code",
   "execution_count": null,
   "metadata": {},
   "outputs": [],
   "source": [
    "#**VID=ieQKPsBpAVI**#"
   ]
  },
  {
   "cell_type": "markdown",
   "metadata": {},
   "source": [
    "***"
   ]
  },
  {
   "cell_type": "markdown",
   "metadata": {},
   "source": [
    "<small style=\"color:gray\"><b>License:</b> This work is licensed under a [Creative Commons Attribution 4.0 International](https://creativecommons.org/licenses/by/4.0/) license.</small>\n",
    "\n",
    "<small style=\"color:gray\"><b>Author:</b> Taylor Baldwin, Mt. San Jacinto College</small>\n",
    "\n",
    "<small style=\"color:gray\"><b>Adapted From:</b> <i>Introductory Statistics</i>, by Barbara Illowsky and Susan Dean. Access for free at [https://openstax.org/books/introductory-statistics/pages/1-introduction](https://openstax.org/books/introductory-statistics/pages/1-introduction).</small>"
   ]
  }
 ],
 "metadata": {
  "kernelspec": {
   "display_name": "R",
   "language": "R",
   "name": "ir"
  },
  "language_info": {
   "codemirror_mode": "r",
   "file_extension": ".r",
   "mimetype": "text/x-r-source",
   "name": "R",
   "pygments_lexer": "r",
   "version": "3.6.1"
  }
 },
 "nbformat": 4,
 "nbformat_minor": 2
}
