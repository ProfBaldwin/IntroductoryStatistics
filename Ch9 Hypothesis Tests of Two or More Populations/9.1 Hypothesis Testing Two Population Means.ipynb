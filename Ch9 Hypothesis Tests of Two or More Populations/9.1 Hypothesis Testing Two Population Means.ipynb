{
 "cells": [
  {
   "cell_type": "markdown",
   "metadata": {},
   "source": [
    "# 9.1 Hypothesis Testing: Two Population Means"
   ]
  },
  {
   "cell_type": "markdown",
   "metadata": {},
   "source": [
    "## Objectives\n",
    "\n",
    "- Compute probabilities using the Central Limit Theorem and demonstrate the ability to interpret sampling distributions of both population proportions and means.\n",
    "- Analyze a problem involving hypothesis testing, apply the correct techniques, and come to a conclusion for a claim about population proportion and mean, all this while using appropriate levels of statistical significance, $p$-values, and determining what would constitute a type I and type II error.\n",
    "- Analyze an application in the disciplines business, social sciences, psychology, life sciences, health science, and education, and utilize the correct statistical processes to arrive at a solution."
   ]
  },
  {
   "cell_type": "markdown",
   "metadata": {},
   "source": [
    "## Hypothesis Test with Two Population Means\n",
    "The comparison of two population means is very common. A difference between the two samples depends on both the means and the standard deviations. Very different means can occur by chance if there is great variation among the individual samples. In order to account for the variation, we take the difference of the sample means,  $\\overline{D} = \\overline{X}_1 - \\overline{X}_2$, and divide by the standard error in order to standardize the difference. The result is a $t$-score test statistic.\n",
    "\n",
    "Because we do not know the population standard deviations, we estimate them using the two sample standard deviations from our independent samples. For the hypothesis test, we calculate the estimated standard deviation, or **standard error**, of **the difference in sample means**,  $\\overline{D} = \\overline{X}_1 - \\overline{X}_2$.\n",
    "\n",
    "The differences of sample means have a $t$-distribution with mean\n",
    "\n",
    "$$ \\mu_{\\overline{D}} = \\mu_1 - \\mu_2 $$\n",
    "\n",
    "and standard error (that is, the distribution standard deviation) of\n",
    "\n",
    "$$ \\sigma_{\\overline{D}} = \\sqrt{\\frac{s_1^2}{n_1} + \\frac{s_2^2}{n_2}}. $$\n",
    "\n",
    "The degrees of freedom of the $t$-distribution is the smaller of the values $n_1 - 1$ and $n_2 - 1$.\n",
    "\n",
    "The fundamental steps for conducting a hypothesis test remain the same:\n",
    "\n",
    "1. State the null and alternative hypotheses.\n",
    "2. Assuming the null hypothesis is true, determine the features of the distribution of point estimates.\n",
    "3. Find the $p$-value of the point estimate.\n",
    "4. Make a conclusion about the null hypothesis."
   ]
  },
  {
   "cell_type": "markdown",
   "metadata": {},
   "source": [
    "***"
   ]
  },
  {
   "cell_type": "markdown",
   "metadata": {},
   "source": [
    "\n",
    "### Example 5.1\n",
    "A study is done by a community group in two neighboring colleges to determine which one graduates students with more math classes. College A samples 11 graduates. Their average is four math classes with a standard deviation of 1.5 math classes. College B samples nine graduates. Their average is 3.5 math classes with a standard deviation of one math class. The community group believes that a student who graduates from college A has taken more math classes, on the average. Both populations have a normal distribution. Test at a 1% significance level.\n",
    "\n",
    "#### Solution\n",
    "First, gather the given information:\n",
    "\n",
    "| | COLLEGE A | COLLEGE B |\n",
    "|--|--|--|\n",
    "|**Sample Size**| $n_A = 11$ | $n_B = 9$ |\n",
    "|**Sample Mean**| $\\bar{x}_A = 4$ | $\\bar{x}_B = 3.5$ |\n",
    "|**Sample Standard Deviation**| $s_A = 1.5$ | $s_B = 1$ |\n",
    "\n",
    "##### Step 1: State the null and alternative hypotheses.\n",
    "The community group believes that a student who graduates from college A has taken more math classes, on the average, than a student who graguates from college B. Mathematically, this means the community group believes $\\mu_A > \\mu_B$, where $\\mu_A$ is the average number of math classes a graduate from college A takes, and $\\mu_B$ is the average number of math classes a graduate from college B takes. But to perform a hypothesis test, we need to test the difference in the population means, so we rewrite $\\mu_A > \\mu_B$ as  $\\mu_A - \\mu_B > 0$. Thus,\n",
    "\n",
    "$$\\begin{align}\n",
    "H_0:&\\ \\mu_A - \\mu_B \\leq 0 \\\\\n",
    "H_a:&\\ \\mu_A - \\mu_B > 0\n",
    "\\end{align}$$\n",
    "\n",
    "##### Step 2: Assuming the null hypothesis is true, determine the features of the distribution of point estimates.\n",
    "If the null hypothesis is true, then the point estimates have a $t$-distribution. The degrees of freedom of the distribution is the smaller of $n_A - 1$ and $n_B - 1$. Since $n_B < n_A$ in this case, the degrees of freedom are\n",
    "\n",
    "$$ df = n_B - 1 = 9 - 1 = 8. $$\n",
    "\n",
    "The null hypothesis tells us the distribution mean. It's\n",
    "\n",
    "$$ \\mu_{\\overline{D}} = \\mu_A - \\mu_B = 0. $$\n",
    "\n",
    "The distribution standard deviation (the standard error) is\n",
    "\n",
    "$$ \\sigma_{\\overline{D}} = \\sqrt{\\frac{s_A^2}{n_A} + \\frac{s_B^2}{n_B}} = \\sqrt{\\frac{1.5^2}{11} + \\frac{1^2}{9}} = 0.5618. $$\n",
    "\n",
    "##### Step 3: Find the  $p$-value of the point estimate.\n",
    "The point estimate of $\\mu_{\\overline{D}} = \\mu_A - \\mu_B$ is \n",
    "\n",
    "$$\\overline{d} = \\bar{x}_A - \\bar{x}_B = 4 - 3.5 = 0.5. $$\n",
    "\n",
    "The $t$-score for this value is\n",
    "\n",
    "$$ t = \\frac{\\overline{d} - \\mu_{\\overline{D}}}{\\sigma_{\\overline{D}}} = \\frac{0.5 - 0}{0.5618} = 0.8900. $$\n",
    "\n",
    "Since the alternative hypothesis $H_a$ uses a greather-than symbol, we will perform a right-tailed test. The $p$-value is $P(\\overline{d} \\geq 0.5) = P(t \\geq 0.8900)$."
   ]
  },
  {
   "cell_type": "code",
   "execution_count": 1,
   "metadata": {},
   "outputs": [
    {
     "data": {
      "text/html": [
       "0.199719073651568"
      ],
      "text/latex": [
       "0.199719073651568"
      ],
      "text/markdown": [
       "0.199719073651568"
      ],
      "text/plain": [
       "[1] 0.1997191"
      ]
     },
     "metadata": {},
     "output_type": "display_data"
    }
   ],
   "source": [
    "pt(q = 0.8900, df = 8, lower.tail = FALSE)"
   ]
  },
  {
   "cell_type": "markdown",
   "metadata": {},
   "source": [
    "So the $p$-value is $P(\\overline{d} \\geq 0.5) = P(t \\geq 0.8900) = 0.1997$. In other words, if the null hypothesis *is* true, there is a 19.97% chance that the mean number of math classes taken by the students randomly sampled from college A is at least 0.5 classes more than the mean number of math classes taken by the students randomly sampled from college B.\n",
    "\n",
    "##### Step 4: Make a conclusion about the null hypothesis.\n",
    "We are testing the hypothesis at the 1% significance level, meaning that $\\alpha = 0.01$. Since\n",
    "\n",
    "$$p\\text{-value} = 0.1997 \\geq 0.01 = \\alpha,$$\n",
    "\n",
    "we do not reject the null hypothesis.\n",
    "\n",
    "The evidence is insufficient to conclude that the average number of math classes taken by graduates from college A is greater than the average number of math classes taken by graduates from college B."
   ]
  },
  {
   "cell_type": "markdown",
   "metadata": {},
   "source": [
    "***"
   ]
  },
  {
   "cell_type": "markdown",
   "metadata": {},
   "source": [
    "\n",
    "### Example 5.2\n",
    "A professor at a large community college wanted to determine whether there is a difference in the means of final exam scores between students who took his statistics course online and the students who took his face-to-face statistics class. The randomly selected final exam scores for the two courses are listed below. Test whether or not the exam scores are different at the 5% significance level.\n",
    "\n",
    "**Sample of 30 final exam scores from the online class:**\n",
    "\n",
    "67.6, 70.66, 94.1, 41.2, 38.22, 88.2, 85.3, 61.8, 64.7, 55.9, 88.2, 55.9, 82.4, 70.6, 88.2, 91.2, 58.8, 97.1, 73.5, 91.2, 85.3, 94.1, 73.5, 61.8, 64.7, 82.4, 79.4, 64.7, 35.5, 79.4\n",
    "\n",
    "**Sample of 30 final exam scores from the face-to-face class:**\n",
    "\n",
    "77.9, 95.3, 81.2, 74.1, 98.8, 88.2, 84.9, 92.9, 87.1, 88.2, 69.4, 57.6, 69.4, 67.1, 97.6, 85.9, 88.2, 91.8, 78.8, 71.8, 98.8, 61.2, 92.9, 90.6, 97.6, 100, 95.3, 83.5, 92.9, 89.4\n",
    "\n",
    "#### Solution\n",
    "##### Step 1: State the null and alternative hypotheses.\n",
    "We want to test whether or not the average final exam scores for the online class are different than the average final exam scores for the face-to-face class. This means we want to know if $\\mu_1 = \\mu_2$ or if $\\mu_1 \\neq \\mu_2$, where $\\mu_1$ is the average final exam score for the online class and $\\mu_2$ is the average final exam score for the face-to-face class. But to perform a hypothesis test, we need to express these as the difference between population means. Rewriting $\\mu_1 = \\mu_2$ as $\\mu_1 - \\mu_2 = 0$ and $\\mu_1 \\neq \\mu_2$ as $\\mu_1 - \\mu_2 \\neq 0$ gives our hypotheses:\n",
    "\n",
    "$$\\begin{align}\n",
    "H_0:&\\ \\mu_1 - \\mu_2 = 0 \\\\\n",
    "H_a:&\\ \\mu_1 - \\mu_2 \\neq 0\n",
    "\\end{align}$$\n",
    "\n",
    "##### Step 2: Assuming the null hypothesis is true, determine the features of the distribution of point estimates.\n",
    "\n",
    "Assuming the null hypothesis is true, the point estimates have a $t$-distribution. The degrees of freedom of the distribution is the smaller of $n_1 - 1$ and $n_2 - 2$. But in this case, both samples have the same size: $n_1 = 30 = n_2$. So the degrees of freedom is\n",
    "\n",
    "$$ df = n_1 - 1 = n_2 - 1 = 30 - 1 = 29. $$\n",
    "\n",
    "From the null hypothesis, we see that the mean of the distribution is\n",
    "\n",
    "$$ \\mu_{\\overline{D}} = \\mu_1 - \\mu_2 = 0. $$\n",
    "\n",
    "The standard deviation of the distribution is given by the formula\n",
    "\n",
    "$$ \\sigma_{\\overline{D}} = \\sqrt{\\frac{s_1^2}{n_1} + \\frac{s_2^2}{n_2}}, $$\n",
    "\n",
    "which means we need to first calculate $s_1$ and $s_2$.\n",
    "\n",
    "**Finding $s_1$:**\n",
    "\n",
    "To find $s_1$, the sample standard deviation for the online class, we first must find $\\bar{x}_1$."
   ]
  },
  {
   "cell_type": "code",
   "execution_count": 1,
   "metadata": {},
   "outputs": [
    {
     "data": {
      "text/html": [
       "72.8526666666667"
      ],
      "text/latex": [
       "72.8526666666667"
      ],
      "text/markdown": [
       "72.8526666666667"
      ],
      "text/plain": [
       "[1] 72.85267"
      ]
     },
     "metadata": {},
     "output_type": "display_data"
    }
   ],
   "source": [
    "online = c(67.6, 70.66, 94.1, 41.2, 38.22, 88.2, 85.3, 61.8, 64.7, 55.9, 88.2, 55.9, 82.4, 70.6, 88.2, 91.2, 58.8, 97.1, 73.5, 91.2, 85.3, 94.1, 73.5, 61.8, 64.7, 82.4, 79.4, 64.7, 35.5, 79.4)\n",
    "n1 = length(online)\n",
    "\n",
    "xbar1 = sum(online)/n1\n",
    "xbar1"
   ]
  },
  {
   "cell_type": "markdown",
   "metadata": {},
   "source": [
    "So the mean for the sample from the online class is $\\bar{x}_1 = 72.8527$. Next, we calculate the sample standard deviation."
   ]
  },
  {
   "cell_type": "code",
   "execution_count": 2,
   "metadata": {},
   "outputs": [
    {
     "data": {
      "text/html": [
       "16.9170825587289"
      ],
      "text/latex": [
       "16.9170825587289"
      ],
      "text/markdown": [
       "16.9170825587289"
      ],
      "text/plain": [
       "[1] 16.91708"
      ]
     },
     "metadata": {},
     "output_type": "display_data"
    }
   ],
   "source": [
    "s1 = sqrt(sum( (online - xbar1)^2 )/(n1 - 1))\n",
    "s1"
   ]
  },
  {
   "cell_type": "markdown",
   "metadata": {},
   "source": [
    "The sample standard deviation for the online class is $s_1 = 16.9171$.\n",
    "\n",
    "**Finding $s_2$:**\n",
    "\n",
    "To find $s_2$, the sample standard deviation for the face-to-face class, we first must find $\\bar{x}_2$."
   ]
  },
  {
   "cell_type": "code",
   "execution_count": 3,
   "metadata": {},
   "outputs": [
    {
     "data": {
      "text/html": [
       "84.9466666666667"
      ],
      "text/latex": [
       "84.9466666666667"
      ],
      "text/markdown": [
       "84.9466666666667"
      ],
      "text/plain": [
       "[1] 84.94667"
      ]
     },
     "metadata": {},
     "output_type": "display_data"
    }
   ],
   "source": [
    "face2face = c(77.9, 95.3, 81.2, 74.1, 98.8, 88.2, 84.9, 92.9, 87.1, 88.2, 69.4, 57.6, 69.4, 67.1, 97.6, 85.9, 88.2, 91.8, 78.8, 71.8, 98.8, 61.2, 92.9, 90.6, 97.6, 100, 95.3, 83.5, 92.9, 89.4)\n",
    "n2 = length(face2face)\n",
    "\n",
    "xbar2 = sum(face2face)/n2\n",
    "xbar2"
   ]
  },
  {
   "cell_type": "markdown",
   "metadata": {},
   "source": [
    "So the mean for the sample from the face-to-face class is $\\bar{x}_2 = 84.9467$. Next, calculate the sample standard deviation."
   ]
  },
  {
   "cell_type": "code",
   "execution_count": 4,
   "metadata": {},
   "outputs": [
    {
     "data": {
      "text/html": [
       "11.7128792459363"
      ],
      "text/latex": [
       "11.7128792459363"
      ],
      "text/markdown": [
       "11.7128792459363"
      ],
      "text/plain": [
       "[1] 11.71288"
      ]
     },
     "metadata": {},
     "output_type": "display_data"
    }
   ],
   "source": [
    "s2 = sqrt(sum( (face2face - xbar2)^2 )/(n2 - 1))\n",
    "s2"
   ]
  },
  {
   "cell_type": "markdown",
   "metadata": {},
   "source": [
    "The sample standard deviation for the face-to-face class is $s_2 = 11.7129$.\n",
    "\n",
    "Now we can find the distribution standard deviation:\n",
    "\n",
    "$$ \\sigma_{\\overline{D}} = \\sqrt{\\frac{s_1^2}{n_1} + \\frac{s_2^2}{n_2}} = \\sqrt{\\frac{16.9171^2}{30} + \\frac{11.7129^2}{30}} = 3.7567. $$\n",
    "\n",
    "##### Step 3: Find the  $p$-value of the point estimate.\n",
    "The point estimate of $\\mu_{\\overline{D}} = \\mu_1 - \\mu_2$ is\n",
    "\n",
    "$$ \\overline{d} = \\bar{x}_1 - \\bar{x}_2 = 72.8527 - 84.9467 = -12.094. $$\n",
    "\n",
    "The $t$-score for the point estimate is\n",
    "\n",
    "$$ t = \\frac{\\overline{d} - \\mu_{\\overline{D}}}{\\sigma_{\\overline{D}}} = \\frac{-12.094 - 0}{3.7567} = -3.2193. $$\n",
    "\n",
    "Since the alternative hypothesis $H_a$ uses a not-equal-to symbol, we will perform a two-tailed test. That means that *half* the $p$-value is $P(\\overline{d} \\leq -12.094) = P(t \\leq -3.1293)$. Let's calculate using R."
   ]
  },
  {
   "cell_type": "code",
   "execution_count": 5,
   "metadata": {},
   "outputs": [
    {
     "data": {
      "text/html": [
       "0.00157932307641113"
      ],
      "text/latex": [
       "0.00157932307641113"
      ],
      "text/markdown": [
       "0.00157932307641113"
      ],
      "text/plain": [
       "[1] 0.001579323"
      ]
     },
     "metadata": {},
     "output_type": "display_data"
    }
   ],
   "source": [
    "pt(q = -3.2193, df = 29, lower.tail = TRUE)"
   ]
  },
  {
   "cell_type": "markdown",
   "metadata": {},
   "source": [
    "So $P(d \\leq -12.094) = P(t \\leq -3.1293) = 0.0016$. So the $p$-value is\n",
    "\n",
    "$$ p\\text{-value} = 2(0.0016) = 0.0032. $$\n",
    "\n",
    "##### Step 4: Make a conclusion about the null hypothesis.\n",
    "The level of significance for this test is 5%, so $\\alpha = 0.05$. Since\n",
    "\n",
    "$$ p\\text{-value} = 0.0032 < 0.05 = \\alpha, $$\n",
    "\n",
    "we reject the null hypothesis. The chance of getting the point estimate we did if the null hypothesis were true is so small, we think it is more likely that the null hypothesis is not true.\n",
    "\n",
    "In other words, we conclude that the average final exam score for the online statistics class does not match the average final exam score for the face-to-face statistics class.\n"
   ]
  },
  {
   "cell_type": "markdown",
   "metadata": {},
   "source": [
    "***"
   ]
  },
  {
   "cell_type": "code",
   "execution_count": null,
   "metadata": {},
   "outputs": [],
   "source": [
    "#**VID=gcp552jsMWs**#"
   ]
  },
  {
   "cell_type": "markdown",
   "metadata": {},
   "source": [
    "***"
   ]
  },
  {
   "cell_type": "markdown",
   "metadata": {},
   "source": [
    "<small style=\"color:gray\">**License:** This work is licensed under a [Creative Commons Attribution 4.0 International](https://creativecommons.org/licenses/by/4.0/) license.</small>\n",
    "\n",
    "<small style=\"color:gray\">**Author:** Taylor Baldwin, Mt. San Jacinto College</small>\n",
    "\n",
    "<small style=\"color:gray\">**Adapted From:** *Introductory Statistics*, by Barbara Illowsky and Susan Dean. Access for free at [https://openstax.org/books/introductory-statistics/pages/1-introduction](https://openstax.org/books/introductory-statistics/pages/1-introduction).</small>"
   ]
  }
 ],
 "metadata": {
  "kernelspec": {
   "display_name": "R",
   "language": "R",
   "name": "ir"
  },
  "language_info": {
   "codemirror_mode": "r",
   "file_extension": ".r",
   "mimetype": "text/x-r-source",
   "name": "R",
   "pygments_lexer": "r",
   "version": "3.6.1"
  }
 },
 "nbformat": 4,
 "nbformat_minor": 2
}
