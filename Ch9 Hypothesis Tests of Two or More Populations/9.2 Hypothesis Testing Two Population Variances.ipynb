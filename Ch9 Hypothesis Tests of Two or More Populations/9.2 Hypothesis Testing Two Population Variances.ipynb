{
 "cells": [
  {
   "cell_type": "markdown",
   "metadata": {},
   "source": [
    "# 9.2 Hypothesis Testing Two Population Variances"
   ]
  },
  {
   "cell_type": "markdown",
   "metadata": {},
   "source": [
    "## The $F$-Distribution"
   ]
  },
  {
   "cell_type": "markdown",
   "metadata": {},
   "source": [
    "We can compare two independent $\\chi^2$-distributed random variables by considering a fraction involving the two random variables. This fraction is a new random variable, and we say that it has an $F$-distribution. The shape of an $F$-distribution is determined by the degrees of freedom of the $\\chi^2$-distribution of the numerator $df_1$ and the degrees of freedom of the $\\chi^2$-distribution of the denominator $df_2$."
   ]
  },
  {
   "cell_type": "code",
   "execution_count": 1,
   "metadata": {},
   "outputs": [
    {
     "data": {
      "image/png": "[encoded data removed]",
      "text/plain": [
       "Plot with title \"F-Distributions\""
      ]
     },
     "metadata": {},
     "output_type": "display_data"
    }
   ],
   "source": [
    "#**ALT=Graphs of F-distributions with various numerator and denominator degrees of freedoms.**#\n",
    "#**HIDE_INPUT**#\n",
    "color <- c(\"red\", \"chocolate2\", \"lightcoral\",\"forestgreen\", \"blue\", \"purple\", \"black\")\n",
    "\n",
    "df1list <- c(2, 5, 50)\n",
    "df2list <- c(2, 5, 50)\n",
    "\n",
    "x <- seq(0, 3, 0.01)\n",
    "df <- c(1,1, 5,1, 1,5, 2,10, 10,2, 10,10, 100,100)\n",
    "\n",
    "dfidx <- 1\n",
    "y <- df(x, df[dfidx], df[dfidx + 1])\n",
    "colidx <- 1\n",
    "plot(x, y, type=\"l\", col = color[colidx], main = \"F-Distributions\", xaxs = \"i\", yaxs = \"i\")\n",
    "legtxt <- as.expression(bquote(\"df\"[1]*\"=\"*.(df[dfidx])*\", df\"[2]*\"=\"*.(df[dfidx+1])))\n",
    "\n",
    "while (colidx < length(color)) {\n",
    "    dfidx <- dfidx + 2\n",
    "    y <- df(x, df[dfidx], df[dfidx + 1])\n",
    "    colidx <- colidx + 1\n",
    "    lines(x, y, col = color[colidx])\n",
    "    legtxt <- c(legtxt, as.expression(bquote(\"df\"[1]*\"=\"*.(df[dfidx])*\", df\"[2]*\"=\"*.(df[dfidx+1]))))\n",
    "}\n",
    "\n",
    "legend(1.8, 3, legend=legtxt, col=color, lty=1)\n"
   ]
  },
  {
   "cell_type": "markdown",
   "metadata": {},
   "source": [
    "To find the probability to the left or right of a value when using the $F$-distribution, we will use the R function\n",
    "\n",
    "```R\n",
    "pf(q, df1, df2, lower.tail)\n",
    "```\n",
    "\n",
    "where we want the probability to the left or right of <code>q</code>, the numerator degrees of freedom is <code>df1</code>, the denominator degrees of freedom is <code>df2</code>, and <code>lower.tail</code> is set to either <code>TRUE</code> or <code>FALSE</code> depending on whether we want to calculate the probability to the left or right of the value.\n"
   ]
  },
  {
   "cell_type": "markdown",
   "metadata": {},
   "source": [
    "## Testing Two Population Variances"
   ]
  },
  {
   "cell_type": "markdown",
   "metadata": {},
   "source": [
    "You may recall that we use a $\\chi^2$-distribution when performing a hypothesis test on the variance of a population. When comparing two population variances, we have one $\\chi^2$-distribution for each of the two population, so we compare the population variances using an $F$-distribution. When the populations are independent from each other and normally distributed, the test statistic for the hypothesis test is given by\n",
    "\n",
    "$$ F = \\frac{s_1^2}{s_2^2}, $$\n",
    "\n",
    "where $s_1$ is the sample standard deviation of the sample from population 1, and $s_2$ is the sample standard deviation of the sample from population 2. If the size of sample 1 is $n_1$ and the size of sample 2 is $n_2$, then the numerator degrees of freedom is $df_1 = n_1 - 1$ and the denominator degrees of freedom is $df_2 = n_2 - 1$.\n",
    "\n",
    "The general steps for completing a hypothesis test have not changed:\n",
    "1. State the null and alternative hypotheses.\n",
    "2. Assuming the null hypothesis is true, determine the features of the distribution of test statistics.\n",
    "3. Find the $p$-value of the test statistic.\n",
    "4. Make a conclusion about the null hypothesis.\n",
    "\n",
    "Some examples should clarify this process."
   ]
  },
  {
   "cell_type": "markdown",
   "metadata": {},
   "source": [
    "***"
   ]
  },
  {
   "cell_type": "markdown",
   "metadata": {},
   "source": [
    "### Example 2.1"
   ]
  },
  {
   "cell_type": "markdown",
   "metadata": {},
   "source": [
    "A researcher believes that there is less variance in the heights of 10 year-old males compared to adult males. She measures the heights of 22 10-year-old males and 27 adult males with the following results (in centimeters):\n",
    "\n",
    "10 Year-Old Males (Sample A):\n",
    "\n",
    "    148.8, 141.4, 144.9, 140.2, 140.7, 139.6, 148.5, 136.9, 147.5, 148.5, 131.8, 127.9, 132.2, 138.6, 148.5, 141.1, 130.9, 139.2, 137.5, 151.9, 135, 142.6\n",
    "\n",
    "Adult Males (Sample B):\n",
    "\n",
    "    168.8, 186.4, 172.1, 180.1, 163.7, 185.2, 173.2, 174, 165.9, 169.2, 175.7, 181.3, 172.7, 172.1, 168.3, 171.8, 195, 186.4, 179, 168.3, 171.3, 182.9, 164.4, 169, 186.8, 178.3, 191.1\n",
    "\n",
    "Conduct a hypothesis test with a 7% level of significance to test her claim.\n",
    "\n",
    "#### Solution\n",
    "##### Step 1: State the null and alternative hypotheses.\n",
    "We are given that one of the hypotheses is that the heights of 10 year-old males has a smaller variance than the heights of adult males. Written mathematically, this means that one of our hypotheses is that $\\sigma_A^2 < \\sigma_B^2$. We can rewrite this in a form that is easier to test by dividing both sides by $\\sigma_B^2$ to get\n",
    "$$\\frac{\\sigma_A^2}{\\sigma_B^2} < 1.$$ \n",
    "Since this inequality uses the less-than symbol, this is the alternative hypothesis. Using the opposite symbol for the null hypothesis, we obtain our hypotheses:\n",
    "$$\\begin{align}\n",
    "H_0:& \\frac{\\sigma_A^2}{\\sigma_B^2} \\geq 1, \\\\\n",
    "H_a:& \\frac{\\sigma_A^2}{\\sigma_B^2} < 1.\n",
    "\\end{align}$$\n",
    "Note that because $H_a$ uses a less-than symbol, we will be performing a left-tailed test.\n",
    "\n",
    "##### Step 2: Assuming the null hypothesis is true, determine the features of the distribution of test statistics.\n",
    "Since we are testing two population variances, we will use an $F$-distribution. The numerator degrees of freedom is $df_A = 22 - 1 = 21$ and the denominator degrees of freedom is $df_B = 26$.\n",
    "\n",
    "##### Step 3: Find the $p$-value of the test statistic.\n",
    "Our test statistic is $F = \\frac{s_A^2}{s_B^2}$, which means we first need to find the standard deviation $s_A$ of sample A and the standard deviation $s_B$ of sample B. Let's start by finding $s_A$."
   ]
  },
  {
   "cell_type": "code",
   "execution_count": 1,
   "metadata": {},
   "outputs": [
    {
     "data": {
      "text/html": [
       "6.61266658068886"
      ],
      "text/latex": [
       "6.61266658068886"
      ],
      "text/markdown": [
       "6.61266658068886"
      ],
      "text/plain": [
       "[1] 6.612667"
      ]
     },
     "metadata": {},
     "output_type": "display_data"
    }
   ],
   "source": [
    "xA = c(148.8, 141.4, 144.9, 140.2, 140.7, 139.6, 148.5, 136.9, 147.5, 148.5, 131.8, 127.9, 132.2, 138.6, 148.5, 141.1, 130.9, 139.2, 137.5, 151.9, 135, 142.6)\n",
    "nA = length(xA)\n",
    "\n",
    "xbarA = sum(xA)/nA\n",
    "\n",
    "sA = sqrt( sum( (xA - xbarA)^2 )/(nA - 1) )\n",
    "sA"
   ]
  },
  {
   "cell_type": "markdown",
   "metadata": {},
   "source": [
    "So the standard deviation of sample A is $s_A = 6.613$. The process is the same to find $s_B$."
   ]
  },
  {
   "cell_type": "code",
   "execution_count": 2,
   "metadata": {},
   "outputs": [
    {
     "data": {
      "text/html": [
       "8.45772965299736"
      ],
      "text/latex": [
       "8.45772965299736"
      ],
      "text/markdown": [
       "8.45772965299736"
      ],
      "text/plain": [
       "[1] 8.45773"
      ]
     },
     "metadata": {},
     "output_type": "display_data"
    }
   ],
   "source": [
    "xB = c(168.8, 186.4, 172.1, 180.1, 163.7, 185.2, 173.2, 174, 165.9, 169.2, 175.7, 181.3, 172.7, 172.1, 168.3, 171.8, 195, 186.4, 179, 168.3, 171.3, 182.9, 164.4, 169, 186.8, 178.3, 191.1)\n",
    "nB = length(xB)\n",
    "\n",
    "xbarB = sum(xB)/nB\n",
    "\n",
    "sB = sqrt( sum( (xB - xbarB)^2 )/(nB - 1) )\n",
    "sB"
   ]
  },
  {
   "cell_type": "markdown",
   "metadata": {},
   "source": [
    "The standard deviation of sample B is $s_B = 8.458$.\n",
    "\n",
    "We can now calculate our test statistic."
   ]
  },
  {
   "cell_type": "code",
   "execution_count": 3,
   "metadata": {},
   "outputs": [
    {
     "data": {
      "text/html": [
       "0.611287694110602"
      ],
      "text/latex": [
       "0.611287694110602"
      ],
      "text/markdown": [
       "0.611287694110602"
      ],
      "text/plain": [
       "[1] 0.6112877"
      ]
     },
     "metadata": {},
     "output_type": "display_data"
    }
   ],
   "source": [
    "Fscore = sA^2/sB^2\n",
    "Fscore"
   ]
  },
  {
   "cell_type": "markdown",
   "metadata": {},
   "source": [
    "Our test statistic is\n",
    "$$ F = \\frac{s_A^2}{s_B^2} = \\frac{6.613^2}{8.458^2} = 0.611. $$\n",
    "\n",
    "We are now prepared to calculate the $p$-value using the numerator degrees of freedom and denominator degrees of freedom we calculated in step 2."
   ]
  },
  {
   "cell_type": "code",
   "execution_count": 4,
   "metadata": {},
   "outputs": [
    {
     "data": {
      "text/html": [
       "0.12648514626268"
      ],
      "text/latex": [
       "0.12648514626268"
      ],
      "text/markdown": [
       "0.12648514626268"
      ],
      "text/plain": [
       "[1] 0.1264851"
      ]
     },
     "metadata": {},
     "output_type": "display_data"
    }
   ],
   "source": [
    "pf(q = Fscore, df1 = 21, df2 = 26, lower.tail = TRUE)"
   ]
  },
  {
   "cell_type": "markdown",
   "metadata": {},
   "source": [
    "So the $p$-value is $P(F < 0.611) = 0.126$. In other words, assuming the null hypothesis is true, there is a 12.6% chance of the variance from a sample from population A being at least as small as the variance we actually obtained relative to the variance from a sample from population B.\n",
    "\n",
    "##### Step 4: Make a conclusion about the null hypothesis.\n",
    "Since $p$-value $= 0.126 \\geq 0.07 = \\alpha$, we do *not* reject the null hypothesis. There is not enough evidence to conclude that the variance of heights of 10 year-old males is lower than the variance of heights of adult males."
   ]
  },
  {
   "cell_type": "markdown",
   "metadata": {},
   "source": [
    "***"
   ]
  },
  {
   "cell_type": "markdown",
   "metadata": {},
   "source": [
    "### Example 2.2"
   ]
  },
  {
   "cell_type": "code",
   "execution_count": null,
   "metadata": {},
   "outputs": [],
   "source": [
    "#**VID=5Us1OtgWjEA**#"
   ]
  },
  {
   "cell_type": "markdown",
   "metadata": {},
   "source": [
    "***"
   ]
  },
  {
   "cell_type": "markdown",
   "metadata": {},
   "source": [
    "<small style=\"color:gray\"><b>License:</b> This work is licensed under a [Creative Commons Attribution 4.0 International](https://creativecommons.org/licenses/by/4.0/) license.</small>\n",
    "\n",
    "<small style=\"color:gray\"><b>Author:</b> Taylor Baldwin, Mt. San Jacinto College</small>\n",
    "\n",
    "<small style=\"color:gray\"><b>Adapted From:</b> <i>Introductory Statistics</i>, by Barbara Illowsky and Susan Dean. Access for free at [https://openstax.org/books/introductory-statistics/pages/1-introduction](https://openstax.org/books/introductory-statistics/pages/1-introduction).</small>"
   ]
  }
 ],
 "metadata": {
  "kernelspec": {
   "display_name": "R",
   "language": "R",
   "name": "ir"
  },
  "language_info": {
   "codemirror_mode": "r",
   "file_extension": ".r",
   "mimetype": "text/x-r-source",
   "name": "R",
   "pygments_lexer": "r",
   "version": "3.6.1"
  }
 },
 "nbformat": 4,
 "nbformat_minor": 4
}
