{
 "cells": [
  {
   "cell_type": "markdown",
   "metadata": {},
   "source": [
    "# 9.3 ANOVA"
   ]
  },
  {
   "cell_type": "markdown",
   "metadata": {},
   "source": [
    "## Introduction to ANOVA\n",
    "\n",
    "ANOVA stands for ANalysis Of VAriance. An ANOVA test is a hypothesis test used to compare the means among several populations. The test uses variances to help determine if the population means are equal or not. To perform a one-way ANOVA test, the following basic assumptions must be fulfilled:\n",
    "\n",
    "- Each population is normally distributed.\n",
    "- All samples are randomly selected and independent.\n",
    "- The populations have equal variances (or standard deviations).\n",
    "\n",
    "The null hypothesis is that all the population means are the same. The alternative hypothesis is that at least one pair of means is different. For example, if there are k populations:\n",
    "\n",
    "$$\n",
    "\\begin{align*}\n",
    "&H_0:\\mu_1 = \\mu_2 = \\mu_3 = \\cdots = \\mu_k \\\\\n",
    "&H_a: \\text{At least one mean isn't equal to all the other means}\n",
    "\\end{align*}\n",
    "$$\n",
    "\n",
    "ANOVA works by comparing the approximate variance *between* the samples (that is, how much the samples vary with each other) with the approximate variance *within* the samples (that is, how much on average each sample varies on its own). If the null hypothesis is true so that the population means are all equal, then the variance between the samples and the variance within the samples should be about equal."
   ]
  },
  {
   "cell_type": "code",
   "execution_count": 39,
   "metadata": {},
   "outputs": [
    {
     "data": {
      "image/png": "[encoded data removed]",
      "text/plain": [
       "Plot with title \"B\""
      ]
     },
     "metadata": {},
     "output_type": "display_data"
    }
   ],
   "source": [
    "#**ALT=Two groups of box plots. Group A has little variation between box plots; group B has significant variation between box plots.**#\n",
    "#**HIDE_INPUT**#\n",
    "library(repr)\n",
    "options(repr.plot.width = 7, repr.plot.height=4)\n",
    "par(mfrow = c(1, 2))\n",
    "\n",
    "n <- 500\n",
    "\n",
    "A <- rnorm(n, 0, 5)\n",
    "B <- rnorm(n, 0, 5)\n",
    "C <- rnorm(n, 0, 5)\n",
    "D <- rnorm(n, 0, 5)\n",
    "boxplot(A, B, C, D, col=\"#20639b\", axes=FALSE, outline=FALSE, main= \"A\")\n",
    "\n",
    "A <- rnorm(n, 4, 5)\n",
    "B <- rnorm(n, 0, 5)\n",
    "C <- rnorm(n, 11, 5)\n",
    "D <- rnorm(n, -2, 5)\n",
    "boxplot(A, B, C, D, col = \"tomato2\", axes = FALSE, outline=FALSE, main = \"B\")"
   ]
  },
  {
   "cell_type": "markdown",
   "metadata": {},
   "source": [
    "To better understand the principles behind ANOVA, consider the two groups of box plots above. In group A (the blue box plots), notice that there is little variation between the box plots of the different samples. It is reasonable to think that the underlying population means may be equal. \n",
    "\n",
    "In comparison, there is considerable variation in group B (the orange box plots). In fact, there is so much variation between these samples that it is very unlikely that the underlying population means between these samples are all equal."
   ]
  },
  {
   "cell_type": "markdown",
   "metadata": {},
   "source": [
    "## Notation\n",
    "An ANOVA test can involve several populations and samples. To make our meaning clear, we will use the following notation in this section.\n",
    "\n",
    "- $x_j$ are the data values in the $j$th sample.\n",
    "- $n_j$ is the number of data values in the $j$th sample.\n",
    "- $\\bar{x}_j$ is the mean of the $j$th sample. As usual, the sample mean $\\bar{x}_j$ is the sum of all data values in the sample divided by the number of data values in the sample:\n",
    "$$\\bar{x}_j = \\dfrac{\\sum x_j}{n_j}.$$\n",
    "- $\\bar{\\bar{x}}$ is the **grand mean**. It is the mean of the combined data values of all the samples. It is calculated by adding all data values from all samples together, then dividing by the total number of all the data values from all samples:\n",
    "$$\\bar{\\bar{x}} = \\frac{\\sum x_1 + \\sum x_2 + \\cdots + \\sum x_k}{n_1 + n_2 + \\cdots + n_k},$$\n",
    "where $k$ in the equation represents the number of samples, with one sample taken from each population.\n",
    "\n",
    "A simple example may help to clarify the notation."
   ]
  },
  {
   "cell_type": "markdown",
   "metadata": {},
   "source": [
    "***"
   ]
  },
  {
   "cell_type": "markdown",
   "metadata": {},
   "source": [
    "### Example 3.1\n",
    "Three small samples were drawn from three populations. The sample data obtained is:\n",
    "\n",
    "    Sample 1:  18, 21, 20, 20, 17\n",
    "    Sample 2:  22, 19, 18, 21, 19, 16, 18\n",
    "    Sample 3:  20, 19, 17, 21\n",
    "    \n",
    "The data values $x_1$ in sample 1 are 18, 21, 20, 20, 17. There are 5 data values in sample 1, so $n_1 = 5$. We can use R to calculate the mean $\\bar{x}_1$ of sample 1."
   ]
  },
  {
   "cell_type": "code",
   "execution_count": 1,
   "metadata": {},
   "outputs": [
    {
     "data": {
      "text/html": [
       "19.2"
      ],
      "text/latex": [
       "19.2"
      ],
      "text/markdown": [
       "19.2"
      ],
      "text/plain": [
       "[1] 19.2"
      ]
     },
     "metadata": {},
     "output_type": "display_data"
    }
   ],
   "source": [
    "x1 = c(18, 21, 20, 20, 17)\n",
    "n1 = length(x1)\n",
    "\n",
    "xbar1 = sum(x1)/n1\n",
    "xbar1"
   ]
  },
  {
   "cell_type": "markdown",
   "metadata": {},
   "source": [
    "The mean of sample 1 is $\\bar{x}_1 = 19.2$.\n",
    "\n",
    "The data values $x_2$ in sample 2 are 22, 19, 18, 21, 19, 16, 18. There are 7 data values in sample 2, so $n_2 = 7$. We can use R to calculate the mean $\\bar{x}_2$ of sample 2."
   ]
  },
  {
   "cell_type": "code",
   "execution_count": 2,
   "metadata": {},
   "outputs": [
    {
     "data": {
      "text/html": [
       "19"
      ],
      "text/latex": [
       "19"
      ],
      "text/markdown": [
       "19"
      ],
      "text/plain": [
       "[1] 19"
      ]
     },
     "metadata": {},
     "output_type": "display_data"
    }
   ],
   "source": [
    "x2 = c(22, 19, 18, 21, 19, 16, 18)\n",
    "n2 = length(x2)\n",
    "\n",
    "xbar2 = sum(x2)/n2\n",
    "xbar2"
   ]
  },
  {
   "cell_type": "markdown",
   "metadata": {},
   "source": [
    "The mean of sample 2 is $\\bar{x}_2 = 19$.\n",
    "\n",
    "The data values $x_3$ in sample 3 are 20, 19, 17, 21. There are 4 data values in sample 3, so $n_3 = 4$. We can use R to calculate the mean $\\bar{x}_3$ of sample 3."
   ]
  },
  {
   "cell_type": "code",
   "execution_count": 3,
   "metadata": {},
   "outputs": [
    {
     "data": {
      "text/html": [
       "19.25"
      ],
      "text/latex": [
       "19.25"
      ],
      "text/markdown": [
       "19.25"
      ],
      "text/plain": [
       "[1] 19.25"
      ]
     },
     "metadata": {},
     "output_type": "display_data"
    }
   ],
   "source": [
    "x3 = c(20, 19, 17, 21)\n",
    "n3 = length(x3)\n",
    "\n",
    "xbar3 = sum(x3)/n3\n",
    "xbar3"
   ]
  },
  {
   "cell_type": "markdown",
   "metadata": {},
   "source": [
    "The mean of sample 3 is $\\bar{x}_3 = 19.25$.\n",
    "\n",
    "Now we can use R to calculate the grand mean $\\bar{\\bar{x}}$ of these three samples."
   ]
  },
  {
   "cell_type": "code",
   "execution_count": 4,
   "metadata": {},
   "outputs": [
    {
     "data": {
      "text/html": [
       "19.125"
      ],
      "text/latex": [
       "19.125"
      ],
      "text/markdown": [
       "19.125"
      ],
      "text/plain": [
       "[1] 19.125"
      ]
     },
     "metadata": {},
     "output_type": "display_data"
    }
   ],
   "source": [
    "grandx = (sum(x1) + sum(x2) + sum(x3))/(n1 + n2 + n3)\n",
    "grandx"
   ]
  },
  {
   "cell_type": "markdown",
   "metadata": {},
   "source": [
    "The grand mean&mdash;the mean of all the data in all three samples&mdash;is $\\bar{\\bar{x}} = 19.125$."
   ]
  },
  {
   "cell_type": "markdown",
   "metadata": {},
   "source": [
    "***"
   ]
  },
  {
   "cell_type": "markdown",
   "metadata": {},
   "source": [
    "## The Test Statistic For an ANOVA Test\n",
    "To calculate the test statistic for an ANOVA test with $k$ samples (one sample from each population), two estimates of the variance are made: \n",
    "\n",
    "<br/>\n",
    "\n",
    "- $MS_{\\text{between}}$ is the **m**ean **s**quare estimate of the variance **between** the sample means of the different samples. We calculate $MS_{\\text{between}}$ using the formula\n",
    "<br/>\n",
    "<br/>\n",
    "$$ MS_{\\text{between}} = \\frac{SS_{\\text{between}}}{df_{\\text{between}}}, $$\n",
    "<br/>\n",
    "where $SS_{\\text{between}}$, which measures the sum-of-squares variation between the sample means and the grand mean, and the degrees of freedom $df_{\\text{between}}$ are given by\n",
    "<br/>\n",
    "<br/>\n",
    "$$\\begin{align*}\n",
    "SS_{\\text{between}} &= n_1(\\bar{x}_1 - \\bar{\\bar{x}})^2 + n_2(\\bar{x}_2 - \\bar{\\bar{x}})^2 + \\cdots + n_k(\\bar{x}_k - \\bar{\\bar{x}})^2, \\\\\n",
    "df_{\\text{between}} &= k - 1.\n",
    "\\end{align*}$$\n",
    "\n",
    "<br/> \n",
    "<br/>\n",
    "\n",
    "- $MS_{\\text{within}}$ is the **m**ean **s**quare estimate of the average of the sample variances **within** the samples. We calculate $MS_{\\text{within}}$ using the formula\n",
    "<br/>\n",
    "<br/>\n",
    "$$ MS_{\\text{within}} = \\frac{SS_{\\text{within}}}{df_{\\text{within}}}, $$\n",
    "<br/>\n",
    "where $SS_{\\text{within}}$, which measures the sum-of-squares variation within each sample, and the degrees of freedom $df_{\\text{within}}$ are given by\n",
    "<br/>\n",
    "<br/>\n",
    "$$\\begin{align*}\n",
    "SS_{\\text{within}} &= \\sum (x_1 - \\bar{x}_1)^2 + \\sum (x_2 - \\bar{x}_2)^2 + \\cdots + \\sum (x_k - \\bar{x}_k)^2, \\\\\n",
    "df_{\\text{within}} &= (n_1 - 1) + (n_2 - 1) + \\cdots + (n_k - 1).\n",
    "\\end{align*}$$\n",
    "\n",
    "<br/> \n",
    "<br/>\n",
    "\n",
    "$MS_{\\text{between}}$ and $MS_{\\text{within}}$ both estimate variances, so we use an $F$-distribution to perform an ANOVA test just like we do when we compared two population variances. **The $F$-statistic we use for an ANOVA test is given by**\n",
    "<br/>\n",
    "<br/>\n",
    "$$ F = \\frac{MS_{\\text{between}}}{MS_{\\text{within}}}, $$\n",
    "<br/>\n",
    "where **the numerator degrees of freedom is** $df_{\\text{between}}$ and **the denominator degrees of freedom is** $df_{\\text{within}}$.\n",
    "\n",
    "If the null hypothesis is true (that is, if all the population means are equal), then we would expect the variance between samples (estimated by $MS_{\\text{between}}$) to equal the average variance within a sample (estimated by $MS_{\\text{within}}$), in which case the test statistic $F = 1$. But if the null hypothesis is not true, then we would expect the variance between samples to be greater than the average variance within a sample, in which case the test statistic $F > 1$. **Because of this, an ANOVA test is always right-tailed.**\n",
    "\n",
    "The general steps for completing a hypothesis test have not changed:\n",
    "1. State the null and alternative hypotheses.\n",
    "2. Assuming the null hypothesis is true, determine the features of the distribution of test statistics.\n",
    "3. Find the $p$-value of the test statistic.\n",
    "4. Make a conclusion about the null hypothesis."
   ]
  },
  {
   "cell_type": "markdown",
   "metadata": {},
   "source": [
    "***"
   ]
  },
  {
   "cell_type": "markdown",
   "metadata": {},
   "source": [
    "### Example 3.2\n",
    "\n",
    "A meteorologist wishes to test if the average daily high temperature is the same for each of the past four years. She randomly selects a number of days from each year and records the daily high temperature on each selected day (in °F):\n",
    "\n",
    "Year 1:\n",
    "\n",
    "    82, 104, 119, 56, 85, 94, 81, 106, 82, 92, 109, 71, 95, 86, 34, 89, 80, 53, 78, 99, 57, 87, 69, 98, 75, 88, 59, 104, 65, 66, 74, 73, 73, 106, 91, 89, 85, 84, 53, 81\n",
    "    \n",
    "Year 2:\n",
    "\n",
    "    80, 52, 72, 72, 43, 61, 66, 58, 118, 73, 76, 64, 81, 65, 63, 78, 72, 83, 104, 54, 69, 100, 63, 71, 38, 73, 92, 70, 86, 51, 66, 89, 74, 85\n",
    "\n",
    "\n",
    "Year 3:\n",
    "\n",
    "    75, 87, 79, 96, 72, 75, 93, 84, 80, 95, 72, 56, 83, 98, 96, 54, 106, 66, 120, 77, 88, 90, 75, 98, 113, 55, 44\n",
    "\n",
    "Year 4:\n",
    "\n",
    "    92, 68, 74, 82, 94, 44, 63, 61, 99, 71, 85, 42, 90, 94, 48, 97, 89, 65, 81, 45, 93, 81, 73, 69, 93, 75, 76, 61, 75, 102\n",
    "    \n",
    "Use an ANOVA test with a level of significance of 6% to test if the average daily high temperature is the same for all four years.\n",
    "\n",
    "#### Solution\n",
    "##### Step 1: State the null and alternative hypotheses.\n",
    "For an ANOVA test, the null hypothesis is always that the means of all the populations are equal. The alternative hypothesis for an ANOVA test is always that at least one of the population means is not equal to the others. That is,\n",
    "$$\\begin{align}\n",
    "H_0:& \\mu_1 = \\mu_2 = \\mu_3 = \\mu_4 \\\\\n",
    "H_a:& \\text{At least one mean isn't equal to the other means}\n",
    "\\end{align}$$\n",
    "\n",
    "##### Step 2: Assuming the null hypothesis is true, determine the features of the distribution of test statistics\n",
    "To perform an ANOVA test, we use an $F$-distribution. The numerator degrees of freedom, $df_{\\text{between}}$, is one less than the number of samples we are testing. In this example, we have $k = 4$ samples, so the numerator degrees of freedom is\n",
    "\n",
    "$$ df_{\\text{between}} = 4 - 1 = 3. $$\n",
    "\n",
    "To calculate the denominator degrees of freedom, $df_{\\text{within}}$, we first must know the size of each of the four samples. We will let R count the size of each sample for us."
   ]
  },
  {
   "cell_type": "code",
   "execution_count": 1,
   "metadata": {},
   "outputs": [
    {
     "data": {
      "text/html": [
       "40"
      ],
      "text/latex": [
       "40"
      ],
      "text/markdown": [
       "40"
      ],
      "text/plain": [
       "[1] 40"
      ]
     },
     "metadata": {},
     "output_type": "display_data"
    },
    {
     "data": {
      "text/html": [
       "34"
      ],
      "text/latex": [
       "34"
      ],
      "text/markdown": [
       "34"
      ],
      "text/plain": [
       "[1] 34"
      ]
     },
     "metadata": {},
     "output_type": "display_data"
    },
    {
     "data": {
      "text/html": [
       "27"
      ],
      "text/latex": [
       "27"
      ],
      "text/markdown": [
       "27"
      ],
      "text/plain": [
       "[1] 27"
      ]
     },
     "metadata": {},
     "output_type": "display_data"
    },
    {
     "data": {
      "text/html": [
       "30"
      ],
      "text/latex": [
       "30"
      ],
      "text/markdown": [
       "30"
      ],
      "text/plain": [
       "[1] 30"
      ]
     },
     "metadata": {},
     "output_type": "display_data"
    }
   ],
   "source": [
    "x1 = c(82, 104, 119, 56, 85, 94, 81, 106, 82, 92, 109, 71, 95, 86, 34, 89, 80, 53, 78, 99, 57, 87, 69, 98, 75, 88, 59, 104, 65, 66, 74, 73, 73, 106, 91, 89, 85, 84, 53, 81)\n",
    "x2 = c(80, 52, 72, 72, 43, 61, 66, 58, 118, 73, 76, 64, 81, 65, 63, 78, 72, 83, 104, 54, 69, 100, 63, 71, 38, 73, 92, 70, 86, 51, 66, 89, 74, 85)\n",
    "x3 = c(75, 87, 79, 96, 72, 75, 93, 84, 80, 95, 72, 56, 83, 98, 96, 54, 106, 66, 120, 77, 88, 90, 75, 98, 113, 55, 44)\n",
    "x4 = c(92, 68, 74, 82, 94, 44, 63, 61, 99, 71, 85, 42, 90, 94, 48, 97, 89, 65, 81, 45, 93, 81, 73, 69, 93, 75, 76, 61, 75, 102)\n",
    "\n",
    "n1 = length(x1)\n",
    "n2 = length(x2)\n",
    "n3 = length(x3)\n",
    "n4 = length(x4)\n",
    "\n",
    "n1\n",
    "n2\n",
    "n3\n",
    "n4"
   ]
  },
  {
   "cell_type": "markdown",
   "metadata": {},
   "source": [
    "So $n_1 = 40$, $n_2 = 34$, $n_3 = 27$, and $n_4 = 30$. Then the denominator degrees of freedom is\n",
    "\n",
    "$$ df_{\\text{within}} = (n_1 - 1) + (n_2 - 1) + (n_3 - 1) + (n_4 - 1) = (40 - 1) + (34 - 1) + (27 - 1) + (30 - 1) = 127.$$\n",
    "\n",
    "##### Step 3: Find the $p$-value of the test statistic."
   ]
  },
  {
   "cell_type": "markdown",
   "metadata": {},
   "source": [
    "To find the test-statistic, we first need to calculate the sample mean of each of the four samples, as well as the grand mean $\\bar{\\bar{x}}$."
   ]
  },
  {
   "cell_type": "code",
   "execution_count": 2,
   "metadata": {},
   "outputs": [
    {
     "data": {
      "text/html": [
       "81.8"
      ],
      "text/latex": [
       "81.8"
      ],
      "text/markdown": [
       "81.8"
      ],
      "text/plain": [
       "[1] 81.8"
      ]
     },
     "metadata": {},
     "output_type": "display_data"
    },
    {
     "data": {
      "text/html": [
       "72.4117647058823"
      ],
      "text/latex": [
       "72.4117647058823"
      ],
      "text/markdown": [
       "72.4117647058823"
      ],
      "text/plain": [
       "[1] 72.41176"
      ]
     },
     "metadata": {},
     "output_type": "display_data"
    },
    {
     "data": {
      "text/html": [
       "82.4814814814815"
      ],
      "text/latex": [
       "82.4814814814815"
      ],
      "text/markdown": [
       "82.4814814814815"
      ],
      "text/plain": [
       "[1] 82.48148"
      ]
     },
     "metadata": {},
     "output_type": "display_data"
    },
    {
     "data": {
      "text/html": [
       "76.0666666666667"
      ],
      "text/latex": [
       "76.0666666666667"
      ],
      "text/markdown": [
       "76.0666666666667"
      ],
      "text/plain": [
       "[1] 76.06667"
      ]
     },
     "metadata": {},
     "output_type": "display_data"
    },
    {
     "data": {
      "text/html": [
       "78.1908396946565"
      ],
      "text/latex": [
       "78.1908396946565"
      ],
      "text/markdown": [
       "78.1908396946565"
      ],
      "text/plain": [
       "[1] 78.19084"
      ]
     },
     "metadata": {},
     "output_type": "display_data"
    }
   ],
   "source": [
    "xbar1 = sum(x1)/n1\n",
    "xbar1\n",
    "\n",
    "xbar2 = sum(x2)/n2\n",
    "xbar2\n",
    "\n",
    "xbar3 = sum(x3)/n3\n",
    "xbar3\n",
    "\n",
    "xbar4 = sum(x4)/n4\n",
    "xbar4\n",
    "\n",
    "grandx = (sum(x1) + sum(x2) + sum(x3) + sum(x4))/(n1 + n2 + n3 + n4)\n",
    "grandx"
   ]
  },
  {
   "cell_type": "markdown",
   "metadata": {},
   "source": [
    "We find that $\\bar{x}_1 = 81.8$, $\\bar{x}_2 = 72.412$, $\\bar{x}_3 = 82.481$, $\\bar{x}_4 = 76.067$, and the grand mean is $ \\bar{\\bar{x}} = 78.191$.\n",
    "\n",
    "Let's next calculate $SS_{\\text{between}} = n_1(\\bar{x}_1 - \\bar{\\bar{x}})^2 + n_2(\\bar{x}_2 - \\bar{\\bar{x}})^2 + n_3(\\bar{x}_3 - \\bar{\\bar{x}})^2 + n_4(\\bar{x}_4 - \\bar{\\bar{x}})^2$ and $MS_{\\text{between}} = \\frac{SS_{\\text{between}}}{df_{\\text{between}}}$."
   ]
  },
  {
   "cell_type": "code",
   "execution_count": 3,
   "metadata": {},
   "outputs": [
    {
     "data": {
      "text/html": [
       "2288.98630610853"
      ],
      "text/latex": [
       "2288.98630610853"
      ],
      "text/markdown": [
       "2288.98630610853"
      ],
      "text/plain": [
       "[1] 2288.986"
      ]
     },
     "metadata": {},
     "output_type": "display_data"
    },
    {
     "data": {
      "text/html": [
       "762.995435369511"
      ],
      "text/latex": [
       "762.995435369511"
      ],
      "text/markdown": [
       "762.995435369511"
      ],
      "text/plain": [
       "[1] 762.9954"
      ]
     },
     "metadata": {},
     "output_type": "display_data"
    }
   ],
   "source": [
    "SS_between = n1*(xbar1 - grandx)^2 + n2*(xbar2 - grandx)^2 + n3*(xbar3 - grandx)^2 + n4*(xbar4 - grandx)^2\n",
    "SS_between\n",
    "\n",
    "df_between = 3\n",
    "\n",
    "MS_between = SS_between/df_between\n",
    "MS_between"
   ]
  },
  {
   "cell_type": "markdown",
   "metadata": {},
   "source": [
    "So $SS_{\\text{between}} = 2288.986$ and $MS_{\\text{between}} = 762.995$.\n",
    "\n",
    "Next, we calculate $SS_{\\text{within}} = \\sum (x_1 - \\bar{x}_1)^2 + \\sum (x_2 - \\bar{x}_2)^2 + \\sum (x_3 - \\bar{x}_3)^2 + \\sum(x_4 - \\bar{x}_4)^2$ and $MS_{\\text{within}} = \\frac{SS_\\text{within}}{df_\\text{within}}$."
   ]
  },
  {
   "cell_type": "code",
   "execution_count": 4,
   "metadata": {},
   "outputs": [
    {
     "data": {
      "text/html": [
       "38587.2427015251"
      ],
      "text/latex": [
       "38587.2427015251"
      ],
      "text/markdown": [
       "38587.2427015251"
      ],
      "text/plain": [
       "[1] 38587.24"
      ]
     },
     "metadata": {},
     "output_type": "display_data"
    },
    {
     "data": {
      "text/html": [
       "303.836556704922"
      ],
      "text/latex": [
       "303.836556704922"
      ],
      "text/markdown": [
       "303.836556704922"
      ],
      "text/plain": [
       "[1] 303.8366"
      ]
     },
     "metadata": {},
     "output_type": "display_data"
    }
   ],
   "source": [
    "SS_within = sum( (x1 - xbar1)^2 ) + sum( (x2 - xbar2)^2 ) + sum( (x3 - xbar3)^2 ) + sum( (x4 - xbar4)^2 )\n",
    "SS_within\n",
    "\n",
    "df_within = 127\n",
    "\n",
    "MS_within = SS_within/df_within\n",
    "MS_within"
   ]
  },
  {
   "cell_type": "markdown",
   "metadata": {},
   "source": [
    "We find that $SS_{\\text{within}} = 38587.243$ and $MS_{\\text{within}} = 303.837$.\n",
    "\n",
    "Next, we combine our results to find our test statistic $F = \\frac{MS_\\text{between}}{MS_\\text{within}}$."
   ]
  },
  {
   "cell_type": "code",
   "execution_count": 5,
   "metadata": {},
   "outputs": [
    {
     "data": {
      "text/html": [
       "2.51120353536166"
      ],
      "text/latex": [
       "2.51120353536166"
      ],
      "text/markdown": [
       "2.51120353536166"
      ],
      "text/plain": [
       "[1] 2.511204"
      ]
     },
     "metadata": {},
     "output_type": "display_data"
    }
   ],
   "source": [
    "F = MS_between/MS_within\n",
    "F"
   ]
  },
  {
   "cell_type": "markdown",
   "metadata": {},
   "source": [
    "Because an ANOVA test involves so many calculations, statisticians often organize the data into a table like the following.\n",
    "\n",
    "<table>\n",
    "<thead>\n",
    "  <tr>\n",
    "    <th scope=\"row\"></th>\n",
    "    <th scope=\"row\">$SS$</th>\n",
    "    <th scope=\"row\">$df$</th>\n",
    "    <th scope=\"row\">$MS$</th>\n",
    "    <th scope=\"row\">$F$</th>\n",
    "  </tr>\n",
    "</thead>\n",
    "<tbody>\n",
    "  <tr>\n",
    "    <th scope=\"col\">Between</th>\n",
    "    <td>2288.986</td>\n",
    "    <td>3</td>\n",
    "    <td>762.995</td>\n",
    "    <td>2.511</td>\n",
    "  </tr>\n",
    "  <tr>\n",
    "    <th scope=\"col\">Within</th>\n",
    "    <td>38587.243</td>\n",
    "    <td>127</td>\n",
    "    <td>303.837</td>\n",
    "    <td></td>\n",
    "  </tr>\n",
    "</tbody>\n",
    "</table>\n",
    "\n",
    "Now that we have our test statistic, we are ready to find the $p$-value."
   ]
  },
  {
   "cell_type": "code",
   "execution_count": 6,
   "metadata": {},
   "outputs": [
    {
     "data": {
      "text/html": [
       "0.0616171055195667"
      ],
      "text/latex": [
       "0.0616171055195667"
      ],
      "text/markdown": [
       "0.0616171055195667"
      ],
      "text/plain": [
       "[1] 0.06161711"
      ]
     },
     "metadata": {},
     "output_type": "display_data"
    }
   ],
   "source": [
    "pf(q = F, df1 = df_between, df2 = df_within, lower.tail = FALSE)"
   ]
  },
  {
   "cell_type": "markdown",
   "metadata": {},
   "source": [
    "So $P(F > 2.511) = 0.062$. That is, there is about an 6.2% chance that we would randomly sample data with this much variation between samples if the population means were all actually equal.\n",
    "\n",
    "##### Step 4: Make a conclusion about the null hypothesis.\n",
    "Since our $p$-value $= 0.062 \\geq 0.06 = \\alpha$, we do *not* reject the null hypothesis. There is not enough evidence to conclude that the average daily high temperature for at least one year is different than the others."
   ]
  },
  {
   "cell_type": "markdown",
   "metadata": {},
   "source": [
    "***"
   ]
  },
  {
   "cell_type": "markdown",
   "metadata": {},
   "source": [
    "### Example 3.3"
   ]
  },
  {
   "cell_type": "code",
   "execution_count": null,
   "metadata": {},
   "outputs": [],
   "source": [
    "#**VID=0IEzJnLrMEo**#"
   ]
  },
  {
   "cell_type": "markdown",
   "metadata": {},
   "source": [
    "***"
   ]
  },
  {
   "cell_type": "markdown",
   "metadata": {},
   "source": [
    "<small style=\"color:gray\"><b>License:</b> This work is licensed under a [Creative Commons Attribution 4.0 International](https://creativecommons.org/licenses/by/4.0/) license.</small>\n",
    "\n",
    "<small style=\"color:gray\"><b>Author:</b> Taylor Baldwin, Mt. San Jacinto College</small>\n",
    "\n",
    "<small style=\"color:gray\"><b>Adapted From:</b> <i>Introductory Statistics</i>, by Barbara Illowsky and Susan Dean. Access for free at [https://openstax.org/books/introductory-statistics/pages/1-introduction](https://openstax.org/books/introductory-statistics/pages/1-introduction).</small>"
   ]
  }
 ],
 "metadata": {
  "kernelspec": {
   "display_name": "R",
   "language": "R",
   "name": "ir"
  },
  "language_info": {
   "codemirror_mode": "r",
   "file_extension": ".r",
   "mimetype": "text/x-r-source",
   "name": "R",
   "pygments_lexer": "r",
   "version": "3.6.1"
  }
 },
 "nbformat": 4,
 "nbformat_minor": 4
}
