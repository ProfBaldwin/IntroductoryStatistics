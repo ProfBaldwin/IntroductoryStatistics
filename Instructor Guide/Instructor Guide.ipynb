{
 "cells": [
  {
   "cell_type": "markdown",
   "metadata": {},
   "source": [
    "# Instructor Guide"
   ]
  },
  {
   "cell_type": "markdown",
   "metadata": {},
   "source": [
    "I taught Introductory Statistics for the first time in the fall 2019 semester. I was almost immediately frustrated with the experience. My biggest concern was that no textbook I could find taught the material with a particular technology in mind at a course-appropriate level. Most textbooks briefly discussed statistical computing using a TI-83 calculator or Microsoft Excel, but it was an afterthought, not a central feature of the text. What's more, these tools are costly for students and, in the case of the TI-83 calculator, archaic. There are textbooks with a focus on statistical computing with R or Python, but they are intended for students with a good foundation in mathematics and programming, and are not appropriate for an entry-level course. As modern statistics is so heavily dependent on technology, the lack of an entry-level textbook that strongly integrated technology was troubling.\n",
    "\n",
    "In a burst of exuberant optimism, I decided to develop the kinds of course materials I wanted myself. As I write this, it has been over a year since I began the project, and it has been more work than I originally anticipated. But, having now taught the course in some configuration for three separate terms, I believe it is ready to be advanced to beta version. This guide is intended to prepare instructors to copy and teach this course."
   ]
  },
  {
   "cell_type": "markdown",
   "metadata": {},
   "source": [
    "## About the Course\n",
    "This is an entry-level general education statistics course designed to align with [the C-ID descriptor for Introduction to Statistics](https://c-id.net/descriptors/final/show/365). The textbook presents examples using R, a professional-level statistical programming language. While R is incredibly powerful, the text only uses very basic R appropriate to students with no programming experience, using R more like a powerful statistics calculator than a full-featured programming language. Each section of the textbook also includes example videos, though these videos will likely be updated with more professional videos in the future.\n",
    "\n",
    "There are also problems corresponding to each section of the textbook written in MyOpenMath. These problems are randomly generated and are generally unique to each student."
   ]
  },
  {
   "cell_type": "markdown",
   "metadata": {},
   "source": [
    "## Materials Used in the Course\n",
    "\n",
    "This course is designed to be a zero-cost course for students. Most of the materials required are open, and all are free to use.\n",
    "\n",
    "- I adapted the textbook used for this course, [Introductory Statistics with R](https://profbaldwin.github.io/IntroductoryStatistics/), from Barbara Illowsky and Susan Dean's open textbook [Introductory Statistics](https://openstax.org/details/books/introductory-statistics). I used Jupyter Notebook (with R) to write the text.\n",
    "- I used [MyOpenMath](https://www.myopenmath.com/) to write the assignment problems and host the course shell. It has proven to be a powerful and thoughtfully designed tool.\n",
    "- To participate in the course, students need access to the R programming language. While several options are available, I've found [Google Colaboratory](https://colab.fan/r), Google's proprietary version of Jupyter Notebook, to be the most convenient. It stores all student code in their Google Drive, allows students to insert explanatory text between code using text cells, and can be shared similar to other documents in Google Drive."
   ]
  },
  {
   "cell_type": "markdown",
   "metadata": {},
   "source": [
    "## Student and Instructor Impressions\n",
    "\n",
    "The feedback I've received from students has been overwhelmingly positive. I've taught several online classes over the past few years. This is the only online course I've taught where I have had multiple students, without prompting, message me to let me know how much they are enjoying the course.\n",
    "\n",
    "That doesn't mean students don't find the course challenging. Especially near the beginning of the semester, some students may feel overwhelmed by the requirement to learn new technologies. The instructor should be a near-daily presence in the course to offer help as needed."
   ]
  },
  {
   "cell_type": "markdown",
   "metadata": {},
   "source": [
    "## Course Structure\n",
    "\n",
    "The course shell itself is hosted in MyOpenMath. Assignments are split into three categories:\n",
    "- Practice provides students a collection of (usually around 5) problems to practice after each textbook section. Students have an unlimited number of attempts on the practice problems, and are encouraged to discuss the problems with the instructor and their peers. The problems are generally randomly generated, so each student is presented with a slightly different problem. Practices are auto-graded. Practice assignments are worth 20% of a student's course grade by default. By default, all Practice assignments are open from the first day of the semester, and one Practice assignment is usually due every Monday, Wednesday, and Friday.\n",
    "- Quizzes test the students' knowledge after each chapter. There are 9 quizzes—one for each chapter. The quiz problems are drawn from the practice problems, though with random elements regenerated. Students should find the quiz problems very similar, but not identical, to the practice problems. The default time limit for a quiz is 2 hours; this can be changed in the settings. I also have the quizzes open-note/open-book; if you wish to change this, make sure you update the syllabus accordingly. Quizzes are auto-graded. Quizzes are worth 45% of a student's course grade by default. By default, a Quiz opens on the same day the last Practice in the chapter is due, and the Quiz is due two weekdays after it opens.\n",
    "- Projects allow students the opportunity to analyze real-world data using statistics. The course has four projects, one each after chapter 2, chapter 5, chapter 6, and chapter 8. These projects will be updated periodically to better align with current events. Projects are *not* autograded. I encourage students to send me their projects prior to the due date so I could provide feedback and give them the chance to make corrections. Projects are worth 35% of a student's course grade by default. By default, a Project opens on the same day the last Practice in the chapter is due, and the Project is due four weekdays after it opens.\n",
    "\n",
    "Notice, there are no high-stakes cumulative exams by default. Instead, students are assessed through several lower-stakes quizzes and projects. There is also a help forum for each section. Students are encouraged to post questions in the help forum so all students may benefit from the response.\n",
    "\n",
    "MyOpenMath also allows the automation of late work using LatePasses. The instructor can choose to give every student a certain number of LatePasses. When a student uses a LatePass on an assignment, it grants the student a 24 hour extension on the assignment from the time the assignment was due. LatePasses can also be stacked: two LatePasses can give a student an extension of 48 hours on an assignment. By default, all students start with 21 LatePasses, and students can use up to 7 of those LatePasses on any one assignment. You can easily change these settings if you desire. You can also increase or decrease the number of LatePasses any one student has at anytime during the term."
   ]
  },
  {
   "cell_type": "markdown",
   "metadata": {},
   "source": [
    "## Equity Considerations\n",
    "I have endeavored to take equity into account when designing this course. There are many small though, hopefully, meaningful components of the course designed to increase equitable outcomes:\n",
    "- The course uses zero-cost materials.\n",
    "- An effort was made to include problems and projects that reveals diverse experiences.\n",
    "- The randomization of MyOpenMath was utilized to randomize names and genders used in problems when appropriate.\n",
    "- The course attempts to de-emphasize high-stakes assessments and tries to be reasonably flexible with deadlines."
   ]
  },
  {
   "cell_type": "markdown",
   "metadata": {},
   "source": [
    "## Using the Course\n",
    "The course is designed to work almost out of the box. The following steps will help you prepare to copy and use the course shell.\n",
    "\n",
    "### Step 1: Get a MyOpenMath Instructor Account\n",
    "1. Go to [MyOpenMath.com](https://www.myopenmath.com/).\n",
    "2. Near the bottom of the page, click the link to \"request an instructor account.\"\n",
    "3. Follow the instructions to request an account. Make sure the institution you select is \"Mt San Jacinto Community College District CA, US\" or you won't be part of the institution group and won't be able to copy the course template.\n",
    "4. Your request for an instructor account may take a day or two to be processed.\n",
    "\n",
    "### Step 2: Copy the Template Course Shell\n",
    "1. Once you have an instructor account, sign in to [MyOpenMath](https://www.myopenmath.com/).\n",
    "1. Click the \"Add New Course\" button.\n",
    "1. Click \"Copy from my or a colleague's course.\"\n",
    "1. In the text box, type in the course ID: 98531. Then click, \"Look up course.\"\n",
    "1. You should see the course title and author: \"MATH-140 Statistics TEMPLATE (Baldwin, Taylor).\" Click \"Continue.\"\n",
    "1. Choose a course name and enrollment key. Your students will use the enrollment key to join the course.\n",
    "1. You can safely ignore the remaining settings; you will be able to change them later if you choose. For more information on the settings, see [MyOpenMath documentation](https://www.myopenmath.com/help.php?section=administration#creatingcourses).\n",
    "1. Click \"Submit.\" You will see a page informing you of the course ID, LTI key, and secret. Ignore these for now. We will find them again later when we need them. Just click, \"Enter the Course.\"\n",
    "\n",
    "### Step 3: Prepare your Course Shell\n",
    "- If you will be using the MyOpenMath course shell directly, delete any announcements in the \"Announcement\" block. If you will be integrating the course shell into Canvas, you can delete the \"Announcement\" block entirely; you will manage any announcements through Canvas directly.\n",
    "- If you choose to use it, a template syllabus is provided for convenience on your course home page. Portions of the syllabus that are specific to you and your course, such as instructor information and the section number, are identified by red hash symbols (<span style=\"color:red;\">####</span>). Review the remainder of the syllabus and edit as you feel appropriate. Note that the syllabus is presented as both a single document and broken down into different sections. If you choose to keep both, be sure to apply any edits you make to both.\n",
    "- If you wish to change any due dates or settings, the easiest way to do that is to use the \"Mass Change\" settings on the left side of the course home page.\n",
    "\n",
    "### Step 4: Make Your Course Available to Students\n",
    "There are two ways to make your course available to your students: you can have them create MyOpenMath accounts and join the MyOpenMath course shell directly (recommended), or you can integrate the MyOpenMath course shell into your Canvas course shell.\n",
    "#### Option 1: Use the MyOpenMath Course Shell Directly (Recommended)\n",
    "1. From your course home page, click \"Course Settings\" from the menu on the left.\n",
    "1. Take note of your course ID and enrollment key.\n",
    "1. Provide your course ID and enrollment key to your students, and have your students use these to create a MyOpenMath student account and enroll in your course. It may be helpful to provide them with [an instructional video](https://www.youtube.com/watch?v=v-4hMfgrR7o) and/or [written instructions](https://www.myopenmath.com/help.php?section=usingimas).\n",
    "1. That's it! Your students are now enrolled in your course in MyOpenMath.\n",
    "\n",
    "#### Option 2: Integrate the MyOpenMath Course into Canvas\n",
    "1. From your course home page, under \"Mass Change,\" click \"Assessments.\"\n",
    "1. Click the \"Change Settings\" tab.\n",
    "1. Under \"Help and Hints\", set \"Show 'Post this question to forum' links\" to \"Do not show 'Post this question to forum' links.\" By default, students can use \"Post this question to forum\" links on Practice assignments to post questions to forums when they need help. However, this feature does not work properly when integrating the course with Canvas, so it's best to disable it to prevent confusion.\n",
    "1. Click \"Apply Changes\" on the bottom of the page.\n",
    "1. From your course home page, click \"Course Settings\" from the menu on the left.\n",
    "1. Click \"LMS Integration (LTI)\". \n",
    "1. Copy the LTI key in the form \"LTIkey_#####_1\". Using this LTI key (as opposed to the LTI key with 0 at the end) allows your Canvas students automatic access to MyOpenMath without the need to manually create a MyOpenMath account.\n",
    "1. Check the box next to \"Allow the LMS to set assessment due dates.\"\n",
    "1. Follow the instructions in the MyOpenMath help document under [Canvas Integration - Using Import](https://www.myopenmath.com/help.php?section=lti#lticanvas) to complete the integration process."
   ]
  },
  {
   "cell_type": "markdown",
   "metadata": {},
   "source": [
    "## Best Practices\n",
    "Having taught this course over multiple terms, there are a few practices that I recommend.\n",
    "- For anytime online courses, have an optional introductory Zoom meeting near the beginning of the semester to introduce yourself, go over the syllabus, introduce MyOpenMath, address common mistakes, answer questions, etc. Post the recording of the Zoom meeting so students who didn't attend can view the recording at their leisure.\n",
    "- Encourage students to post questions in the help forums. I recommend responding to the forums once every weekday. When appropriate, use Canvas Studio or some other tool to record your screen as you respond. This way, students will be able to see you illustrate using the technologies in this course.\n",
    "- Encourage students to share their work when posting to the help forums. To share their Google Colab Notebook, a student simply needs to click \"Share\", change the setting to \"Anyone with a link may view,\" then copy-and-paste the link in the forum.\n",
    "- Encourage students to send their draft projects to you prior to the due date for review and feedback."
   ]
  },
  {
   "cell_type": "markdown",
   "metadata": {},
   "source": [
    "## Common Student Errors\n",
    "You should be aware of two common student errors.\n",
    "\n",
    "First, new Google Colab Notebooks default to running Python, not R. **To create a new Google Colab Notebook that runs R, students *must* click the link \"New Google Colab R-Notebook\".** If students create a Notebook in any other way (for example, by going to File -> New Notebook), it will run Python, not R, and will not be suitable for the class.\n",
    "\n",
    "Here is an example of the error you might see if students create a new Notebook in the wrong way then try to run R code:"
   ]
  },
  {
   "cell_type": "code",
   "execution_count": 1,
   "metadata": {},
   "outputs": [
    {
     "ename": "NameError",
     "evalue": "name 'x' is not defined",
     "output_type": "error",
     "traceback": [
      "\u001b[1;31m---------------------------------------------------------------------------\u001b[0m",
      "\u001b[1;31mNameError\u001b[0m                                 Traceback (most recent call last)",
      "\u001b[1;32m<ipython-input-1-f34bbcb468ab>\u001b[0m in \u001b[0;36m<module>\u001b[1;34m\u001b[0m\n\u001b[1;32m----> 1\u001b[1;33m \u001b[0mx\u001b[0m \u001b[1;33m<\u001b[0m\u001b[1;33m-\u001b[0m \u001b[0mc\u001b[0m\u001b[1;33m(\u001b[0m\u001b[1;36m1\u001b[0m\u001b[1;33m,\u001b[0m \u001b[1;36m2\u001b[0m\u001b[1;33m,\u001b[0m \u001b[1;36m3\u001b[0m\u001b[1;33m)\u001b[0m\u001b[1;33m\u001b[0m\u001b[1;33m\u001b[0m\u001b[0m\n\u001b[0m",
      "\u001b[1;31mNameError\u001b[0m: name 'x' is not defined"
     ]
    }
   ],
   "source": [
    "x <- c(1, 2, 3)"
   ]
  },
  {
   "cell_type": "markdown",
   "metadata": {},
   "source": [
    "The inclusion of `ipython` in the error message indicates that the Notebook is running Python, not R, which means the student created the Notebook the wrong way. To correct the issue, the student must create a new Notebook using the \"New Google Colab R-Notebook\" link on the course home page.\n",
    "\n",
    "The second common student error involves rounding in MyOpenMath. Most numerical problems in the course will mark the student correct as long as they get the answer correct to at least the third decimal place, though more decimal places are acceptable. As the term goes on, the problems in the course begin to involve more parts which depend on the answers to previous parts. If a student uses the rounded answer to a previous part to calculate the solution to the next part, the small error as a result of the rounding may propogate until the answer to the next part is too far off to be marked correct. \n",
    "\n",
    "An example will help illustrate this issue. Suppose the answer to part 1 of a question is 1.23456. MyOpenMath will mark the part correct if the student inputs 1.235 (correct up to 3 decimal places), or 1.2345 (less error), or 1.2346 (even less error), or 1.23456 (perfectly correct). However, if the student uses 1.235 for their calculations instead of the full 1.23456, the error of the former may propogate. For example:"
   ]
  },
  {
   "cell_type": "code",
   "execution_count": 1,
   "metadata": {},
   "outputs": [
    {
     "data": {
      "text/html": [
       "12.35"
      ],
      "text/latex": [
       "12.35"
      ],
      "text/markdown": [
       "12.35"
      ],
      "text/plain": [
       "[1] 12.35"
      ]
     },
     "metadata": {},
     "output_type": "display_data"
    },
    {
     "data": {
      "text/html": [
       "12.3456"
      ],
      "text/latex": [
       "12.3456"
      ],
      "text/markdown": [
       "12.3456"
      ],
      "text/plain": [
       "[1] 12.3456"
      ]
     },
     "metadata": {},
     "output_type": "display_data"
    }
   ],
   "source": [
    "1.235 * 10      # Approximately correct answer * 10\n",
    "1.23456 * 10    # Perfectly correct answer * 10"
   ]
  },
  {
   "cell_type": "markdown",
   "metadata": {},
   "source": [
    "Notice that when we multiply 1.235 by 10, the result is a number no longer accurate to three decimal places. If a student answers part 2 with 12.35, they will be marked wrong, as the answer correct to three decimal places is actually 12.346.\n",
    "\n",
    "**To avoid this error, students should *always* copy-and-paste the full result of any calculation.**"
   ]
  },
  {
   "cell_type": "markdown",
   "metadata": {},
   "source": [
    "## Future Work\n",
    "As I mentioned above, this course is in beta version. There are still many improvements I would like to make. Some improvements include:\n",
    "- Replace example videos with more professional-quality videos with better captioning. These videos may be moved to a different location rather than being embedded in the textbook.\n",
    "- Revise wording in the textbook. For example, some of the steps outlines in Chapter 6 could be clearer.\n",
    "- Add solutions to MyOpenMath problems.\n",
    "- Include textbook sections introducing students to the technology used in the course."
   ]
  },
  {
   "cell_type": "markdown",
   "metadata": {},
   "source": [
    "## Questions?\n",
    "I would be surprised if you don't run into questions while setting up your course. If you do have questions, please don't hesitate to contact me at [tbaldwin@msjc.edu](mailto:tbaldwin@msjc.edu)."
   ]
  }
 ],
 "metadata": {
  "kernelspec": {
   "display_name": "R",
   "language": "R",
   "name": "ir"
  },
  "language_info": {
   "codemirror_mode": "r",
   "file_extension": ".r",
   "mimetype": "text/x-r-source",
   "name": "R",
   "pygments_lexer": "r",
   "version": "3.6.1"
  }
 },
 "nbformat": 4,
 "nbformat_minor": 4
}
