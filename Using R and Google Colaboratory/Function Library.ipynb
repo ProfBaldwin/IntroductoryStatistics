{
 "cells": [
  {
   "cell_type": "markdown",
   "metadata": {},
   "source": [
    "# Function Library\n",
    "\n",
    "R is a powerful programming language designed for professional-level statistical computing. We only deal with a few basic R functions in this textbook. We here provide a library of the functions you will learn and use as you work through this textbook. Each function includes descriptions and examples. Use this library as a reference as needed."
   ]
  },
  {
   "cell_type": "markdown",
   "metadata": {},
   "source": [
    "***"
   ]
  },
  {
   "cell_type": "markdown",
   "metadata": {},
   "source": [
    "## `barplot(height, names)`\n",
    "Creates a bar chart. The heights of the bars are given in the list `height` and the names of the bars are given in the list `names`. First introduced in [Section 1.5](https://profbaldwin.github.io/IntroductoryStatistics/Ch1%20Sampling%20and%20Data/1.5%20Tables%20and%20Charts.html)."
   ]
  },
  {
   "cell_type": "code",
   "execution_count": 6,
   "metadata": {},
   "outputs": [
    {
     "data": {
      "image/png": "[encoded data removed]",
      "text/plain": [
       "plot without title"
      ]
     },
     "metadata": {},
     "output_type": "display_data"
    }
   ],
   "source": [
    "#**ALT=Bar chart of three bars with heights, from left-to-right, of 2, 4, and 6.**#\n",
    "barplot(height = c(2, 4, 6), names = c(\"First Bar\", \"The Second Bar\", \"And The Third\"))"
   ]
  },
  {
   "cell_type": "markdown",
   "metadata": {},
   "source": [
    "***"
   ]
  },
  {
   "cell_type": "markdown",
   "metadata": {},
   "source": [
    "## `boxplot(x)`\n",
    "Creates a box plot of the data in list `x`."
   ]
  },
  {
   "cell_type": "code",
   "execution_count": 20,
   "metadata": {},
   "outputs": [
    {
     "data": {
      "image/png": "[encoded data removed]",
      "text/plain": [
       "plot without title"
      ]
     },
     "metadata": {},
     "output_type": "display_data"
    }
   ],
   "source": [
    "#**ALT=A box plot**# \n",
    "boxplot(x = c(1, 2, 3, 4, 5, 6, 7, 8, 9, 10))"
   ]
  },
  {
   "cell_type": "markdown",
   "metadata": {},
   "source": [
    "***"
   ]
  },
  {
   "cell_type": "markdown",
   "metadata": {},
   "source": [
    "## `cor(x, y)`\n",
    "The function returns the correlation coefficient corresponding to the list of $(x, y)$ points with $x$-values stored in list `x` and $y$-values stored in list `y`. First introduced in [Section 8.4](https://profbaldwin.github.io/IntroductoryStatistics/Ch8%20Correlation%20and%20Linear%20Regression/8.4%20The%20Correlation%20Coefficient.html)."
   ]
  },
  {
   "cell_type": "code",
   "execution_count": 59,
   "metadata": {},
   "outputs": [
    {
     "data": {
      "text/html": [
       "-0.4"
      ],
      "text/latex": [
       "-0.4"
      ],
      "text/markdown": [
       "-0.4"
      ],
      "text/plain": [
       "[1] -0.4"
      ]
     },
     "metadata": {},
     "output_type": "display_data"
    }
   ],
   "source": [
    "cor(x = c(1, 2, 3, 4), y = c(4, 1, 3, 2))"
   ]
  },
  {
   "cell_type": "markdown",
   "metadata": {},
   "source": [
    "So the correlation coefficient for the points $(1, 4)$, $(2, 1)$, $(3, 3)$, and $(4, 2)$ is $r = -0.4$."
   ]
  },
  {
   "cell_type": "markdown",
   "metadata": {},
   "source": [
    "***"
   ]
  },
  {
   "cell_type": "markdown",
   "metadata": {},
   "source": [
    "## `dbinom(x, size, prob)`\n",
    "Given a binomial distribution of `size` trials and probability of success `prob`, the function calculates the probability of having `x` successes, where `x` can be a single value or a list of values. First introduced in [Section 3.5](https://profbaldwin.github.io/IntroductoryStatistics/Ch3%20Probability/3.5%20The%20Binomial%20Distribution.html)."
   ]
  },
  {
   "cell_type": "code",
   "execution_count": 27,
   "metadata": {},
   "outputs": [
    {
     "data": {
      "text/html": [
       "0.0212030152851563"
      ],
      "text/latex": [
       "0.0212030152851563"
      ],
      "text/markdown": [
       "0.0212030152851563"
      ],
      "text/plain": [
       "[1] 0.02120302"
      ]
     },
     "metadata": {},
     "output_type": "display_data"
    }
   ],
   "source": [
    "dbinom(x = 7, size = 10, prob = 0.35)"
   ]
  },
  {
   "cell_type": "markdown",
   "metadata": {},
   "source": [
    "So if there is a probability of success of 0.35 for each trial, the probability of 7 successful trials out of 10 total is 0.0212."
   ]
  },
  {
   "cell_type": "code",
   "execution_count": 28,
   "metadata": {},
   "outputs": [
    {
     "data": {
      "text/html": [
       "<ol class=list-inline>\n",
       "\t<li>0.000453767032280239</li>\n",
       "\t<li>0.0140286515696005</li>\n",
       "\t<li>0.107945471263313</li>\n",
       "</ol>\n"
      ],
      "text/latex": [
       "\\begin{enumerate*}\n",
       "\\item 0.000453767032280239\n",
       "\\item 0.0140286515696005\n",
       "\\item 0.107945471263313\n",
       "\\end{enumerate*}\n"
      ],
      "text/markdown": [
       "1. 0.000453767032280239\n",
       "2. 0.0140286515696005\n",
       "3. 0.107945471263313\n",
       "\n",
       "\n"
      ],
      "text/plain": [
       "[1] 0.000453767 0.014028652 0.107945471"
      ]
     },
     "metadata": {},
     "output_type": "display_data"
    }
   ],
   "source": [
    "dbinom(x = c(2, 4, 6), size = 12, prob = 0.67)"
   ]
  },
  {
   "cell_type": "markdown",
   "metadata": {},
   "source": [
    "So given 12 trials with a probability of success of 0.67 for each trial, the probability that exactly 2 of the trials will be successful is 0.0004, the probability that exactly 4 of the trials will be successful is 0.0140, and the probability that exactly 6 of the trials will be successful is 0.1079."
   ]
  },
  {
   "cell_type": "markdown",
   "metadata": {},
   "source": [
    "***"
   ]
  },
  {
   "cell_type": "markdown",
   "metadata": {},
   "source": [
    "## `hist(x)`\n",
    "Creates a histogram using the data in list `x`. First introduced in [Section 1.5](https://profbaldwin.github.io/IntroductoryStatistics/Ch1%20Sampling%20and%20Data/1.5%20Tables%20and%20Charts.html)."
   ]
  },
  {
   "cell_type": "code",
   "execution_count": 17,
   "metadata": {},
   "outputs": [
    {
     "data": {
      "image/png": "[encoded data removed]",
      "text/plain": [
       "Plot with title \"Histogram of c(1.2, 2.2, 2.4, 3.2, 3.4, 3.6, 4.2, 4.4, 4.6, 4.8, 5.2, 5.4, 5.6)\""
      ]
     },
     "metadata": {},
     "output_type": "display_data"
    }
   ],
   "source": [
    "#**ALT=A histogram.**#\n",
    "hist(x = c(1.2, 2.2, 2.4, 3.2, 3.4, 3.6, 4.2, 4.4, 4.6, 4.8, 5.2, 5.4, 5.6))"
   ]
  },
  {
   "cell_type": "markdown",
   "metadata": {},
   "source": [
    "***"
   ]
  },
  {
   "cell_type": "markdown",
   "metadata": {},
   "source": [
    "## `length(x)`\n",
    "Counts how many elements are in list `x`. First introduced in [Section 2.2](https://profbaldwin.github.io/IntroductoryStatistics/Ch2%20Descriptive%20Statistics/2.2%20Measures%20of%20Central%20Tendency.html)."
   ]
  },
  {
   "cell_type": "code",
   "execution_count": 22,
   "metadata": {},
   "outputs": [
    {
     "data": {
      "text/html": [
       "3"
      ],
      "text/latex": [
       "3"
      ],
      "text/markdown": [
       "3"
      ],
      "text/plain": [
       "[1] 3"
      ]
     },
     "metadata": {},
     "output_type": "display_data"
    }
   ],
   "source": [
    "length(x = c(2, 4, 6))"
   ]
  },
  {
   "cell_type": "markdown",
   "metadata": {},
   "source": [
    "There are 3 total elements in the list."
   ]
  },
  {
   "cell_type": "markdown",
   "metadata": {},
   "source": [
    "***"
   ]
  },
  {
   "cell_type": "markdown",
   "metadata": {},
   "source": [
    "## `lm(y~x)`\n",
    "Given a list of points with the $x$-values in list `x` and the $y$-values in list `y`, the function returns the coefficients of the **l**inear **m**odel that best fits the data. Note that the lists of $x$-values and $y$-values must first be stored in variables before use. First introduced in [Section 8.3](https://profbaldwin.github.io/IntroductoryStatistics/Ch8%20Correlation%20and%20Linear%20Regression/8.3%20The%20Regression%20Equation.html)."
   ]
  },
  {
   "cell_type": "code",
   "execution_count": 58,
   "metadata": {},
   "outputs": [
    {
     "data": {
      "text/plain": [
       "\n",
       "Call:\n",
       "lm(formula = y ~ x)\n",
       "\n",
       "Coefficients:\n",
       "(Intercept)            x  \n",
       "        4.5         -0.8  \n"
      ]
     },
     "metadata": {},
     "output_type": "display_data"
    }
   ],
   "source": [
    "x <- c(1, 2, 3, 4)\n",
    "y <- c(4, 3, 1, 2)\n",
    "lm(y ~ x)"
   ]
  },
  {
   "cell_type": "markdown",
   "metadata": {},
   "source": [
    "The line that best fits the points $(1, 4)$, $(2, 3)$, $(3, 1)$, and $(4, 2)$ is $y = 4.5 - 0.8x$."
   ]
  },
  {
   "cell_type": "markdown",
   "metadata": {},
   "source": [
    "***"
   ]
  },
  {
   "cell_type": "markdown",
   "metadata": {},
   "source": [
    "## `median(x)`\n",
    "Finds the median value of list `x`. First introduced in [Section 2.2](https://profbaldwin.github.io/IntroductoryStatistics/Ch2%20Descriptive%20Statistics/2.2%20Measures%20of%20Central%20Tendency.html)."
   ]
  },
  {
   "cell_type": "code",
   "execution_count": 63,
   "metadata": {},
   "outputs": [
    {
     "data": {
      "text/html": [
       "12"
      ],
      "text/latex": [
       "12"
      ],
      "text/markdown": [
       "12"
      ],
      "text/plain": [
       "[1] 12"
      ]
     },
     "metadata": {},
     "output_type": "display_data"
    }
   ],
   "source": [
    "median(x = c(7, 11, 2, 19, 45, 12, 31))"
   ]
  },
  {
   "cell_type": "markdown",
   "metadata": {},
   "source": [
    "If we line up all the values in the list in order, 12 will be the value in the middle. It is the median of the data."
   ]
  },
  {
   "cell_type": "markdown",
   "metadata": {},
   "source": [
    "***"
   ]
  },
  {
   "cell_type": "markdown",
   "metadata": {},
   "source": [
    "## `pchisq(q, df, lower.tail)`\n",
    "If the `lower.tail` is set to `TRUE`, the function calculates the probability *left* of the $\\chi^2$-score `q` in the $\\chi^2$-distribution with `df` degrees of freedom. If the `lower.tail` is set to `FALSE`, the function calculates the probability *right* of the $\\chi^2$-score `q` in the $\\chi^2$-distribution with `df` degrees of freedom. First introduced in [Section 7.1](https://profbaldwin.github.io/IntroductoryStatistics/Ch7%20The%20Chi-Square%20Distribution/7.1%20The%20Chi-Square%20Distribution.html)."
   ]
  },
  {
   "cell_type": "code",
   "execution_count": 47,
   "metadata": {},
   "outputs": [
    {
     "data": {
      "text/html": [
       "0.734974084702638"
      ],
      "text/latex": [
       "0.734974084702638"
      ],
      "text/markdown": [
       "0.734974084702638"
      ],
      "text/plain": [
       "[1] 0.7349741"
      ]
     },
     "metadata": {},
     "output_type": "display_data"
    }
   ],
   "source": [
    "pchisq(q = 10, df = 8, lower.tail = TRUE)"
   ]
  },
  {
   "cell_type": "markdown",
   "metadata": {},
   "source": [
    "Given a $\\chi^2$ distribution with 8 degrees of freedom, the area or probability to the left of $\\chi^2 = 10$ is about 0.7350."
   ]
  },
  {
   "cell_type": "code",
   "execution_count": 48,
   "metadata": {},
   "outputs": [
    {
     "data": {
      "text/html": [
       "0.696776146303107"
      ],
      "text/latex": [
       "0.696776146303107"
      ],
      "text/markdown": [
       "0.696776146303107"
      ],
      "text/plain": [
       "[1] 0.6967761"
      ]
     },
     "metadata": {},
     "output_type": "display_data"
    }
   ],
   "source": [
    "pchisq(q = 20, df = 24, lower.tail = FALSE)"
   ]
  },
  {
   "cell_type": "markdown",
   "metadata": {},
   "source": [
    "Given a $\\chi^2$ distribution with 24 degrees of freedom, the area or probability to the right of $\\chi^2 = 20$ is about 0.6968."
   ]
  },
  {
   "cell_type": "markdown",
   "metadata": {},
   "source": [
    "***"
   ]
  },
  {
   "cell_type": "markdown",
   "metadata": {},
   "source": [
    "## `pf(q, df1, df2, lower.tail)`\n",
    "If the `lower.tail` is set to `TRUE`, the function calculates the probability *left* of the $F$-score `q` in the $F$-distribution with numerator degrees of freedom `df1` and denominator degrees of freedom `df2`. If the `lower.tail` is set to `TRUE`, the function calculates the probability *left* of the $F$-score `q` in the $F$-distribution with numerator degrees of freedom `df1` and denominator degrees of freedom `df2`. First introduced in [Section 9.2](https://profbaldwin.github.io/IntroductoryStatistics/Ch9%20Hypothesis%20Tests%20of%20Two%20or%20More%20Populations/9.2%20Hypothesis%20Testing%20Two%20Population%20Variances.html)."
   ]
  },
  {
   "cell_type": "code",
   "execution_count": 60,
   "metadata": {},
   "outputs": [
    {
     "data": {
      "text/html": [
       "0.216437229269686"
      ],
      "text/latex": [
       "0.216437229269686"
      ],
      "text/markdown": [
       "0.216437229269686"
      ],
      "text/plain": [
       "[1] 0.2164372"
      ]
     },
     "metadata": {},
     "output_type": "display_data"
    }
   ],
   "source": [
    "pf(q = 0.5, df1 = 5, df2 = 1, lower.tail = TRUE)"
   ]
  },
  {
   "cell_type": "markdown",
   "metadata": {},
   "source": [
    "Given an $F$-distribution with numerator degrees of freedom $df_1 = 5$ and denominator degrees of freedom $df_2 = 1$, the probability or area to the left of $F = 0.5$ is about 0.2164."
   ]
  },
  {
   "cell_type": "code",
   "execution_count": 62,
   "metadata": {},
   "outputs": [
    {
     "data": {
      "text/html": [
       "0.5"
      ],
      "text/latex": [
       "0.5"
      ],
      "text/markdown": [
       "0.5"
      ],
      "text/plain": [
       "[1] 0.5"
      ]
     },
     "metadata": {},
     "output_type": "display_data"
    }
   ],
   "source": [
    "pf(q = 1.0, df1 = 10, df2 = 10, lower.tail = FALSE)"
   ]
  },
  {
   "cell_type": "markdown",
   "metadata": {},
   "source": [
    "Given an $F$-distribution with numerator degrees of freedom $df_1 = 10$ and denominator degrees of freedom $df_2 = 10$, the probability or area to the right of $F = 1.0$ is 0.5."
   ]
  },
  {
   "cell_type": "markdown",
   "metadata": {},
   "source": [
    "***"
   ]
  },
  {
   "cell_type": "markdown",
   "metadata": {},
   "source": [
    "## `pie(x, labels)`\n",
    "Creates a pie chart. Here, `x` is a list of quantities for each category, and `labels` is a list of labels for those categories. First introduced in [Section 1.5](https://profbaldwin.github.io/IntroductoryStatistics/Ch1%20Sampling%20and%20Data/1.5%20Tables%20and%20Charts.html)."
   ]
  },
  {
   "cell_type": "code",
   "execution_count": 11,
   "metadata": {},
   "outputs": [
    {
     "data": {
      "image/png": "[encoded data removed]",
      "text/plain": [
       "plot without title"
      ]
     },
     "metadata": {},
     "output_type": "display_data"
    }
   ],
   "source": [
    "#**ALT=A pie chart with a small piece, a medium piece, and a very big piece.**#\n",
    "pie(x = c(30, 60, 150), labels = c(\"Small piece\", \"Medium Piece\", \"Very big piece\"))"
   ]
  },
  {
   "cell_type": "markdown",
   "metadata": {},
   "source": [
    "***"
   ]
  },
  {
   "cell_type": "markdown",
   "metadata": {},
   "source": [
    "## `plot(x, y)`\n",
    "Creates a scatter plot using the $(x, y)$ pairs formed from the values in list `x` and list `y`. First introduced in [Section 8.1](https://profbaldwin.github.io/IntroductoryStatistics/Ch8%20Correlation%20and%20Linear%20Regression/8.1%20Scatter%20Plots.html)."
   ]
  },
  {
   "cell_type": "code",
   "execution_count": 50,
   "metadata": {},
   "outputs": [
    {
     "data": {
      "image/png": "[encoded data removed]",
      "text/plain": [
       "plot without title"
      ]
     },
     "metadata": {},
     "output_type": "display_data"
    }
   ],
   "source": [
    "plot(x = c(2, 4, 6, 8), y = c(4, 1, 3, 2))"
   ]
  },
  {
   "cell_type": "markdown",
   "metadata": {},
   "source": [
    "Note that the points plotted are $(2, 4)$, $(4, 1)$, $(6, 3)$, and $(8, 2)$."
   ]
  },
  {
   "cell_type": "markdown",
   "metadata": {},
   "source": [
    "***"
   ]
  },
  {
   "cell_type": "markdown",
   "metadata": {},
   "source": [
    "## `pnorm(q, lower.tail)`\n",
    "If the `lower.tail` is set to `TRUE`, the function calculates the probability *left* of the $z$-score `q` in the standard normal distribution. If the `lower.tail` is set to `FALSE`, the function calculates the probability *right* of the $z$-score `q` in the standard normal distribution. This is the reverse of the `qnorm` function. First introduced in [Section 4.1](https://profbaldwin.github.io/IntroductoryStatistics/Ch4%20The%20Normal%20Distribution%20and%20the%20Central%20Limit%20Theorem/4.1%20The%20Standard%20Normal%20Distribution.html)."
   ]
  },
  {
   "cell_type": "code",
   "execution_count": 32,
   "metadata": {},
   "outputs": [
    {
     "data": {
      "text/html": [
       "0.5"
      ],
      "text/latex": [
       "0.5"
      ],
      "text/markdown": [
       "0.5"
      ],
      "text/plain": [
       "[1] 0.5"
      ]
     },
     "metadata": {},
     "output_type": "display_data"
    }
   ],
   "source": [
    "pnorm(q = 0, lower.tail = TRUE)"
   ]
  },
  {
   "cell_type": "markdown",
   "metadata": {},
   "source": [
    "So given the standard normal distribution, the area or probability to the left of $z = 0$ is 0.5."
   ]
  },
  {
   "cell_type": "code",
   "execution_count": 38,
   "metadata": {},
   "outputs": [
    {
     "data": {
      "text/html": [
       "0.929893728288777"
      ],
      "text/latex": [
       "0.929893728288777"
      ],
      "text/markdown": [
       "0.929893728288777"
      ],
      "text/plain": [
       "[1] 0.9298937"
      ]
     },
     "metadata": {},
     "output_type": "display_data"
    }
   ],
   "source": [
    "pnorm(q = -1.475, lower.tail = FALSE)"
   ]
  },
  {
   "cell_type": "markdown",
   "metadata": {},
   "source": [
    "So given the standard normal distribution, the area or probability to the right of $z = -1.475$ is about 0.9299."
   ]
  },
  {
   "cell_type": "markdown",
   "metadata": {},
   "source": [
    "***"
   ]
  },
  {
   "cell_type": "markdown",
   "metadata": {},
   "source": [
    "## `pt(q, df, lower.tail)`\n",
    "If the `lower.tail` is set to `TRUE`, the function calculates the probability *left* of the $t$-score `q` in Student's $t$-distribution with `df` degrees of freedom. If the `lower.tail` is set to `FALSE`, the function calculates the probability *right* of the $t$-score `q` in Student's $t$-distribution with `df` degrees of freedom. The is the reverse of the `qt` function. First introduced in [Section 5.3](https://profbaldwin.github.io/IntroductoryStatistics/Ch5%20Confidence%20Intervals/5.3%20Student's%20t-Distribution)."
   ]
  },
  {
   "cell_type": "code",
   "execution_count": 43,
   "metadata": {},
   "outputs": [
    {
     "data": {
      "text/html": [
       "0.907859631929259"
      ],
      "text/latex": [
       "0.907859631929259"
      ],
      "text/markdown": [
       "0.907859631929259"
      ],
      "text/plain": [
       "[1] 0.9078596"
      ]
     },
     "metadata": {},
     "output_type": "display_data"
    }
   ],
   "source": [
    "pt(q = 1.5, df = 6, lower.tail = TRUE)"
   ]
  },
  {
   "cell_type": "markdown",
   "metadata": {},
   "source": [
    "Given a $t$-distribution with 6 degrees of freedom, the area or probability to the left of $t = 1.5$ is about 0.9079."
   ]
  },
  {
   "cell_type": "code",
   "execution_count": 44,
   "metadata": {},
   "outputs": [
    {
     "data": {
      "text/html": [
       "0.686941261887338"
      ],
      "text/latex": [
       "0.686941261887338"
      ],
      "text/markdown": [
       "0.686941261887338"
      ],
      "text/plain": [
       "[1] 0.6869413"
      ]
     },
     "metadata": {},
     "output_type": "display_data"
    }
   ],
   "source": [
    "pt(q = -0.5, df = 12, lower.tail = FALSE)"
   ]
  },
  {
   "cell_type": "markdown",
   "metadata": {},
   "source": [
    "Given a $t$-distribution with 12 degrees of freedom, the area or probability to the right of $t = -0.5$ is about 0.6869."
   ]
  },
  {
   "cell_type": "markdown",
   "metadata": {},
   "source": [
    "***"
   ]
  },
  {
   "cell_type": "markdown",
   "metadata": {},
   "source": [
    "## `qnorm(p, lower.tail)`\n",
    "If `lower.tail` is set to `TRUE`, the function finds the $z$-score in the standard normal distribution with probability `p` to the *left* of that $z$-score. If `lower.tail` is set to `FALSE`, the function finds the $z$-score in the standard normal distribution with probability `p` to the *right* of that $z$-score. This is the reverse of the `pnorm` function. First introduced in [Section 4.1](https://profbaldwin.github.io/IntroductoryStatistics/Ch4%20The%20Normal%20Distribution%20and%20the%20Central%20Limit%20Theorem/4.1%20The%20Standard%20Normal%20Distribution.html)."
   ]
  },
  {
   "cell_type": "code",
   "execution_count": 33,
   "metadata": {},
   "outputs": [
    {
     "data": {
      "text/html": [
       "0"
      ],
      "text/latex": [
       "0"
      ],
      "text/markdown": [
       "0"
      ],
      "text/plain": [
       "[1] 0"
      ]
     },
     "metadata": {},
     "output_type": "display_data"
    }
   ],
   "source": [
    "qnorm(p = 0.5, lower.tail = TRUE)"
   ]
  },
  {
   "cell_type": "markdown",
   "metadata": {},
   "source": [
    "Given the standard normal distribution, the $z$-score with an area or probability of 0.5 to its left is $z = 0$."
   ]
  },
  {
   "cell_type": "code",
   "execution_count": 42,
   "metadata": {},
   "outputs": [
    {
     "data": {
      "text/html": [
       "-1.47504665754652"
      ],
      "text/latex": [
       "-1.47504665754652"
      ],
      "text/markdown": [
       "-1.47504665754652"
      ],
      "text/plain": [
       "[1] -1.475047"
      ]
     },
     "metadata": {},
     "output_type": "display_data"
    }
   ],
   "source": [
    "qnorm(p = 0.9299, lower.tail = FALSE)"
   ]
  },
  {
   "cell_type": "markdown",
   "metadata": {},
   "source": [
    "Given the standard normal distribution, the $z$-score with an area or probability of 0.9299 to its right is about $z = -1.4750$."
   ]
  },
  {
   "cell_type": "markdown",
   "metadata": {},
   "source": [
    "***"
   ]
  },
  {
   "cell_type": "markdown",
   "metadata": {},
   "source": [
    "## `qt(p, df, lower.tail)`\n",
    "If `lower.tail` is set to `TRUE`, the function finds the $t$-score in Student's $t$-distribution with `df` degrees of freedom and with probability `p` to the *left* of that $t$-score. If `lower.tail` is set to `FALSE`, the function finds the $t$-score in Student's $t$-distribution with `df` degrees of freedom and with probability `p` to the *right* of that $t$-score. This is the reverse of the `pt` function. First introduced in [Section 5.3](https://profbaldwin.github.io/IntroductoryStatistics/Ch5%20Confidence%20Intervals/5.3%20Student's%20t-Distribution)."
   ]
  },
  {
   "cell_type": "code",
   "execution_count": 45,
   "metadata": {},
   "outputs": [
    {
     "data": {
      "text/html": [
       "0.978472312363304"
      ],
      "text/latex": [
       "0.978472312363304"
      ],
      "text/markdown": [
       "0.978472312363304"
      ],
      "text/plain": [
       "[1] 0.9784723"
      ]
     },
     "metadata": {},
     "output_type": "display_data"
    }
   ],
   "source": [
    "qt(p = 0.8, df = 3, lower.tail = TRUE)"
   ]
  },
  {
   "cell_type": "markdown",
   "metadata": {},
   "source": [
    "Given a $t$-distribution with 3 degrees of freedom, the $t$-score with an area or probability of 0.8 to its left is about $t = 0.9785$."
   ]
  },
  {
   "cell_type": "code",
   "execution_count": 46,
   "metadata": {},
   "outputs": [
    {
     "data": {
      "text/html": [
       "-0.263166861352023"
      ],
      "text/latex": [
       "-0.263166861352023"
      ],
      "text/markdown": [
       "-0.263166861352023"
      ],
      "text/plain": [
       "[1] -0.2631669"
      ]
     },
     "metadata": {},
     "output_type": "display_data"
    }
   ],
   "source": [
    "qt(p = 0.6, df = 7, lower.tail = FALSE)"
   ]
  },
  {
   "cell_type": "markdown",
   "metadata": {},
   "source": [
    "Given a $t$-distribution with 7 degrees of freedom, the $t$-score with an area or probability of 0.6 to its right is about $t = -0.2632$."
   ]
  },
  {
   "cell_type": "markdown",
   "metadata": {},
   "source": [
    "***"
   ]
  },
  {
   "cell_type": "markdown",
   "metadata": {},
   "source": [
    "## `quantile(x, probs)`\n",
    "Finds the percentile or list of percentiles of the data in list `x` corresponding to the percentages, in decimal form, in `probs`. `probs` may be a single value or a list of values, but the values must always be between 0 = 0% and 1 = 100%. First introduced in [Section 2.1](https://profbaldwin.github.io/IntroductoryStatistics/Ch2%20Descriptive%20Statistics/2.1%20Measures%20of%20Position.html)."
   ]
  },
  {
   "cell_type": "code",
   "execution_count": 18,
   "metadata": {},
   "outputs": [
    {
     "data": {
      "text/html": [
       "<strong>50%:</strong> 2.5"
      ],
      "text/latex": [
       "\\textbf{50\\textbackslash{}\\%:} 2.5"
      ],
      "text/markdown": [
       "**50%:** 2.5"
      ],
      "text/plain": [
       "50% \n",
       "2.5 "
      ]
     },
     "metadata": {},
     "output_type": "display_data"
    }
   ],
   "source": [
    "quantile(x = c(1, 2, 3, 4), probs = 0.50)"
   ]
  },
  {
   "cell_type": "markdown",
   "metadata": {},
   "source": [
    "So the 50th percentile of the data is 2.5. That is, about 50% of the data values are less than 2.5."
   ]
  },
  {
   "cell_type": "code",
   "execution_count": 19,
   "metadata": {},
   "outputs": [
    {
     "data": {
      "text/html": [
       "<dl class=dl-horizontal>\n",
       "\t<dt>10%</dt>\n",
       "\t\t<dd>1.3</dd>\n",
       "\t<dt>90%</dt>\n",
       "\t\t<dd>3.7</dd>\n",
       "</dl>\n"
      ],
      "text/latex": [
       "\\begin{description*}\n",
       "\\item[10\\textbackslash{}\\%] 1.3\n",
       "\\item[90\\textbackslash{}\\%] 3.7\n",
       "\\end{description*}\n"
      ],
      "text/markdown": [
       "10%\n",
       ":   1.390%\n",
       ":   3.7\n",
       "\n"
      ],
      "text/plain": [
       "10% 90% \n",
       "1.3 3.7 "
      ]
     },
     "metadata": {},
     "output_type": "display_data"
    }
   ],
   "source": [
    "quantile(x = c(1, 2, 3, 4), probs = c(0.10, 0.90))"
   ]
  },
  {
   "cell_type": "markdown",
   "metadata": {},
   "source": [
    "So the 10th percentile of the data is 1.3, and the 90th percentile of the data is 3.7. That is, about 10% of the data is less than 1.3, and about 90% of the data is less than 3.7."
   ]
  },
  {
   "cell_type": "markdown",
   "metadata": {},
   "source": [
    "***"
   ]
  },
  {
   "cell_type": "markdown",
   "metadata": {},
   "source": [
    "## `sample(x, size)`\n",
    "\n",
    "Randomly samples `size` elements from list `x`. First introduced in [Section 1.3](https://profbaldwin.github.io/IntroductoryStatistics/Ch1%20Sampling%20and%20Data/1.3%20Sampling%20Techniques.html)."
   ]
  },
  {
   "cell_type": "code",
   "execution_count": 65,
   "metadata": {},
   "outputs": [
    {
     "data": {
      "text/html": [
       "<ol class=list-inline>\n",
       "\t<li>7</li>\n",
       "\t<li>2</li>\n",
       "\t<li>4</li>\n",
       "</ol>\n"
      ],
      "text/latex": [
       "\\begin{enumerate*}\n",
       "\\item 7\n",
       "\\item 2\n",
       "\\item 4\n",
       "\\end{enumerate*}\n"
      ],
      "text/markdown": [
       "1. 7\n",
       "2. 2\n",
       "3. 4\n",
       "\n",
       "\n"
      ],
      "text/plain": [
       "[1] 7 2 4"
      ]
     },
     "metadata": {},
     "output_type": "display_data"
    }
   ],
   "source": [
    "sample( x = c(1, 2, 3, 4, 5, 6, 7, 8, 9), size = 3 )"
   ]
  },
  {
   "cell_type": "markdown",
   "metadata": {},
   "source": [
    "The three numbers 7, 2, and 4 were randomly sampled from the list of values."
   ]
  },
  {
   "cell_type": "markdown",
   "metadata": {},
   "source": [
    "***"
   ]
  },
  {
   "cell_type": "markdown",
   "metadata": {},
   "source": [
    "## `sqrt(x)`\n",
    "Finds the positive square root of `x`. If `x` is a list of values, then `sqrt` will find the square root of each value in the list. First introduced in [Section 2.3](https://profbaldwin.github.io/IntroductoryStatistics/Ch2%20Descriptive%20Statistics/2.3%20Measures%20of%20Dispersion.html)"
   ]
  },
  {
   "cell_type": "code",
   "execution_count": 24,
   "metadata": {},
   "outputs": [
    {
     "data": {
      "text/html": [
       "2"
      ],
      "text/latex": [
       "2"
      ],
      "text/markdown": [
       "2"
      ],
      "text/plain": [
       "[1] 2"
      ]
     },
     "metadata": {},
     "output_type": "display_data"
    }
   ],
   "source": [
    "sqrt(x = 4)"
   ]
  },
  {
   "cell_type": "markdown",
   "metadata": {},
   "source": [
    "The square root of 4 is 2."
   ]
  },
  {
   "cell_type": "code",
   "execution_count": 67,
   "metadata": {},
   "outputs": [
    {
     "data": {
      "text/html": [
       "<ol class=list-inline>\n",
       "\t<li>1</li>\n",
       "\t<li>2</li>\n",
       "\t<li>3</li>\n",
       "\t<li>4.47213595499958</li>\n",
       "</ol>\n"
      ],
      "text/latex": [
       "\\begin{enumerate*}\n",
       "\\item 1\n",
       "\\item 2\n",
       "\\item 3\n",
       "\\item 4.47213595499958\n",
       "\\end{enumerate*}\n"
      ],
      "text/markdown": [
       "1. 1\n",
       "2. 2\n",
       "3. 3\n",
       "4. 4.47213595499958\n",
       "\n",
       "\n"
      ],
      "text/plain": [
       "[1] 1.000000 2.000000 3.000000 4.472136"
      ]
     },
     "metadata": {},
     "output_type": "display_data"
    }
   ],
   "source": [
    "sqrt(x = c(1, 4, 9, 20))"
   ]
  },
  {
   "cell_type": "markdown",
   "metadata": {},
   "source": [
    "The square roots of 1, 4, 9, and 20 are, respectively, 1, 2, 3, and 4.4721."
   ]
  },
  {
   "cell_type": "markdown",
   "metadata": {},
   "source": [
    "***"
   ]
  },
  {
   "cell_type": "markdown",
   "metadata": {},
   "source": [
    "## `sum(x)`\n",
    "Adds together all the values in list `x`. First introduced in [Section 2.2](https://profbaldwin.github.io/IntroductoryStatistics/Ch2%20Descriptive%20Statistics/2.2%20Measures%20of%20Central%20Tendency.html)."
   ]
  },
  {
   "cell_type": "code",
   "execution_count": 21,
   "metadata": {},
   "outputs": [
    {
     "data": {
      "text/html": [
       "10"
      ],
      "text/latex": [
       "10"
      ],
      "text/markdown": [
       "10"
      ],
      "text/plain": [
       "[1] 10"
      ]
     },
     "metadata": {},
     "output_type": "display_data"
    }
   ],
   "source": [
    "sum(x = c(1, 2, 3, 4))"
   ]
  },
  {
   "cell_type": "markdown",
   "metadata": {},
   "source": [
    "So $1 + 2 + 3 + 4 = 10$."
   ]
  },
  {
   "cell_type": "markdown",
   "metadata": {},
   "source": [
    "***"
   ]
  },
  {
   "cell_type": "markdown",
   "metadata": {},
   "source": [
    "<small style=\"color:gray\">**License:** This work is licensed under a [Creative Commons Attribution 4.0 International](https://creativecommons.org/licenses/by/4.0/) license.</small>\n",
    "\n",
    "<small style=\"color:gray\">**Author:** Taylor Baldwin, Mt. San Jacinto College</small>\n",
    "\n",
    "<small style=\"color:gray\">**Adapted From:** *Introductory Statistics*, by Barbara Illowsky and Susan Dean. Access for free at [https://openstax.org/books/introductory-statistics/pages/1-introduction](https://openstax.org/books/introductory-statistics/pages/1-introduction).</small>"
   ]
  }
 ],
 "metadata": {
  "kernelspec": {
   "display_name": "R",
   "language": "R",
   "name": "ir"
  },
  "language_info": {
   "codemirror_mode": "r",
   "file_extension": ".r",
   "mimetype": "text/x-r-source",
   "name": "R",
   "pygments_lexer": "r",
   "version": "3.6.1"
  }
 },
 "nbformat": 4,
 "nbformat_minor": 4
}
